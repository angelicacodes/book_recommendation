{
 "cells": [
  {
   "cell_type": "code",
   "execution_count": null,
   "metadata": {},
   "outputs": [],
   "source": []
  },
  {
   "cell_type": "markdown",
   "metadata": {},
   "source": [
    "### Import libraries"
   ]
  },
  {
   "cell_type": "code",
   "execution_count": 13,
   "metadata": {},
   "outputs": [],
   "source": [
    "import pandas as pd\n",
    "import os\n",
    "\n",
    "from surprise.model_selection import train_test_split, cross_validate, GridSearchCV\n",
    "from surprise import Reader, Dataset  #these classes are needed for data to be compatible with surprise \n",
    "from surprise.prediction_algorithms import KNNWithMeans, KNNBasic, KNNBaseline, SVD\n",
    "\n",
    "\n",
    "import numpy as np"
   ]
  },
  {
   "cell_type": "code",
   "execution_count": 5,
   "metadata": {},
   "outputs": [
    {
     "name": "stdout",
     "output_type": "stream",
     "text": [
      "<class 'pandas.core.frame.DataFrame'>\n",
      "RangeIndex: 55079 entries, 0 to 55078\n",
      "Data columns (total 3 columns):\n",
      " #   Column           Non-Null Count  Dtype\n",
      "---  ------           --------------  -----\n",
      " 0   user_unique_key  55079 non-null  int64\n",
      " 1   number_of_stars  55079 non-null  int64\n",
      " 2   book_unique_key  55079 non-null  int64\n",
      "dtypes: int64(3)\n",
      "memory usage: 1.3 MB\n"
     ]
    }
   ],
   "source": [
    "#import dataset with the 3 features in numerical type\n",
    "\n",
    "df = pd.read_csv('../../data/drafts/comb_df_sm.csv')\n",
    "#df.head()\n",
    "df.info()"
   ]
  },
  {
   "cell_type": "code",
   "execution_count": 7,
   "metadata": {},
   "outputs": [],
   "source": [
    "#instantiate the classes\n",
    "\n",
    "reader= Reader()\n",
    "data= Dataset.load_from_df(df,reader)"
   ]
  },
  {
   "cell_type": "code",
   "execution_count": 12,
   "metadata": {},
   "outputs": [
    {
     "name": "stdout",
     "output_type": "stream",
     "text": [
      "users: 28204\n",
      "items/number of rating categories: 5\n"
     ]
    }
   ],
   "source": [
    "#inspecting the data\n",
    "\n",
    "dataset= data.build_full_trainset()\n",
    "print(\"users:\",dataset.n_users)\n",
    "print('items/number of rating categories:', dataset.n_items)"
   ]
  },
  {
   "cell_type": "code",
   "execution_count": 14,
   "metadata": {},
   "outputs": [],
   "source": [
    "#gridsearch with SVD\n",
    "\n",
    "parameters= {'n_factors': [10, 20, 30], \n",
    "             'reg_all': [.02, .05, .1]}\n",
    "\n",
    "grid_svd = GridSearchCV(SVD, param_grid= parameters, n_jobs = -1)\n",
    "grid_svd.fit(data)"
   ]
  },
  {
   "cell_type": "code",
   "execution_count": 15,
   "metadata": {},
   "outputs": [
    {
     "name": "stdout",
     "output_type": "stream",
     "text": [
      "{'rmse': 271.24243855463806, 'mae': 234.70259664892168}\n",
      "{'rmse': {'n_factors': 10, 'reg_all': 0.02}, 'mae': {'n_factors': 10, 'reg_all': 0.02}}\n"
     ]
    }
   ],
   "source": [
    "print(grid_svd.best_score)\n",
    "print(grid_svd.best_params)"
   ]
  },
  {
   "cell_type": "code",
   "execution_count": null,
   "metadata": {},
   "outputs": [],
   "source": [
    "#cross val with KNNBasic\n",
    "\n",
    "# knnB= KNNBasic(sim_options={'name':'pearson', 'user_based':True})\n",
    "\n",
    "# cv_knnB= cross_validate(knnB, data, n_jobs = -1)\n",
    "\n",
    "\n",
    "## tried to run multiple times, computer crashed each time. Trying to problem solve before project submission"
   ]
  },
  {
   "cell_type": "code",
   "execution_count": null,
   "metadata": {},
   "outputs": [],
   "source": [
    "# for i in cv_knnB.items():\n",
    "#     print(i)\n",
    "# print('-----------------------')\n",
    "# print(np.mean(cv_knn_basic['test_rmse']))"
   ]
  }
 ],
 "metadata": {
  "kernelspec": {
   "display_name": "Python 3",
   "language": "python",
   "name": "python3"
  },
  "language_info": {
   "codemirror_mode": {
    "name": "ipython",
    "version": 3
   },
   "file_extension": ".py",
   "mimetype": "text/x-python",
   "name": "python",
   "nbconvert_exporter": "python",
   "pygments_lexer": "ipython3",
   "version": "3.8.3"
  }
 },
 "nbformat": 4,
 "nbformat_minor": 4
}
