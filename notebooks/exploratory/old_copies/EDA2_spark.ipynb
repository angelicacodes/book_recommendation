{
 "cells": [
  {
   "cell_type": "markdown",
   "metadata": {},
   "source": [
    "# Exploratory Data Analysis #1"
   ]
  },
  {
   "cell_type": "markdown",
   "metadata": {},
   "source": [
    "### Import libraries"
   ]
  },
  {
   "cell_type": "code",
   "execution_count": 1,
   "metadata": {},
   "outputs": [],
   "source": [
    "from pyspark.sql import SparkSession\n",
    "from pyspark.ml.evaluation import RegressionEvaluator\n",
    "\n",
    "from pyspark.ml.recommendation import ALS\n",
    "\n",
    "from pyspark.ml.evaluation import RegressionEvaluator\n",
    "\n",
    "from pyspark.ml.tuning import CrossValidator, ParamGridBuilder\n",
    "import pyspark\n",
    "spark = SparkSession.builder.getOrCreate()\n",
    "\n",
    "from pyspark.sql.types import IntegerType\n",
    "from pyspark.sql.functions import isnan, when, count, col\n",
    "from pyspark.sql.types import *"
   ]
  },
  {
   "cell_type": "code",
   "execution_count": 2,
   "metadata": {},
   "outputs": [],
   "source": [
    "import os\n",
    "import pandas as pd"
   ]
  },
  {
   "cell_type": "markdown",
   "metadata": {},
   "source": [
    "### Import data"
   ]
  },
  {
   "cell_type": "code",
   "execution_count": 54,
   "metadata": {
    "collapsed": true,
    "jupyter": {
     "outputs_hidden": true
    }
   },
   "outputs": [
    {
     "name": "stdout",
     "output_type": "stream",
     "text": [
      "<class 'pandas.core.frame.DataFrame'>\n",
      "RangeIndex: 54387 entries, 0 to 54386\n",
      "Data columns (total 10 columns):\n",
      " #   Column            Non-Null Count  Dtype  \n",
      "---  ------            --------------  -----  \n",
      " 0   genre             54387 non-null  object \n",
      " 1   title             54387 non-null  object \n",
      " 2   author            54387 non-null  object \n",
      " 3   pages             54387 non-null  int64  \n",
      " 4   average_rating    54387 non-null  float64\n",
      " 5   book_description  40773 non-null  object \n",
      " 6   user_unique_key   54387 non-null  int64  \n",
      " 7   number_of_stars   54387 non-null  int64  \n",
      " 8   book_unique_key   54387 non-null  int64  \n",
      " 9   review_text       53340 non-null  object \n",
      "dtypes: float64(1), int64(4), object(5)\n",
      "memory usage: 4.1+ MB\n"
     ]
    }
   ],
   "source": [
    "df2 = pd.read_csv('comb_df7.csv')\n",
    "df2.info()"
   ]
  },
  {
   "cell_type": "code",
   "execution_count": null,
   "metadata": {},
   "outputs": [],
   "source": []
  },
  {
   "cell_type": "markdown",
   "metadata": {},
   "source": [
    "### Inspect the data"
   ]
  },
  {
   "cell_type": "code",
   "execution_count": null,
   "metadata": {},
   "outputs": [],
   "source": []
  },
  {
   "cell_type": "code",
   "execution_count": null,
   "metadata": {},
   "outputs": [],
   "source": []
  },
  {
   "cell_type": "markdown",
   "metadata": {},
   "source": [
    "### Pre-process the data"
   ]
  },
  {
   "cell_type": "code",
   "execution_count": null,
   "metadata": {},
   "outputs": [],
   "source": [
    "#join the tables"
   ]
  },
  {
   "cell_type": "code",
   "execution_count": null,
   "metadata": {},
   "outputs": [],
   "source": [
    "#check for nulls/nans"
   ]
  },
  {
   "cell_type": "code",
   "execution_count": null,
   "metadata": {},
   "outputs": [],
   "source": []
  },
  {
   "cell_type": "markdown",
   "metadata": {},
   "source": [
    "### EDA visualizations"
   ]
  },
  {
   "cell_type": "code",
   "execution_count": null,
   "metadata": {},
   "outputs": [],
   "source": []
  },
  {
   "cell_type": "markdown",
   "metadata": {},
   "source": [
    "### Build first simple model (FSM)"
   ]
  },
  {
   "cell_type": "code",
   "execution_count": 64,
   "metadata": {},
   "outputs": [],
   "source": [
    "dfpd= pd.read_csv('comb_df7.csv')"
   ]
  },
  {
   "cell_type": "code",
   "execution_count": 68,
   "metadata": {},
   "outputs": [],
   "source": [
    "\n",
    "schema = StructType([StructField(\"genre\", StringType(), True),StructField(\"title\", StringType(), True), \n",
    "                     StructField(\"author\", StringType(), True), StructField(\"pages\", IntegerType(), True), \n",
    "                     StructField(\"average_rating\", FloatType(), True), StructField(\"book_description\", StringType(), True), \n",
    "                     StructField(\"user_unique_key\", IntegerType(), True),StructField(\"number_of_stars\", IntegerType(), True), \n",
    "                     StructField(\"book_unique_key\", IntegerType(), True), StructField(\"review_text\", StringType(), True)])\n",
    "\n",
    "sp_df = spark.createDataFrame(dfpd, schema=schema)"
   ]
  },
  {
   "cell_type": "code",
   "execution_count": 69,
   "metadata": {},
   "outputs": [
    {
     "data": {
      "text/plain": [
       "[('genre', 'string'),\n",
       " ('title', 'string'),\n",
       " ('author', 'string'),\n",
       " ('pages', 'int'),\n",
       " ('average_rating', 'float'),\n",
       " ('book_description', 'string'),\n",
       " ('user_unique_key', 'int'),\n",
       " ('number_of_stars', 'int'),\n",
       " ('book_unique_key', 'int'),\n",
       " ('review_text', 'string')]"
      ]
     },
     "execution_count": 69,
     "metadata": {},
     "output_type": "execute_result"
    }
   ],
   "source": [
    "sp_df.dtypes"
   ]
  },
  {
   "cell_type": "code",
   "execution_count": null,
   "metadata": {},
   "outputs": [],
   "source": []
  },
  {
   "cell_type": "code",
   "execution_count": 3,
   "metadata": {},
   "outputs": [],
   "source": [
    "sm_df= pd.read_csv('small_df.csv')"
   ]
  },
  {
   "cell_type": "code",
   "execution_count": 4,
   "metadata": {},
   "outputs": [],
   "source": [
    "schema = StructType([StructField(\"genre\", StringType(), True),StructField(\"title\", StringType(), True), \n",
    "                     StructField(\"author\", StringType(), True), StructField(\"pages\", IntegerType(), True), \n",
    "                     StructField(\"average_rating\", FloatType(), True), StructField(\"book_description\", StringType(), True), \n",
    "                     StructField(\"user_unique_key\", IntegerType(), True),StructField(\"number_of_stars\", IntegerType(), True), \n",
    "                     StructField(\"book_unique_key\", IntegerType(), True), StructField(\"review_text\", StringType(), True)])\n",
    "\n",
    "df_sm2 = spark.createDataFrame(sm_df, schema=schema)"
   ]
  },
  {
   "cell_type": "code",
   "execution_count": null,
   "metadata": {},
   "outputs": [],
   "source": []
  },
  {
   "cell_type": "code",
   "execution_count": null,
   "metadata": {},
   "outputs": [],
   "source": []
  },
  {
   "cell_type": "code",
   "execution_count": null,
   "metadata": {},
   "outputs": [],
   "source": [
    "# pddf = pd.read_csv(\"comb_df7.csv\")\n",
    "# sp_df = spark.createDataFrame(pd_df, schema=schema)"
   ]
  },
  {
   "cell_type": "code",
   "execution_count": 92,
   "metadata": {
    "collapsed": true,
    "jupyter": {
     "outputs_hidden": true
    }
   },
   "outputs": [
    {
     "name": "stdout",
     "output_type": "stream",
     "text": [
      "The book with the fewest ratings: \n"
     ]
    },
    {
     "ename": "AnalysisException",
     "evalue": "cannot resolve '`c`' given input columns: [book_unique_key, count];;\n'Project ['c]\n+- Aggregate [book_unique_key#1780], [book_unique_key#1780, count(1) AS count#3566L]\n   +- Project [genre#1749, title#1750, author#1751, pages#1752, average_rating#1753, book_description#1754, cast(user_unique_key#1755 as int) AS user_unique_key#1791, number_of_stars#1769, book_unique_key#1780, review_text#1758]\n      +- Project [genre#1749, title#1750, author#1751, pages#1752, average_rating#1753, book_description#1754, user_unique_key#1755, number_of_stars#1769, cast(book_unique_key#1757 as int) AS book_unique_key#1780, review_text#1758]\n         +- Project [genre#1749, title#1750, author#1751, pages#1752, average_rating#1753, book_description#1754, user_unique_key#1755, cast(number_of_stars#1756 as int) AS number_of_stars#1769, book_unique_key#1757, review_text#1758]\n            +- Relation[genre#1749,title#1750,author#1751,pages#1752,average_rating#1753,book_description#1754,user_unique_key#1755,number_of_stars#1756,book_unique_key#1757,review_text#1758] csv\n",
     "output_type": "error",
     "traceback": [
      "\u001b[0;31m---------------------------------------------------------------------------\u001b[0m",
      "\u001b[0;31mAnalysisException\u001b[0m                         Traceback (most recent call last)",
      "\u001b[0;32m<ipython-input-92-32d4dce015bc>\u001b[0m in \u001b[0;36m<module>\u001b[0;34m\u001b[0m\n\u001b[1;32m      1\u001b[0m \u001b[0mprint\u001b[0m\u001b[0;34m(\u001b[0m\u001b[0;34m\"The book with the fewest ratings: \"\u001b[0m\u001b[0;34m)\u001b[0m\u001b[0;34m\u001b[0m\u001b[0;34m\u001b[0m\u001b[0m\n\u001b[0;32m----> 2\u001b[0;31m \u001b[0mout3\u001b[0m\u001b[0;34m.\u001b[0m\u001b[0mgroupBy\u001b[0m\u001b[0;34m(\u001b[0m\u001b[0;34m\"book_unique_key\"\u001b[0m\u001b[0;34m)\u001b[0m\u001b[0;34m.\u001b[0m\u001b[0mcount\u001b[0m\u001b[0;34m(\u001b[0m\u001b[0;34m)\u001b[0m\u001b[0;34m.\u001b[0m\u001b[0mselect\u001b[0m\u001b[0;34m(\u001b[0m\u001b[0mmin\u001b[0m\u001b[0;34m(\u001b[0m\u001b[0;34m\"count\"\u001b[0m\u001b[0;34m)\u001b[0m\u001b[0;34m)\u001b[0m\u001b[0;34m.\u001b[0m\u001b[0mshow\u001b[0m\u001b[0;34m(\u001b[0m\u001b[0;34m)\u001b[0m\u001b[0;34m\u001b[0m\u001b[0;34m\u001b[0m\u001b[0m\n\u001b[0m\u001b[1;32m      3\u001b[0m \u001b[0;34m\u001b[0m\u001b[0m\n\u001b[1;32m      4\u001b[0m \u001b[0;31m# print(\"Avg num ratings per book: \")\u001b[0m\u001b[0;34m\u001b[0m\u001b[0;34m\u001b[0m\u001b[0;34m\u001b[0m\u001b[0m\n\u001b[1;32m      5\u001b[0m \u001b[0;31m# out3.groupBy(\"book_unique_key\").count().select(avg(\"count\")).show()\u001b[0m\u001b[0;34m\u001b[0m\u001b[0;34m\u001b[0m\u001b[0;34m\u001b[0m\u001b[0m\n",
      "\u001b[0;32m/opt/anaconda3/lib/python3.8/site-packages/pyspark/sql/dataframe.py\u001b[0m in \u001b[0;36mselect\u001b[0;34m(self, *cols)\u001b[0m\n\u001b[1;32m   1419\u001b[0m         \u001b[0;34m[\u001b[0m\u001b[0mRow\u001b[0m\u001b[0;34m(\u001b[0m\u001b[0mname\u001b[0m\u001b[0;34m=\u001b[0m\u001b[0;34mu'Alice'\u001b[0m\u001b[0;34m,\u001b[0m \u001b[0mage\u001b[0m\u001b[0;34m=\u001b[0m\u001b[0;36m12\u001b[0m\u001b[0;34m)\u001b[0m\u001b[0;34m,\u001b[0m \u001b[0mRow\u001b[0m\u001b[0;34m(\u001b[0m\u001b[0mname\u001b[0m\u001b[0;34m=\u001b[0m\u001b[0;34mu'Bob'\u001b[0m\u001b[0;34m,\u001b[0m \u001b[0mage\u001b[0m\u001b[0;34m=\u001b[0m\u001b[0;36m15\u001b[0m\u001b[0;34m)\u001b[0m\u001b[0;34m]\u001b[0m\u001b[0;34m\u001b[0m\u001b[0;34m\u001b[0m\u001b[0m\n\u001b[1;32m   1420\u001b[0m         \"\"\"\n\u001b[0;32m-> 1421\u001b[0;31m         \u001b[0mjdf\u001b[0m \u001b[0;34m=\u001b[0m \u001b[0mself\u001b[0m\u001b[0;34m.\u001b[0m\u001b[0m_jdf\u001b[0m\u001b[0;34m.\u001b[0m\u001b[0mselect\u001b[0m\u001b[0;34m(\u001b[0m\u001b[0mself\u001b[0m\u001b[0;34m.\u001b[0m\u001b[0m_jcols\u001b[0m\u001b[0;34m(\u001b[0m\u001b[0;34m*\u001b[0m\u001b[0mcols\u001b[0m\u001b[0;34m)\u001b[0m\u001b[0;34m)\u001b[0m\u001b[0;34m\u001b[0m\u001b[0;34m\u001b[0m\u001b[0m\n\u001b[0m\u001b[1;32m   1422\u001b[0m         \u001b[0;32mreturn\u001b[0m \u001b[0mDataFrame\u001b[0m\u001b[0;34m(\u001b[0m\u001b[0mjdf\u001b[0m\u001b[0;34m,\u001b[0m \u001b[0mself\u001b[0m\u001b[0;34m.\u001b[0m\u001b[0msql_ctx\u001b[0m\u001b[0;34m)\u001b[0m\u001b[0;34m\u001b[0m\u001b[0;34m\u001b[0m\u001b[0m\n\u001b[1;32m   1423\u001b[0m \u001b[0;34m\u001b[0m\u001b[0m\n",
      "\u001b[0;32m/opt/anaconda3/lib/python3.8/site-packages/py4j/java_gateway.py\u001b[0m in \u001b[0;36m__call__\u001b[0;34m(self, *args)\u001b[0m\n\u001b[1;32m   1302\u001b[0m \u001b[0;34m\u001b[0m\u001b[0m\n\u001b[1;32m   1303\u001b[0m         \u001b[0manswer\u001b[0m \u001b[0;34m=\u001b[0m \u001b[0mself\u001b[0m\u001b[0;34m.\u001b[0m\u001b[0mgateway_client\u001b[0m\u001b[0;34m.\u001b[0m\u001b[0msend_command\u001b[0m\u001b[0;34m(\u001b[0m\u001b[0mcommand\u001b[0m\u001b[0;34m)\u001b[0m\u001b[0;34m\u001b[0m\u001b[0;34m\u001b[0m\u001b[0m\n\u001b[0;32m-> 1304\u001b[0;31m         return_value = get_return_value(\n\u001b[0m\u001b[1;32m   1305\u001b[0m             answer, self.gateway_client, self.target_id, self.name)\n\u001b[1;32m   1306\u001b[0m \u001b[0;34m\u001b[0m\u001b[0m\n",
      "\u001b[0;32m/opt/anaconda3/lib/python3.8/site-packages/pyspark/sql/utils.py\u001b[0m in \u001b[0;36mdeco\u001b[0;34m(*a, **kw)\u001b[0m\n\u001b[1;32m    132\u001b[0m                 \u001b[0;31m# Hide where the exception came from that shows a non-Pythonic\u001b[0m\u001b[0;34m\u001b[0m\u001b[0;34m\u001b[0m\u001b[0;34m\u001b[0m\u001b[0m\n\u001b[1;32m    133\u001b[0m                 \u001b[0;31m# JVM exception message.\u001b[0m\u001b[0;34m\u001b[0m\u001b[0;34m\u001b[0m\u001b[0;34m\u001b[0m\u001b[0m\n\u001b[0;32m--> 134\u001b[0;31m                 \u001b[0mraise_from\u001b[0m\u001b[0;34m(\u001b[0m\u001b[0mconverted\u001b[0m\u001b[0;34m)\u001b[0m\u001b[0;34m\u001b[0m\u001b[0;34m\u001b[0m\u001b[0m\n\u001b[0m\u001b[1;32m    135\u001b[0m             \u001b[0;32melse\u001b[0m\u001b[0;34m:\u001b[0m\u001b[0;34m\u001b[0m\u001b[0;34m\u001b[0m\u001b[0m\n\u001b[1;32m    136\u001b[0m                 \u001b[0;32mraise\u001b[0m\u001b[0;34m\u001b[0m\u001b[0;34m\u001b[0m\u001b[0m\n",
      "\u001b[0;32m/opt/anaconda3/lib/python3.8/site-packages/pyspark/sql/utils.py\u001b[0m in \u001b[0;36mraise_from\u001b[0;34m(e)\u001b[0m\n",
      "\u001b[0;31mAnalysisException\u001b[0m: cannot resolve '`c`' given input columns: [book_unique_key, count];;\n'Project ['c]\n+- Aggregate [book_unique_key#1780], [book_unique_key#1780, count(1) AS count#3566L]\n   +- Project [genre#1749, title#1750, author#1751, pages#1752, average_rating#1753, book_description#1754, cast(user_unique_key#1755 as int) AS user_unique_key#1791, number_of_stars#1769, book_unique_key#1780, review_text#1758]\n      +- Project [genre#1749, title#1750, author#1751, pages#1752, average_rating#1753, book_description#1754, user_unique_key#1755, number_of_stars#1769, cast(book_unique_key#1757 as int) AS book_unique_key#1780, review_text#1758]\n         +- Project [genre#1749, title#1750, author#1751, pages#1752, average_rating#1753, book_description#1754, user_unique_key#1755, cast(number_of_stars#1756 as int) AS number_of_stars#1769, book_unique_key#1757, review_text#1758]\n            +- Relation[genre#1749,title#1750,author#1751,pages#1752,average_rating#1753,book_description#1754,user_unique_key#1755,number_of_stars#1756,book_unique_key#1757,review_text#1758] csv\n"
     ]
    }
   ],
   "source": [
    "\n",
    "print(\"The book with the fewest ratings: \")\n",
    "out3.groupBy(\"book_unique_key\").count().select(min(\"count\")).show()\n",
    "\n",
    "# print(\"Avg num ratings per book: \")\n",
    "# out3.groupBy(\"book_unique_key\").count().select(avg(\"count\")).show()\n",
    "\n",
    "\n",
    "# print(\"User with the fewest ratings: \")\n",
    "# out3.groupBy(\"user_unique_key\").count().select(min(\"count\")).show()\n",
    "\n",
    "# print(\"Avg num ratings per user: \")\n",
    "# out3.groupBy(\"user_unique_key\").count().select(avg(\"count\")).show()"
   ]
  },
  {
   "cell_type": "markdown",
   "metadata": {},
   "source": [
    "\"sparsity is calculated by the number of cells in a matrix that contain a rating divided by the total number of values that matrix could hold given the number of users and items [such as books]. In other words, dividing the number of ratings present in the matrix by the product of users and [books] in the matrix and subtracting that from 1 will give us the sparsity or the percentage of the ratings matrix that is empty.\""
   ]
  },
  {
   "cell_type": "code",
   "execution_count": 74,
   "metadata": {},
   "outputs": [
    {
     "name": "stdout",
     "output_type": "stream",
     "text": [
      "The ratings dataframe is  98.25% empty.\n"
     ]
    }
   ],
   "source": [
    "# calculating sparcity--\n",
    "\n",
    "numerator = out3.select(\"number_of_stars\").count()\n",
    "\n",
    "\n",
    "num_users = out3.select(\"user_unique_key\").distinct().count()\n",
    "num_books = out3.select(\"book_unique_key\").distinct().count()\n",
    "\n",
    "\n",
    "denominator = num_users * num_books\n",
    "\n",
    "\n",
    "sparsity = (1.0 - (numerator *1.0)/denominator)*100\n",
    "print(\"The ratings dataframe is \", \"%.2f\" % sparsity + \"% empty.\")"
   ]
  },
  {
   "cell_type": "code",
   "execution_count": 5,
   "metadata": {},
   "outputs": [
    {
     "name": "stdout",
     "output_type": "stream",
     "text": [
      "The ratings dataframe is  99.60% empty.\n"
     ]
    }
   ],
   "source": [
    "numerator = df_sm2.select(\"number_of_stars\").count()\n",
    "\n",
    "\n",
    "num_users = df_sm2.select(\"user_unique_key\").distinct().count()\n",
    "num_books = df_sm2.select(\"book_unique_key\").distinct().count()\n",
    "\n",
    "\n",
    "denominator = num_users * num_books\n",
    "\n",
    "\n",
    "sparsity = (1.0 - (numerator *1.0)/denominator)*100\n",
    "print(\"The ratings dataframe is \", \"%.2f\" % sparsity + \"% empty.\")"
   ]
  },
  {
   "cell_type": "code",
   "execution_count": null,
   "metadata": {},
   "outputs": [],
   "source": []
  },
  {
   "cell_type": "code",
   "execution_count": 6,
   "metadata": {
    "collapsed": true,
    "jupyter": {
     "outputs_hidden": true
    }
   },
   "outputs": [
    {
     "ename": "NameError",
     "evalue": "name 'sp_df' is not defined",
     "output_type": "error",
     "traceback": [
      "\u001b[0;31m---------------------------------------------------------------------------\u001b[0m",
      "\u001b[0;31mNameError\u001b[0m                                 Traceback (most recent call last)",
      "\u001b[0;32m<ipython-input-6-619d5c464da2>\u001b[0m in \u001b[0;36m<module>\u001b[0;34m\u001b[0m\n\u001b[0;32m----> 1\u001b[0;31m \u001b[0mtrain\u001b[0m\u001b[0;34m,\u001b[0m \u001b[0mtest\u001b[0m \u001b[0;34m=\u001b[0m \u001b[0msp_df\u001b[0m\u001b[0;34m.\u001b[0m\u001b[0mrandomSplit\u001b[0m\u001b[0;34m(\u001b[0m\u001b[0;34m[\u001b[0m\u001b[0;36m0.8\u001b[0m\u001b[0;34m,\u001b[0m \u001b[0;36m0.2\u001b[0m\u001b[0;34m]\u001b[0m\u001b[0;34m)\u001b[0m\u001b[0;34m\u001b[0m\u001b[0;34m\u001b[0m\u001b[0m\n\u001b[0m",
      "\u001b[0;31mNameError\u001b[0m: name 'sp_df' is not defined"
     ]
    }
   ],
   "source": [
    "train, test = sp_df.randomSplit([0.8, 0.2])"
   ]
  },
  {
   "cell_type": "code",
   "execution_count": 71,
   "metadata": {},
   "outputs": [],
   "source": [
    "als = ALS(maxIter=5,rank=4, \n",
    "          userCol='user_unique_key', itemCol='book_unique_key', \n",
    "          ratingCol='number_of_stars',\n",
    "          coldStartStrategy='drop')\n",
    "\n",
    "\n",
    "model_fsm = als.fit(train)"
   ]
  },
  {
   "cell_type": "code",
   "execution_count": 73,
   "metadata": {},
   "outputs": [
    {
     "name": "stdout",
     "output_type": "stream",
     "text": [
      "Root-mean-square error = 2.0271723460408415\n"
     ]
    }
   ],
   "source": [
    "predictions = model_fsm.transform(test)\n",
    "evaluator = RegressionEvaluator(metricName='rmse', labelCol='number_of_stars',\n",
    "                                predictionCol='prediction')\n",
    "rmse = evaluator.evaluate(predictions)\n",
    "print('Root-mean-square error = ' + str(rmse))"
   ]
  },
  {
   "cell_type": "code",
   "execution_count": 87,
   "metadata": {},
   "outputs": [
    {
     "name": "stdout",
     "output_type": "stream",
     "text": [
      "mean absolute error = 1.4594755863126267\n"
     ]
    }
   ],
   "source": [
    "\n",
    "evaluator = RegressionEvaluator(metricName='mae', labelCol='number_of_stars',\n",
    "                                predictionCol='prediction')\n",
    "mae = evaluator.evaluate(predictions)\n",
    "print('mean absolute error = ' + str(mae))"
   ]
  },
  {
   "cell_type": "code",
   "execution_count": 7,
   "metadata": {},
   "outputs": [],
   "source": [
    "train, test = df_sm2.randomSplit([0.8, 0.2])"
   ]
  },
  {
   "cell_type": "code",
   "execution_count": 9,
   "metadata": {},
   "outputs": [
    {
     "name": "stdout",
     "output_type": "stream",
     "text": [
      "+----------------+--------------------+-----------+-----+--------------+--------------------+---------------+---------------+---------------+--------------------+-----------+\n",
      "|           genre|               title|     author|pages|average_rating|    book_description|user_unique_key|number_of_stars|book_unique_key|         review_text| prediction|\n",
      "+----------------+--------------------+-----------+-----+--------------+--------------------+---------------+---------------+---------------+--------------------+-----------+\n",
      "|biography-memoir|This Is Going to ...|Adam Kay ()|  256|          4.41|Welcome to the li...|            255|              4|            148|this is an overal...|   4.306255|\n",
      "|biography-memoir|This Is Going to ...|Adam Kay ()|  256|          4.41|Welcome to the li...|           2542|              4|            148|Adam Kay had come...|   3.719646|\n",
      "|biography-memoir|This Is Going to ...|Adam Kay ()|  256|          4.41|Welcome to the li...|           3538|              4|            148|This book. This d...|  2.2704291|\n",
      "|biography-memoir|This Is Going to ...|Adam Kay ()|  256|          4.41|Welcome to the li...|          26251|              3|            148|3.5 Adam Kay’s me...|   4.197345|\n",
      "|biography-memoir|This Is Going to ...|Adam Kay ()|  256|          4.41|Welcome to the li...|          16201|              5|            148|Hilarious, but al...|  3.8268747|\n",
      "|biography-memoir|This Is Going to ...|Adam Kay ()|  256|          4.41|Welcome to the li...|           4040|              5|            148|After reading \"Th...|   4.920146|\n",
      "|biography-memoir|This Is Going to ...|Adam Kay ()|  256|          4.41|Welcome to the li...|           6759|              4|            148|As a medical stud...|  4.3792677|\n",
      "|biography-memoir|This Is Going to ...|Adam Kay ()|  256|          4.41|Welcome to the li...|          14396|              4|            148|‘This is Going to...|  4.2878833|\n",
      "|biography-memoir|This Is Going to ...|Adam Kay ()|  256|          4.41|Welcome to the li...|          19441|              4|            148|Kay practiced med...|  4.5665994|\n",
      "|biography-memoir|This Is Going to ...|Adam Kay ()|  256|          4.41|Welcome to the li...|          10838|              5|            148|A hilarious, eye-...|  3.7554264|\n",
      "|biography-memoir|This Is Going to ...|Adam Kay ()|  256|          4.41|Welcome to the li...|          27377|              4|            148|B.R.A.C.E Μαραθων...|  1.1951963|\n",
      "|biography-memoir|This Is Going to ...|Adam Kay ()|  256|          4.41|Welcome to the li...|           6414|              4|            148|This is a non-fic...|   4.042728|\n",
      "|biography-memoir|This Is Going to ...|Adam Kay ()|  256|          4.41|Welcome to the li...|          21325|              4|            148|Absolutely brilli...|  2.0010228|\n",
      "|biography-memoir|This Is Going to ...|Adam Kay ()|  256|          4.41|Welcome to the li...|          12525|              5|            148|This is Going to ...|   4.448758|\n",
      "|biography-memoir|This Is Going to ...|Adam Kay ()|  256|          4.41|Welcome to the li...|          24561|              4|            148|In This is Going ...|   4.323727|\n",
      "|biography-memoir|This Is Going to ...|Adam Kay ()|  256|          4.41|Welcome to the li...|           5131|              4|            148|An insightful bio...|  3.6724238|\n",
      "|biography-memoir|This Is Going to ...|Adam Kay ()|  256|          4.41|Welcome to the li...|           8965|              3|            148|This book was jus...|   4.540728|\n",
      "|biography-memoir|This Is Going to ...|Adam Kay ()|  256|          4.41|Welcome to the li...|           4245|              4|            148|4.5 stars. I have...|   4.294294|\n",
      "|biography-memoir|This Is Going to ...|Adam Kay ()|  256|          4.41|Welcome to the li...|          15391|              4|            148|This book gave me...|  4.0823007|\n",
      "|biography-memoir|This Is Going to ...|Adam Kay ()|  256|          4.41|Welcome to the li...|           6758|              4|            148|Such a great book...|-0.20139563|\n",
      "+----------------+--------------------+-----------+-----+--------------+--------------------+---------------+---------------+---------------+--------------------+-----------+\n",
      "only showing top 20 rows\n",
      "\n"
     ]
    }
   ],
   "source": [
    "#train, test = df_sm2.randomSplit([0.8, 0.2])\n",
    "als2 = ALS(maxIter=5,rank=4, \n",
    "          userCol='user_unique_key', itemCol='book_unique_key', \n",
    "          ratingCol='number_of_stars',\n",
    "          coldStartStrategy='drop')\n",
    "\n",
    "\n",
    "model_fsm2 = als2.fit(train)\n",
    "predictions2 = model_fsm2.transform(test)\n",
    "predictions2.show()"
   ]
  },
  {
   "cell_type": "code",
   "execution_count": 98,
   "metadata": {},
   "outputs": [
    {
     "name": "stdout",
     "output_type": "stream",
     "text": [
      "Root-mean-square error = 2.0971997522129304\n"
     ]
    }
   ],
   "source": [
    "predictions2 = model_fsm2.transform(test)\n",
    "evaluator2 = RegressionEvaluator(metricName='rmse', labelCol='number_of_stars',\n",
    "                                predictionCol='prediction')\n",
    "rmse2 = evaluator2.evaluate(predictions2)\n",
    "print('Root-mean-square error = ' + str(rmse2))"
   ]
  },
  {
   "cell_type": "code",
   "execution_count": 99,
   "metadata": {},
   "outputs": [
    {
     "name": "stdout",
     "output_type": "stream",
     "text": [
      "mean absolute error = 1.4678074366732219\n"
     ]
    }
   ],
   "source": [
    "evaluator3 = RegressionEvaluator(metricName='mae', labelCol='number_of_stars',\n",
    "                                predictionCol='prediction')\n",
    "mae2 = evaluator3.evaluate(predictions2)\n",
    "print('mean absolute error = ' + str(mae2))"
   ]
  },
  {
   "cell_type": "code",
   "execution_count": null,
   "metadata": {},
   "outputs": [],
   "source": []
  },
  {
   "cell_type": "code",
   "execution_count": null,
   "metadata": {},
   "outputs": [],
   "source": []
  },
  {
   "cell_type": "code",
   "execution_count": 11,
   "metadata": {},
   "outputs": [],
   "source": [
    "train, test = df_sm2.randomSplit([0.8, 0.2])"
   ]
  },
  {
   "cell_type": "code",
   "execution_count": 12,
   "metadata": {},
   "outputs": [
    {
     "name": "stdout",
     "output_type": "stream",
     "text": [
      "+----------------+--------------------+--------------------+-----+--------------+--------------------+---------------+---------------+---------------+--------------------+----------+\n",
      "|           genre|               title|              author|pages|average_rating|    book_description|user_unique_key|number_of_stars|book_unique_key|         review_text|prediction|\n",
      "+----------------+--------------------+--------------------+-----+--------------+--------------------+---------------+---------------+---------------+--------------------+----------+\n",
      "|biography-memoir|This Is Going to ...|         Adam Kay ()|  256|          4.41|Welcome to the li...|          24890|              3|            148|Interesting insig...| 4.3648696|\n",
      "|biography-memoir|This Is Going to ...|         Adam Kay ()|  256|          4.41|Welcome to the li...|            255|              4|            148|this is an overal...|  4.057796|\n",
      "|biography-memoir|This Is Going to ...|         Adam Kay ()|  256|          4.41|Welcome to the li...|          10090|              4|            148|This book was an ...| 3.1591985|\n",
      "|biography-memoir|This Is Going to ...|         Adam Kay ()|  256|          4.41|Welcome to the li...|          23487|              3|            148|Adam Kay is funny...| 5.1474795|\n",
      "|biography-memoir|This Is Going to ...|         Adam Kay ()|  256|          4.41|Welcome to the li...|          26251|              3|            148|3.5 Adam Kay’s me...|  3.465294|\n",
      "|biography-memoir|This Is Going to ...|         Adam Kay ()|  256|          4.41|Welcome to the li...|          16253|              5|            148|spoiler alert, it...| 1.7213559|\n",
      "|biography-memoir|This Is Going to ...|         Adam Kay ()|  256|          4.41|Welcome to the li...|          23208|              4|            148|4****\n",
      "\n",
      "Today cros...|   4.30266|\n",
      "|biography-memoir|This Is Going to ...|         Adam Kay ()|  256|          4.41|Welcome to the li...|          20951|              3|            148|3.5 stars. This i...| 4.2374744|\n",
      "|biography-memoir|This Is Going to ...|         Adam Kay ()|  256|          4.41|Welcome to the li...|           3039|              5|            148|I finished the bo...|  4.678451|\n",
      "|biography-memoir|This Is Going to ...|         Adam Kay ()|  256|          4.41|Welcome to the li...|          25719|              2|            148|The problem with ...|  4.381161|\n",
      "|biography-memoir|This Is Going to ...|         Adam Kay ()|  256|          4.41|Welcome to the li...|          21325|              4|            148|Absolutely brilli...| 2.1279168|\n",
      "|biography-memoir|This Is Going to ...|         Adam Kay ()|  256|          4.41|Welcome to the li...|          17137|              4|            148|“So I told them t...|  4.328268|\n",
      "|biography-memoir|This Is Going to ...|         Adam Kay ()|  256|          4.41|Welcome to the li...|          15673|              3|            148|3.5 stars!\n",
      "\n",
      "Adam'...| 3.0341227|\n",
      "|biography-memoir|This Is Going to ...|         Adam Kay ()|  256|          4.41|Welcome to the li...|           4573|              2|            148|DNF @ 40%\n",
      "\n",
      "Standa...| 4.9211383|\n",
      "|biography-memoir|This Is Going to ...|         Adam Kay ()|  256|          4.41|Welcome to the li...|           2440|              4|            148|This is the only ...| 3.3339336|\n",
      "|biography-memoir|This Is Going to ...|         Adam Kay ()|  256|          4.41|Welcome to the li...|          17867|              4|            148|4.5 stars\n",
      "\n",
      "I real...| 3.2700622|\n",
      "|biography-memoir|This Is Going to ...|         Adam Kay ()|  256|          4.41|Welcome to the li...|           9791|              1|            148|A series of suppo...| 3.2919097|\n",
      "|biography-memoir|This Is Going to ...|         Adam Kay ()|  256|          4.41|Welcome to the li...|          18670|              4|            148|Overall: I loved ...| 4.4169292|\n",
      "|       adventure|     Treasure Island|Robert Louis Stev...|  390|          3.83|The final book in...|          14615|              4|            463|Be warned. Spoile...| 3.8858275|\n",
      "|       adventure|     Treasure Island|Robert Louis Stev...|  390|          3.83|The final book in...|           4991|              4|            463|Re-read 5/21/20: ...| 3.7515593|\n",
      "+----------------+--------------------+--------------------+-----+--------------+--------------------+---------------+---------------+---------------+--------------------+----------+\n",
      "only showing top 20 rows\n",
      "\n"
     ]
    }
   ],
   "source": [
    "als_model = ALS(userCol='user_unique_key', itemCol='book_unique_key',ratingCol='number_of_stars', \n",
    "                rank=10  , maxIter=20 , regParam=.05,\n",
    "                nonnegative=True,implicitPrefs=False, \n",
    "                coldStartStrategy='drop')\n",
    "model4 = als_model.fit(train)\n",
    "pred = model4.transform(test)\n",
    "pred.show()"
   ]
  },
  {
   "cell_type": "code",
   "execution_count": 14,
   "metadata": {},
   "outputs": [
    {
     "name": "stdout",
     "output_type": "stream",
     "text": [
      "Root-mean-square error = 1.3042900375870623\n"
     ]
    }
   ],
   "source": [
    "\n",
    "evaluator4 = RegressionEvaluator(metricName='rmse', labelCol='number_of_stars',\n",
    "                                predictionCol='prediction')\n",
    "rmse4 = evaluator4.evaluate(pred)\n",
    "print('Root-mean-square error = ' + str(rmse4))"
   ]
  },
  {
   "cell_type": "code",
   "execution_count": 10,
   "metadata": {},
   "outputs": [],
   "source": [
    "train, test = df_sm2.randomSplit([0.8, 0.2])"
   ]
  },
  {
   "cell_type": "code",
   "execution_count": null,
   "metadata": {},
   "outputs": [],
   "source": []
  },
  {
   "cell_type": "code",
   "execution_count": null,
   "metadata": {},
   "outputs": [],
   "source": []
  },
  {
   "cell_type": "code",
   "execution_count": 30,
   "metadata": {},
   "outputs": [],
   "source": [
    "train, test = df_sm2.randomSplit([0.8, 0.2])\n",
    "als_modelv = ALS(userCol='user_unique_key', itemCol='book_unique_key',ratingCol='number_of_stars',\n",
    "                nonnegative=True,implicitPrefs=False, \n",
    "                coldStartStrategy='drop')\n",
    "\n",
    "# modelv = als_modelv.fit(train)\n",
    "# pred = modelv.transform(test)\n",
    "                \n",
    "evaluatorv = RegressionEvaluator(metricName='rmse', labelCol='number_of_stars',\n",
    "                                predictionCol='prediction')\n",
    "params=ParamGridBuilder()\n",
    "params = ParamGridBuilder().addGrid(als_modelv.regParam, [0.01, 0.05, .1, 1.5]).build()\n",
    "                #.addGrid(als_modelv.rank, [4, 10, 30, 70])\\\n",
    "                #.addGrid(als_modelv.maxIter[5, 15, 30, 45, 75])\\\n",
    "                #.build()\n",
    "    \n",
    "# cv= CrossValidator()\n",
    "crossval = CrossValidator(estimator=als_modelv, \n",
    "                          estimatorParamMaps=params,\n",
    "                          evaluator=evaluatorv,\n",
    "                          numFolds= 6)\n",
    "modelv= crossval.fit(train)    \n",
    "\n",
    "best_model = modelv.bestModel\n",
    "\n",
    "# best_model.bestModel.rank"
   ]
  },
  {
   "cell_type": "code",
   "execution_count": null,
   "metadata": {},
   "outputs": [],
   "source": []
  },
  {
   "cell_type": "code",
   "execution_count": null,
   "metadata": {},
   "outputs": [],
   "source": []
  },
  {
   "cell_type": "code",
   "execution_count": null,
   "metadata": {},
   "outputs": [],
   "source": []
  },
  {
   "cell_type": "markdown",
   "metadata": {},
   "source": [
    "Does it work? do the recommendations make sense?"
   ]
  },
  {
   "cell_type": "markdown",
   "metadata": {},
   "source": [
    "\"when ALS generates recommendations, they are provided in descending order by userId, so there's no need to sort the dataframe.\""
   ]
  },
  {
   "cell_type": "code",
   "execution_count": null,
   "metadata": {},
   "outputs": [],
   "source": [
    "origin_rating =\n",
    "recommended=\n",
    "print(\"User #25 Ratings:\")\n",
    "origin_ratings.filter(col(\"user_unique_key\") == 60).sort(\"number_of_stars\", ascending= False).show()\n",
    "\n",
    "\n",
    "print(\"User 300 Recommendations:\")\n",
    "recommended.filter(col(\"user_unique_key\") == 300).show()\n",
    "\n"
   ]
  },
  {
   "cell_type": "code",
   "execution_count": null,
   "metadata": {},
   "outputs": [],
   "source": []
  },
  {
   "cell_type": "code",
   "execution_count": null,
   "metadata": {},
   "outputs": [],
   "source": []
  }
 ],
 "metadata": {
  "kernelspec": {
   "display_name": "Python 3",
   "language": "python",
   "name": "python3"
  },
  "language_info": {
   "codemirror_mode": {
    "name": "ipython",
    "version": 3
   },
   "file_extension": ".py",
   "mimetype": "text/x-python",
   "name": "python",
   "nbconvert_exporter": "python",
   "pygments_lexer": "ipython3",
   "version": "3.8.3"
  }
 },
 "nbformat": 4,
 "nbformat_minor": 4
}
