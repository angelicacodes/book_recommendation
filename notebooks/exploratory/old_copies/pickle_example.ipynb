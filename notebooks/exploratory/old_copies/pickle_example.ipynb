{
 "cells": [
  {
   "cell_type": "code",
   "execution_count": null,
   "metadata": {},
   "outputs": [],
   "source": [
    "import pickle\n",
    "\n",
    "import pandas as pd\n",
    "\n",
    "from sklearn.pipeline import Pipeline\n",
    "from sklearn.compose import ColumnTransformer\n",
    "from sklearn.preprocessing import OneHotEncoder\n",
    "from sklearn.linear_model import LinearRegression\n",
    "\n",
    "from src.models.custom_transformers import PrecipitationTransformer\n",
    "\n",
    "# Load all data into X and y\n",
    "antelope_df = pd.read_csv(\"antelope.csv\")\n",
    "X = antelope_df.drop(\"spring_fawn_count\", axis=1)\n",
    "y = antelope_df[\"spring_fawn_count\"]\n",
    "\n",
    "# Note: we are not doing a train-test split, since we already have a \"final\"\n",
    "# model chosen based on some previous train-test split. We want the best possible\n",
    "# model, so we fit with the entire training set.\n",
    "\n",
    "# Instantiate a pipeline that performs all preprocessing steps\n",
    "pipe = Pipeline(steps=[\n",
    "    (\"transform_precip\", PrecipitationTransformer()),\n",
    "    (\"encode_winter\", ColumnTransformer(transformers=[\n",
    "        (\"ohe\", OneHotEncoder(sparse=False, handle_unknown=\"ignore\"),\n",
    "         [\"winter_severity_index\"])\n",
    "    ], remainder=\"passthrough\"\n",
    "    )),\n",
    "    (\"linreg_model\", LinearRegression())\n",
    "])\n",
    "\n",
    "# Fit the pipeline on the full dataset\n",
    "pipe.fit(X, y)\n",
    "\n",
    "# Not needed, but print out the coefficients as a way to demonstrate that the\n",
    "# model was successfully fitted\n",
    "print(\"coefficients\")\n",
    "print(pipe.named_steps[\"linreg_model\"].coef_)\n",
    "\n",
    "# Save the fitted pipeline\n",
    "with open(\"model.pkl\", 'wb') as f:\n",
    "    pickle.dump(pipe, f)"
   ]
  }
 ],
 "metadata": {
  "kernelspec": {
   "display_name": "Python 3",
   "language": "python",
   "name": "python3"
  },
  "language_info": {
   "codemirror_mode": {
    "name": "ipython",
    "version": 3
   },
   "file_extension": ".py",
   "mimetype": "text/x-python",
   "name": "python",
   "nbconvert_exporter": "python",
   "pygments_lexer": "ipython3",
   "version": "3.8.3"
  }
 },
 "nbformat": 4,
 "nbformat_minor": 4
}
