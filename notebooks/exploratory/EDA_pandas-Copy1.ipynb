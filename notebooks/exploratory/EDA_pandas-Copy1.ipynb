{
 "cells": [
  {
   "cell_type": "markdown",
   "metadata": {},
   "source": [
    "# Exploratory Data Analysis #1"
   ]
  },
  {
   "cell_type": "markdown",
   "metadata": {},
   "source": [
    "### Import libraries"
   ]
  },
  {
   "cell_type": "code",
   "execution_count": 3,
   "metadata": {},
   "outputs": [],
   "source": [
    "import pandas as pd\n",
    "\n",
    "import numpy as np\n",
    "\n",
    "from matplotlib import pyplot as plt\n",
    "%matplotlib inline\n",
    "import seaborn as sns\n",
    "\n",
    "import sqlite3 \n",
    "\n",
    "import os\n",
    "\n",
    "from sklearn.preprocessing import LabelEncoder\n"
   ]
  },
  {
   "cell_type": "code",
   "execution_count": 2,
   "metadata": {},
   "outputs": [],
   "source": []
  },
  {
   "cell_type": "markdown",
   "metadata": {},
   "source": [
    "### Import data"
   ]
  },
  {
   "cell_type": "code",
   "execution_count": 4,
   "metadata": {},
   "outputs": [],
   "source": [
    "historical_fiction_books = pd.read_csv('../../data/scrape/historical-fiction_book_table.csv')\n",
    "historical_fiction_reviews = pd.read_csv('../../data/scrape/historical-fiction_review_table.csv')\n",
    "historical_fiction= historical_fiction_books.merge(historical_fiction_reviews, left_on='unique_key', right_on='book_unique_key')"
   ]
  },
  {
   "cell_type": "code",
   "execution_count": 1,
   "metadata": {},
   "outputs": [],
   "source": [
    "# print(historical_fiction_books.info())\n",
    "# # print(historical_fiction_reviews.info()"
   ]
  },
  {
   "cell_type": "code",
   "execution_count": 5,
   "metadata": {},
   "outputs": [],
   "source": [
    "science_fiction_fantasy_books = pd.read_csv('../../data/scrape/science-fiction-fantasy_book_table.csv')\n",
    "science_fiction_fantasy_reviews = pd.read_csv('../../data/scrape/science-fiction-fantasy_review_table.csv')\n",
    "science_fiction_fantasy= science_fiction_fantasy_books.merge(science_fiction_fantasy_reviews, left_on='unique_key', right_on='book_unique_key')"
   ]
  },
  {
   "cell_type": "code",
   "execution_count": 6,
   "metadata": {},
   "outputs": [],
   "source": [
    "romantic_books = pd.read_csv('../../data/scrape/romantic_book_table.csv')\n",
    "romantic_reviews = pd.read_csv('../../data/scrape/romantic_review_table.csv')\n",
    "romantic= romantic_books.merge(romantic_reviews, left_on='unique_key', right_on='book_unique_key')"
   ]
  },
  {
   "cell_type": "code",
   "execution_count": 7,
   "metadata": {},
   "outputs": [],
   "source": [
    "poetry_books = pd.read_csv('../../data/scrape/poetry_book_table.csv')\n",
    "poetry_reviews = pd.read_csv('../../data/scrape/poetry_review_table.csv')\n",
    "poetry= poetry_books.merge(poetry_reviews, left_on='unique_key', right_on='book_unique_key')"
   ]
  },
  {
   "cell_type": "code",
   "execution_count": 8,
   "metadata": {},
   "outputs": [],
   "source": [
    "novella_books = pd.read_csv('../../data/scrape/novella_book_table.csv')\n",
    "novella_reviews = pd.read_csv('../../data/scrape/novella_review_table.csv')\n",
    "novella= novella_books.merge(novella_reviews, left_on='unique_key', right_on='book_unique_key')"
   ]
  },
  {
   "cell_type": "code",
   "execution_count": 9,
   "metadata": {},
   "outputs": [],
   "source": [
    "nonfiction_books = pd.read_csv('../../data/scrape/non-fiction_book_table.csv')\n",
    "nonfiction_reviews = pd.read_csv('../../data/scrape/non-fiction_review_table.csv')\n",
    "nonfiction= nonfiction_books.merge(nonfiction_reviews, left_on='unique_key', right_on='book_unique_key')"
   ]
  },
  {
   "cell_type": "code",
   "execution_count": 10,
   "metadata": {},
   "outputs": [],
   "source": [
    "historypolitics_books = pd.read_csv('../../data/scrape/history-and-politics_book_table.csv')\n",
    "historypolitics_reviews = pd.read_csv('../../data/scrape/history-and-politics_review_table.csv')\n",
    "historypolitics= historypolitics_books.merge(historypolitics_reviews, left_on='unique_key', right_on='book_unique_key')"
   ]
  },
  {
   "cell_type": "code",
   "execution_count": 11,
   "metadata": {},
   "outputs": [],
   "source": [
    "fiction_books = pd.read_csv('../../data/scrape/fiction_book_table.csv')\n",
    "fiction_reviews = pd.read_csv('../../data/scrape/fiction_review_table.csv')\n",
    "fiction= fiction_books.merge(fiction_reviews, left_on='unique_key', right_on='book_unique_key')"
   ]
  },
  {
   "cell_type": "code",
   "execution_count": 12,
   "metadata": {},
   "outputs": [],
   "source": [
    "fiction2_books = pd.read_csv('../../data/scrape/fiction_book_table3.csv')\n",
    "fiction2_reviews = pd.read_csv('../../data/scrape/fiction_review_table3.csv')\n",
    "fiction2= fiction2_books.merge(fiction2_reviews, left_on='unique_key', right_on='book_unique_key')"
   ]
  },
  {
   "cell_type": "code",
   "execution_count": 13,
   "metadata": {},
   "outputs": [],
   "source": [
    "contemporary_books = pd.read_csv('../../data/scrape/contemporary_book_table.csv')\n",
    "contemporary_reviews = pd.read_csv('../../data/scrape/contemporary_review_table.csv')\n",
    "contemporary= contemporary_books.merge(contemporary_reviews, left_on='unique_key', right_on='book_unique_key')"
   ]
  },
  {
   "cell_type": "code",
   "execution_count": 14,
   "metadata": {},
   "outputs": [],
   "source": [
    "biomemoir_books = pd.read_csv('../../data/scrape/biography-memoir_book_table.csv')\n",
    "biomemoir_reviews = pd.read_csv('../../data/scrape/biography-memoir_review_table.csv')\n",
    "biomemoir= biomemoir_books.merge(biomemoir_reviews, left_on='unique_key', right_on='book_unique_key')"
   ]
  },
  {
   "cell_type": "code",
   "execution_count": 17,
   "metadata": {},
   "outputs": [],
   "source": [
    "biography_books = pd.read_csv('../../data/scrape/biography_book_table3.csv')\n",
    "biography_reviews = pd.read_csv('../../data/scrape/biography_review_table3.csv')\n",
    "biography= biography_books.merge(biography_reviews, left_on='unique_key', right_on='book_unique_key')"
   ]
  },
  {
   "cell_type": "code",
   "execution_count": 18,
   "metadata": {},
   "outputs": [],
   "source": [
    "mystery_books = pd.read_csv('../../data/scrape/mystery_book_table.csv')\n",
    "mystery_reviews = pd.read_csv('../../data/scrape/mystery_review_table.csv')\n",
    "mystery= mystery_books.merge(mystery_reviews, left_on='unique_key', right_on='book_unique_key')"
   ]
  },
  {
   "cell_type": "code",
   "execution_count": 19,
   "metadata": {},
   "outputs": [],
   "source": [
    "shortstories_books = pd.read_csv('../../data/scrape/short-stories_book_table.csv')\n",
    "shortstories_reviews = pd.read_csv('../../data/scrape/short-stories_review_table.csv')\n",
    "short_stories= shortstories_books.merge(shortstories_reviews, left_on='unique_key', right_on='book_unique_key')"
   ]
  },
  {
   "cell_type": "code",
   "execution_count": 20,
   "metadata": {},
   "outputs": [],
   "source": [
    "classics_books = pd.read_csv('../../data/scrape/classics_book_table.csv')\n",
    "classics_reviews = pd.read_csv('../../data/scrape/classics_review_table.csv')\n",
    "classics= classics_books.merge(classics_reviews, left_on='unique_key', right_on='book_unique_key')"
   ]
  },
  {
   "cell_type": "code",
   "execution_count": 21,
   "metadata": {},
   "outputs": [],
   "source": [
    "anthologies_books = pd.read_csv('../../data/scrape/anthologies_book_table.csv')\n",
    "anthologies_reviews = pd.read_csv('../../data/scrape/anthologies_review_table.csv')\n",
    "anthologies= anthologies_books.merge(anthologies_reviews, left_on='unique_key', right_on='book_unique_key')"
   ]
  },
  {
   "cell_type": "code",
   "execution_count": 22,
   "metadata": {},
   "outputs": [],
   "source": [
    "drama_books = pd.read_csv('../../data/scrape/drama_book_table.csv')\n",
    "drama_reviews = pd.read_csv('../../data/scrape/drama_review_table.csv')\n",
    "drama= drama_books.merge(drama_reviews, left_on='unique_key', right_on='book_unique_key')"
   ]
  },
  {
   "cell_type": "code",
   "execution_count": 23,
   "metadata": {},
   "outputs": [],
   "source": [
    "literature_books = pd.read_csv('../../data/scrape/literature_book_table.csv')\n",
    "literature_reviews = pd.read_csv('../../data/scrape/literature_review_table.csv')\n",
    "literature= literature_books.merge(literature_reviews, left_on='unique_key', right_on='book_unique_key')"
   ]
  },
  {
   "cell_type": "code",
   "execution_count": 24,
   "metadata": {},
   "outputs": [],
   "source": [
    "adventure_books = pd.read_csv('../../data/scrape/adventure_book_table.csv')\n",
    "adventure_reviews = pd.read_csv('../../data/scrape/adventure_review_table.csv')\n",
    "adventure= adventure_books.merge(adventure_reviews, left_on='unique_key', right_on='book_unique_key')"
   ]
  },
  {
   "cell_type": "code",
   "execution_count": 25,
   "metadata": {},
   "outputs": [],
   "source": [
    "history_books = pd.read_csv('../../data/scrape/history_book_table3.csv')\n",
    "history_reviews = pd.read_csv('../../data/scrape/history_review_table3.csv')\n",
    "history= history_books.merge(history_reviews, left_on='unique_key', right_on='book_unique_key')"
   ]
  },
  {
   "cell_type": "code",
   "execution_count": 27,
   "metadata": {},
   "outputs": [],
   "source": [
    "horror_books = pd.read_csv('../../data/scrape/horror_book_table.csv')\n",
    "horror_reviews = pd.read_csv('../../data/scrape/horror_review_table.csv')\n",
    "horror= horror_books.merge(horror_reviews, left_on='unique_key', right_on='book_unique_key')"
   ]
  },
  {
   "cell_type": "code",
   "execution_count": 28,
   "metadata": {},
   "outputs": [],
   "source": [
    "memoir_books = pd.read_csv('../../data/scrape/memoir_book_table3.csv')\n",
    "memoir_reviews = pd.read_csv('../../data/scrape/memoir_review_table3.csv')\n",
    "memoir= memoir_books.merge(memoir_reviews, left_on='unique_key', right_on='book_unique_key')"
   ]
  },
  {
   "cell_type": "code",
   "execution_count": 30,
   "metadata": {},
   "outputs": [],
   "source": [
    "nonfiction2_books = pd.read_csv('../../data/scrape/non-fiction_book_table3.csv')\n",
    "nonfiction2_reviews = pd.read_csv('../../data/scrape/non-fiction_review_table3.csv')\n",
    "nonfiction2= nonfiction2_books.merge(nonfiction2_reviews, left_on='unique_key', right_on='book_unique_key')"
   ]
  },
  {
   "cell_type": "code",
   "execution_count": 31,
   "metadata": {},
   "outputs": [],
   "source": [
    "romantic2_books = pd.read_csv('../../data/scrape/romantic_book_table3.csv')\n",
    "romantic2_reviews = pd.read_csv('../../data/scrape/romantic_review_table3.csv')\n",
    "romantic2= romantic2_books.merge(romantic2_reviews, left_on='unique_key', right_on='book_unique_key')"
   ]
  },
  {
   "cell_type": "code",
   "execution_count": 32,
   "metadata": {},
   "outputs": [],
   "source": [
    "thriller_books = pd.read_csv('../../data/scrape/thriller_book_table3.csv')\n",
    "thriller_reviews = pd.read_csv('../../data/scrape/thriller_review_table3.csv')\n",
    "thriller= thriller_books.merge(thriller_reviews, left_on='unique_key', right_on='book_unique_key')"
   ]
  },
  {
   "cell_type": "code",
   "execution_count": 45,
   "metadata": {
    "collapsed": true,
    "jupyter": {
     "outputs_hidden": true
    }
   },
   "outputs": [
    {
     "name": "stdout",
     "output_type": "stream",
     "text": [
      "<class 'pandas.core.frame.DataFrame'>\n",
      "Int64Index: 4721 entries, 0 to 4720\n",
      "Data columns (total 12 columns):\n",
      " #   Column            Non-Null Count  Dtype  \n",
      "---  ------            --------------  -----  \n",
      " 0   genre             4721 non-null   object \n",
      " 1   title             4721 non-null   object \n",
      " 2   author            4721 non-null   object \n",
      " 3   pages             4721 non-null   object \n",
      " 4   unique_key        4721 non-null   object \n",
      " 5   average_rating    4721 non-null   float64\n",
      " 6   book_description  3970 non-null   object \n",
      " 7   user_name         4721 non-null   object \n",
      " 8   user_unique_key   4721 non-null   object \n",
      " 9   number_of_stars   4721 non-null   int64  \n",
      " 10  book_unique_key   4721 non-null   object \n",
      " 11  review_text       4657 non-null   object \n",
      "dtypes: float64(1), int64(1), object(10)\n",
      "memory usage: 479.5+ KB\n"
     ]
    }
   ],
   "source": [
    "poetry.info()"
   ]
  },
  {
   "cell_type": "markdown",
   "metadata": {},
   "source": [
    "### Merge tables"
   ]
  },
  {
   "cell_type": "code",
   "execution_count": 33,
   "metadata": {},
   "outputs": [],
   "source": [
    "genres_tables = [fiction, fiction2, nonfiction, nonfiction2, biography, memoir, classics, short_stories, science_fiction_fantasy, \n",
    "                 romantic, novella, mystery, history, historical_fiction, historypolitics, contemporary, biomemoir, classics,\n",
    "                 anthologies, poetry, literature, drama, adventure, horror, thriller]\n",
    "\n",
    "comb_df = pd.concat(genres_tables, axis= 0)"
   ]
  },
  {
   "cell_type": "code",
   "execution_count": 34,
   "metadata": {},
   "outputs": [
    {
     "name": "stdout",
     "output_type": "stream",
     "text": [
      "<class 'pandas.core.frame.DataFrame'>\n",
      "Int64Index: 251687 entries, 0 to 12700\n",
      "Data columns (total 12 columns):\n",
      " #   Column            Non-Null Count   Dtype \n",
      "---  ------            --------------   ----- \n",
      " 0   genre             251687 non-null  object\n",
      " 1   title             251687 non-null  object\n",
      " 2   author            251687 non-null  object\n",
      " 3   pages             251687 non-null  object\n",
      " 4   unique_key        251687 non-null  object\n",
      " 5   average_rating    251687 non-null  object\n",
      " 6   book_description  181107 non-null  object\n",
      " 7   user_name         251687 non-null  object\n",
      " 8   user_unique_key   251687 non-null  object\n",
      " 9   number_of_stars   251687 non-null  object\n",
      " 10  book_unique_key   251687 non-null  object\n",
      " 11  review_text       247845 non-null  object\n",
      "dtypes: object(12)\n",
      "memory usage: 25.0+ MB\n"
     ]
    }
   ],
   "source": [
    "comb_df.info()"
   ]
  },
  {
   "cell_type": "code",
   "execution_count": 35,
   "metadata": {
    "collapsed": true,
    "jupyter": {
     "outputs_hidden": true
    }
   },
   "outputs": [
    {
     "data": {
      "text/html": [
       "<div>\n",
       "<style scoped>\n",
       "    .dataframe tbody tr th:only-of-type {\n",
       "        vertical-align: middle;\n",
       "    }\n",
       "\n",
       "    .dataframe tbody tr th {\n",
       "        vertical-align: top;\n",
       "    }\n",
       "\n",
       "    .dataframe thead th {\n",
       "        text-align: right;\n",
       "    }\n",
       "</style>\n",
       "<table border=\"1\" class=\"dataframe\">\n",
       "  <thead>\n",
       "    <tr style=\"text-align: right;\">\n",
       "      <th></th>\n",
       "      <th>genre</th>\n",
       "      <th>title</th>\n",
       "      <th>author</th>\n",
       "      <th>pages</th>\n",
       "      <th>unique_key</th>\n",
       "      <th>average_rating</th>\n",
       "      <th>book_description</th>\n",
       "      <th>user_name</th>\n",
       "      <th>user_unique_key</th>\n",
       "      <th>number_of_stars</th>\n",
       "      <th>book_unique_key</th>\n",
       "      <th>review_text</th>\n",
       "    </tr>\n",
       "  </thead>\n",
       "  <tbody>\n",
       "    <tr>\n",
       "      <th>0</th>\n",
       "      <td>fiction</td>\n",
       "      <td>Leave the World Behind</td>\n",
       "      <td>by Rumaan Alam (Goodreads Author)</td>\n",
       "      <td>241 pages</td>\n",
       "      <td>https://www.goodreads.com/book/show/50358031-l...</td>\n",
       "      <td>3.39</td>\n",
       "      <td>A magnetic novel about two families, strangers...</td>\n",
       "      <td>Roxane</td>\n",
       "      <td>https://www.goodreads.com/user/show/1151637-ro...</td>\n",
       "      <td>5</td>\n",
       "      <td>https://www.goodreads.com/book/show/50358031-l...</td>\n",
       "      <td>A white family is vacationing in the Hamptons ...</td>\n",
       "    </tr>\n",
       "    <tr>\n",
       "      <th>1</th>\n",
       "      <td>fiction</td>\n",
       "      <td>Leave the World Behind</td>\n",
       "      <td>by Rumaan Alam (Goodreads Author)</td>\n",
       "      <td>241 pages</td>\n",
       "      <td>https://www.goodreads.com/book/show/50358031-l...</td>\n",
       "      <td>3.39</td>\n",
       "      <td>A magnetic novel about two families, strangers...</td>\n",
       "      <td>Nilufer Ozmekik</td>\n",
       "      <td>https://www.goodreads.com/user/show/53701594-n...</td>\n",
       "      <td>4</td>\n",
       "      <td>https://www.goodreads.com/book/show/50358031-l...</td>\n",
       "      <td>NaN</td>\n",
       "    </tr>\n",
       "    <tr>\n",
       "      <th>2</th>\n",
       "      <td>fiction</td>\n",
       "      <td>Leave the World Behind</td>\n",
       "      <td>by Rumaan Alam (Goodreads Author)</td>\n",
       "      <td>241 pages</td>\n",
       "      <td>https://www.goodreads.com/book/show/50358031-l...</td>\n",
       "      <td>3.39</td>\n",
       "      <td>A magnetic novel about two families, strangers...</td>\n",
       "      <td>Cindy</td>\n",
       "      <td>https://www.goodreads.com/user/show/57797254-c...</td>\n",
       "      <td>3</td>\n",
       "      <td>https://www.goodreads.com/book/show/50358031-l...</td>\n",
       "      <td>This book is the most low-key and vague thrill...</td>\n",
       "    </tr>\n",
       "    <tr>\n",
       "      <th>3</th>\n",
       "      <td>fiction</td>\n",
       "      <td>Leave the World Behind</td>\n",
       "      <td>by Rumaan Alam (Goodreads Author)</td>\n",
       "      <td>241 pages</td>\n",
       "      <td>https://www.goodreads.com/book/show/50358031-l...</td>\n",
       "      <td>3.39</td>\n",
       "      <td>A magnetic novel about two families, strangers...</td>\n",
       "      <td>JanB</td>\n",
       "      <td>https://www.goodreads.com/user/show/260116-janb</td>\n",
       "      <td>5</td>\n",
       "      <td>https://www.goodreads.com/book/show/50358031-l...</td>\n",
       "      <td>4.5 stars\\n\\nA middle-aged white couple and th...</td>\n",
       "    </tr>\n",
       "    <tr>\n",
       "      <th>4</th>\n",
       "      <td>fiction</td>\n",
       "      <td>Leave the World Behind</td>\n",
       "      <td>by Rumaan Alam (Goodreads Author)</td>\n",
       "      <td>241 pages</td>\n",
       "      <td>https://www.goodreads.com/book/show/50358031-l...</td>\n",
       "      <td>3.39</td>\n",
       "      <td>A magnetic novel about two families, strangers...</td>\n",
       "      <td>Roman Clodia</td>\n",
       "      <td>https://www.goodreads.com/user/show/56111743-r...</td>\n",
       "      <td>1</td>\n",
       "      <td>https://www.goodreads.com/book/show/50358031-l...</td>\n",
       "      <td>A potentially interesting scenario here, thoug...</td>\n",
       "    </tr>\n",
       "  </tbody>\n",
       "</table>\n",
       "</div>"
      ],
      "text/plain": [
       "     genre                   title                             author  \\\n",
       "0  fiction  Leave the World Behind  by Rumaan Alam (Goodreads Author)   \n",
       "1  fiction  Leave the World Behind  by Rumaan Alam (Goodreads Author)   \n",
       "2  fiction  Leave the World Behind  by Rumaan Alam (Goodreads Author)   \n",
       "3  fiction  Leave the World Behind  by Rumaan Alam (Goodreads Author)   \n",
       "4  fiction  Leave the World Behind  by Rumaan Alam (Goodreads Author)   \n",
       "\n",
       "       pages                                         unique_key  \\\n",
       "0  241 pages  https://www.goodreads.com/book/show/50358031-l...   \n",
       "1  241 pages  https://www.goodreads.com/book/show/50358031-l...   \n",
       "2  241 pages  https://www.goodreads.com/book/show/50358031-l...   \n",
       "3  241 pages  https://www.goodreads.com/book/show/50358031-l...   \n",
       "4  241 pages  https://www.goodreads.com/book/show/50358031-l...   \n",
       "\n",
       "  average_rating                                   book_description  \\\n",
       "0           3.39  A magnetic novel about two families, strangers...   \n",
       "1           3.39  A magnetic novel about two families, strangers...   \n",
       "2           3.39  A magnetic novel about two families, strangers...   \n",
       "3           3.39  A magnetic novel about two families, strangers...   \n",
       "4           3.39  A magnetic novel about two families, strangers...   \n",
       "\n",
       "         user_name                                    user_unique_key  \\\n",
       "0           Roxane  https://www.goodreads.com/user/show/1151637-ro...   \n",
       "1  Nilufer Ozmekik  https://www.goodreads.com/user/show/53701594-n...   \n",
       "2            Cindy  https://www.goodreads.com/user/show/57797254-c...   \n",
       "3            JanB     https://www.goodreads.com/user/show/260116-janb   \n",
       "4     Roman Clodia  https://www.goodreads.com/user/show/56111743-r...   \n",
       "\n",
       "  number_of_stars                                    book_unique_key  \\\n",
       "0               5  https://www.goodreads.com/book/show/50358031-l...   \n",
       "1               4  https://www.goodreads.com/book/show/50358031-l...   \n",
       "2               3  https://www.goodreads.com/book/show/50358031-l...   \n",
       "3               5  https://www.goodreads.com/book/show/50358031-l...   \n",
       "4               1  https://www.goodreads.com/book/show/50358031-l...   \n",
       "\n",
       "                                         review_text  \n",
       "0  A white family is vacationing in the Hamptons ...  \n",
       "1                                                NaN  \n",
       "2  This book is the most low-key and vague thrill...  \n",
       "3  4.5 stars\\n\\nA middle-aged white couple and th...  \n",
       "4  A potentially interesting scenario here, thoug...  "
      ]
     },
     "execution_count": 35,
     "metadata": {},
     "output_type": "execute_result"
    }
   ],
   "source": [
    "comb_df.head()"
   ]
  },
  {
   "cell_type": "code",
   "execution_count": 36,
   "metadata": {},
   "outputs": [
    {
     "data": {
      "text/plain": [
       "(251687, 12)"
      ]
     },
     "execution_count": 36,
     "metadata": {},
     "output_type": "execute_result"
    }
   ],
   "source": [
    "comb_df.shape"
   ]
  },
  {
   "cell_type": "markdown",
   "metadata": {},
   "source": [
    "### Inspect Data"
   ]
  },
  {
   "cell_type": "code",
   "execution_count": 37,
   "metadata": {},
   "outputs": [
    {
     "data": {
      "text/plain": [
       "577"
      ]
     },
     "execution_count": 37,
     "metadata": {},
     "output_type": "execute_result"
    }
   ],
   "source": [
    "comb_df['unique_key'].nunique()"
   ]
  },
  {
   "cell_type": "code",
   "execution_count": 38,
   "metadata": {},
   "outputs": [
    {
     "data": {
      "text/plain": [
       "575"
      ]
     },
     "execution_count": 38,
     "metadata": {},
     "output_type": "execute_result"
    }
   ],
   "source": [
    "comb_df['title'].nunique()"
   ]
  },
  {
   "cell_type": "code",
   "execution_count": 39,
   "metadata": {},
   "outputs": [
    {
     "data": {
      "text/plain": [
       "481"
      ]
     },
     "execution_count": 39,
     "metadata": {},
     "output_type": "execute_result"
    }
   ],
   "source": [
    "comb_df['author'].nunique()"
   ]
  },
  {
   "cell_type": "code",
   "execution_count": 40,
   "metadata": {},
   "outputs": [
    {
     "data": {
      "text/plain": [
       "41627"
      ]
     },
     "execution_count": 40,
     "metadata": {},
     "output_type": "execute_result"
    }
   ],
   "source": [
    "comb_df['user_unique_key'].nunique()"
   ]
  },
  {
   "cell_type": "code",
   "execution_count": 41,
   "metadata": {},
   "outputs": [
    {
     "data": {
      "text/plain": [
       "81157"
      ]
     },
     "execution_count": 41,
     "metadata": {},
     "output_type": "execute_result"
    }
   ],
   "source": [
    "comb_df['review_text'].nunique()"
   ]
  },
  {
   "cell_type": "code",
   "execution_count": 42,
   "metadata": {},
   "outputs": [
    {
     "data": {
      "text/plain": [
       "3842"
      ]
     },
     "execution_count": 42,
     "metadata": {},
     "output_type": "execute_result"
    }
   ],
   "source": [
    "comb_df['review_text'].isna().sum()"
   ]
  },
  {
   "cell_type": "code",
   "execution_count": 43,
   "metadata": {},
   "outputs": [
    {
     "data": {
      "text/plain": [
       "170529"
      ]
     },
     "execution_count": 43,
     "metadata": {},
     "output_type": "execute_result"
    }
   ],
   "source": [
    "comb_df['review_text'].duplicated().sum()"
   ]
  },
  {
   "cell_type": "code",
   "execution_count": 44,
   "metadata": {},
   "outputs": [
    {
     "data": {
      "text/plain": [
       "233134"
      ]
     },
     "execution_count": 44,
     "metadata": {},
     "output_type": "execute_result"
    }
   ],
   "source": [
    "comb_df.duplicated(subset='user_unique_key',keep=False).sum()"
   ]
  },
  {
   "cell_type": "code",
   "execution_count": 212,
   "metadata": {
    "collapsed": true,
    "jupyter": {
     "outputs_hidden": true
    }
   },
   "outputs": [
    {
     "data": {
      "text/html": [
       "<div>\n",
       "<style scoped>\n",
       "    .dataframe tbody tr th:only-of-type {\n",
       "        vertical-align: middle;\n",
       "    }\n",
       "\n",
       "    .dataframe tbody tr th {\n",
       "        vertical-align: top;\n",
       "    }\n",
       "\n",
       "    .dataframe thead th {\n",
       "        text-align: right;\n",
       "    }\n",
       "</style>\n",
       "<table border=\"1\" class=\"dataframe\">\n",
       "  <thead>\n",
       "    <tr style=\"text-align: right;\">\n",
       "      <th></th>\n",
       "      <th>genre</th>\n",
       "      <th>title</th>\n",
       "      <th>author</th>\n",
       "      <th>pages</th>\n",
       "      <th>unique_key</th>\n",
       "      <th>average_rating</th>\n",
       "      <th>book_description</th>\n",
       "      <th>user_name</th>\n",
       "      <th>user_unique_key</th>\n",
       "      <th>number_of_stars</th>\n",
       "      <th>book_unique_key</th>\n",
       "      <th>review_text</th>\n",
       "      <th>book_unique_key_2</th>\n",
       "    </tr>\n",
       "  </thead>\n",
       "  <tbody>\n",
       "    <tr>\n",
       "      <th>6022</th>\n",
       "      <td>fiction</td>\n",
       "      <td>Lord of the Flies</td>\n",
       "      <td>by William Golding</td>\n",
       "      <td>182 pages</td>\n",
       "      <td>https://www.goodreads.com/book/show/7624.Lord_...</td>\n",
       "      <td>3.69</td>\n",
       "      <td>At the dawn of the next world war, a plane cra...</td>\n",
       "      <td>Roger Brunyate</td>\n",
       "      <td>https://www.goodreads.com/user/show/42294189-r...</td>\n",
       "      <td>5</td>\n",
       "      <td>465</td>\n",
       "      <td>\\nOf its Time, yet Classic\\n\\nI chose to rere...</td>\n",
       "      <td>292</td>\n",
       "    </tr>\n",
       "    <tr>\n",
       "      <th>4143</th>\n",
       "      <td>poetry</td>\n",
       "      <td>Beowulf</td>\n",
       "      <td>by Unknown, Seamus Heaney (Translator)</td>\n",
       "      <td>245 pages</td>\n",
       "      <td>https://www.goodreads.com/book/show/52357.Beowulf</td>\n",
       "      <td>3.45</td>\n",
       "      <td>NaN</td>\n",
       "      <td>Roger Brunyate</td>\n",
       "      <td>https://www.goodreads.com/user/show/42294189-r...</td>\n",
       "      <td>5</td>\n",
       "      <td>367</td>\n",
       "      <td>\\nThe Book I Thought I Knew\\n\\n1. A Confessio...</td>\n",
       "      <td>407</td>\n",
       "    </tr>\n",
       "    <tr>\n",
       "      <th>2061</th>\n",
       "      <td>novella</td>\n",
       "      <td>A Court of Frost and Starlight</td>\n",
       "      <td>by Sarah J. Maas (Goodreads Author)</td>\n",
       "      <td>229 pages</td>\n",
       "      <td>https://www.goodreads.com/book/show/31076583-a...</td>\n",
       "      <td>3.88</td>\n",
       "      <td>Hope warms the coldest night.\\n\\nFeyre, Rhys, ...</td>\n",
       "      <td>Ikram</td>\n",
       "      <td>https://www.goodreads.com/user/show/17065991-i...</td>\n",
       "      <td>3</td>\n",
       "      <td>126</td>\n",
       "      <td>\\nWe are gathered here today to mourn the sud...</td>\n",
       "      <td>121</td>\n",
       "    </tr>\n",
       "    <tr>\n",
       "      <th>2091</th>\n",
       "      <td>novella</td>\n",
       "      <td>A Court of Frost and Starlight</td>\n",
       "      <td>by Sarah J. Maas (Goodreads Author)</td>\n",
       "      <td>229 pages</td>\n",
       "      <td>https://www.goodreads.com/book/show/31076583-a...</td>\n",
       "      <td>3.88</td>\n",
       "      <td>Hope warms the coldest night.\\n\\nFeyre, Rhys, ...</td>\n",
       "      <td>Ikram</td>\n",
       "      <td>https://www.goodreads.com/user/show/17065991-i...</td>\n",
       "      <td>3</td>\n",
       "      <td>126</td>\n",
       "      <td>\\nWe are gathered here today to mourn the sud...</td>\n",
       "      <td>121</td>\n",
       "    </tr>\n",
       "    <tr>\n",
       "      <th>2031</th>\n",
       "      <td>novella</td>\n",
       "      <td>A Court of Frost and Starlight</td>\n",
       "      <td>by Sarah J. Maas (Goodreads Author)</td>\n",
       "      <td>229 pages</td>\n",
       "      <td>https://www.goodreads.com/book/show/31076583-a...</td>\n",
       "      <td>3.88</td>\n",
       "      <td>Hope warms the coldest night.\\n\\nFeyre, Rhys, ...</td>\n",
       "      <td>Ikram</td>\n",
       "      <td>https://www.goodreads.com/user/show/17065991-i...</td>\n",
       "      <td>3</td>\n",
       "      <td>126</td>\n",
       "      <td>\\nWe are gathered here today to mourn the sud...</td>\n",
       "      <td>121</td>\n",
       "    </tr>\n",
       "    <tr>\n",
       "      <th>...</th>\n",
       "      <td>...</td>\n",
       "      <td>...</td>\n",
       "      <td>...</td>\n",
       "      <td>...</td>\n",
       "      <td>...</td>\n",
       "      <td>...</td>\n",
       "      <td>...</td>\n",
       "      <td>...</td>\n",
       "      <td>...</td>\n",
       "      <td>...</td>\n",
       "      <td>...</td>\n",
       "      <td>...</td>\n",
       "      <td>...</td>\n",
       "    </tr>\n",
       "    <tr>\n",
       "      <th>10705</th>\n",
       "      <td>adventure</td>\n",
       "      <td>The Sea of Monsters</td>\n",
       "      <td>by Rick Riordan (Goodreads Author)</td>\n",
       "      <td>279 pages</td>\n",
       "      <td>https://www.goodreads.com/book/show/28186.The_...</td>\n",
       "      <td>4.24</td>\n",
       "      <td>NaN</td>\n",
       "      <td>mica</td>\n",
       "      <td>https://www.goodreads.com/user/show/5377861-mica</td>\n",
       "      <td>5</td>\n",
       "      <td>105</td>\n",
       "      <td>NaN</td>\n",
       "      <td>483</td>\n",
       "    </tr>\n",
       "    <tr>\n",
       "      <th>10735</th>\n",
       "      <td>adventure</td>\n",
       "      <td>The Sea of Monsters</td>\n",
       "      <td>by Rick Riordan (Goodreads Author)</td>\n",
       "      <td>279 pages</td>\n",
       "      <td>https://www.goodreads.com/book/show/28186.The_...</td>\n",
       "      <td>4.24</td>\n",
       "      <td>NaN</td>\n",
       "      <td>mica</td>\n",
       "      <td>https://www.goodreads.com/user/show/5377861-mica</td>\n",
       "      <td>5</td>\n",
       "      <td>105</td>\n",
       "      <td>NaN</td>\n",
       "      <td>483</td>\n",
       "    </tr>\n",
       "    <tr>\n",
       "      <th>10765</th>\n",
       "      <td>adventure</td>\n",
       "      <td>The Sea of Monsters</td>\n",
       "      <td>by Rick Riordan (Goodreads Author)</td>\n",
       "      <td>279 pages</td>\n",
       "      <td>https://www.goodreads.com/book/show/28186.The_...</td>\n",
       "      <td>4.24</td>\n",
       "      <td>NaN</td>\n",
       "      <td>mica</td>\n",
       "      <td>https://www.goodreads.com/user/show/5377861-mica</td>\n",
       "      <td>5</td>\n",
       "      <td>105</td>\n",
       "      <td>NaN</td>\n",
       "      <td>483</td>\n",
       "    </tr>\n",
       "    <tr>\n",
       "      <th>10795</th>\n",
       "      <td>adventure</td>\n",
       "      <td>The Sea of Monsters</td>\n",
       "      <td>by Rick Riordan (Goodreads Author)</td>\n",
       "      <td>279 pages</td>\n",
       "      <td>https://www.goodreads.com/book/show/28186.The_...</td>\n",
       "      <td>4.24</td>\n",
       "      <td>NaN</td>\n",
       "      <td>mica</td>\n",
       "      <td>https://www.goodreads.com/user/show/5377861-mica</td>\n",
       "      <td>5</td>\n",
       "      <td>105</td>\n",
       "      <td>NaN</td>\n",
       "      <td>483</td>\n",
       "    </tr>\n",
       "    <tr>\n",
       "      <th>10825</th>\n",
       "      <td>adventure</td>\n",
       "      <td>The Sea of Monsters</td>\n",
       "      <td>by Rick Riordan (Goodreads Author)</td>\n",
       "      <td>279 pages</td>\n",
       "      <td>https://www.goodreads.com/book/show/28186.The_...</td>\n",
       "      <td>4.24</td>\n",
       "      <td>NaN</td>\n",
       "      <td>mica</td>\n",
       "      <td>https://www.goodreads.com/user/show/5377861-mica</td>\n",
       "      <td>5</td>\n",
       "      <td>105</td>\n",
       "      <td>NaN</td>\n",
       "      <td>483</td>\n",
       "    </tr>\n",
       "  </tbody>\n",
       "</table>\n",
       "<p>128023 rows × 13 columns</p>\n",
       "</div>"
      ],
      "text/plain": [
       "           genre                           title  \\\n",
       "6022     fiction               Lord of the Flies   \n",
       "4143      poetry                         Beowulf   \n",
       "2061     novella  A Court of Frost and Starlight   \n",
       "2091     novella  A Court of Frost and Starlight   \n",
       "2031     novella  A Court of Frost and Starlight   \n",
       "...          ...                             ...   \n",
       "10705  adventure             The Sea of Monsters   \n",
       "10735  adventure             The Sea of Monsters   \n",
       "10765  adventure             The Sea of Monsters   \n",
       "10795  adventure             The Sea of Monsters   \n",
       "10825  adventure             The Sea of Monsters   \n",
       "\n",
       "                                       author      pages  \\\n",
       "6022                       by William Golding  182 pages   \n",
       "4143   by Unknown, Seamus Heaney (Translator)  245 pages   \n",
       "2061      by Sarah J. Maas (Goodreads Author)  229 pages   \n",
       "2091      by Sarah J. Maas (Goodreads Author)  229 pages   \n",
       "2031      by Sarah J. Maas (Goodreads Author)  229 pages   \n",
       "...                                       ...        ...   \n",
       "10705      by Rick Riordan (Goodreads Author)  279 pages   \n",
       "10735      by Rick Riordan (Goodreads Author)  279 pages   \n",
       "10765      by Rick Riordan (Goodreads Author)  279 pages   \n",
       "10795      by Rick Riordan (Goodreads Author)  279 pages   \n",
       "10825      by Rick Riordan (Goodreads Author)  279 pages   \n",
       "\n",
       "                                              unique_key  average_rating  \\\n",
       "6022   https://www.goodreads.com/book/show/7624.Lord_...            3.69   \n",
       "4143   https://www.goodreads.com/book/show/52357.Beowulf            3.45   \n",
       "2061   https://www.goodreads.com/book/show/31076583-a...            3.88   \n",
       "2091   https://www.goodreads.com/book/show/31076583-a...            3.88   \n",
       "2031   https://www.goodreads.com/book/show/31076583-a...            3.88   \n",
       "...                                                  ...             ...   \n",
       "10705  https://www.goodreads.com/book/show/28186.The_...            4.24   \n",
       "10735  https://www.goodreads.com/book/show/28186.The_...            4.24   \n",
       "10765  https://www.goodreads.com/book/show/28186.The_...            4.24   \n",
       "10795  https://www.goodreads.com/book/show/28186.The_...            4.24   \n",
       "10825  https://www.goodreads.com/book/show/28186.The_...            4.24   \n",
       "\n",
       "                                        book_description       user_name  \\\n",
       "6022   At the dawn of the next world war, a plane cra...  Roger Brunyate   \n",
       "4143                                                 NaN  Roger Brunyate   \n",
       "2061   Hope warms the coldest night.\\n\\nFeyre, Rhys, ...           Ikram   \n",
       "2091   Hope warms the coldest night.\\n\\nFeyre, Rhys, ...           Ikram   \n",
       "2031   Hope warms the coldest night.\\n\\nFeyre, Rhys, ...           Ikram   \n",
       "...                                                  ...             ...   \n",
       "10705                                                NaN            mica   \n",
       "10735                                                NaN            mica   \n",
       "10765                                                NaN            mica   \n",
       "10795                                                NaN            mica   \n",
       "10825                                                NaN            mica   \n",
       "\n",
       "                                         user_unique_key  number_of_stars  \\\n",
       "6022   https://www.goodreads.com/user/show/42294189-r...                5   \n",
       "4143   https://www.goodreads.com/user/show/42294189-r...                5   \n",
       "2061   https://www.goodreads.com/user/show/17065991-i...                3   \n",
       "2091   https://www.goodreads.com/user/show/17065991-i...                3   \n",
       "2031   https://www.goodreads.com/user/show/17065991-i...                3   \n",
       "...                                                  ...              ...   \n",
       "10705   https://www.goodreads.com/user/show/5377861-mica                5   \n",
       "10735   https://www.goodreads.com/user/show/5377861-mica                5   \n",
       "10765   https://www.goodreads.com/user/show/5377861-mica                5   \n",
       "10795   https://www.goodreads.com/user/show/5377861-mica                5   \n",
       "10825   https://www.goodreads.com/user/show/5377861-mica                5   \n",
       "\n",
       "       book_unique_key                                        review_text  \\\n",
       "6022               465   \\nOf its Time, yet Classic\\n\\nI chose to rere...   \n",
       "4143               367   \\nThe Book I Thought I Knew\\n\\n1. A Confessio...   \n",
       "2061               126   \\nWe are gathered here today to mourn the sud...   \n",
       "2091               126   \\nWe are gathered here today to mourn the sud...   \n",
       "2031               126   \\nWe are gathered here today to mourn the sud...   \n",
       "...                ...                                                ...   \n",
       "10705              105                                                NaN   \n",
       "10735              105                                                NaN   \n",
       "10765              105                                                NaN   \n",
       "10795              105                                                NaN   \n",
       "10825              105                                                NaN   \n",
       "\n",
       "       book_unique_key_2  \n",
       "6022                 292  \n",
       "4143                 407  \n",
       "2061                 121  \n",
       "2091                 121  \n",
       "2031                 121  \n",
       "...                  ...  \n",
       "10705                483  \n",
       "10735                483  \n",
       "10765                483  \n",
       "10795                483  \n",
       "10825                483  \n",
       "\n",
       "[128023 rows x 13 columns]"
      ]
     },
     "execution_count": 212,
     "metadata": {},
     "output_type": "execute_result"
    }
   ],
   "source": [
    "sorted_df = comb_df.sort_values('review_text')\n",
    "sorted_df"
   ]
  },
  {
   "cell_type": "code",
   "execution_count": 45,
   "metadata": {
    "collapsed": true,
    "jupyter": {
     "outputs_hidden": true
    }
   },
   "outputs": [
    {
     "data": {
      "text/html": [
       "<div>\n",
       "<style scoped>\n",
       "    .dataframe tbody tr th:only-of-type {\n",
       "        vertical-align: middle;\n",
       "    }\n",
       "\n",
       "    .dataframe tbody tr th {\n",
       "        vertical-align: top;\n",
       "    }\n",
       "\n",
       "    .dataframe thead th {\n",
       "        text-align: right;\n",
       "    }\n",
       "</style>\n",
       "<table border=\"1\" class=\"dataframe\">\n",
       "  <thead>\n",
       "    <tr style=\"text-align: right;\">\n",
       "      <th></th>\n",
       "      <th>genre</th>\n",
       "      <th>title</th>\n",
       "      <th>author</th>\n",
       "      <th>pages</th>\n",
       "      <th>unique_key</th>\n",
       "      <th>average_rating</th>\n",
       "      <th>book_description</th>\n",
       "      <th>user_name</th>\n",
       "      <th>user_unique_key</th>\n",
       "      <th>number_of_stars</th>\n",
       "      <th>book_unique_key</th>\n",
       "      <th>review_text</th>\n",
       "    </tr>\n",
       "  </thead>\n",
       "  <tbody>\n",
       "    <tr>\n",
       "      <th>0</th>\n",
       "      <td>fiction</td>\n",
       "      <td>Leave the World Behind</td>\n",
       "      <td>by Rumaan Alam (Goodreads Author)</td>\n",
       "      <td>241 pages</td>\n",
       "      <td>https://www.goodreads.com/book/show/50358031-l...</td>\n",
       "      <td>3.39</td>\n",
       "      <td>A magnetic novel about two families, strangers...</td>\n",
       "      <td>Roxane</td>\n",
       "      <td>https://www.goodreads.com/user/show/1151637-ro...</td>\n",
       "      <td>5</td>\n",
       "      <td>https://www.goodreads.com/book/show/50358031-l...</td>\n",
       "      <td>A white family is vacationing in the Hamptons ...</td>\n",
       "    </tr>\n",
       "    <tr>\n",
       "      <th>1</th>\n",
       "      <td>fiction</td>\n",
       "      <td>Leave the World Behind</td>\n",
       "      <td>by Rumaan Alam (Goodreads Author)</td>\n",
       "      <td>241 pages</td>\n",
       "      <td>https://www.goodreads.com/book/show/50358031-l...</td>\n",
       "      <td>3.39</td>\n",
       "      <td>A magnetic novel about two families, strangers...</td>\n",
       "      <td>Nilufer Ozmekik</td>\n",
       "      <td>https://www.goodreads.com/user/show/53701594-n...</td>\n",
       "      <td>4</td>\n",
       "      <td>https://www.goodreads.com/book/show/50358031-l...</td>\n",
       "      <td>NaN</td>\n",
       "    </tr>\n",
       "    <tr>\n",
       "      <th>2</th>\n",
       "      <td>fiction</td>\n",
       "      <td>Leave the World Behind</td>\n",
       "      <td>by Rumaan Alam (Goodreads Author)</td>\n",
       "      <td>241 pages</td>\n",
       "      <td>https://www.goodreads.com/book/show/50358031-l...</td>\n",
       "      <td>3.39</td>\n",
       "      <td>A magnetic novel about two families, strangers...</td>\n",
       "      <td>Cindy</td>\n",
       "      <td>https://www.goodreads.com/user/show/57797254-c...</td>\n",
       "      <td>3</td>\n",
       "      <td>https://www.goodreads.com/book/show/50358031-l...</td>\n",
       "      <td>This book is the most low-key and vague thrill...</td>\n",
       "    </tr>\n",
       "    <tr>\n",
       "      <th>3</th>\n",
       "      <td>fiction</td>\n",
       "      <td>Leave the World Behind</td>\n",
       "      <td>by Rumaan Alam (Goodreads Author)</td>\n",
       "      <td>241 pages</td>\n",
       "      <td>https://www.goodreads.com/book/show/50358031-l...</td>\n",
       "      <td>3.39</td>\n",
       "      <td>A magnetic novel about two families, strangers...</td>\n",
       "      <td>JanB</td>\n",
       "      <td>https://www.goodreads.com/user/show/260116-janb</td>\n",
       "      <td>5</td>\n",
       "      <td>https://www.goodreads.com/book/show/50358031-l...</td>\n",
       "      <td>4.5 stars\\n\\nA middle-aged white couple and th...</td>\n",
       "    </tr>\n",
       "    <tr>\n",
       "      <th>4</th>\n",
       "      <td>fiction</td>\n",
       "      <td>Leave the World Behind</td>\n",
       "      <td>by Rumaan Alam (Goodreads Author)</td>\n",
       "      <td>241 pages</td>\n",
       "      <td>https://www.goodreads.com/book/show/50358031-l...</td>\n",
       "      <td>3.39</td>\n",
       "      <td>A magnetic novel about two families, strangers...</td>\n",
       "      <td>Roman Clodia</td>\n",
       "      <td>https://www.goodreads.com/user/show/56111743-r...</td>\n",
       "      <td>1</td>\n",
       "      <td>https://www.goodreads.com/book/show/50358031-l...</td>\n",
       "      <td>A potentially interesting scenario here, thoug...</td>\n",
       "    </tr>\n",
       "    <tr>\n",
       "      <th>...</th>\n",
       "      <td>...</td>\n",
       "      <td>...</td>\n",
       "      <td>...</td>\n",
       "      <td>...</td>\n",
       "      <td>...</td>\n",
       "      <td>...</td>\n",
       "      <td>...</td>\n",
       "      <td>...</td>\n",
       "      <td>...</td>\n",
       "      <td>...</td>\n",
       "      <td>...</td>\n",
       "      <td>...</td>\n",
       "    </tr>\n",
       "    <tr>\n",
       "      <th>12573</th>\n",
       "      <td>thriller</td>\n",
       "      <td>Digital Fortress</td>\n",
       "      <td>by Dan Brown (Goodreads Author)</td>\n",
       "      <td>510 pages</td>\n",
       "      <td>https://www.goodreads.com/book/show/11125.Digi...</td>\n",
       "      <td>3.66</td>\n",
       "      <td>NaN</td>\n",
       "      <td>Brendan</td>\n",
       "      <td>https://www.goodreads.com/user/show/17999985-b...</td>\n",
       "      <td>2</td>\n",
       "      <td>https://www.goodreads.com/book/show/11125.Digi...</td>\n",
       "      <td>NaN</td>\n",
       "    </tr>\n",
       "    <tr>\n",
       "      <th>12583</th>\n",
       "      <td>thriller</td>\n",
       "      <td>Digital Fortress</td>\n",
       "      <td>by Dan Brown (Goodreads Author)</td>\n",
       "      <td>510 pages</td>\n",
       "      <td>https://www.goodreads.com/book/show/11125.Digi...</td>\n",
       "      <td>3.66</td>\n",
       "      <td>NaN</td>\n",
       "      <td>Arijit Gupta</td>\n",
       "      <td>https://www.goodreads.com/user/show/62108820-a...</td>\n",
       "      <td>5</td>\n",
       "      <td>https://www.goodreads.com/book/show/11125.Digi...</td>\n",
       "      <td>NaN</td>\n",
       "    </tr>\n",
       "    <tr>\n",
       "      <th>12624</th>\n",
       "      <td>thriller</td>\n",
       "      <td>Digital Fortress</td>\n",
       "      <td>by Dan Brown (Goodreads Author)</td>\n",
       "      <td>510 pages</td>\n",
       "      <td>https://www.goodreads.com/book/show/11125.Digi...</td>\n",
       "      <td>3.66</td>\n",
       "      <td>NaN</td>\n",
       "      <td>Dechen Yoesel</td>\n",
       "      <td>https://www.goodreads.com/user/show/71107543-d...</td>\n",
       "      <td>3</td>\n",
       "      <td>https://www.goodreads.com/book/show/11125.Digi...</td>\n",
       "      <td>Loved it!</td>\n",
       "    </tr>\n",
       "    <tr>\n",
       "      <th>12643</th>\n",
       "      <td>thriller</td>\n",
       "      <td>Digital Fortress</td>\n",
       "      <td>by Dan Brown (Goodreads Author)</td>\n",
       "      <td>510 pages</td>\n",
       "      <td>https://www.goodreads.com/book/show/11125.Digi...</td>\n",
       "      <td>3.66</td>\n",
       "      <td>NaN</td>\n",
       "      <td>Corina</td>\n",
       "      <td>https://www.goodreads.com/user/show/40346695-c...</td>\n",
       "      <td>3</td>\n",
       "      <td>https://www.goodreads.com/book/show/11125.Digi...</td>\n",
       "      <td>3.5 stars</td>\n",
       "    </tr>\n",
       "    <tr>\n",
       "      <th>12698</th>\n",
       "      <td>thriller</td>\n",
       "      <td>Digital Fortress</td>\n",
       "      <td>by Dan Brown (Goodreads Author)</td>\n",
       "      <td>510 pages</td>\n",
       "      <td>https://www.goodreads.com/book/show/11125.Digi...</td>\n",
       "      <td>3.66</td>\n",
       "      <td>NaN</td>\n",
       "      <td>shreyas</td>\n",
       "      <td>https://www.goodreads.com/user/show/39148020-s...</td>\n",
       "      <td>3</td>\n",
       "      <td>https://www.goodreads.com/book/show/11125.Digi...</td>\n",
       "      <td>NaN</td>\n",
       "    </tr>\n",
       "  </tbody>\n",
       "</table>\n",
       "<p>208773 rows × 12 columns</p>\n",
       "</div>"
      ],
      "text/plain": [
       "          genre                   title                             author  \\\n",
       "0       fiction  Leave the World Behind  by Rumaan Alam (Goodreads Author)   \n",
       "1       fiction  Leave the World Behind  by Rumaan Alam (Goodreads Author)   \n",
       "2       fiction  Leave the World Behind  by Rumaan Alam (Goodreads Author)   \n",
       "3       fiction  Leave the World Behind  by Rumaan Alam (Goodreads Author)   \n",
       "4       fiction  Leave the World Behind  by Rumaan Alam (Goodreads Author)   \n",
       "...         ...                     ...                                ...   \n",
       "12573  thriller        Digital Fortress    by Dan Brown (Goodreads Author)   \n",
       "12583  thriller        Digital Fortress    by Dan Brown (Goodreads Author)   \n",
       "12624  thriller        Digital Fortress    by Dan Brown (Goodreads Author)   \n",
       "12643  thriller        Digital Fortress    by Dan Brown (Goodreads Author)   \n",
       "12698  thriller        Digital Fortress    by Dan Brown (Goodreads Author)   \n",
       "\n",
       "           pages                                         unique_key  \\\n",
       "0      241 pages  https://www.goodreads.com/book/show/50358031-l...   \n",
       "1      241 pages  https://www.goodreads.com/book/show/50358031-l...   \n",
       "2      241 pages  https://www.goodreads.com/book/show/50358031-l...   \n",
       "3      241 pages  https://www.goodreads.com/book/show/50358031-l...   \n",
       "4      241 pages  https://www.goodreads.com/book/show/50358031-l...   \n",
       "...          ...                                                ...   \n",
       "12573  510 pages  https://www.goodreads.com/book/show/11125.Digi...   \n",
       "12583  510 pages  https://www.goodreads.com/book/show/11125.Digi...   \n",
       "12624  510 pages  https://www.goodreads.com/book/show/11125.Digi...   \n",
       "12643  510 pages  https://www.goodreads.com/book/show/11125.Digi...   \n",
       "12698  510 pages  https://www.goodreads.com/book/show/11125.Digi...   \n",
       "\n",
       "      average_rating                                   book_description  \\\n",
       "0               3.39  A magnetic novel about two families, strangers...   \n",
       "1               3.39  A magnetic novel about two families, strangers...   \n",
       "2               3.39  A magnetic novel about two families, strangers...   \n",
       "3               3.39  A magnetic novel about two families, strangers...   \n",
       "4               3.39  A magnetic novel about two families, strangers...   \n",
       "...              ...                                                ...   \n",
       "12573           3.66                                                NaN   \n",
       "12583           3.66                                                NaN   \n",
       "12624           3.66                                                NaN   \n",
       "12643           3.66                                                NaN   \n",
       "12698           3.66                                                NaN   \n",
       "\n",
       "             user_name                                    user_unique_key  \\\n",
       "0               Roxane  https://www.goodreads.com/user/show/1151637-ro...   \n",
       "1      Nilufer Ozmekik  https://www.goodreads.com/user/show/53701594-n...   \n",
       "2                Cindy  https://www.goodreads.com/user/show/57797254-c...   \n",
       "3                JanB     https://www.goodreads.com/user/show/260116-janb   \n",
       "4         Roman Clodia  https://www.goodreads.com/user/show/56111743-r...   \n",
       "...                ...                                                ...   \n",
       "12573          Brendan  https://www.goodreads.com/user/show/17999985-b...   \n",
       "12583     Arijit Gupta  https://www.goodreads.com/user/show/62108820-a...   \n",
       "12624    Dechen Yoesel  https://www.goodreads.com/user/show/71107543-d...   \n",
       "12643           Corina  https://www.goodreads.com/user/show/40346695-c...   \n",
       "12698          shreyas  https://www.goodreads.com/user/show/39148020-s...   \n",
       "\n",
       "      number_of_stars                                    book_unique_key  \\\n",
       "0                   5  https://www.goodreads.com/book/show/50358031-l...   \n",
       "1                   4  https://www.goodreads.com/book/show/50358031-l...   \n",
       "2                   3  https://www.goodreads.com/book/show/50358031-l...   \n",
       "3                   5  https://www.goodreads.com/book/show/50358031-l...   \n",
       "4                   1  https://www.goodreads.com/book/show/50358031-l...   \n",
       "...               ...                                                ...   \n",
       "12573               2  https://www.goodreads.com/book/show/11125.Digi...   \n",
       "12583               5  https://www.goodreads.com/book/show/11125.Digi...   \n",
       "12624               3  https://www.goodreads.com/book/show/11125.Digi...   \n",
       "12643               3  https://www.goodreads.com/book/show/11125.Digi...   \n",
       "12698               3  https://www.goodreads.com/book/show/11125.Digi...   \n",
       "\n",
       "                                             review_text  \n",
       "0      A white family is vacationing in the Hamptons ...  \n",
       "1                                                    NaN  \n",
       "2      This book is the most low-key and vague thrill...  \n",
       "3      4.5 stars\\n\\nA middle-aged white couple and th...  \n",
       "4      A potentially interesting scenario here, thoug...  \n",
       "...                                                  ...  \n",
       "12573                                                NaN  \n",
       "12583                                                NaN  \n",
       "12624                                          Loved it!  \n",
       "12643                                          3.5 stars  \n",
       "12698                                                NaN  \n",
       "\n",
       "[208773 rows x 12 columns]"
      ]
     },
     "execution_count": 45,
     "metadata": {},
     "output_type": "execute_result"
    }
   ],
   "source": [
    "duplicates= comb_df.loc[comb_df.duplicated(subset= ['review_text'],keep=False), : ]\n",
    "duplicates"
   ]
  },
  {
   "cell_type": "markdown",
   "metadata": {},
   "source": [
    "### Pre-process the data"
   ]
  },
  {
   "cell_type": "code",
   "execution_count": 46,
   "metadata": {},
   "outputs": [],
   "source": [
    "enc = LabelEncoder()\n",
    "enc.fit(comb_df['book_unique_key'])\n",
    "comb_df['book_unique_key'] = enc.transform(comb_df['book_unique_key'])\n",
    "comb_df2 = comb_df"
   ]
  },
  {
   "cell_type": "code",
   "execution_count": 47,
   "metadata": {
    "collapsed": true,
    "jupyter": {
     "outputs_hidden": true
    }
   },
   "outputs": [
    {
     "data": {
      "text/html": [
       "<div>\n",
       "<style scoped>\n",
       "    .dataframe tbody tr th:only-of-type {\n",
       "        vertical-align: middle;\n",
       "    }\n",
       "\n",
       "    .dataframe tbody tr th {\n",
       "        vertical-align: top;\n",
       "    }\n",
       "\n",
       "    .dataframe thead th {\n",
       "        text-align: right;\n",
       "    }\n",
       "</style>\n",
       "<table border=\"1\" class=\"dataframe\">\n",
       "  <thead>\n",
       "    <tr style=\"text-align: right;\">\n",
       "      <th></th>\n",
       "      <th>genre</th>\n",
       "      <th>title</th>\n",
       "      <th>author</th>\n",
       "      <th>pages</th>\n",
       "      <th>unique_key</th>\n",
       "      <th>average_rating</th>\n",
       "      <th>book_description</th>\n",
       "      <th>user_name</th>\n",
       "      <th>user_unique_key</th>\n",
       "      <th>number_of_stars</th>\n",
       "      <th>book_unique_key</th>\n",
       "      <th>review_text</th>\n",
       "    </tr>\n",
       "  </thead>\n",
       "  <tbody>\n",
       "    <tr>\n",
       "      <th>12696</th>\n",
       "      <td>thriller</td>\n",
       "      <td>Digital Fortress</td>\n",
       "      <td>by Dan Brown (Goodreads Author)</td>\n",
       "      <td>510 pages</td>\n",
       "      <td>https://www.goodreads.com/book/show/11125.Digi...</td>\n",
       "      <td>3.66</td>\n",
       "      <td>NaN</td>\n",
       "      <td>Swetha</td>\n",
       "      <td>https://www.goodreads.com/user/show/12102555-s...</td>\n",
       "      <td>2</td>\n",
       "      <td>12</td>\n",
       "      <td>Digital Fortress - Being Brown's debut novel, ...</td>\n",
       "    </tr>\n",
       "    <tr>\n",
       "      <th>12697</th>\n",
       "      <td>thriller</td>\n",
       "      <td>Digital Fortress</td>\n",
       "      <td>by Dan Brown (Goodreads Author)</td>\n",
       "      <td>510 pages</td>\n",
       "      <td>https://www.goodreads.com/book/show/11125.Digi...</td>\n",
       "      <td>3.66</td>\n",
       "      <td>NaN</td>\n",
       "      <td>Vishwa Asokan</td>\n",
       "      <td>https://www.goodreads.com/user/show/28593676-v...</td>\n",
       "      <td>4</td>\n",
       "      <td>12</td>\n",
       "      <td>To say, Digital Fortress was an amazing and kn...</td>\n",
       "    </tr>\n",
       "    <tr>\n",
       "      <th>12698</th>\n",
       "      <td>thriller</td>\n",
       "      <td>Digital Fortress</td>\n",
       "      <td>by Dan Brown (Goodreads Author)</td>\n",
       "      <td>510 pages</td>\n",
       "      <td>https://www.goodreads.com/book/show/11125.Digi...</td>\n",
       "      <td>3.66</td>\n",
       "      <td>NaN</td>\n",
       "      <td>shreyas</td>\n",
       "      <td>https://www.goodreads.com/user/show/39148020-s...</td>\n",
       "      <td>3</td>\n",
       "      <td>12</td>\n",
       "      <td>NaN</td>\n",
       "    </tr>\n",
       "    <tr>\n",
       "      <th>12699</th>\n",
       "      <td>thriller</td>\n",
       "      <td>Digital Fortress</td>\n",
       "      <td>by Dan Brown (Goodreads Author)</td>\n",
       "      <td>510 pages</td>\n",
       "      <td>https://www.goodreads.com/book/show/11125.Digi...</td>\n",
       "      <td>3.66</td>\n",
       "      <td>NaN</td>\n",
       "      <td>Kellie</td>\n",
       "      <td>https://www.goodreads.com/user/show/842772-kellie</td>\n",
       "      <td>5</td>\n",
       "      <td>12</td>\n",
       "      <td>Another great book by Brown. \"When the NSA's i...</td>\n",
       "    </tr>\n",
       "    <tr>\n",
       "      <th>12700</th>\n",
       "      <td>thriller</td>\n",
       "      <td>Digital Fortress</td>\n",
       "      <td>by Dan Brown (Goodreads Author)</td>\n",
       "      <td>510 pages</td>\n",
       "      <td>https://www.goodreads.com/book/show/11125.Digi...</td>\n",
       "      <td>3.66</td>\n",
       "      <td>NaN</td>\n",
       "      <td>Ricardo</td>\n",
       "      <td>https://www.goodreads.com/user/show/1268269-ri...</td>\n",
       "      <td>2</td>\n",
       "      <td>12</td>\n",
       "      <td>Digital Fortress was written by Dan Brown in 1...</td>\n",
       "    </tr>\n",
       "  </tbody>\n",
       "</table>\n",
       "</div>"
      ],
      "text/plain": [
       "          genre             title                           author      pages  \\\n",
       "12696  thriller  Digital Fortress  by Dan Brown (Goodreads Author)  510 pages   \n",
       "12697  thriller  Digital Fortress  by Dan Brown (Goodreads Author)  510 pages   \n",
       "12698  thriller  Digital Fortress  by Dan Brown (Goodreads Author)  510 pages   \n",
       "12699  thriller  Digital Fortress  by Dan Brown (Goodreads Author)  510 pages   \n",
       "12700  thriller  Digital Fortress  by Dan Brown (Goodreads Author)  510 pages   \n",
       "\n",
       "                                              unique_key average_rating  \\\n",
       "12696  https://www.goodreads.com/book/show/11125.Digi...           3.66   \n",
       "12697  https://www.goodreads.com/book/show/11125.Digi...           3.66   \n",
       "12698  https://www.goodreads.com/book/show/11125.Digi...           3.66   \n",
       "12699  https://www.goodreads.com/book/show/11125.Digi...           3.66   \n",
       "12700  https://www.goodreads.com/book/show/11125.Digi...           3.66   \n",
       "\n",
       "      book_description      user_name  \\\n",
       "12696              NaN         Swetha   \n",
       "12697              NaN  Vishwa Asokan   \n",
       "12698              NaN        shreyas   \n",
       "12699              NaN         Kellie   \n",
       "12700              NaN        Ricardo   \n",
       "\n",
       "                                         user_unique_key number_of_stars  \\\n",
       "12696  https://www.goodreads.com/user/show/12102555-s...               2   \n",
       "12697  https://www.goodreads.com/user/show/28593676-v...               4   \n",
       "12698  https://www.goodreads.com/user/show/39148020-s...               3   \n",
       "12699  https://www.goodreads.com/user/show/842772-kellie               5   \n",
       "12700  https://www.goodreads.com/user/show/1268269-ri...               2   \n",
       "\n",
       "       book_unique_key                                        review_text  \n",
       "12696               12  Digital Fortress - Being Brown's debut novel, ...  \n",
       "12697               12  To say, Digital Fortress was an amazing and kn...  \n",
       "12698               12                                                NaN  \n",
       "12699               12  Another great book by Brown. \"When the NSA's i...  \n",
       "12700               12  Digital Fortress was written by Dan Brown in 1...  "
      ]
     },
     "execution_count": 47,
     "metadata": {},
     "output_type": "execute_result"
    }
   ],
   "source": [
    "comb_df2.tail()"
   ]
  },
  {
   "cell_type": "code",
   "execution_count": 48,
   "metadata": {
    "collapsed": true,
    "jupyter": {
     "outputs_hidden": true
    }
   },
   "outputs": [
    {
     "data": {
      "text/html": [
       "<div>\n",
       "<style scoped>\n",
       "    .dataframe tbody tr th:only-of-type {\n",
       "        vertical-align: middle;\n",
       "    }\n",
       "\n",
       "    .dataframe tbody tr th {\n",
       "        vertical-align: top;\n",
       "    }\n",
       "\n",
       "    .dataframe thead th {\n",
       "        text-align: right;\n",
       "    }\n",
       "</style>\n",
       "<table border=\"1\" class=\"dataframe\">\n",
       "  <thead>\n",
       "    <tr style=\"text-align: right;\">\n",
       "      <th></th>\n",
       "      <th>genre</th>\n",
       "      <th>title</th>\n",
       "      <th>author</th>\n",
       "      <th>pages</th>\n",
       "      <th>unique_key</th>\n",
       "      <th>average_rating</th>\n",
       "      <th>book_description</th>\n",
       "      <th>user_name</th>\n",
       "      <th>user_unique_key</th>\n",
       "      <th>number_of_stars</th>\n",
       "      <th>book_unique_key</th>\n",
       "      <th>review_text</th>\n",
       "    </tr>\n",
       "  </thead>\n",
       "  <tbody>\n",
       "    <tr>\n",
       "      <th>0</th>\n",
       "      <td>fiction</td>\n",
       "      <td>Leave the World Behind</td>\n",
       "      <td>by Rumaan Alam (Goodreads Author)</td>\n",
       "      <td>241 pages</td>\n",
       "      <td>https://www.goodreads.com/book/show/50358031-l...</td>\n",
       "      <td>3.39</td>\n",
       "      <td>A magnetic novel about two families, strangers...</td>\n",
       "      <td>Roxane</td>\n",
       "      <td>3133</td>\n",
       "      <td>5</td>\n",
       "      <td>330</td>\n",
       "      <td>A white family is vacationing in the Hamptons ...</td>\n",
       "    </tr>\n",
       "    <tr>\n",
       "      <th>1</th>\n",
       "      <td>fiction</td>\n",
       "      <td>Leave the World Behind</td>\n",
       "      <td>by Rumaan Alam (Goodreads Author)</td>\n",
       "      <td>241 pages</td>\n",
       "      <td>https://www.goodreads.com/book/show/50358031-l...</td>\n",
       "      <td>3.39</td>\n",
       "      <td>A magnetic novel about two families, strangers...</td>\n",
       "      <td>Nilufer Ozmekik</td>\n",
       "      <td>27143</td>\n",
       "      <td>4</td>\n",
       "      <td>330</td>\n",
       "      <td>NaN</td>\n",
       "    </tr>\n",
       "    <tr>\n",
       "      <th>2</th>\n",
       "      <td>fiction</td>\n",
       "      <td>Leave the World Behind</td>\n",
       "      <td>by Rumaan Alam (Goodreads Author)</td>\n",
       "      <td>241 pages</td>\n",
       "      <td>https://www.goodreads.com/book/show/50358031-l...</td>\n",
       "      <td>3.39</td>\n",
       "      <td>A magnetic novel about two families, strangers...</td>\n",
       "      <td>Cindy</td>\n",
       "      <td>28805</td>\n",
       "      <td>3</td>\n",
       "      <td>330</td>\n",
       "      <td>This book is the most low-key and vague thrill...</td>\n",
       "    </tr>\n",
       "    <tr>\n",
       "      <th>3</th>\n",
       "      <td>fiction</td>\n",
       "      <td>Leave the World Behind</td>\n",
       "      <td>by Rumaan Alam (Goodreads Author)</td>\n",
       "      <td>241 pages</td>\n",
       "      <td>https://www.goodreads.com/book/show/50358031-l...</td>\n",
       "      <td>3.39</td>\n",
       "      <td>A magnetic novel about two families, strangers...</td>\n",
       "      <td>JanB</td>\n",
       "      <td>13990</td>\n",
       "      <td>5</td>\n",
       "      <td>330</td>\n",
       "      <td>4.5 stars\\n\\nA middle-aged white couple and th...</td>\n",
       "    </tr>\n",
       "    <tr>\n",
       "      <th>4</th>\n",
       "      <td>fiction</td>\n",
       "      <td>Leave the World Behind</td>\n",
       "      <td>by Rumaan Alam (Goodreads Author)</td>\n",
       "      <td>241 pages</td>\n",
       "      <td>https://www.goodreads.com/book/show/50358031-l...</td>\n",
       "      <td>3.39</td>\n",
       "      <td>A magnetic novel about two families, strangers...</td>\n",
       "      <td>Roman Clodia</td>\n",
       "      <td>28090</td>\n",
       "      <td>1</td>\n",
       "      <td>330</td>\n",
       "      <td>A potentially interesting scenario here, thoug...</td>\n",
       "    </tr>\n",
       "  </tbody>\n",
       "</table>\n",
       "</div>"
      ],
      "text/plain": [
       "     genre                   title                             author  \\\n",
       "0  fiction  Leave the World Behind  by Rumaan Alam (Goodreads Author)   \n",
       "1  fiction  Leave the World Behind  by Rumaan Alam (Goodreads Author)   \n",
       "2  fiction  Leave the World Behind  by Rumaan Alam (Goodreads Author)   \n",
       "3  fiction  Leave the World Behind  by Rumaan Alam (Goodreads Author)   \n",
       "4  fiction  Leave the World Behind  by Rumaan Alam (Goodreads Author)   \n",
       "\n",
       "       pages                                         unique_key  \\\n",
       "0  241 pages  https://www.goodreads.com/book/show/50358031-l...   \n",
       "1  241 pages  https://www.goodreads.com/book/show/50358031-l...   \n",
       "2  241 pages  https://www.goodreads.com/book/show/50358031-l...   \n",
       "3  241 pages  https://www.goodreads.com/book/show/50358031-l...   \n",
       "4  241 pages  https://www.goodreads.com/book/show/50358031-l...   \n",
       "\n",
       "  average_rating                                   book_description  \\\n",
       "0           3.39  A magnetic novel about two families, strangers...   \n",
       "1           3.39  A magnetic novel about two families, strangers...   \n",
       "2           3.39  A magnetic novel about two families, strangers...   \n",
       "3           3.39  A magnetic novel about two families, strangers...   \n",
       "4           3.39  A magnetic novel about two families, strangers...   \n",
       "\n",
       "         user_name  user_unique_key number_of_stars  book_unique_key  \\\n",
       "0           Roxane             3133               5              330   \n",
       "1  Nilufer Ozmekik            27143               4              330   \n",
       "2            Cindy            28805               3              330   \n",
       "3            JanB             13990               5              330   \n",
       "4     Roman Clodia            28090               1              330   \n",
       "\n",
       "                                         review_text  \n",
       "0  A white family is vacationing in the Hamptons ...  \n",
       "1                                                NaN  \n",
       "2  This book is the most low-key and vague thrill...  \n",
       "3  4.5 stars\\n\\nA middle-aged white couple and th...  \n",
       "4  A potentially interesting scenario here, thoug...  "
      ]
     },
     "execution_count": 48,
     "metadata": {},
     "output_type": "execute_result"
    }
   ],
   "source": [
    "enc = LabelEncoder()\n",
    "enc.fit(comb_df2['user_unique_key'])\n",
    "comb_df2['user_unique_key'] = enc.transform(comb_df2['user_unique_key'])\n",
    "comb_df3 = comb_df2\n",
    "comb_df3.head()"
   ]
  },
  {
   "cell_type": "code",
   "execution_count": 49,
   "metadata": {
    "collapsed": true,
    "jupyter": {
     "outputs_hidden": true
    }
   },
   "outputs": [
    {
     "data": {
      "text/html": [
       "<div>\n",
       "<style scoped>\n",
       "    .dataframe tbody tr th:only-of-type {\n",
       "        vertical-align: middle;\n",
       "    }\n",
       "\n",
       "    .dataframe tbody tr th {\n",
       "        vertical-align: top;\n",
       "    }\n",
       "\n",
       "    .dataframe thead th {\n",
       "        text-align: right;\n",
       "    }\n",
       "</style>\n",
       "<table border=\"1\" class=\"dataframe\">\n",
       "  <thead>\n",
       "    <tr style=\"text-align: right;\">\n",
       "      <th></th>\n",
       "      <th>genre</th>\n",
       "      <th>title</th>\n",
       "      <th>author</th>\n",
       "      <th>pages</th>\n",
       "      <th>unique_key</th>\n",
       "      <th>average_rating</th>\n",
       "      <th>book_description</th>\n",
       "      <th>user_name</th>\n",
       "      <th>user_unique_key</th>\n",
       "      <th>number_of_stars</th>\n",
       "      <th>book_unique_key</th>\n",
       "      <th>review_text</th>\n",
       "    </tr>\n",
       "  </thead>\n",
       "  <tbody>\n",
       "    <tr>\n",
       "      <th>0</th>\n",
       "      <td>fiction</td>\n",
       "      <td>Leave the World Behind</td>\n",
       "      <td>Rumaan Alam ()</td>\n",
       "      <td>241 pages</td>\n",
       "      <td>https://www.goodreads.com/book/show/50358031-l...</td>\n",
       "      <td>3.39</td>\n",
       "      <td>A magnetic novel about two families, strangers...</td>\n",
       "      <td>Roxane</td>\n",
       "      <td>3133</td>\n",
       "      <td>5</td>\n",
       "      <td>330</td>\n",
       "      <td>A white family is vacationing in the Hamptons ...</td>\n",
       "    </tr>\n",
       "    <tr>\n",
       "      <th>1</th>\n",
       "      <td>fiction</td>\n",
       "      <td>Leave the World Behind</td>\n",
       "      <td>Rumaan Alam ()</td>\n",
       "      <td>241 pages</td>\n",
       "      <td>https://www.goodreads.com/book/show/50358031-l...</td>\n",
       "      <td>3.39</td>\n",
       "      <td>A magnetic novel about two families, strangers...</td>\n",
       "      <td>Nilufer Ozmekik</td>\n",
       "      <td>27143</td>\n",
       "      <td>4</td>\n",
       "      <td>330</td>\n",
       "      <td>NaN</td>\n",
       "    </tr>\n",
       "    <tr>\n",
       "      <th>2</th>\n",
       "      <td>fiction</td>\n",
       "      <td>Leave the World Behind</td>\n",
       "      <td>Rumaan Alam ()</td>\n",
       "      <td>241 pages</td>\n",
       "      <td>https://www.goodreads.com/book/show/50358031-l...</td>\n",
       "      <td>3.39</td>\n",
       "      <td>A magnetic novel about two families, strangers...</td>\n",
       "      <td>Cindy</td>\n",
       "      <td>28805</td>\n",
       "      <td>3</td>\n",
       "      <td>330</td>\n",
       "      <td>This book is the most low-key and vague thrill...</td>\n",
       "    </tr>\n",
       "    <tr>\n",
       "      <th>3</th>\n",
       "      <td>fiction</td>\n",
       "      <td>Leave the World Behind</td>\n",
       "      <td>Rumaan Alam ()</td>\n",
       "      <td>241 pages</td>\n",
       "      <td>https://www.goodreads.com/book/show/50358031-l...</td>\n",
       "      <td>3.39</td>\n",
       "      <td>A magnetic novel about two families, strangers...</td>\n",
       "      <td>JanB</td>\n",
       "      <td>13990</td>\n",
       "      <td>5</td>\n",
       "      <td>330</td>\n",
       "      <td>4.5 stars\\n\\nA middle-aged white couple and th...</td>\n",
       "    </tr>\n",
       "    <tr>\n",
       "      <th>4</th>\n",
       "      <td>fiction</td>\n",
       "      <td>Leave the World Behind</td>\n",
       "      <td>Rumaan Alam ()</td>\n",
       "      <td>241 pages</td>\n",
       "      <td>https://www.goodreads.com/book/show/50358031-l...</td>\n",
       "      <td>3.39</td>\n",
       "      <td>A magnetic novel about two families, strangers...</td>\n",
       "      <td>Roman Clodia</td>\n",
       "      <td>28090</td>\n",
       "      <td>1</td>\n",
       "      <td>330</td>\n",
       "      <td>A potentially interesting scenario here, thoug...</td>\n",
       "    </tr>\n",
       "  </tbody>\n",
       "</table>\n",
       "</div>"
      ],
      "text/plain": [
       "     genre                   title          author      pages  \\\n",
       "0  fiction  Leave the World Behind  Rumaan Alam ()  241 pages   \n",
       "1  fiction  Leave the World Behind  Rumaan Alam ()  241 pages   \n",
       "2  fiction  Leave the World Behind  Rumaan Alam ()  241 pages   \n",
       "3  fiction  Leave the World Behind  Rumaan Alam ()  241 pages   \n",
       "4  fiction  Leave the World Behind  Rumaan Alam ()  241 pages   \n",
       "\n",
       "                                          unique_key average_rating  \\\n",
       "0  https://www.goodreads.com/book/show/50358031-l...           3.39   \n",
       "1  https://www.goodreads.com/book/show/50358031-l...           3.39   \n",
       "2  https://www.goodreads.com/book/show/50358031-l...           3.39   \n",
       "3  https://www.goodreads.com/book/show/50358031-l...           3.39   \n",
       "4  https://www.goodreads.com/book/show/50358031-l...           3.39   \n",
       "\n",
       "                                    book_description        user_name  \\\n",
       "0  A magnetic novel about two families, strangers...           Roxane   \n",
       "1  A magnetic novel about two families, strangers...  Nilufer Ozmekik   \n",
       "2  A magnetic novel about two families, strangers...            Cindy   \n",
       "3  A magnetic novel about two families, strangers...            JanB    \n",
       "4  A magnetic novel about two families, strangers...     Roman Clodia   \n",
       "\n",
       "   user_unique_key number_of_stars  book_unique_key  \\\n",
       "0             3133               5              330   \n",
       "1            27143               4              330   \n",
       "2            28805               3              330   \n",
       "3            13990               5              330   \n",
       "4            28090               1              330   \n",
       "\n",
       "                                         review_text  \n",
       "0  A white family is vacationing in the Hamptons ...  \n",
       "1                                                NaN  \n",
       "2  This book is the most low-key and vague thrill...  \n",
       "3  4.5 stars\\n\\nA middle-aged white couple and th...  \n",
       "4  A potentially interesting scenario here, thoug...  "
      ]
     },
     "execution_count": 49,
     "metadata": {},
     "output_type": "execute_result"
    }
   ],
   "source": [
    "comb_df3['author'] = comb_df3['author'].replace({'by ': '', \"(Goodreads Author)\": ''}, regex=True)\n",
    "comb_df4= comb_df3\n",
    "comb_df4.head()"
   ]
  },
  {
   "cell_type": "code",
   "execution_count": 50,
   "metadata": {
    "collapsed": true,
    "jupyter": {
     "outputs_hidden": true
    }
   },
   "outputs": [
    {
     "data": {
      "text/html": [
       "<div>\n",
       "<style scoped>\n",
       "    .dataframe tbody tr th:only-of-type {\n",
       "        vertical-align: middle;\n",
       "    }\n",
       "\n",
       "    .dataframe tbody tr th {\n",
       "        vertical-align: top;\n",
       "    }\n",
       "\n",
       "    .dataframe thead th {\n",
       "        text-align: right;\n",
       "    }\n",
       "</style>\n",
       "<table border=\"1\" class=\"dataframe\">\n",
       "  <thead>\n",
       "    <tr style=\"text-align: right;\">\n",
       "      <th></th>\n",
       "      <th>genre</th>\n",
       "      <th>title</th>\n",
       "      <th>author</th>\n",
       "      <th>pages</th>\n",
       "      <th>unique_key</th>\n",
       "      <th>average_rating</th>\n",
       "      <th>book_description</th>\n",
       "      <th>user_name</th>\n",
       "      <th>user_unique_key</th>\n",
       "      <th>number_of_stars</th>\n",
       "      <th>book_unique_key</th>\n",
       "      <th>review_text</th>\n",
       "    </tr>\n",
       "  </thead>\n",
       "  <tbody>\n",
       "    <tr>\n",
       "      <th>0</th>\n",
       "      <td>fiction</td>\n",
       "      <td>Leave the World Behind</td>\n",
       "      <td>Rumaan Alam ()</td>\n",
       "      <td>241</td>\n",
       "      <td>https://www.goodreads.com/book/show/50358031-l...</td>\n",
       "      <td>3.39</td>\n",
       "      <td>A magnetic novel about two families, strangers...</td>\n",
       "      <td>Roxane</td>\n",
       "      <td>3133</td>\n",
       "      <td>5</td>\n",
       "      <td>330</td>\n",
       "      <td>A white family is vacationing in the Hamptons ...</td>\n",
       "    </tr>\n",
       "    <tr>\n",
       "      <th>1</th>\n",
       "      <td>fiction</td>\n",
       "      <td>Leave the World Behind</td>\n",
       "      <td>Rumaan Alam ()</td>\n",
       "      <td>241</td>\n",
       "      <td>https://www.goodreads.com/book/show/50358031-l...</td>\n",
       "      <td>3.39</td>\n",
       "      <td>A magnetic novel about two families, strangers...</td>\n",
       "      <td>Nilufer Ozmekik</td>\n",
       "      <td>27143</td>\n",
       "      <td>4</td>\n",
       "      <td>330</td>\n",
       "      <td>NaN</td>\n",
       "    </tr>\n",
       "    <tr>\n",
       "      <th>2</th>\n",
       "      <td>fiction</td>\n",
       "      <td>Leave the World Behind</td>\n",
       "      <td>Rumaan Alam ()</td>\n",
       "      <td>241</td>\n",
       "      <td>https://www.goodreads.com/book/show/50358031-l...</td>\n",
       "      <td>3.39</td>\n",
       "      <td>A magnetic novel about two families, strangers...</td>\n",
       "      <td>Cindy</td>\n",
       "      <td>28805</td>\n",
       "      <td>3</td>\n",
       "      <td>330</td>\n",
       "      <td>This book is the most low-key and vague thrill...</td>\n",
       "    </tr>\n",
       "    <tr>\n",
       "      <th>3</th>\n",
       "      <td>fiction</td>\n",
       "      <td>Leave the World Behind</td>\n",
       "      <td>Rumaan Alam ()</td>\n",
       "      <td>241</td>\n",
       "      <td>https://www.goodreads.com/book/show/50358031-l...</td>\n",
       "      <td>3.39</td>\n",
       "      <td>A magnetic novel about two families, strangers...</td>\n",
       "      <td>JanB</td>\n",
       "      <td>13990</td>\n",
       "      <td>5</td>\n",
       "      <td>330</td>\n",
       "      <td>4.5 stars\\n\\nA middle-aged white couple and th...</td>\n",
       "    </tr>\n",
       "    <tr>\n",
       "      <th>4</th>\n",
       "      <td>fiction</td>\n",
       "      <td>Leave the World Behind</td>\n",
       "      <td>Rumaan Alam ()</td>\n",
       "      <td>241</td>\n",
       "      <td>https://www.goodreads.com/book/show/50358031-l...</td>\n",
       "      <td>3.39</td>\n",
       "      <td>A magnetic novel about two families, strangers...</td>\n",
       "      <td>Roman Clodia</td>\n",
       "      <td>28090</td>\n",
       "      <td>1</td>\n",
       "      <td>330</td>\n",
       "      <td>A potentially interesting scenario here, thoug...</td>\n",
       "    </tr>\n",
       "  </tbody>\n",
       "</table>\n",
       "</div>"
      ],
      "text/plain": [
       "     genre                   title          author pages  \\\n",
       "0  fiction  Leave the World Behind  Rumaan Alam ()  241    \n",
       "1  fiction  Leave the World Behind  Rumaan Alam ()  241    \n",
       "2  fiction  Leave the World Behind  Rumaan Alam ()  241    \n",
       "3  fiction  Leave the World Behind  Rumaan Alam ()  241    \n",
       "4  fiction  Leave the World Behind  Rumaan Alam ()  241    \n",
       "\n",
       "                                          unique_key average_rating  \\\n",
       "0  https://www.goodreads.com/book/show/50358031-l...           3.39   \n",
       "1  https://www.goodreads.com/book/show/50358031-l...           3.39   \n",
       "2  https://www.goodreads.com/book/show/50358031-l...           3.39   \n",
       "3  https://www.goodreads.com/book/show/50358031-l...           3.39   \n",
       "4  https://www.goodreads.com/book/show/50358031-l...           3.39   \n",
       "\n",
       "                                    book_description        user_name  \\\n",
       "0  A magnetic novel about two families, strangers...           Roxane   \n",
       "1  A magnetic novel about two families, strangers...  Nilufer Ozmekik   \n",
       "2  A magnetic novel about two families, strangers...            Cindy   \n",
       "3  A magnetic novel about two families, strangers...            JanB    \n",
       "4  A magnetic novel about two families, strangers...     Roman Clodia   \n",
       "\n",
       "   user_unique_key number_of_stars  book_unique_key  \\\n",
       "0             3133               5              330   \n",
       "1            27143               4              330   \n",
       "2            28805               3              330   \n",
       "3            13990               5              330   \n",
       "4            28090               1              330   \n",
       "\n",
       "                                         review_text  \n",
       "0  A white family is vacationing in the Hamptons ...  \n",
       "1                                                NaN  \n",
       "2  This book is the most low-key and vague thrill...  \n",
       "3  4.5 stars\\n\\nA middle-aged white couple and th...  \n",
       "4  A potentially interesting scenario here, thoug...  "
      ]
     },
     "execution_count": 50,
     "metadata": {},
     "output_type": "execute_result"
    }
   ],
   "source": [
    "comb_df4['pages'] = comb_df4['pages'].replace({'pages': ''}, regex=True)\n",
    "comb_df5= comb_df4\n",
    "comb_df5.head()"
   ]
  },
  {
   "cell_type": "code",
   "execution_count": 51,
   "metadata": {
    "collapsed": true,
    "jupyter": {
     "outputs_hidden": true
    }
   },
   "outputs": [
    {
     "data": {
      "text/html": [
       "<div>\n",
       "<style scoped>\n",
       "    .dataframe tbody tr th:only-of-type {\n",
       "        vertical-align: middle;\n",
       "    }\n",
       "\n",
       "    .dataframe tbody tr th {\n",
       "        vertical-align: top;\n",
       "    }\n",
       "\n",
       "    .dataframe thead th {\n",
       "        text-align: right;\n",
       "    }\n",
       "</style>\n",
       "<table border=\"1\" class=\"dataframe\">\n",
       "  <thead>\n",
       "    <tr style=\"text-align: right;\">\n",
       "      <th></th>\n",
       "      <th>genre</th>\n",
       "      <th>title</th>\n",
       "      <th>author</th>\n",
       "      <th>pages</th>\n",
       "      <th>average_rating</th>\n",
       "      <th>book_description</th>\n",
       "      <th>user_unique_key</th>\n",
       "      <th>number_of_stars</th>\n",
       "      <th>book_unique_key</th>\n",
       "      <th>review_text</th>\n",
       "    </tr>\n",
       "  </thead>\n",
       "  <tbody>\n",
       "    <tr>\n",
       "      <th>0</th>\n",
       "      <td>fiction</td>\n",
       "      <td>Leave the World Behind</td>\n",
       "      <td>Rumaan Alam ()</td>\n",
       "      <td>241</td>\n",
       "      <td>3.39</td>\n",
       "      <td>A magnetic novel about two families, strangers...</td>\n",
       "      <td>3133</td>\n",
       "      <td>5</td>\n",
       "      <td>330</td>\n",
       "      <td>A white family is vacationing in the Hamptons ...</td>\n",
       "    </tr>\n",
       "    <tr>\n",
       "      <th>1</th>\n",
       "      <td>fiction</td>\n",
       "      <td>Leave the World Behind</td>\n",
       "      <td>Rumaan Alam ()</td>\n",
       "      <td>241</td>\n",
       "      <td>3.39</td>\n",
       "      <td>A magnetic novel about two families, strangers...</td>\n",
       "      <td>27143</td>\n",
       "      <td>4</td>\n",
       "      <td>330</td>\n",
       "      <td>NaN</td>\n",
       "    </tr>\n",
       "    <tr>\n",
       "      <th>2</th>\n",
       "      <td>fiction</td>\n",
       "      <td>Leave the World Behind</td>\n",
       "      <td>Rumaan Alam ()</td>\n",
       "      <td>241</td>\n",
       "      <td>3.39</td>\n",
       "      <td>A magnetic novel about two families, strangers...</td>\n",
       "      <td>28805</td>\n",
       "      <td>3</td>\n",
       "      <td>330</td>\n",
       "      <td>This book is the most low-key and vague thrill...</td>\n",
       "    </tr>\n",
       "    <tr>\n",
       "      <th>3</th>\n",
       "      <td>fiction</td>\n",
       "      <td>Leave the World Behind</td>\n",
       "      <td>Rumaan Alam ()</td>\n",
       "      <td>241</td>\n",
       "      <td>3.39</td>\n",
       "      <td>A magnetic novel about two families, strangers...</td>\n",
       "      <td>13990</td>\n",
       "      <td>5</td>\n",
       "      <td>330</td>\n",
       "      <td>4.5 stars\\n\\nA middle-aged white couple and th...</td>\n",
       "    </tr>\n",
       "    <tr>\n",
       "      <th>4</th>\n",
       "      <td>fiction</td>\n",
       "      <td>Leave the World Behind</td>\n",
       "      <td>Rumaan Alam ()</td>\n",
       "      <td>241</td>\n",
       "      <td>3.39</td>\n",
       "      <td>A magnetic novel about two families, strangers...</td>\n",
       "      <td>28090</td>\n",
       "      <td>1</td>\n",
       "      <td>330</td>\n",
       "      <td>A potentially interesting scenario here, thoug...</td>\n",
       "    </tr>\n",
       "  </tbody>\n",
       "</table>\n",
       "</div>"
      ],
      "text/plain": [
       "     genre                   title          author pages average_rating  \\\n",
       "0  fiction  Leave the World Behind  Rumaan Alam ()  241            3.39   \n",
       "1  fiction  Leave the World Behind  Rumaan Alam ()  241            3.39   \n",
       "2  fiction  Leave the World Behind  Rumaan Alam ()  241            3.39   \n",
       "3  fiction  Leave the World Behind  Rumaan Alam ()  241            3.39   \n",
       "4  fiction  Leave the World Behind  Rumaan Alam ()  241            3.39   \n",
       "\n",
       "                                    book_description  user_unique_key  \\\n",
       "0  A magnetic novel about two families, strangers...             3133   \n",
       "1  A magnetic novel about two families, strangers...            27143   \n",
       "2  A magnetic novel about two families, strangers...            28805   \n",
       "3  A magnetic novel about two families, strangers...            13990   \n",
       "4  A magnetic novel about two families, strangers...            28090   \n",
       "\n",
       "  number_of_stars  book_unique_key  \\\n",
       "0               5              330   \n",
       "1               4              330   \n",
       "2               3              330   \n",
       "3               5              330   \n",
       "4               1              330   \n",
       "\n",
       "                                         review_text  \n",
       "0  A white family is vacationing in the Hamptons ...  \n",
       "1                                                NaN  \n",
       "2  This book is the most low-key and vague thrill...  \n",
       "3  4.5 stars\\n\\nA middle-aged white couple and th...  \n",
       "4  A potentially interesting scenario here, thoug...  "
      ]
     },
     "execution_count": 51,
     "metadata": {},
     "output_type": "execute_result"
    }
   ],
   "source": [
    "comb_df6= comb_df5.drop(['unique_key', 'user_name'], axis= 1)\n",
    "comb_df6.head() \n"
   ]
  },
  {
   "cell_type": "code",
   "execution_count": 285,
   "metadata": {
    "collapsed": true,
    "jupyter": {
     "outputs_hidden": true
    }
   },
   "outputs": [
    {
     "data": {
      "text/html": [
       "<div>\n",
       "<style scoped>\n",
       "    .dataframe tbody tr th:only-of-type {\n",
       "        vertical-align: middle;\n",
       "    }\n",
       "\n",
       "    .dataframe tbody tr th {\n",
       "        vertical-align: top;\n",
       "    }\n",
       "\n",
       "    .dataframe thead th {\n",
       "        text-align: right;\n",
       "    }\n",
       "</style>\n",
       "<table border=\"1\" class=\"dataframe\">\n",
       "  <thead>\n",
       "    <tr style=\"text-align: right;\">\n",
       "      <th></th>\n",
       "      <th>genre</th>\n",
       "      <th>title</th>\n",
       "      <th>author</th>\n",
       "      <th>pages</th>\n",
       "      <th>average_rating</th>\n",
       "      <th>book_description</th>\n",
       "      <th>user_unique_key</th>\n",
       "      <th>number_of_stars</th>\n",
       "      <th>book_unique_key</th>\n",
       "      <th>review_text</th>\n",
       "    </tr>\n",
       "  </thead>\n",
       "  <tbody>\n",
       "    <tr>\n",
       "      <th>2092</th>\n",
       "      <td>non-fiction</td>\n",
       "      <td>Educated</td>\n",
       "      <td>Tara Westover ()</td>\n",
       "      <td>334</td>\n",
       "      <td>4.46</td>\n",
       "      <td>Tara Westover was 17 the first time she set fo...</td>\n",
       "      <td>0</td>\n",
       "      <td>4</td>\n",
       "      <td>146</td>\n",
       "      <td>A captivating memoir, well written, easy to te...</td>\n",
       "    </tr>\n",
       "    <tr>\n",
       "      <th>5435</th>\n",
       "      <td>non-fiction</td>\n",
       "      <td>A Short History of Nearly Everything</td>\n",
       "      <td>Bill Bryson</td>\n",
       "      <td>544</td>\n",
       "      <td>4.20</td>\n",
       "      <td>In Bryson's biggest book, he confronts his gre...</td>\n",
       "      <td>0</td>\n",
       "      <td>5</td>\n",
       "      <td>68</td>\n",
       "      <td>A fascinating history of science. Ever curious...</td>\n",
       "    </tr>\n",
       "    <tr>\n",
       "      <th>4358</th>\n",
       "      <td>biography-memoir</td>\n",
       "      <td>Educated</td>\n",
       "      <td>Tara Westover ()</td>\n",
       "      <td>334</td>\n",
       "      <td>4.46</td>\n",
       "      <td>Tara Westover was 17 the first time she set fo...</td>\n",
       "      <td>0</td>\n",
       "      <td>4</td>\n",
       "      <td>146</td>\n",
       "      <td>A captivating memoir, well written, easy to te...</td>\n",
       "    </tr>\n",
       "    <tr>\n",
       "      <th>2392</th>\n",
       "      <td>non-fiction</td>\n",
       "      <td>Educated</td>\n",
       "      <td>Tara Westover ()</td>\n",
       "      <td>334</td>\n",
       "      <td>4.46</td>\n",
       "      <td>Tara Westover was 17 the first time she set fo...</td>\n",
       "      <td>0</td>\n",
       "      <td>4</td>\n",
       "      <td>146</td>\n",
       "      <td>A captivating memoir, well written, easy to te...</td>\n",
       "    </tr>\n",
       "    <tr>\n",
       "      <th>1603</th>\n",
       "      <td>history-and-politics</td>\n",
       "      <td>Sapiens: A Brief History of Humankind</td>\n",
       "      <td>Yuval Noah Harari</td>\n",
       "      <td>498</td>\n",
       "      <td>4.41</td>\n",
       "      <td>100,000 years ago, at least six human species ...</td>\n",
       "      <td>0</td>\n",
       "      <td>5</td>\n",
       "      <td>82</td>\n",
       "      <td>I haven't read a ton of \"history of the world\"...</td>\n",
       "    </tr>\n",
       "    <tr>\n",
       "      <th>...</th>\n",
       "      <td>...</td>\n",
       "      <td>...</td>\n",
       "      <td>...</td>\n",
       "      <td>...</td>\n",
       "      <td>...</td>\n",
       "      <td>...</td>\n",
       "      <td>...</td>\n",
       "      <td>...</td>\n",
       "      <td>...</td>\n",
       "      <td>...</td>\n",
       "    </tr>\n",
       "    <tr>\n",
       "      <th>1745</th>\n",
       "      <td>historical-fiction</td>\n",
       "      <td>Fortune Favors the Dead</td>\n",
       "      <td>Stephen Spotswood ()</td>\n",
       "      <td>336</td>\n",
       "      <td>4.09</td>\n",
       "      <td>Introducing Pentecost and Parker, two unconven...</td>\n",
       "      <td>27639</td>\n",
       "      <td>5</td>\n",
       "      <td>310</td>\n",
       "      <td>Introducing Pentecost and Parker – two formida...</td>\n",
       "    </tr>\n",
       "    <tr>\n",
       "      <th>1918</th>\n",
       "      <td>mystery</td>\n",
       "      <td>Fortune Favors the Dead</td>\n",
       "      <td>Stephen Spotswood ()</td>\n",
       "      <td>336</td>\n",
       "      <td>4.09</td>\n",
       "      <td>Introducing Pentecost and Parker, two unconven...</td>\n",
       "      <td>27639</td>\n",
       "      <td>5</td>\n",
       "      <td>310</td>\n",
       "      <td>Introducing Pentecost and Parker – two formida...</td>\n",
       "    </tr>\n",
       "    <tr>\n",
       "      <th>1363</th>\n",
       "      <td>historical-fiction</td>\n",
       "      <td>Murder on Cold Street</td>\n",
       "      <td>Sherry Thomas ()</td>\n",
       "      <td>344</td>\n",
       "      <td>4.28</td>\n",
       "      <td>Charlotte Holmes, Lady Sherlock, is back solvi...</td>\n",
       "      <td>27639</td>\n",
       "      <td>3</td>\n",
       "      <td>269</td>\n",
       "      <td>Murder on Cold Street is the fifth book in the...</td>\n",
       "    </tr>\n",
       "    <tr>\n",
       "      <th>4384</th>\n",
       "      <td>novella</td>\n",
       "      <td>The Prince</td>\n",
       "      <td>Kiera Cass ()</td>\n",
       "      <td>64</td>\n",
       "      <td>3.94</td>\n",
       "      <td>Before thirty-five girls were chosen to compet...</td>\n",
       "      <td>27640</td>\n",
       "      <td>4</td>\n",
       "      <td>33</td>\n",
       "      <td>So...\\nMy reaction when I realized not only wa...</td>\n",
       "    </tr>\n",
       "    <tr>\n",
       "      <th>3966</th>\n",
       "      <td>historical-fiction</td>\n",
       "      <td>The Dutch House</td>\n",
       "      <td>Ann Patchett</td>\n",
       "      <td>337</td>\n",
       "      <td>4.12</td>\n",
       "      <td>At the end of the Second World War, Cyril Conr...</td>\n",
       "      <td>27641</td>\n",
       "      <td>2</td>\n",
       "      <td>209</td>\n",
       "      <td>The whole time I just kept waiting for somethi...</td>\n",
       "    </tr>\n",
       "  </tbody>\n",
       "</table>\n",
       "<p>128023 rows × 10 columns</p>\n",
       "</div>"
      ],
      "text/plain": [
       "                     genre                                  title  \\\n",
       "2092           non-fiction                               Educated   \n",
       "5435           non-fiction   A Short History of Nearly Everything   \n",
       "4358      biography-memoir                               Educated   \n",
       "2392           non-fiction                               Educated   \n",
       "1603  history-and-politics  Sapiens: A Brief History of Humankind   \n",
       "...                    ...                                    ...   \n",
       "1745    historical-fiction                Fortune Favors the Dead   \n",
       "1918               mystery                Fortune Favors the Dead   \n",
       "1363    historical-fiction                  Murder on Cold Street   \n",
       "4384               novella                             The Prince   \n",
       "3966    historical-fiction                        The Dutch House   \n",
       "\n",
       "                    author pages  average_rating  \\\n",
       "2092      Tara Westover ()  334             4.46   \n",
       "5435           Bill Bryson  544             4.20   \n",
       "4358      Tara Westover ()  334             4.46   \n",
       "2392      Tara Westover ()  334             4.46   \n",
       "1603     Yuval Noah Harari  498             4.41   \n",
       "...                    ...   ...             ...   \n",
       "1745  Stephen Spotswood ()  336             4.09   \n",
       "1918  Stephen Spotswood ()  336             4.09   \n",
       "1363      Sherry Thomas ()  344             4.28   \n",
       "4384         Kiera Cass ()   64             3.94   \n",
       "3966          Ann Patchett  337             4.12   \n",
       "\n",
       "                                       book_description  user_unique_key  \\\n",
       "2092  Tara Westover was 17 the first time she set fo...                0   \n",
       "5435  In Bryson's biggest book, he confronts his gre...                0   \n",
       "4358  Tara Westover was 17 the first time she set fo...                0   \n",
       "2392  Tara Westover was 17 the first time she set fo...                0   \n",
       "1603  100,000 years ago, at least six human species ...                0   \n",
       "...                                                 ...              ...   \n",
       "1745  Introducing Pentecost and Parker, two unconven...            27639   \n",
       "1918  Introducing Pentecost and Parker, two unconven...            27639   \n",
       "1363  Charlotte Holmes, Lady Sherlock, is back solvi...            27639   \n",
       "4384  Before thirty-five girls were chosen to compet...            27640   \n",
       "3966  At the end of the Second World War, Cyril Conr...            27641   \n",
       "\n",
       "      number_of_stars  book_unique_key  \\\n",
       "2092                4              146   \n",
       "5435                5               68   \n",
       "4358                4              146   \n",
       "2392                4              146   \n",
       "1603                5               82   \n",
       "...               ...              ...   \n",
       "1745                5              310   \n",
       "1918                5              310   \n",
       "1363                3              269   \n",
       "4384                4               33   \n",
       "3966                2              209   \n",
       "\n",
       "                                            review_text  \n",
       "2092  A captivating memoir, well written, easy to te...  \n",
       "5435  A fascinating history of science. Ever curious...  \n",
       "4358  A captivating memoir, well written, easy to te...  \n",
       "2392  A captivating memoir, well written, easy to te...  \n",
       "1603  I haven't read a ton of \"history of the world\"...  \n",
       "...                                                 ...  \n",
       "1745  Introducing Pentecost and Parker – two formida...  \n",
       "1918  Introducing Pentecost and Parker – two formida...  \n",
       "1363  Murder on Cold Street is the fifth book in the...  \n",
       "4384  So...\\nMy reaction when I realized not only wa...  \n",
       "3966  The whole time I just kept waiting for somethi...  \n",
       "\n",
       "[128023 rows x 10 columns]"
      ]
     },
     "execution_count": 285,
     "metadata": {},
     "output_type": "execute_result"
    }
   ],
   "source": [
    "sorted_df2 = comb_df6.sort_values('user_unique_key')\n",
    "sorted_df2.loc[sorted_df2.duplicated(subset = 'title',keep=False),:]\n",
    "sorted_df2"
   ]
  },
  {
   "cell_type": "code",
   "execution_count": 288,
   "metadata": {},
   "outputs": [
    {
     "data": {
      "text/plain": [
       "53314"
      ]
     },
     "execution_count": 288,
     "metadata": {},
     "output_type": "execute_result"
    }
   ],
   "source": [
    "comb_df6['review_text'].nunique()"
   ]
  },
  {
   "cell_type": "code",
   "execution_count": 290,
   "metadata": {},
   "outputs": [
    {
     "data": {
      "text/plain": [
       "73467"
      ]
     },
     "execution_count": 290,
     "metadata": {},
     "output_type": "execute_result"
    }
   ],
   "source": [
    "comb_df6.duplicated(['title', 'review_text', 'user_unique_key']).sum()"
   ]
  },
  {
   "cell_type": "code",
   "execution_count": 292,
   "metadata": {},
   "outputs": [
    {
     "data": {
      "text/plain": [
       "59255"
      ]
     },
     "execution_count": 292,
     "metadata": {},
     "output_type": "execute_result"
    }
   ],
   "source": [
    "comb_df6.duplicated().sum()"
   ]
  },
  {
   "cell_type": "code",
   "execution_count": 298,
   "metadata": {},
   "outputs": [
    {
     "data": {
      "text/plain": [
       "483"
      ]
     },
     "execution_count": 298,
     "metadata": {},
     "output_type": "execute_result"
    }
   ],
   "source": [
    "comb_df6['title'].nunique()"
   ]
  },
  {
   "cell_type": "code",
   "execution_count": 299,
   "metadata": {},
   "outputs": [
    {
     "data": {
      "text/plain": [
       "27642"
      ]
     },
     "execution_count": 299,
     "metadata": {},
     "output_type": "execute_result"
    }
   ],
   "source": [
    "comb_df6['user_unique_key'].nunique()"
   ]
  },
  {
   "cell_type": "code",
   "execution_count": 297,
   "metadata": {},
   "outputs": [
    {
     "data": {
      "text/plain": [
       "(128023, 10)"
      ]
     },
     "execution_count": 297,
     "metadata": {},
     "output_type": "execute_result"
    }
   ],
   "source": [
    "comb_df6.shape"
   ]
  },
  {
   "cell_type": "code",
   "execution_count": 302,
   "metadata": {},
   "outputs": [
    {
     "data": {
      "text/plain": [
       "90838"
      ]
     },
     "execution_count": 302,
     "metadata": {},
     "output_type": "execute_result"
    }
   ],
   "source": [
    "comb_df6.duplicated(['user_unique_key', 'title'], keep=False).sum()"
   ]
  },
  {
   "cell_type": "code",
   "execution_count": 314,
   "metadata": {},
   "outputs": [
    {
     "data": {
      "text/plain": [
       "415"
      ]
     },
     "execution_count": 314,
     "metadata": {},
     "output_type": "execute_result"
    }
   ],
   "source": [
    "comb_df6['author'].nunique()"
   ]
  },
  {
   "cell_type": "code",
   "execution_count": 64,
   "metadata": {},
   "outputs": [
    {
     "data": {
      "text/plain": [
       "0    Rumaan Alam ()\n",
       "1    Rumaan Alam ()\n",
       "2    Rumaan Alam ()\n",
       "3    Rumaan Alam ()\n",
       "4    Rumaan Alam ()\n",
       "Name: author, dtype: object"
      ]
     },
     "execution_count": 64,
     "metadata": {},
     "output_type": "execute_result"
    }
   ],
   "source": [
    "comb_df6['author'].head()"
   ]
  },
  {
   "cell_type": "code",
   "execution_count": 52,
   "metadata": {},
   "outputs": [
    {
     "name": "stdout",
     "output_type": "stream",
     "text": [
      "<class 'pandas.core.frame.DataFrame'>\n",
      "Int64Index: 82756 entries, 0 to 12700\n",
      "Data columns (total 10 columns):\n",
      " #   Column            Non-Null Count  Dtype \n",
      "---  ------            --------------  ----- \n",
      " 0   genre             82756 non-null  object\n",
      " 1   title             82756 non-null  object\n",
      " 2   author            82756 non-null  object\n",
      " 3   pages             82756 non-null  object\n",
      " 4   average_rating    82756 non-null  object\n",
      " 5   book_description  62938 non-null  object\n",
      " 6   user_unique_key   82756 non-null  int64 \n",
      " 7   number_of_stars   82756 non-null  object\n",
      " 8   book_unique_key   82756 non-null  int64 \n",
      " 9   review_text       81263 non-null  object\n",
      "dtypes: int64(2), object(8)\n",
      "memory usage: 6.9+ MB\n"
     ]
    }
   ],
   "source": [
    "comb_df7= comb_df6.drop_duplicates(subset=['user_unique_key', 'title'], keep='first')\n",
    "comb_df7.info()"
   ]
  },
  {
   "cell_type": "code",
   "execution_count": 65,
   "metadata": {},
   "outputs": [],
   "source": [
    "comb_df7.to_csv('comb_df2.csv', index= False)"
   ]
  },
  {
   "cell_type": "code",
   "execution_count": 37,
   "metadata": {},
   "outputs": [],
   "source": [
    "# comb_df7.to_csv('comb_df7.csv', index=False)"
   ]
  },
  {
   "cell_type": "code",
   "execution_count": 35,
   "metadata": {},
   "outputs": [],
   "source": [
    "# comb_df7.to_csv('comb_df7.tsv',sep=\"\\t\")"
   ]
  },
  {
   "cell_type": "code",
   "execution_count": 36,
   "metadata": {
    "collapsed": true,
    "jupyter": {
     "outputs_hidden": true
    }
   },
   "outputs": [
    {
     "data": {
      "text/html": [
       "<div>\n",
       "<style scoped>\n",
       "    .dataframe tbody tr th:only-of-type {\n",
       "        vertical-align: middle;\n",
       "    }\n",
       "\n",
       "    .dataframe tbody tr th {\n",
       "        vertical-align: top;\n",
       "    }\n",
       "\n",
       "    .dataframe thead th {\n",
       "        text-align: right;\n",
       "    }\n",
       "</style>\n",
       "<table border=\"1\" class=\"dataframe\">\n",
       "  <thead>\n",
       "    <tr style=\"text-align: right;\">\n",
       "      <th></th>\n",
       "      <th>genre</th>\n",
       "      <th>title</th>\n",
       "      <th>author</th>\n",
       "      <th>pages</th>\n",
       "      <th>average_rating</th>\n",
       "      <th>book_description</th>\n",
       "      <th>user_unique_key</th>\n",
       "      <th>number_of_stars</th>\n",
       "      <th>book_unique_key</th>\n",
       "      <th>review_text</th>\n",
       "    </tr>\n",
       "  </thead>\n",
       "  <tbody>\n",
       "    <tr>\n",
       "      <th>0</th>\n",
       "      <td>short-stories</td>\n",
       "      <td>The Neil Gaiman Reader: Selected Fiction</td>\n",
       "      <td>Neil Gaiman ()</td>\n",
       "      <td>752</td>\n",
       "      <td>4.54</td>\n",
       "      <td>An outstanding array—52 pieces in all—of selec...</td>\n",
       "      <td>11931</td>\n",
       "      <td>5</td>\n",
       "      <td>287</td>\n",
       "      <td>NaN</td>\n",
       "    </tr>\n",
       "    <tr>\n",
       "      <th>1</th>\n",
       "      <td>short-stories</td>\n",
       "      <td>The Neil Gaiman Reader: Selected Fiction</td>\n",
       "      <td>Neil Gaiman ()</td>\n",
       "      <td>752</td>\n",
       "      <td>4.54</td>\n",
       "      <td>An outstanding array—52 pieces in all—of selec...</td>\n",
       "      <td>26212</td>\n",
       "      <td>5</td>\n",
       "      <td>287</td>\n",
       "      <td>There are two types of readers in this world:\\...</td>\n",
       "    </tr>\n",
       "    <tr>\n",
       "      <th>2</th>\n",
       "      <td>short-stories</td>\n",
       "      <td>The Neil Gaiman Reader: Selected Fiction</td>\n",
       "      <td>Neil Gaiman ()</td>\n",
       "      <td>752</td>\n",
       "      <td>4.54</td>\n",
       "      <td>An outstanding array—52 pieces in all—of selec...</td>\n",
       "      <td>23480</td>\n",
       "      <td>0</td>\n",
       "      <td>287</td>\n",
       "      <td>I need this more than I think I've ever needed...</td>\n",
       "    </tr>\n",
       "    <tr>\n",
       "      <th>3</th>\n",
       "      <td>short-stories</td>\n",
       "      <td>The Neil Gaiman Reader: Selected Fiction</td>\n",
       "      <td>Neil Gaiman ()</td>\n",
       "      <td>752</td>\n",
       "      <td>4.54</td>\n",
       "      <td>An outstanding array—52 pieces in all—of selec...</td>\n",
       "      <td>19564</td>\n",
       "      <td>5</td>\n",
       "      <td>287</td>\n",
       "      <td>I received a free, advanced copy from NetGalle...</td>\n",
       "    </tr>\n",
       "    <tr>\n",
       "      <th>4</th>\n",
       "      <td>short-stories</td>\n",
       "      <td>The Neil Gaiman Reader: Selected Fiction</td>\n",
       "      <td>Neil Gaiman ()</td>\n",
       "      <td>752</td>\n",
       "      <td>4.54</td>\n",
       "      <td>An outstanding array—52 pieces in all—of selec...</td>\n",
       "      <td>12257</td>\n",
       "      <td>0</td>\n",
       "      <td>287</td>\n",
       "      <td>This is a hefty read, but it’s one that can be...</td>\n",
       "    </tr>\n",
       "  </tbody>\n",
       "</table>\n",
       "</div>"
      ],
      "text/plain": [
       "           genre                                     title          author  \\\n",
       "0  short-stories  The Neil Gaiman Reader: Selected Fiction  Neil Gaiman ()   \n",
       "1  short-stories  The Neil Gaiman Reader: Selected Fiction  Neil Gaiman ()   \n",
       "2  short-stories  The Neil Gaiman Reader: Selected Fiction  Neil Gaiman ()   \n",
       "3  short-stories  The Neil Gaiman Reader: Selected Fiction  Neil Gaiman ()   \n",
       "4  short-stories  The Neil Gaiman Reader: Selected Fiction  Neil Gaiman ()   \n",
       "\n",
       "  pages  average_rating                                   book_description  \\\n",
       "0  752             4.54  An outstanding array—52 pieces in all—of selec...   \n",
       "1  752             4.54  An outstanding array—52 pieces in all—of selec...   \n",
       "2  752             4.54  An outstanding array—52 pieces in all—of selec...   \n",
       "3  752             4.54  An outstanding array—52 pieces in all—of selec...   \n",
       "4  752             4.54  An outstanding array—52 pieces in all—of selec...   \n",
       "\n",
       "   user_unique_key  number_of_stars  book_unique_key  \\\n",
       "0            11931                5              287   \n",
       "1            26212                5              287   \n",
       "2            23480                0              287   \n",
       "3            19564                5              287   \n",
       "4            12257                0              287   \n",
       "\n",
       "                                         review_text  \n",
       "0                                                NaN  \n",
       "1  There are two types of readers in this world:\\...  \n",
       "2  I need this more than I think I've ever needed...  \n",
       "3  I received a free, advanced copy from NetGalle...  \n",
       "4  This is a hefty read, but it’s one that can be...  "
      ]
     },
     "execution_count": 36,
     "metadata": {},
     "output_type": "execute_result"
    }
   ],
   "source": [
    "comb_df7.head()"
   ]
  },
  {
   "cell_type": "code",
   "execution_count": 264,
   "metadata": {},
   "outputs": [
    {
     "data": {
      "text/html": [
       "<div>\n",
       "<style scoped>\n",
       "    .dataframe tbody tr th:only-of-type {\n",
       "        vertical-align: middle;\n",
       "    }\n",
       "\n",
       "    .dataframe tbody tr th {\n",
       "        vertical-align: top;\n",
       "    }\n",
       "\n",
       "    .dataframe thead th {\n",
       "        text-align: right;\n",
       "    }\n",
       "</style>\n",
       "<table border=\"1\" class=\"dataframe\">\n",
       "  <thead>\n",
       "    <tr style=\"text-align: right;\">\n",
       "      <th></th>\n",
       "      <th>average_rating</th>\n",
       "      <th>user_unique_key</th>\n",
       "      <th>number_of_stars</th>\n",
       "      <th>book_unique_key</th>\n",
       "    </tr>\n",
       "  </thead>\n",
       "  <tbody>\n",
       "    <tr>\n",
       "      <th>average_rating</th>\n",
       "      <td>1.000000</td>\n",
       "      <td>-0.001409</td>\n",
       "      <td>0.217978</td>\n",
       "      <td>-0.017330</td>\n",
       "    </tr>\n",
       "    <tr>\n",
       "      <th>user_unique_key</th>\n",
       "      <td>-0.001409</td>\n",
       "      <td>1.000000</td>\n",
       "      <td>0.006396</td>\n",
       "      <td>0.023437</td>\n",
       "    </tr>\n",
       "    <tr>\n",
       "      <th>number_of_stars</th>\n",
       "      <td>0.217978</td>\n",
       "      <td>0.006396</td>\n",
       "      <td>1.000000</td>\n",
       "      <td>0.004887</td>\n",
       "    </tr>\n",
       "    <tr>\n",
       "      <th>book_unique_key</th>\n",
       "      <td>-0.017330</td>\n",
       "      <td>0.023437</td>\n",
       "      <td>0.004887</td>\n",
       "      <td>1.000000</td>\n",
       "    </tr>\n",
       "  </tbody>\n",
       "</table>\n",
       "</div>"
      ],
      "text/plain": [
       "                 average_rating  user_unique_key  number_of_stars  \\\n",
       "average_rating         1.000000        -0.001409         0.217978   \n",
       "user_unique_key       -0.001409         1.000000         0.006396   \n",
       "number_of_stars        0.217978         0.006396         1.000000   \n",
       "book_unique_key       -0.017330         0.023437         0.004887   \n",
       "\n",
       "                 book_unique_key  \n",
       "average_rating         -0.017330  \n",
       "user_unique_key         0.023437  \n",
       "number_of_stars         0.004887  \n",
       "book_unique_key         1.000000  "
      ]
     },
     "execution_count": 264,
     "metadata": {},
     "output_type": "execute_result"
    }
   ],
   "source": [
    "# comb_df5.corr()"
   ]
  },
  {
   "cell_type": "markdown",
   "metadata": {},
   "source": [
    "### EDA visualizations"
   ]
  },
  {
   "cell_type": "code",
   "execution_count": 53,
   "metadata": {},
   "outputs": [],
   "source": [
    "df10 = comb_df7\n",
    "#df10 = pd.read_csv('comb_df7.csv')"
   ]
  },
  {
   "cell_type": "code",
   "execution_count": 54,
   "metadata": {
    "collapsed": true,
    "jupyter": {
     "outputs_hidden": true
    }
   },
   "outputs": [
    {
     "ename": "TypeError",
     "evalue": "Could not convert 3.993.993.993.993.993.993.993.993.993.993.993.993.993.993.994.164.164.164.164.164.164.164.164.164.164.164.164.164.164.164.164.164.164.164.164.164.164.164.164.164.164.164.164.164.164.164.164.164.164.164.164.164.164.164.164.164.164.164.164.164.164.164.164.164.164.164.164.164.164.164.164.164.164.164.164.164.164.164.164.164.164.164.164.164.164.164.164.164.164.164.164.164.164.164.164.164.164.164.164.164.164.164.164.164.164.164.164.164.164.164.164.164.164.164.164.164.164.164.164.164.164.164.164.164.164.164.164.164.164.163.853.853.853.853.853.853.853.853.854.254.254.254.254.254.254.254.254.254.254.254.254.254.254.254.254.254.254.254.254.254.254.254.254.254.254.254.254.254.254.254.254.254.254.254.254.254.254.254.254.254.254.254.254.254.254.254.254.254.254.254.254.254.254.254.254.254.254.254.254.254.254.254.254.254.254.254.254.254.254.254.254.254.254.254.254.254.254.254.254.254.254.254.254.254.254.254.254.254.254.254.254.254.254.254.254.254.254.254.254.254.254.254.254.254.254.254.254.254.254.254.254.254.254.253.883.883.883.883.883.883.883.883.883.883.883.883.883.883.883.883.883.883.883.883.883.883.883.883.883.883.883.883.883.883.883.883.883.883.883.883.883.883.883.883.883.883.883.883.883.883.883.883.883.883.883.883.883.883.883.883.883.883.883.883.883.883.883.883.883.883.883.883.883.883.883.883.883.883.883.883.883.883.883.883.883.883.883.883.883.883.883.883.883.883.883.883.883.883.883.883.883.883.883.883.883.883.883.883.883.883.883.883.883.883.883.883.883.883.883.883.883.883.884.284.284.284.284.284.284.284.284.284.284.284.284.284.284.284.284.284.284.284.284.284.284.284.284.284.284.284.284.284.284.284.284.284.284.284.284.284.284.284.284.284.284.284.284.284.284.284.284.284.284.284.284.284.284.284.284.284.284.284.284.284.284.284.284.284.284.284.284.284.284.284.284.284.284.284.284.284.284.284.284.284.284.284.284.284.284.284.284.284.284.284.284.284.284.284.284.284.284.284.284.284.284.284.284.284.284.284.284.284.284.284.284.284.284.284.284.284.284.284.284.284.284.284.284.284.284.284.284.284.284.284.284.284.284.284.284.284.284.284.284.284.284.284.284.284.284.284.284.284.284.284.284.284.284.284.284.284.284.284.284.284.284.284.284.284.284.284.284.284.284.284.284.284.284.284.284.284.284.284.284.284.284.284.284.284.284.284.284.284.284.284.284.284.284.284.284.284.284.284.284.284.284.284.284.284.284.284.284.283.443.443.443.443.443.443.443.443.443.443.443.443.443.443.443.443.443.443.443.443.443.443.443.443.443.443.443.443.443.443.443.443.443.443.443.443.443.443.443.443.443.443.443.443.443.443.443.443.443.443.443.443.443.443.443.443.443.443.443.443.443.443.443.443.443.443.443.443.443.443.443.443.443.443.443.443.443.443.443.443.443.443.443.443.443.443.443.443.443.443.443.443.443.443.443.443.443.443.443.443.443.443.443.443.443.443.443.443.443.444.314.314.314.314.314.314.314.314.314.314.314.314.314.314.314.314.314.314.314.314.314.314.314.314.314.314.314.314.314.314.314.314.314.314.314.314.314.314.314.314.314.314.314.314.314.314.314.314.314.314.314.314.314.314.314.314.314.314.314.314.314.314.314.314.314.314.314.314.314.314.314.314.314.314.314.314.314.314.314.314.314.314.314.314.314.314.314.314.314.314.314.314.314.314.314.314.314.314.314.314.314.314.314.314.314.314.314.314.314.314.314.314.314.314.314.314.314.314.094.094.094.094.094.094.094.094.094.094.094.094.094.093.853.853.853.853.853.853.853.853.853.853.853.853.853.853.853.853.853.853.853.853.853.853.853.853.853.853.853.853.853.853.853.853.853.853.853.853.853.853.853.853.853.853.853.853.853.853.853.853.853.853.853.853.853.853.853.853.853.853.853.853.853.853.853.853.853.853.853.853.853.853.853.853.853.853.853.853.853.853.853.853.853.853.853.853.853.853.853.853.853.853.853.853.853.853.853.853.853.853.853.853.853.853.853.853.853.853.853.853.853.853.853.853.853.853.853.853.853.853.853.853.853.853.853.853.853.853.853.853.853.853.853.853.853.853.853.853.853.853.853.853.853.853.853.853.853.853.853.853.853.853.853.853.853.853.853.853.853.853.853.853.853.853.853.853.854.304.304.304.304.304.304.524.524.524.524.524.524.524.524.524.524.524.524.524.524.524.524.524.524.524.524.524.524.524.524.524.524.524.524.524.524.524.524.524.524.524.524.524.524.524.524.524.524.524.524.524.524.524.524.524.524.524.524.524.524.524.524.524.524.524.524.524.524.524.524.524.524.524.524.524.524.524.524.524.524.524.524.524.524.524.524.524.524.524.524.524.524.524.524.524.524.524.524.524.524.524.524.524.524.524.524.524.524.524.524.524.524.524.524.524.524.524.524.524.524.294.294.294.294.294.294.294.294.294.294.294.294.294.294.294.294.294.294.294.294.294.294.294.294.294.294.294.294.294.294.294.294.294.294.294.294.294.294.294.294.294.294.294.294.294.294.294.294.294.294.294.294.294.294.294.294.294.294.294.294.294.294.294.294.294.294.294.294.294.294.294.294.294.294.294.294.294.294.294.294.294.294.294.294.294.294.294.294.294.294.294.294.294.294.294.294.294.294.294.294.294.294.294.294.294.294.294.294.294.294.294.294.294.294.294.294.294.294.294.294.294.294.294.294.294.294.294.294.294.294.294.294.294.294.294.294.294.294.294.294.294.294.294.294.294.294.294.294.294.294.294.294.294.294.294.294.294.294.294.294.294.294.294.294.294.294.294.294.294.294.294.294.294.294.294.294.294.294.294.294.294.294.294.294.294.294.294.294.294.294.294.294.294.294.294.294.294.294.294.294.294.294.294.294.294.294.294.294.294.294.294.294.294.294.294.294.294.294.294.294.294.294.294.294.294.294.294.294.294.294.294.294.294.294.294.294.294.294.294.294.294.294.294.294.294.294.294.294.294.294.294.294.294.294.294.294.294.294.294.294.294.294.294.294.294.294.294.294.294.454.454.454.454.454.454.454.454.454.454.454.454.454.454.454.454.454.454.454.454.454.454.454.454.454.454.454.454.454.454.454.454.454.454.454.454.454.454.454.454.454.454.454.454.454.454.454.454.454.454.454.454.454.454.454.454.454.454.454.454.454.454.454.454.454.454.454.454.454.454.454.454.454.454.454.454.454.454.454.454.454.454.454.454.454.454.454.454.454.454.454.454.454.454.454.454.454.454.454.454.454.454.454.454.454.454.454.454.454.454.454.454.454.454.454.454.454.454.454.114.114.114.114.114.114.114.114.114.114.114.114.114.114.114.114.114.114.114.114.114.114.114.114.114.114.114.114.114.114.114.314.314.314.314.314.314.314.314.314.314.314.314.314.314.314.314.314.314.314.314.314.314.314.314.314.314.314.314.314.314.314.314.314.314.314.314.314.314.314.314.314.314.314.314.314.314.314.314.314.314.314.314.314.314.314.314.314.314.314.314.314.314.314.314.314.314.314.314.314.314.314.314.314.314.314.314.314.314.314.314.314.314.314.314.314.314.314.314.314.314.314.314.314.314.314.314.314.314.314.314.314.314.314.314.314.314.314.314.314.314.314.314.314.314.314.314.314.314.314.314.314.314.314.314.314.314.314.314.314.314.314.314.314.314.314.314.314.314.314.314.314.314.314.314.314.314.314.314.314.314.314.314.314.314.314.314.314.314.314.314.314.314.314.314.314.314.314.314.314.314.314.314.314.314.314.314.314.314.314.314.314.314.314.314.314.314.314.314.314.314.314.314.314.314.314.314.314.314.314.314.314.314.314.314.314.314.314.314.314.314.314.314.314.314.314.314.314.314.314.314.314.314.314.314.314.314.314.314.314.314.314.314.314.314.314.314.314.314.314.314.314.314.314.314.314.314.314.314.314.314.314.314.314.314.314.314.314.314.314.314.314.314.314.314.314.314.314.314.314.314.474.473.763.763.763.763.763.763.763.763.763.763.763.763.763.763.763.763.763.763.763.763.763.763.763.763.763.763.763.763.763.763.763.763.763.763.763.763.763.763.763.763.763.763.763.763.763.763.763.763.763.763.763.763.763.763.763.763.763.763.763.763.763.763.763.763.763.763.763.763.763.763.763.763.763.763.763.763.763.763.763.763.763.763.763.763.763.763.763.763.763.763.763.763.763.763.763.763.763.763.763.763.763.763.763.763.763.763.763.763.763.763.763.763.763.763.763.763.763.763.763.763.763.763.763.763.763.763.763.763.763.763.763.763.763.763.763.763.763.763.763.763.763.763.763.763.763.763.763.763.763.763.763.763.763.763.763.763.763.763.763.763.763.763.763.763.763.763.763.763.763.763.763.763.763.763.763.763.763.763.763.763.763.763.763.763.763.763.763.763.763.763.763.763.763.763.763.763.763.763.763.763.763.763.763.763.763.763.763.763.763.763.763.763.763.763.763.763.763.763.763.763.763.763.763.763.763.763.763.763.763.763.763.763.763.763.763.763.763.763.763.763.763.763.763.763.763.763.763.763.763.763.763.763.763.763.763.763.763.763.763.763.763.763.763.763.763.763.763.763.763.764.074.284.284.284.284.284.284.284.284.284.284.284.284.284.284.284.284.284.284.284.284.284.284.284.284.284.284.284.284.284.284.284.284.284.284.284.284.284.284.284.284.284.284.284.284.284.284.284.284.284.284.284.284.284.284.284.284.284.284.284.284.284.284.284.284.284.284.284.284.284.284.284.284.284.284.284.284.284.284.284.284.284.284.284.284.284.284.284.284.284.284.284.284.284.284.284.284.284.284.284.284.284.284.284.284.284.284.284.284.284.284.284.284.284.284.284.284.284.284.284.284.284.284.284.284.284.284.284.284.284.284.284.284.284.284.284.284.284.284.284.284.284.284.284.284.284.284.284.284.284.284.284.284.284.284.284.284.284.284.284.284.284.284.284.284.284.284.284.284.284.284.284.284.284.284.284.284.284.284.284.284.284.284.284.284.284.284.284.284.284.284.284.284.284.284.284.284.284.284.284.284.284.284.284.284.284.284.284.284.284.284.284.284.284.284.284.284.284.284.284.284.284.284.284.284.284.284.284.284.284.284.284.284.284.284.284.284.284.284.284.284.284.284.284.284.284.284.284.284.284.284.284.284.284.284.284.284.284.284.284.284.284.284.284.284.284.284.284.284.284.124.124.124.124.124.124.124.124.124.124.124.124.124.124.124.124.124.124.124.124.124.124.124.124.124.124.124.124.124.124.124.124.124.124.124.124.124.124.124.124.124.124.124.124.124.124.124.124.124.124.124.124.124.124.124.124.124.124.124.124.124.124.124.124.124.124.124.124.124.124.124.124.124.124.124.124.124.124.124.124.124.124.124.124.124.124.124.124.124.124.124.124.124.124.124.124.124.124.124.124.124.124.124.124.124.124.124.124.124.124.124.124.124.124.124.124.124.124.124.124.124.124.124.124.124.124.124.124.124.124.124.124.124.124.124.124.124.124.124.124.124.124.124.124.124.124.124.124.124.124.124.124.124.124.124.124.124.124.124.124.124.124.124.124.124.124.124.124.124.124.124.124.124.124.124.124.124.124.124.124.124.124.124.124.124.124.124.124.124.124.124.124.124.124.124.124.124.124.124.124.124.124.124.124.124.124.124.124.124.124.124.124.124.124.124.124.124.124.124.124.124.124.124.124.124.124.124.124.124.124.124.124.124.124.124.124.124.124.124.124.124.124.124.124.124.124.124.124.124.124.124.124.124.124.124.124.124.124.124.124.124.124.124.124.124.124.124.124.124.124.194.194.194.194.194.194.194.194.194.194.194.194.194.194.194.194.194.194.194.194.194.194.194.194.194.194.194.194.194.194.194.194.194.194.194.194.194.194.194.194.194.194.194.194.194.194.194.194.194.194.194.194.194.194.194.194.194.194.194.194.194.194.194.194.194.194.194.194.194.194.194.194.194.194.194.194.194.194.194.194.194.194.194.194.194.194.194.194.194.194.194.194.194.194.194.194.194.194.194.194.194.194.194.194.194.194.194.194.194.194.194.194.194.194.194.194.194.194.194.194.194.194.194.194.194.194.194.194.194.194.194.194.194.194.194.194.194.194.194.194.194.194.194.194.194.194.194.194.194.194.194.194.194.194.194.194.194.194.194.194.194.194.194.194.194.194.194.194.194.194.194.194.194.194.194.194.194.194.194.194.194.194.194.194.194.194.194.194.194.194.194.194.194.194.194.194.194.194.194.194.194.194.194.194.194.194.194.194.194.194.194.194.194.194.194.194.194.194.194.194.194.194.194.194.194.194.194.194.194.194.194.194.194.194.194.194.194.194.194.194.194.194.194.194.194.194.194.194.194.194.194.194.194.194.194.194.194.194.194.194.194.194.194.194.194.194.194.194.194.134.134.134.134.134.134.134.134.134.134.134.134.134.134.134.134.134.134.134.134.134.134.134.134.134.134.134.134.134.134.134.134.134.134.134.134.134.134.134.134.134.134.134.134.134.134.134.134.134.134.134.134.134.134.134.134.134.134.134.134.134.134.134.134.134.134.134.134.134.134.134.134.134.134.134.134.134.134.134.134.134.134.134.134.134.134.134.134.134.134.134.134.134.134.134.134.134.134.134.134.134.134.134.134.134.134.134.134.134.134.134.134.134.134.134.134.134.134.134.134.134.134.134.134.134.134.134.134.134.134.134.134.134.134.134.134.134.134.134.134.134.134.134.134.134.134.134.134.134.134.134.134.134.134.134.134.134.134.134.134.134.134.134.134.134.134.134.134.134.134.134.134.134.134.134.134.134.134.134.134.134.134.134.134.134.134.134.134.134.134.134.134.134.134.134.134.134.134.134.134.134.134.134.134.134.134.134.134.134.134.134.134.134.134.134.134.134.134.134.134.134.134.134.134.134.134.134.134.134.134.134.134.134.134.134.134.134.134.134.134.134.134.134.134.134.134.134.134.134.134.134.134.134.134.134.134.134.134.134.134.134.134.134.134.134.134.134.134.354.354.354.354.354.354.354.354.354.354.354.354.354.354.354.354.354.354.354.354.354.354.354.354.354.354.354.354.354.354.354.354.354.354.354.354.354.354.354.354.354.354.354.354.354.354.354.354.354.354.354.354.354.354.354.354.354.354.354.354.354.354.354.354.354.354.354.354.354.354.354.354.354.354.354.354.354.354.354.354.354.354.354.354.354.354.354.354.354.354.354.354.354.354.354.354.354.354.354.354.354.354.354.354.354.354.354.354.354.354.354.354.354.354.354.354.354.354.354.354.354.354.354.354.354.354.354.354.354.354.354.354.354.354.354.354.354.354.354.354.354.354.354.354.354.354.354.354.354.354.354.354.354.354.354.354.354.354.354.354.354.354.354.354.354.354.354.354.354.354.354.354.354.354.354.354.354.354.354.354.354.354.354.354.354.354.354.354.354.354.354.354.354.354.354.354.354.354.354.354.354.354.354.354.354.354.354.354.354.354.354.354.354.354.354.354.354.354.354.354.354.354.354.354.354.354.354.354.354.354.354.354.354.354.354.354.354.354.354.354.354.354.354.354.354.354.354.354.354.354.354.354.354.354.354.354.354.354.354.354.354.354.354.354.354.354.354.354.354.354.374.374.374.374.374.374.374.374.374.374.374.374.374.374.374.374.374.374.374.374.374.374.374.374.374.374.374.374.374.374.374.374.374.374.374.374.374.374.374.374.374.374.374.374.374.374.374.374.374.374.374.374.374.374.374.374.374.374.374.374.374.374.374.374.374.374.374.374.374.374.374.374.374.374.374.374.374.374.374.374.374.374.374.374.374.374.374.374.374.374.374.374.374.374.374.374.374.374.374.374.374.374.374.374.374.374.374.374.374.374.374.374.374.374.374.374.374.374.374.374.374.374.374.374.374.374.374.374.374.374.374.374.374.374.374.374.374.374.374.374.374.374.374.374.374.374.374.374.374.374.374.374.374.374.374.374.374.374.374.374.374.374.374.374.374.374.374.374.374.374.374.374.374.374.374.374.374.374.374.374.374.374.374.374.374.374.374.374.374.374.374.374.374.374.374.374.374.374.374.374.374.374.374.374.374.374.374.374.374.374.374.374.374.374.374.374.374.374.374.374.374.374.374.374.374.374.374.374.374.374.374.374.374.374.374.374.374.374.374.374.374.374.374.374.374.374.374.374.374.374.374.374.374.374.374.374.374.374.374.374.374.374.374.374.374.374.374.374.374.374.374.334.334.334.334.334.334.334.334.334.334.334.334.334.334.334.334.334.334.334.334.334.334.334.334.334.334.334.334.334.334.334.334.334.334.334.334.334.334.334.334.334.334.334.334.334.334.334.334.334.334.334.334.334.334.334.334.334.334.334.334.334.334.334.334.334.334.334.334.334.334.334.334.334.334.334.334.334.334.334.334.334.334.334.334.334.334.334.334.334.334.334.334.334.334.334.334.334.334.334.334.334.334.334.334.334.334.334.334.334.334.334.334.334.334.334.334.334.334.334.334.234.234.234.234.234.234.234.234.234.234.234.234.234.234.234.234.234.234.234.234.234.234.234.234.234.234.234.234.234.234.234.234.234.234.234.234.234.234.234.234.234.234.234.234.234.234.234.234.234.234.234.234.234.234.234.234.234.234.234.464.464.464.464.464.464.464.464.464.464.464.464.464.464.464.464.464.464.464.464.464.464.464.464.464.464.464.464.464.464.464.464.464.464.464.464.464.464.464.464.464.464.464.464.464.464.464.464.464.464.464.464.464.464.464.464.464.464.464.464.464.464.464.464.464.464.464.464.464.464.464.464.464.464.464.464.464.464.464.464.464.464.464.464.464.464.464.464.464.464.464.464.464.464.464.464.464.464.464.464.464.464.464.464.464.464.464.464.464.464.464.464.464.464.464.464.464.464.464.464.464.464.464.464.464.464.464.464.464.464.464.464.464.464.464.464.464.464.464.464.464.464.464.464.464.464.464.464.464.464.464.464.464.464.464.464.464.464.464.464.464.464.464.464.464.464.464.464.464.464.464.464.464.464.464.464.464.464.464.464.464.464.464.464.464.464.464.464.464.464.464.464.464.464.464.464.464.464.464.464.464.464.464.464.464.464.464.464.464.464.464.464.464.464.464.464.464.464.464.464.464.464.464.464.464.464.464.464.464.464.464.464.464.464.464.464.464.464.464.464.464.464.464.464.464.464.464.464.464.464.464.464.464.464.464.464.464.464.464.464.464.464.464.464.464.464.464.464.464.464.464.574.574.574.574.574.574.574.574.574.574.574.574.574.574.574.574.574.574.574.574.574.574.574.574.574.574.574.574.574.574.574.574.574.574.574.574.574.574.574.574.574.574.574.574.574.574.574.574.574.574.574.574.574.574.574.574.574.574.574.574.574.574.574.574.574.574.574.574.574.574.574.574.574.574.574.574.574.574.574.574.574.574.574.574.574.574.574.574.574.574.574.574.574.574.574.574.574.574.574.574.574.574.574.574.574.574.574.574.574.574.574.574.574.574.574.574.574.574.574.574.574.574.574.574.574.574.574.574.574.574.574.574.574.574.574.574.574.574.574.574.574.574.574.574.574.574.574.574.574.574.574.574.574.574.574.574.574.574.574.574.574.574.574.574.574.574.574.574.574.574.574.574.574.574.574.574.574.574.574.574.574.574.574.574.574.574.574.574.574.574.574.574.574.574.574.574.574.574.574.574.574.574.574.574.574.574.574.574.574.574.574.574.574.574.574.574.574.574.574.574.574.574.574.574.574.574.574.574.574.574.574.574.574.574.574.574.574.574.574.574.574.574.574.574.574.574.574.574.574.574.574.574.574.574.574.574.574.574.574.574.574.574.574.574.574.574.574.574.574.574.314.314.314.314.314.314.314.314.314.314.314.314.314.314.314.314.314.314.314.314.314.314.314.314.314.314.314.314.314.314.314.314.314.314.314.314.314.314.314.314.314.314.314.314.314.314.314.314.314.314.314.314.314.314.314.314.314.314.314.314.314.314.314.314.314.314.314.314.314.314.314.314.314.314.314.314.314.314.314.314.314.314.314.314.314.314.314.314.314.314.314.314.314.314.314.314.314.314.314.314.314.314.314.314.314.314.314.314.314.314.314.314.314.314.314.314.314.314.314.314.314.314.314.314.314.314.314.314.314.314.314.314.314.314.314.314.314.314.314.314.314.314.314.314.314.314.314.314.314.314.314.314.314.314.314.314.314.314.314.314.314.314.314.314.314.314.314.314.314.314.314.314.314.314.314.314.314.314.314.314.314.314.314.314.314.314.314.314.314.314.314.314.314.314.314.314.314.314.314.314.314.314.314.314.314.314.314.314.314.314.314.314.314.314.314.314.314.314.314.314.314.314.314.314.314.314.314.314.314.314.314.314.314.314.314.314.314.314.314.314.314.314.314.314.314.314.314.314.314.314.314.314.314.314.314.314.314.314.314.314.314.314.314.314.314.314.314.314.314.314.124.124.124.124.124.124.124.124.124.124.124.124.124.124.124.124.124.124.124.124.124.124.124.124.124.124.124.124.124.124.124.124.124.124.124.124.124.124.124.124.124.124.124.124.124.124.124.124.124.124.124.124.124.124.124.124.124.124.124.124.124.124.124.124.124.124.124.124.124.124.124.124.124.124.124.124.124.124.124.124.124.124.124.124.124.124.124.124.124.124.124.124.124.124.124.124.124.124.124.124.124.124.124.124.124.124.124.124.124.124.124.124.124.124.124.124.124.124.124.124.124.124.124.124.124.124.124.124.124.124.124.124.124.124.124.124.124.124.124.124.124.124.124.124.124.124.124.124.124.124.124.124.124.124.124.124.124.124.124.124.124.124.124.124.124.124.124.124.124.124.124.124.124.124.124.124.124.124.124.124.074.074.074.074.074.074.074.074.074.074.074.074.074.074.074.074.074.074.074.074.074.074.074.074.074.074.074.074.074.074.074.074.074.074.074.074.074.074.074.074.074.074.074.074.074.074.074.074.074.074.074.074.074.074.074.074.074.074.074.074.074.074.074.074.074.074.074.074.074.074.074.074.074.074.074.074.074.074.074.074.074.074.074.074.074.074.074.074.074.074.074.074.074.074.074.074.074.074.074.074.074.074.074.074.074.074.074.074.074.074.074.074.074.074.074.074.074.074.074.074.074.074.074.074.074.074.074.074.074.074.074.074.074.074.074.074.074.074.074.074.074.074.074.074.074.074.074.074.074.074.074.074.074.074.074.074.074.074.074.074.074.074.074.074.074.074.074.074.074.074.074.074.074.074.074.074.074.074.074.074.074.074.074.074.074.074.074.074.074.074.074.074.074.074.074.074.074.074.074.074.074.074.074.074.074.074.074.074.074.074.074.074.074.074.074.074.074.074.074.074.074.074.074.074.074.074.074.074.074.074.074.074.074.074.074.074.074.074.074.074.074.074.074.074.074.074.074.074.074.074.074.074.074.074.074.074.074.074.074.074.074.074.074.074.074.074.074.074.074.174.174.174.174.174.174.174.174.174.174.174.174.174.174.174.174.174.174.174.174.174.174.174.174.174.174.174.174.174.174.174.174.174.174.174.174.174.174.174.174.174.174.174.174.174.174.174.174.174.174.174.174.174.174.174.174.174.174.174.174.174.174.174.174.174.174.174.174.174.174.174.174.174.174.174.174.174.174.174.174.174.174.174.174.174.174.174.174.174.174.174.174.174.174.174.174.174.174.174.174.174.174.174.174.174.174.174.174.174.174.174.174.174.174.174.174.174.174.174.174.174.174.174.174.174.174.174.174.174.174.174.174.174.174.174.174.174.174.174.174.174.174.174.174.174.174.174.174.174.174.174.174.174.174.174.174.174.174.174.174.174.174.174.174.174.174.174.174.174.174.174.174.174.174.174.174.174.174.174.174.174.174.174.174.174.174.174.174.174.174.174.174.174.174.174.174.174.174.174.174.174.174.174.174.174.174.174.174.174.174.174.174.174.174.174.174.174.174.174.174.174.174.174.174.174.174.174.174.174.174.174.174.174.174.174.174.174.174.174.174.174.174.174.174.174.174.174.174.174.174.174.174.174.174.174.174.174.174.174.174.174.174.174.174.174.174.174.174.304.304.304.304.304.304.304.304.304.304.304.304.304.304.304.304.304.304.304.304.304.304.304.304.304.304.304.304.304.304.304.304.304.304.304.304.304.304.304.304.304.304.304.304.304.304.304.304.304.304.304.304.304.304.304.304.304.304.304.304.304.304.304.304.304.304.304.304.304.304.304.304.304.304.304.304.304.304.304.304.304.304.304.304.304.304.304.304.304.304.304.304.304.304.304.304.304.304.304.304.304.304.304.304.304.304.304.304.304.304.304.304.304.304.304.304.304.304.304.304.304.304.304.304.304.304.304.304.304.304.304.304.304.304.304.304.304.304.304.304.304.304.304.304.304.304.304.304.304.304.304.304.304.304.304.304.304.304.304.304.304.304.304.304.304.304.304.304.304.304.304.304.304.304.304.304.304.304.304.304.304.304.304.304.304.304.304.304.304.304.304.304.304.304.304.304.304.304.304.304.304.304.304.304.304.304.304.304.304.304.304.304.304.304.304.304.304.304.304.304.304.304.304.304.304.304.304.304.304.304.304.304.304.304.304.304.304.304.304.304.304.304.304.304.304.304.304.304.304.304.304.304.304.304.304.304.304.304.304.304.304.304.304.304.304.304.304.304.304.364.364.364.364.364.364.364.364.364.364.364.364.364.364.364.364.364.364.364.364.364.364.364.364.364.364.364.364.364.364.364.364.364.364.364.364.364.364.364.364.364.364.364.364.364.364.364.364.364.364.364.364.364.364.364.364.364.364.364.364.364.364.364.364.364.364.364.364.364.364.364.364.364.364.364.364.364.364.364.364.364.364.364.364.364.364.364.364.364.364.364.364.364.364.364.364.364.364.364.364.364.364.364.364.364.364.364.364.364.364.364.364.364.364.364.364.364.364.364.364.364.364.364.364.364.364.364.364.364.364.364.364.364.364.364.364.364.364.364.364.364.364.364.364.364.364.364.364.364.364.364.364.364.364.364.364.364.364.364.364.364.364.364.364.364.364.364.364.364.364.364.364.364.364.364.364.364.364.364.364.364.364.364.364.364.364.364.364.364.364.364.364.364.364.364.364.364.364.364.364.364.364.364.364.364.364.364.364.364.364.364.364.364.364.364.364.364.364.364.364.364.364.364.364.364.364.364.364.364.364.364.364.364.364.364.364.364.364.364.364.364.364.364.364.364.364.364.364.364.364.364.364.364.364.364.364.364.364.364.364.364.364.364.364.364.364.364.364.364.363.893.893.893.893.893.893.893.893.893.893.893.893.893.893.893.893.893.893.893.893.893.893.893.893.893.893.893.893.893.893.893.893.893.893.893.893.893.893.893.893.893.893.893.893.893.893.893.893.893.893.893.893.893.893.893.893.893.893.893.893.893.893.893.893.893.893.893.893.893.893.893.893.893.893.893.893.893.893.893.893.893.893.893.893.893.893.893.893.893.893.893.893.893.893.893.893.893.893.893.893.893.893.893.893.893.893.893.893.893.893.893.893.893.893.893.893.893.893.893.893.893.893.893.893.893.893.893.893.893.893.893.893.893.893.893.893.893.893.893.893.893.893.893.893.893.893.893.893.893.893.893.893.893.893.893.893.893.893.893.893.893.893.893.893.893.893.893.893.893.893.893.893.893.893.893.893.893.893.893.893.893.893.893.893.893.893.893.893.893.893.893.893.893.893.893.893.893.893.893.893.893.893.893.893.893.893.893.893.893.893.893.893.893.893.893.893.893.893.893.893.893.893.893.893.893.893.893.893.893.893.893.893.893.893.893.893.893.893.893.893.893.893.893.893.893.893.893.893.893.893.893.893.893.893.893.893.893.893.893.893.893.893.893.893.893.893.893.893.893.893.873.873.873.873.873.873.873.873.873.873.873.873.873.873.873.873.873.873.873.873.873.873.873.873.873.873.873.873.873.873.873.873.873.873.873.873.873.873.873.873.873.873.873.873.873.873.873.873.873.873.873.873.873.873.873.873.873.873.873.873.873.873.873.873.873.873.873.873.873.873.873.873.873.873.873.873.873.873.873.873.873.873.873.873.873.873.873.873.873.873.873.873.873.873.873.873.873.873.873.873.873.873.873.873.873.873.873.873.873.873.873.873.873.873.873.873.873.873.873.873.873.873.873.873.873.873.873.873.873.873.873.873.873.873.873.873.873.873.873.873.873.873.873.873.873.873.873.873.873.873.873.873.873.873.873.873.873.873.873.873.873.873.873.873.873.873.873.873.873.873.873.873.873.873.873.873.873.873.873.873.873.873.873.873.873.873.873.873.873.873.873.873.873.873.873.873.873.873.873.873.873.873.873.873.873.873.873.873.873.873.873.873.873.873.873.873.873.873.873.873.873.873.873.873.873.873.873.873.873.873.873.873.873.873.873.873.873.873.873.873.873.873.873.873.873.873.873.873.873.873.873.873.873.873.873.873.873.873.873.873.873.873.873.873.873.873.873.873.874.324.324.324.324.324.324.324.324.324.324.324.324.324.324.324.324.324.324.324.324.324.324.324.324.324.324.324.324.324.324.324.324.324.324.324.324.324.324.324.324.324.324.324.324.324.324.324.324.324.324.324.324.324.324.324.324.324.324.324.324.324.324.324.324.324.324.324.324.324.324.324.324.324.324.324.324.324.324.324.324.324.324.324.324.324.324.324.324.324.324.324.324.324.324.324.324.324.324.324.324.324.324.324.324.324.324.324.324.324.324.324.324.324.324.324.324.324.324.324.324.324.324.324.324.324.324.324.324.324.324.324.324.324.324.324.324.324.324.324.324.324.324.324.324.324.324.324.324.324.324.324.324.324.324.324.324.324.324.324.324.324.324.324.324.324.324.324.324.324.324.324.324.324.324.324.324.324.324.324.324.324.324.324.324.324.324.324.324.324.324.324.324.324.324.324.324.324.324.324.324.324.324.324.324.324.324.324.324.324.324.324.324.324.324.324.324.324.324.324.324.324.324.324.324.324.324.324.324.324.324.324.324.324.324.324.324.324.324.324.324.324.324.324.324.324.324.324.324.324.324.324.324.324.324.324.324.324.324.324.324.324.324.324.324.324.324.324.324.324.32 to numeric",
     "output_type": "error",
     "traceback": [
      "\u001b[0;31m---------------------------------------------------------------------------\u001b[0m",
      "\u001b[0;31mValueError\u001b[0m                                Traceback (most recent call last)",
      "\u001b[0;32m/opt/anaconda3/lib/python3.8/site-packages/pandas/core/nanops.py\u001b[0m in \u001b[0;36m_ensure_numeric\u001b[0;34m(x)\u001b[0m\n\u001b[1;32m   1302\u001b[0m         \u001b[0;32mtry\u001b[0m\u001b[0;34m:\u001b[0m\u001b[0;34m\u001b[0m\u001b[0;34m\u001b[0m\u001b[0m\n\u001b[0;32m-> 1303\u001b[0;31m             \u001b[0mx\u001b[0m \u001b[0;34m=\u001b[0m \u001b[0mfloat\u001b[0m\u001b[0;34m(\u001b[0m\u001b[0mx\u001b[0m\u001b[0;34m)\u001b[0m\u001b[0;34m\u001b[0m\u001b[0;34m\u001b[0m\u001b[0m\n\u001b[0m\u001b[1;32m   1304\u001b[0m         \u001b[0;32mexcept\u001b[0m \u001b[0mValueError\u001b[0m\u001b[0;34m:\u001b[0m\u001b[0;34m\u001b[0m\u001b[0;34m\u001b[0m\u001b[0m\n",
      "\u001b[0;31mValueError\u001b[0m: could not convert string to float: '3.993.993.993.993.993.993.993.993.993.993.993.993.993.993.994.164.164.164.164.164.164.164.164.164.164.164.164.164.164.164.164.164.164.164.164.164.164.164.164.164.164.164.164.164.164.164.164.164.164.164.164.164.164.164.164.164.164.164.164.164.164.164.164.164.164.164.164.164.164.164.164.164.164.164.164.164.164.164.164.164.164.164.164.164.164.164.164.164.164.164.164.164.164.164.164.164.164.164.164.164.164.164.164.164.164.164.164.164.164.164.164.164.164.164.164.164.164.164.164.164.164.164.164.164.164.164.164.164.164.163.853.853.853.853.853.853.853.853.854.254.254.254.254.254.254.254.254.254.254.254.254.254.254.254.254.254.254.254.254.254.254.254.254.254.254.254.254.254.254.254.254.254.254.254.254.254.254.254.254.254.254.254.254.254.254.254.254.254.254.254.254.254.254.254.254.254.254.254.254.254.254.254.254.254.254.254.254.254.254.254.254.254.254.254.254.254.254.254.254.254.254.254.254.254.254.254.254.254.254.254.254.254.254.254.254.254.254.254.254.254.254.254.254.254.254.254.254.254.254.254.254.254.254.253.883.883.883.883.883.883.883.883.883.883.883.883.883.883.883.883.883.883.883.883.883.883.883.883.883.883.883.883.883.883.883.883.883.883.883.883.883.883.883.883.883.883.883.883.883.883.883.883.883.883.883.883.883.883.883.883.883.883.883.883.883.883.883.883.883.883.883.883.883.883.883.883.883.883.883.883.883.883.883.883.883.883.883.883.883.883.883.883.883.883.883.883.883.883.883.883.883.883.883.883.883.883.883.883.883.883.883.883.883.883.883.883.883.883.883.883.883.883.884.284.284.284.284.284.284.284.284.284.284.284.284.284.284.284.284.284.284.284.284.284.284.284.284.284.284.284.284.284.284.284.284.284.284.284.284.284.284.284.284.284.284.284.284.284.284.284.284.284.284.284.284.284.284.284.284.284.284.284.284.284.284.284.284.284.284.284.284.284.284.284.284.284.284.284.284.284.284.284.284.284.284.284.284.284.284.284.284.284.284.284.284.284.284.284.284.284.284.284.284.284.284.284.284.284.284.284.284.284.284.284.284.284.284.284.284.284.284.284.284.284.284.284.284.284.284.284.284.284.284.284.284.284.284.284.284.284.284.284.284.284.284.284.284.284.284.284.284.284.284.284.284.284.284.284.284.284.284.284.284.284.284.284.284.284.284.284.284.284.284.284.284.284.284.284.284.284.284.284.284.284.284.284.284.284.284.284.284.284.284.284.284.284.284.284.284.284.284.284.284.284.284.284.284.284.284.284.284.283.443.443.443.443.443.443.443.443.443.443.443.443.443.443.443.443.443.443.443.443.443.443.443.443.443.443.443.443.443.443.443.443.443.443.443.443.443.443.443.443.443.443.443.443.443.443.443.443.443.443.443.443.443.443.443.443.443.443.443.443.443.443.443.443.443.443.443.443.443.443.443.443.443.443.443.443.443.443.443.443.443.443.443.443.443.443.443.443.443.443.443.443.443.443.443.443.443.443.443.443.443.443.443.443.443.443.443.443.443.444.314.314.314.314.314.314.314.314.314.314.314.314.314.314.314.314.314.314.314.314.314.314.314.314.314.314.314.314.314.314.314.314.314.314.314.314.314.314.314.314.314.314.314.314.314.314.314.314.314.314.314.314.314.314.314.314.314.314.314.314.314.314.314.314.314.314.314.314.314.314.314.314.314.314.314.314.314.314.314.314.314.314.314.314.314.314.314.314.314.314.314.314.314.314.314.314.314.314.314.314.314.314.314.314.314.314.314.314.314.314.314.314.314.314.314.314.314.314.094.094.094.094.094.094.094.094.094.094.094.094.094.093.853.853.853.853.853.853.853.853.853.853.853.853.853.853.853.853.853.853.853.853.853.853.853.853.853.853.853.853.853.853.853.853.853.853.853.853.853.853.853.853.853.853.853.853.853.853.853.853.853.853.853.853.853.853.853.853.853.853.853.853.853.853.853.853.853.853.853.853.853.853.853.853.853.853.853.853.853.853.853.853.853.853.853.853.853.853.853.853.853.853.853.853.853.853.853.853.853.853.853.853.853.853.853.853.853.853.853.853.853.853.853.853.853.853.853.853.853.853.853.853.853.853.853.853.853.853.853.853.853.853.853.853.853.853.853.853.853.853.853.853.853.853.853.853.853.853.853.853.853.853.853.853.853.853.853.853.853.853.853.853.853.853.853.853.854.304.304.304.304.304.304.524.524.524.524.524.524.524.524.524.524.524.524.524.524.524.524.524.524.524.524.524.524.524.524.524.524.524.524.524.524.524.524.524.524.524.524.524.524.524.524.524.524.524.524.524.524.524.524.524.524.524.524.524.524.524.524.524.524.524.524.524.524.524.524.524.524.524.524.524.524.524.524.524.524.524.524.524.524.524.524.524.524.524.524.524.524.524.524.524.524.524.524.524.524.524.524.524.524.524.524.524.524.524.524.524.524.524.524.524.524.524.524.524.524.294.294.294.294.294.294.294.294.294.294.294.294.294.294.294.294.294.294.294.294.294.294.294.294.294.294.294.294.294.294.294.294.294.294.294.294.294.294.294.294.294.294.294.294.294.294.294.294.294.294.294.294.294.294.294.294.294.294.294.294.294.294.294.294.294.294.294.294.294.294.294.294.294.294.294.294.294.294.294.294.294.294.294.294.294.294.294.294.294.294.294.294.294.294.294.294.294.294.294.294.294.294.294.294.294.294.294.294.294.294.294.294.294.294.294.294.294.294.294.294.294.294.294.294.294.294.294.294.294.294.294.294.294.294.294.294.294.294.294.294.294.294.294.294.294.294.294.294.294.294.294.294.294.294.294.294.294.294.294.294.294.294.294.294.294.294.294.294.294.294.294.294.294.294.294.294.294.294.294.294.294.294.294.294.294.294.294.294.294.294.294.294.294.294.294.294.294.294.294.294.294.294.294.294.294.294.294.294.294.294.294.294.294.294.294.294.294.294.294.294.294.294.294.294.294.294.294.294.294.294.294.294.294.294.294.294.294.294.294.294.294.294.294.294.294.294.294.294.294.294.294.294.294.294.294.294.294.294.294.294.294.294.294.294.294.294.294.294.294.454.454.454.454.454.454.454.454.454.454.454.454.454.454.454.454.454.454.454.454.454.454.454.454.454.454.454.454.454.454.454.454.454.454.454.454.454.454.454.454.454.454.454.454.454.454.454.454.454.454.454.454.454.454.454.454.454.454.454.454.454.454.454.454.454.454.454.454.454.454.454.454.454.454.454.454.454.454.454.454.454.454.454.454.454.454.454.454.454.454.454.454.454.454.454.454.454.454.454.454.454.454.454.454.454.454.454.454.454.454.454.454.454.454.454.454.454.454.454.114.114.114.114.114.114.114.114.114.114.114.114.114.114.114.114.114.114.114.114.114.114.114.114.114.114.114.114.114.114.114.314.314.314.314.314.314.314.314.314.314.314.314.314.314.314.314.314.314.314.314.314.314.314.314.314.314.314.314.314.314.314.314.314.314.314.314.314.314.314.314.314.314.314.314.314.314.314.314.314.314.314.314.314.314.314.314.314.314.314.314.314.314.314.314.314.314.314.314.314.314.314.314.314.314.314.314.314.314.314.314.314.314.314.314.314.314.314.314.314.314.314.314.314.314.314.314.314.314.314.314.314.314.314.314.314.314.314.314.314.314.314.314.314.314.314.314.314.314.314.314.314.314.314.314.314.314.314.314.314.314.314.314.314.314.314.314.314.314.314.314.314.314.314.314.314.314.314.314.314.314.314.314.314.314.314.314.314.314.314.314.314.314.314.314.314.314.314.314.314.314.314.314.314.314.314.314.314.314.314.314.314.314.314.314.314.314.314.314.314.314.314.314.314.314.314.314.314.314.314.314.314.314.314.314.314.314.314.314.314.314.314.314.314.314.314.314.314.314.314.314.314.314.314.314.314.314.314.314.314.314.314.314.314.314.314.314.314.314.314.314.314.314.314.314.314.314.314.314.314.314.314.314.314.314.314.314.314.314.314.314.314.314.314.314.314.314.314.314.314.314.474.473.763.763.763.763.763.763.763.763.763.763.763.763.763.763.763.763.763.763.763.763.763.763.763.763.763.763.763.763.763.763.763.763.763.763.763.763.763.763.763.763.763.763.763.763.763.763.763.763.763.763.763.763.763.763.763.763.763.763.763.763.763.763.763.763.763.763.763.763.763.763.763.763.763.763.763.763.763.763.763.763.763.763.763.763.763.763.763.763.763.763.763.763.763.763.763.763.763.763.763.763.763.763.763.763.763.763.763.763.763.763.763.763.763.763.763.763.763.763.763.763.763.763.763.763.763.763.763.763.763.763.763.763.763.763.763.763.763.763.763.763.763.763.763.763.763.763.763.763.763.763.763.763.763.763.763.763.763.763.763.763.763.763.763.763.763.763.763.763.763.763.763.763.763.763.763.763.763.763.763.763.763.763.763.763.763.763.763.763.763.763.763.763.763.763.763.763.763.763.763.763.763.763.763.763.763.763.763.763.763.763.763.763.763.763.763.763.763.763.763.763.763.763.763.763.763.763.763.763.763.763.763.763.763.763.763.763.763.763.763.763.763.763.763.763.763.763.763.763.763.763.763.763.763.763.763.763.763.763.763.763.763.763.763.763.763.763.763.763.763.764.074.284.284.284.284.284.284.284.284.284.284.284.284.284.284.284.284.284.284.284.284.284.284.284.284.284.284.284.284.284.284.284.284.284.284.284.284.284.284.284.284.284.284.284.284.284.284.284.284.284.284.284.284.284.284.284.284.284.284.284.284.284.284.284.284.284.284.284.284.284.284.284.284.284.284.284.284.284.284.284.284.284.284.284.284.284.284.284.284.284.284.284.284.284.284.284.284.284.284.284.284.284.284.284.284.284.284.284.284.284.284.284.284.284.284.284.284.284.284.284.284.284.284.284.284.284.284.284.284.284.284.284.284.284.284.284.284.284.284.284.284.284.284.284.284.284.284.284.284.284.284.284.284.284.284.284.284.284.284.284.284.284.284.284.284.284.284.284.284.284.284.284.284.284.284.284.284.284.284.284.284.284.284.284.284.284.284.284.284.284.284.284.284.284.284.284.284.284.284.284.284.284.284.284.284.284.284.284.284.284.284.284.284.284.284.284.284.284.284.284.284.284.284.284.284.284.284.284.284.284.284.284.284.284.284.284.284.284.284.284.284.284.284.284.284.284.284.284.284.284.284.284.284.284.284.284.284.284.284.284.284.284.284.284.284.284.284.284.284.284.124.124.124.124.124.124.124.124.124.124.124.124.124.124.124.124.124.124.124.124.124.124.124.124.124.124.124.124.124.124.124.124.124.124.124.124.124.124.124.124.124.124.124.124.124.124.124.124.124.124.124.124.124.124.124.124.124.124.124.124.124.124.124.124.124.124.124.124.124.124.124.124.124.124.124.124.124.124.124.124.124.124.124.124.124.124.124.124.124.124.124.124.124.124.124.124.124.124.124.124.124.124.124.124.124.124.124.124.124.124.124.124.124.124.124.124.124.124.124.124.124.124.124.124.124.124.124.124.124.124.124.124.124.124.124.124.124.124.124.124.124.124.124.124.124.124.124.124.124.124.124.124.124.124.124.124.124.124.124.124.124.124.124.124.124.124.124.124.124.124.124.124.124.124.124.124.124.124.124.124.124.124.124.124.124.124.124.124.124.124.124.124.124.124.124.124.124.124.124.124.124.124.124.124.124.124.124.124.124.124.124.124.124.124.124.124.124.124.124.124.124.124.124.124.124.124.124.124.124.124.124.124.124.124.124.124.124.124.124.124.124.124.124.124.124.124.124.124.124.124.124.124.124.124.124.124.124.124.124.124.124.124.124.124.124.124.124.124.124.124.194.194.194.194.194.194.194.194.194.194.194.194.194.194.194.194.194.194.194.194.194.194.194.194.194.194.194.194.194.194.194.194.194.194.194.194.194.194.194.194.194.194.194.194.194.194.194.194.194.194.194.194.194.194.194.194.194.194.194.194.194.194.194.194.194.194.194.194.194.194.194.194.194.194.194.194.194.194.194.194.194.194.194.194.194.194.194.194.194.194.194.194.194.194.194.194.194.194.194.194.194.194.194.194.194.194.194.194.194.194.194.194.194.194.194.194.194.194.194.194.194.194.194.194.194.194.194.194.194.194.194.194.194.194.194.194.194.194.194.194.194.194.194.194.194.194.194.194.194.194.194.194.194.194.194.194.194.194.194.194.194.194.194.194.194.194.194.194.194.194.194.194.194.194.194.194.194.194.194.194.194.194.194.194.194.194.194.194.194.194.194.194.194.194.194.194.194.194.194.194.194.194.194.194.194.194.194.194.194.194.194.194.194.194.194.194.194.194.194.194.194.194.194.194.194.194.194.194.194.194.194.194.194.194.194.194.194.194.194.194.194.194.194.194.194.194.194.194.194.194.194.194.194.194.194.194.194.194.194.194.194.194.194.194.194.194.194.194.194.134.134.134.134.134.134.134.134.134.134.134.134.134.134.134.134.134.134.134.134.134.134.134.134.134.134.134.134.134.134.134.134.134.134.134.134.134.134.134.134.134.134.134.134.134.134.134.134.134.134.134.134.134.134.134.134.134.134.134.134.134.134.134.134.134.134.134.134.134.134.134.134.134.134.134.134.134.134.134.134.134.134.134.134.134.134.134.134.134.134.134.134.134.134.134.134.134.134.134.134.134.134.134.134.134.134.134.134.134.134.134.134.134.134.134.134.134.134.134.134.134.134.134.134.134.134.134.134.134.134.134.134.134.134.134.134.134.134.134.134.134.134.134.134.134.134.134.134.134.134.134.134.134.134.134.134.134.134.134.134.134.134.134.134.134.134.134.134.134.134.134.134.134.134.134.134.134.134.134.134.134.134.134.134.134.134.134.134.134.134.134.134.134.134.134.134.134.134.134.134.134.134.134.134.134.134.134.134.134.134.134.134.134.134.134.134.134.134.134.134.134.134.134.134.134.134.134.134.134.134.134.134.134.134.134.134.134.134.134.134.134.134.134.134.134.134.134.134.134.134.134.134.134.134.134.134.134.134.134.134.134.134.134.134.134.134.134.134.354.354.354.354.354.354.354.354.354.354.354.354.354.354.354.354.354.354.354.354.354.354.354.354.354.354.354.354.354.354.354.354.354.354.354.354.354.354.354.354.354.354.354.354.354.354.354.354.354.354.354.354.354.354.354.354.354.354.354.354.354.354.354.354.354.354.354.354.354.354.354.354.354.354.354.354.354.354.354.354.354.354.354.354.354.354.354.354.354.354.354.354.354.354.354.354.354.354.354.354.354.354.354.354.354.354.354.354.354.354.354.354.354.354.354.354.354.354.354.354.354.354.354.354.354.354.354.354.354.354.354.354.354.354.354.354.354.354.354.354.354.354.354.354.354.354.354.354.354.354.354.354.354.354.354.354.354.354.354.354.354.354.354.354.354.354.354.354.354.354.354.354.354.354.354.354.354.354.354.354.354.354.354.354.354.354.354.354.354.354.354.354.354.354.354.354.354.354.354.354.354.354.354.354.354.354.354.354.354.354.354.354.354.354.354.354.354.354.354.354.354.354.354.354.354.354.354.354.354.354.354.354.354.354.354.354.354.354.354.354.354.354.354.354.354.354.354.354.354.354.354.354.354.354.354.354.354.354.354.354.354.354.354.354.354.354.354.354.354.354.374.374.374.374.374.374.374.374.374.374.374.374.374.374.374.374.374.374.374.374.374.374.374.374.374.374.374.374.374.374.374.374.374.374.374.374.374.374.374.374.374.374.374.374.374.374.374.374.374.374.374.374.374.374.374.374.374.374.374.374.374.374.374.374.374.374.374.374.374.374.374.374.374.374.374.374.374.374.374.374.374.374.374.374.374.374.374.374.374.374.374.374.374.374.374.374.374.374.374.374.374.374.374.374.374.374.374.374.374.374.374.374.374.374.374.374.374.374.374.374.374.374.374.374.374.374.374.374.374.374.374.374.374.374.374.374.374.374.374.374.374.374.374.374.374.374.374.374.374.374.374.374.374.374.374.374.374.374.374.374.374.374.374.374.374.374.374.374.374.374.374.374.374.374.374.374.374.374.374.374.374.374.374.374.374.374.374.374.374.374.374.374.374.374.374.374.374.374.374.374.374.374.374.374.374.374.374.374.374.374.374.374.374.374.374.374.374.374.374.374.374.374.374.374.374.374.374.374.374.374.374.374.374.374.374.374.374.374.374.374.374.374.374.374.374.374.374.374.374.374.374.374.374.374.374.374.374.374.374.374.374.374.374.374.374.374.374.374.374.374.374.334.334.334.334.334.334.334.334.334.334.334.334.334.334.334.334.334.334.334.334.334.334.334.334.334.334.334.334.334.334.334.334.334.334.334.334.334.334.334.334.334.334.334.334.334.334.334.334.334.334.334.334.334.334.334.334.334.334.334.334.334.334.334.334.334.334.334.334.334.334.334.334.334.334.334.334.334.334.334.334.334.334.334.334.334.334.334.334.334.334.334.334.334.334.334.334.334.334.334.334.334.334.334.334.334.334.334.334.334.334.334.334.334.334.334.334.334.334.334.334.234.234.234.234.234.234.234.234.234.234.234.234.234.234.234.234.234.234.234.234.234.234.234.234.234.234.234.234.234.234.234.234.234.234.234.234.234.234.234.234.234.234.234.234.234.234.234.234.234.234.234.234.234.234.234.234.234.234.234.464.464.464.464.464.464.464.464.464.464.464.464.464.464.464.464.464.464.464.464.464.464.464.464.464.464.464.464.464.464.464.464.464.464.464.464.464.464.464.464.464.464.464.464.464.464.464.464.464.464.464.464.464.464.464.464.464.464.464.464.464.464.464.464.464.464.464.464.464.464.464.464.464.464.464.464.464.464.464.464.464.464.464.464.464.464.464.464.464.464.464.464.464.464.464.464.464.464.464.464.464.464.464.464.464.464.464.464.464.464.464.464.464.464.464.464.464.464.464.464.464.464.464.464.464.464.464.464.464.464.464.464.464.464.464.464.464.464.464.464.464.464.464.464.464.464.464.464.464.464.464.464.464.464.464.464.464.464.464.464.464.464.464.464.464.464.464.464.464.464.464.464.464.464.464.464.464.464.464.464.464.464.464.464.464.464.464.464.464.464.464.464.464.464.464.464.464.464.464.464.464.464.464.464.464.464.464.464.464.464.464.464.464.464.464.464.464.464.464.464.464.464.464.464.464.464.464.464.464.464.464.464.464.464.464.464.464.464.464.464.464.464.464.464.464.464.464.464.464.464.464.464.464.464.464.464.464.464.464.464.464.464.464.464.464.464.464.464.464.464.464.574.574.574.574.574.574.574.574.574.574.574.574.574.574.574.574.574.574.574.574.574.574.574.574.574.574.574.574.574.574.574.574.574.574.574.574.574.574.574.574.574.574.574.574.574.574.574.574.574.574.574.574.574.574.574.574.574.574.574.574.574.574.574.574.574.574.574.574.574.574.574.574.574.574.574.574.574.574.574.574.574.574.574.574.574.574.574.574.574.574.574.574.574.574.574.574.574.574.574.574.574.574.574.574.574.574.574.574.574.574.574.574.574.574.574.574.574.574.574.574.574.574.574.574.574.574.574.574.574.574.574.574.574.574.574.574.574.574.574.574.574.574.574.574.574.574.574.574.574.574.574.574.574.574.574.574.574.574.574.574.574.574.574.574.574.574.574.574.574.574.574.574.574.574.574.574.574.574.574.574.574.574.574.574.574.574.574.574.574.574.574.574.574.574.574.574.574.574.574.574.574.574.574.574.574.574.574.574.574.574.574.574.574.574.574.574.574.574.574.574.574.574.574.574.574.574.574.574.574.574.574.574.574.574.574.574.574.574.574.574.574.574.574.574.574.574.574.574.574.574.574.574.574.574.574.574.574.574.574.574.574.574.574.574.574.574.574.574.574.574.314.314.314.314.314.314.314.314.314.314.314.314.314.314.314.314.314.314.314.314.314.314.314.314.314.314.314.314.314.314.314.314.314.314.314.314.314.314.314.314.314.314.314.314.314.314.314.314.314.314.314.314.314.314.314.314.314.314.314.314.314.314.314.314.314.314.314.314.314.314.314.314.314.314.314.314.314.314.314.314.314.314.314.314.314.314.314.314.314.314.314.314.314.314.314.314.314.314.314.314.314.314.314.314.314.314.314.314.314.314.314.314.314.314.314.314.314.314.314.314.314.314.314.314.314.314.314.314.314.314.314.314.314.314.314.314.314.314.314.314.314.314.314.314.314.314.314.314.314.314.314.314.314.314.314.314.314.314.314.314.314.314.314.314.314.314.314.314.314.314.314.314.314.314.314.314.314.314.314.314.314.314.314.314.314.314.314.314.314.314.314.314.314.314.314.314.314.314.314.314.314.314.314.314.314.314.314.314.314.314.314.314.314.314.314.314.314.314.314.314.314.314.314.314.314.314.314.314.314.314.314.314.314.314.314.314.314.314.314.314.314.314.314.314.314.314.314.314.314.314.314.314.314.314.314.314.314.314.314.314.314.314.314.314.314.314.314.314.314.314.124.124.124.124.124.124.124.124.124.124.124.124.124.124.124.124.124.124.124.124.124.124.124.124.124.124.124.124.124.124.124.124.124.124.124.124.124.124.124.124.124.124.124.124.124.124.124.124.124.124.124.124.124.124.124.124.124.124.124.124.124.124.124.124.124.124.124.124.124.124.124.124.124.124.124.124.124.124.124.124.124.124.124.124.124.124.124.124.124.124.124.124.124.124.124.124.124.124.124.124.124.124.124.124.124.124.124.124.124.124.124.124.124.124.124.124.124.124.124.124.124.124.124.124.124.124.124.124.124.124.124.124.124.124.124.124.124.124.124.124.124.124.124.124.124.124.124.124.124.124.124.124.124.124.124.124.124.124.124.124.124.124.124.124.124.124.124.124.124.124.124.124.124.124.124.124.124.124.124.124.074.074.074.074.074.074.074.074.074.074.074.074.074.074.074.074.074.074.074.074.074.074.074.074.074.074.074.074.074.074.074.074.074.074.074.074.074.074.074.074.074.074.074.074.074.074.074.074.074.074.074.074.074.074.074.074.074.074.074.074.074.074.074.074.074.074.074.074.074.074.074.074.074.074.074.074.074.074.074.074.074.074.074.074.074.074.074.074.074.074.074.074.074.074.074.074.074.074.074.074.074.074.074.074.074.074.074.074.074.074.074.074.074.074.074.074.074.074.074.074.074.074.074.074.074.074.074.074.074.074.074.074.074.074.074.074.074.074.074.074.074.074.074.074.074.074.074.074.074.074.074.074.074.074.074.074.074.074.074.074.074.074.074.074.074.074.074.074.074.074.074.074.074.074.074.074.074.074.074.074.074.074.074.074.074.074.074.074.074.074.074.074.074.074.074.074.074.074.074.074.074.074.074.074.074.074.074.074.074.074.074.074.074.074.074.074.074.074.074.074.074.074.074.074.074.074.074.074.074.074.074.074.074.074.074.074.074.074.074.074.074.074.074.074.074.074.074.074.074.074.074.074.074.074.074.074.074.074.074.074.074.074.074.074.074.074.074.074.074.174.174.174.174.174.174.174.174.174.174.174.174.174.174.174.174.174.174.174.174.174.174.174.174.174.174.174.174.174.174.174.174.174.174.174.174.174.174.174.174.174.174.174.174.174.174.174.174.174.174.174.174.174.174.174.174.174.174.174.174.174.174.174.174.174.174.174.174.174.174.174.174.174.174.174.174.174.174.174.174.174.174.174.174.174.174.174.174.174.174.174.174.174.174.174.174.174.174.174.174.174.174.174.174.174.174.174.174.174.174.174.174.174.174.174.174.174.174.174.174.174.174.174.174.174.174.174.174.174.174.174.174.174.174.174.174.174.174.174.174.174.174.174.174.174.174.174.174.174.174.174.174.174.174.174.174.174.174.174.174.174.174.174.174.174.174.174.174.174.174.174.174.174.174.174.174.174.174.174.174.174.174.174.174.174.174.174.174.174.174.174.174.174.174.174.174.174.174.174.174.174.174.174.174.174.174.174.174.174.174.174.174.174.174.174.174.174.174.174.174.174.174.174.174.174.174.174.174.174.174.174.174.174.174.174.174.174.174.174.174.174.174.174.174.174.174.174.174.174.174.174.174.174.174.174.174.174.174.174.174.174.174.174.174.174.174.174.174.304.304.304.304.304.304.304.304.304.304.304.304.304.304.304.304.304.304.304.304.304.304.304.304.304.304.304.304.304.304.304.304.304.304.304.304.304.304.304.304.304.304.304.304.304.304.304.304.304.304.304.304.304.304.304.304.304.304.304.304.304.304.304.304.304.304.304.304.304.304.304.304.304.304.304.304.304.304.304.304.304.304.304.304.304.304.304.304.304.304.304.304.304.304.304.304.304.304.304.304.304.304.304.304.304.304.304.304.304.304.304.304.304.304.304.304.304.304.304.304.304.304.304.304.304.304.304.304.304.304.304.304.304.304.304.304.304.304.304.304.304.304.304.304.304.304.304.304.304.304.304.304.304.304.304.304.304.304.304.304.304.304.304.304.304.304.304.304.304.304.304.304.304.304.304.304.304.304.304.304.304.304.304.304.304.304.304.304.304.304.304.304.304.304.304.304.304.304.304.304.304.304.304.304.304.304.304.304.304.304.304.304.304.304.304.304.304.304.304.304.304.304.304.304.304.304.304.304.304.304.304.304.304.304.304.304.304.304.304.304.304.304.304.304.304.304.304.304.304.304.304.304.304.304.304.304.304.304.304.304.304.304.304.304.304.304.304.304.304.364.364.364.364.364.364.364.364.364.364.364.364.364.364.364.364.364.364.364.364.364.364.364.364.364.364.364.364.364.364.364.364.364.364.364.364.364.364.364.364.364.364.364.364.364.364.364.364.364.364.364.364.364.364.364.364.364.364.364.364.364.364.364.364.364.364.364.364.364.364.364.364.364.364.364.364.364.364.364.364.364.364.364.364.364.364.364.364.364.364.364.364.364.364.364.364.364.364.364.364.364.364.364.364.364.364.364.364.364.364.364.364.364.364.364.364.364.364.364.364.364.364.364.364.364.364.364.364.364.364.364.364.364.364.364.364.364.364.364.364.364.364.364.364.364.364.364.364.364.364.364.364.364.364.364.364.364.364.364.364.364.364.364.364.364.364.364.364.364.364.364.364.364.364.364.364.364.364.364.364.364.364.364.364.364.364.364.364.364.364.364.364.364.364.364.364.364.364.364.364.364.364.364.364.364.364.364.364.364.364.364.364.364.364.364.364.364.364.364.364.364.364.364.364.364.364.364.364.364.364.364.364.364.364.364.364.364.364.364.364.364.364.364.364.364.364.364.364.364.364.364.364.364.364.364.364.364.364.364.364.364.364.364.364.364.364.364.364.364.363.893.893.893.893.893.893.893.893.893.893.893.893.893.893.893.893.893.893.893.893.893.893.893.893.893.893.893.893.893.893.893.893.893.893.893.893.893.893.893.893.893.893.893.893.893.893.893.893.893.893.893.893.893.893.893.893.893.893.893.893.893.893.893.893.893.893.893.893.893.893.893.893.893.893.893.893.893.893.893.893.893.893.893.893.893.893.893.893.893.893.893.893.893.893.893.893.893.893.893.893.893.893.893.893.893.893.893.893.893.893.893.893.893.893.893.893.893.893.893.893.893.893.893.893.893.893.893.893.893.893.893.893.893.893.893.893.893.893.893.893.893.893.893.893.893.893.893.893.893.893.893.893.893.893.893.893.893.893.893.893.893.893.893.893.893.893.893.893.893.893.893.893.893.893.893.893.893.893.893.893.893.893.893.893.893.893.893.893.893.893.893.893.893.893.893.893.893.893.893.893.893.893.893.893.893.893.893.893.893.893.893.893.893.893.893.893.893.893.893.893.893.893.893.893.893.893.893.893.893.893.893.893.893.893.893.893.893.893.893.893.893.893.893.893.893.893.893.893.893.893.893.893.893.893.893.893.893.893.893.893.893.893.893.893.893.893.893.893.893.893.873.873.873.873.873.873.873.873.873.873.873.873.873.873.873.873.873.873.873.873.873.873.873.873.873.873.873.873.873.873.873.873.873.873.873.873.873.873.873.873.873.873.873.873.873.873.873.873.873.873.873.873.873.873.873.873.873.873.873.873.873.873.873.873.873.873.873.873.873.873.873.873.873.873.873.873.873.873.873.873.873.873.873.873.873.873.873.873.873.873.873.873.873.873.873.873.873.873.873.873.873.873.873.873.873.873.873.873.873.873.873.873.873.873.873.873.873.873.873.873.873.873.873.873.873.873.873.873.873.873.873.873.873.873.873.873.873.873.873.873.873.873.873.873.873.873.873.873.873.873.873.873.873.873.873.873.873.873.873.873.873.873.873.873.873.873.873.873.873.873.873.873.873.873.873.873.873.873.873.873.873.873.873.873.873.873.873.873.873.873.873.873.873.873.873.873.873.873.873.873.873.873.873.873.873.873.873.873.873.873.873.873.873.873.873.873.873.873.873.873.873.873.873.873.873.873.873.873.873.873.873.873.873.873.873.873.873.873.873.873.873.873.873.873.873.873.873.873.873.873.873.873.873.873.873.873.873.873.873.873.873.873.873.873.873.873.873.873.874.324.324.324.324.324.324.324.324.324.324.324.324.324.324.324.324.324.324.324.324.324.324.324.324.324.324.324.324.324.324.324.324.324.324.324.324.324.324.324.324.324.324.324.324.324.324.324.324.324.324.324.324.324.324.324.324.324.324.324.324.324.324.324.324.324.324.324.324.324.324.324.324.324.324.324.324.324.324.324.324.324.324.324.324.324.324.324.324.324.324.324.324.324.324.324.324.324.324.324.324.324.324.324.324.324.324.324.324.324.324.324.324.324.324.324.324.324.324.324.324.324.324.324.324.324.324.324.324.324.324.324.324.324.324.324.324.324.324.324.324.324.324.324.324.324.324.324.324.324.324.324.324.324.324.324.324.324.324.324.324.324.324.324.324.324.324.324.324.324.324.324.324.324.324.324.324.324.324.324.324.324.324.324.324.324.324.324.324.324.324.324.324.324.324.324.324.324.324.324.324.324.324.324.324.324.324.324.324.324.324.324.324.324.324.324.324.324.324.324.324.324.324.324.324.324.324.324.324.324.324.324.324.324.324.324.324.324.324.324.324.324.324.324.324.324.324.324.324.324.324.324.324.324.324.324.324.324.324.324.324.324.324.324.324.324.324.324.324.324.32'",
      "\nDuring handling of the above exception, another exception occurred:\n",
      "\u001b[0;31mValueError\u001b[0m                                Traceback (most recent call last)",
      "\u001b[0;32m/opt/anaconda3/lib/python3.8/site-packages/pandas/core/nanops.py\u001b[0m in \u001b[0;36m_ensure_numeric\u001b[0;34m(x)\u001b[0m\n\u001b[1;32m   1306\u001b[0m             \u001b[0;32mtry\u001b[0m\u001b[0;34m:\u001b[0m\u001b[0;34m\u001b[0m\u001b[0;34m\u001b[0m\u001b[0m\n\u001b[0;32m-> 1307\u001b[0;31m                 \u001b[0mx\u001b[0m \u001b[0;34m=\u001b[0m \u001b[0mcomplex\u001b[0m\u001b[0;34m(\u001b[0m\u001b[0mx\u001b[0m\u001b[0;34m)\u001b[0m\u001b[0;34m\u001b[0m\u001b[0;34m\u001b[0m\u001b[0m\n\u001b[0m\u001b[1;32m   1308\u001b[0m             \u001b[0;32mexcept\u001b[0m \u001b[0mValueError\u001b[0m\u001b[0;34m:\u001b[0m\u001b[0;34m\u001b[0m\u001b[0;34m\u001b[0m\u001b[0m\n",
      "\u001b[0;31mValueError\u001b[0m: complex() arg is a malformed string",
      "\nDuring handling of the above exception, another exception occurred:\n",
      "\u001b[0;31mTypeError\u001b[0m                                 Traceback (most recent call last)",
      "\u001b[0;32m<ipython-input-54-68be4e424d15>\u001b[0m in \u001b[0;36m<module>\u001b[0;34m\u001b[0m\n\u001b[1;32m      1\u001b[0m \u001b[0;31m#y= comb_df.sort_values('average_rating', ascending=False)\u001b[0m\u001b[0;34m\u001b[0m\u001b[0;34m\u001b[0m\u001b[0;34m\u001b[0m\u001b[0m\n\u001b[1;32m      2\u001b[0m \u001b[0mplt\u001b[0m\u001b[0;34m.\u001b[0m\u001b[0mfigure\u001b[0m\u001b[0;34m(\u001b[0m\u001b[0mfigsize\u001b[0m\u001b[0;34m=\u001b[0m\u001b[0;34m(\u001b[0m\u001b[0;36m30\u001b[0m\u001b[0;34m,\u001b[0m\u001b[0;36m20\u001b[0m\u001b[0;34m)\u001b[0m\u001b[0;34m)\u001b[0m\u001b[0;34m\u001b[0m\u001b[0;34m\u001b[0m\u001b[0m\n\u001b[0;32m----> 3\u001b[0;31m \u001b[0msns\u001b[0m\u001b[0;34m.\u001b[0m\u001b[0mbarplot\u001b[0m\u001b[0;34m(\u001b[0m\u001b[0mx\u001b[0m\u001b[0;34m=\u001b[0m\u001b[0mcomb_df7\u001b[0m\u001b[0;34m[\u001b[0m\u001b[0;34m'genre'\u001b[0m\u001b[0;34m]\u001b[0m\u001b[0;34m,\u001b[0m\u001b[0my\u001b[0m\u001b[0;34m=\u001b[0m\u001b[0mdf10\u001b[0m\u001b[0;34m[\u001b[0m\u001b[0;34m'average_rating'\u001b[0m\u001b[0;34m]\u001b[0m\u001b[0;34m)\u001b[0m\u001b[0;34m\u001b[0m\u001b[0;34m\u001b[0m\u001b[0m\n\u001b[0m\u001b[1;32m      4\u001b[0m \u001b[0mplt\u001b[0m\u001b[0;34m.\u001b[0m\u001b[0mxticks\u001b[0m\u001b[0;34m(\u001b[0m\u001b[0mrotation\u001b[0m\u001b[0;34m=\u001b[0m \u001b[0;36m80\u001b[0m\u001b[0;34m,\u001b[0m \u001b[0msize\u001b[0m\u001b[0;34m=\u001b[0m \u001b[0;36m20\u001b[0m\u001b[0;34m)\u001b[0m\u001b[0;34m\u001b[0m\u001b[0;34m\u001b[0m\u001b[0m\n\u001b[1;32m      5\u001b[0m \u001b[0mplt\u001b[0m\u001b[0;34m.\u001b[0m\u001b[0myticks\u001b[0m\u001b[0;34m(\u001b[0m\u001b[0msize\u001b[0m\u001b[0;34m=\u001b[0m \u001b[0;36m20\u001b[0m\u001b[0;34m)\u001b[0m\u001b[0;34m\u001b[0m\u001b[0;34m\u001b[0m\u001b[0m\n",
      "\u001b[0;32m/opt/anaconda3/lib/python3.8/site-packages/seaborn/categorical.py\u001b[0m in \u001b[0;36mbarplot\u001b[0;34m(x, y, hue, data, order, hue_order, estimator, ci, n_boot, units, seed, orient, color, palette, saturation, errcolor, errwidth, capsize, dodge, ax, **kwargs)\u001b[0m\n\u001b[1;32m   3142\u001b[0m             ax=None, **kwargs):\n\u001b[1;32m   3143\u001b[0m \u001b[0;34m\u001b[0m\u001b[0m\n\u001b[0;32m-> 3144\u001b[0;31m     plotter = _BarPlotter(x, y, hue, data, order, hue_order,\n\u001b[0m\u001b[1;32m   3145\u001b[0m                           \u001b[0mestimator\u001b[0m\u001b[0;34m,\u001b[0m \u001b[0mci\u001b[0m\u001b[0;34m,\u001b[0m \u001b[0mn_boot\u001b[0m\u001b[0;34m,\u001b[0m \u001b[0munits\u001b[0m\u001b[0;34m,\u001b[0m \u001b[0mseed\u001b[0m\u001b[0;34m,\u001b[0m\u001b[0;34m\u001b[0m\u001b[0;34m\u001b[0m\u001b[0m\n\u001b[1;32m   3146\u001b[0m                           \u001b[0morient\u001b[0m\u001b[0;34m,\u001b[0m \u001b[0mcolor\u001b[0m\u001b[0;34m,\u001b[0m \u001b[0mpalette\u001b[0m\u001b[0;34m,\u001b[0m \u001b[0msaturation\u001b[0m\u001b[0;34m,\u001b[0m\u001b[0;34m\u001b[0m\u001b[0;34m\u001b[0m\u001b[0m\n",
      "\u001b[0;32m/opt/anaconda3/lib/python3.8/site-packages/seaborn/categorical.py\u001b[0m in \u001b[0;36m__init__\u001b[0;34m(self, x, y, hue, data, order, hue_order, estimator, ci, n_boot, units, seed, orient, color, palette, saturation, errcolor, errwidth, capsize, dodge)\u001b[0m\n\u001b[1;32m   1603\u001b[0m                                  order, hue_order, units)\n\u001b[1;32m   1604\u001b[0m         \u001b[0mself\u001b[0m\u001b[0;34m.\u001b[0m\u001b[0mestablish_colors\u001b[0m\u001b[0;34m(\u001b[0m\u001b[0mcolor\u001b[0m\u001b[0;34m,\u001b[0m \u001b[0mpalette\u001b[0m\u001b[0;34m,\u001b[0m \u001b[0msaturation\u001b[0m\u001b[0;34m)\u001b[0m\u001b[0;34m\u001b[0m\u001b[0;34m\u001b[0m\u001b[0m\n\u001b[0;32m-> 1605\u001b[0;31m         \u001b[0mself\u001b[0m\u001b[0;34m.\u001b[0m\u001b[0mestimate_statistic\u001b[0m\u001b[0;34m(\u001b[0m\u001b[0mestimator\u001b[0m\u001b[0;34m,\u001b[0m \u001b[0mci\u001b[0m\u001b[0;34m,\u001b[0m \u001b[0mn_boot\u001b[0m\u001b[0;34m,\u001b[0m \u001b[0mseed\u001b[0m\u001b[0;34m)\u001b[0m\u001b[0;34m\u001b[0m\u001b[0;34m\u001b[0m\u001b[0m\n\u001b[0m\u001b[1;32m   1606\u001b[0m \u001b[0;34m\u001b[0m\u001b[0m\n\u001b[1;32m   1607\u001b[0m         \u001b[0mself\u001b[0m\u001b[0;34m.\u001b[0m\u001b[0mdodge\u001b[0m \u001b[0;34m=\u001b[0m \u001b[0mdodge\u001b[0m\u001b[0;34m\u001b[0m\u001b[0;34m\u001b[0m\u001b[0m\n",
      "\u001b[0;32m/opt/anaconda3/lib/python3.8/site-packages/seaborn/categorical.py\u001b[0m in \u001b[0;36mestimate_statistic\u001b[0;34m(self, estimator, ci, n_boot, seed)\u001b[0m\n\u001b[1;32m   1485\u001b[0m                     \u001b[0mstatistic\u001b[0m\u001b[0;34m.\u001b[0m\u001b[0mappend\u001b[0m\u001b[0;34m(\u001b[0m\u001b[0mnp\u001b[0m\u001b[0;34m.\u001b[0m\u001b[0mnan\u001b[0m\u001b[0;34m)\u001b[0m\u001b[0;34m\u001b[0m\u001b[0;34m\u001b[0m\u001b[0m\n\u001b[1;32m   1486\u001b[0m                 \u001b[0;32melse\u001b[0m\u001b[0;34m:\u001b[0m\u001b[0;34m\u001b[0m\u001b[0;34m\u001b[0m\u001b[0m\n\u001b[0;32m-> 1487\u001b[0;31m                     \u001b[0mstatistic\u001b[0m\u001b[0;34m.\u001b[0m\u001b[0mappend\u001b[0m\u001b[0;34m(\u001b[0m\u001b[0mestimator\u001b[0m\u001b[0;34m(\u001b[0m\u001b[0mstat_data\u001b[0m\u001b[0;34m)\u001b[0m\u001b[0;34m)\u001b[0m\u001b[0;34m\u001b[0m\u001b[0;34m\u001b[0m\u001b[0m\n\u001b[0m\u001b[1;32m   1488\u001b[0m \u001b[0;34m\u001b[0m\u001b[0m\n\u001b[1;32m   1489\u001b[0m                 \u001b[0;31m# Get a confidence interval for this estimate\u001b[0m\u001b[0;34m\u001b[0m\u001b[0;34m\u001b[0m\u001b[0;34m\u001b[0m\u001b[0m\n",
      "\u001b[0;32m<__array_function__ internals>\u001b[0m in \u001b[0;36mmean\u001b[0;34m(*args, **kwargs)\u001b[0m\n",
      "\u001b[0;32m/opt/anaconda3/lib/python3.8/site-packages/numpy/core/fromnumeric.py\u001b[0m in \u001b[0;36mmean\u001b[0;34m(a, axis, dtype, out, keepdims)\u001b[0m\n\u001b[1;32m   3330\u001b[0m             \u001b[0;32mpass\u001b[0m\u001b[0;34m\u001b[0m\u001b[0;34m\u001b[0m\u001b[0m\n\u001b[1;32m   3331\u001b[0m         \u001b[0;32melse\u001b[0m\u001b[0;34m:\u001b[0m\u001b[0;34m\u001b[0m\u001b[0;34m\u001b[0m\u001b[0m\n\u001b[0;32m-> 3332\u001b[0;31m             \u001b[0;32mreturn\u001b[0m \u001b[0mmean\u001b[0m\u001b[0;34m(\u001b[0m\u001b[0maxis\u001b[0m\u001b[0;34m=\u001b[0m\u001b[0maxis\u001b[0m\u001b[0;34m,\u001b[0m \u001b[0mdtype\u001b[0m\u001b[0;34m=\u001b[0m\u001b[0mdtype\u001b[0m\u001b[0;34m,\u001b[0m \u001b[0mout\u001b[0m\u001b[0;34m=\u001b[0m\u001b[0mout\u001b[0m\u001b[0;34m,\u001b[0m \u001b[0;34m**\u001b[0m\u001b[0mkwargs\u001b[0m\u001b[0;34m)\u001b[0m\u001b[0;34m\u001b[0m\u001b[0;34m\u001b[0m\u001b[0m\n\u001b[0m\u001b[1;32m   3333\u001b[0m \u001b[0;34m\u001b[0m\u001b[0m\n\u001b[1;32m   3334\u001b[0m     return _methods._mean(a, axis=axis, dtype=dtype,\n",
      "\u001b[0;32m/opt/anaconda3/lib/python3.8/site-packages/pandas/core/generic.py\u001b[0m in \u001b[0;36mstat_func\u001b[0;34m(self, axis, skipna, level, numeric_only, **kwargs)\u001b[0m\n\u001b[1;32m  11212\u001b[0m         \u001b[0;32mif\u001b[0m \u001b[0mlevel\u001b[0m \u001b[0;32mis\u001b[0m \u001b[0;32mnot\u001b[0m \u001b[0;32mNone\u001b[0m\u001b[0;34m:\u001b[0m\u001b[0;34m\u001b[0m\u001b[0;34m\u001b[0m\u001b[0m\n\u001b[1;32m  11213\u001b[0m             \u001b[0;32mreturn\u001b[0m \u001b[0mself\u001b[0m\u001b[0;34m.\u001b[0m\u001b[0m_agg_by_level\u001b[0m\u001b[0;34m(\u001b[0m\u001b[0mname\u001b[0m\u001b[0;34m,\u001b[0m \u001b[0maxis\u001b[0m\u001b[0;34m=\u001b[0m\u001b[0maxis\u001b[0m\u001b[0;34m,\u001b[0m \u001b[0mlevel\u001b[0m\u001b[0;34m=\u001b[0m\u001b[0mlevel\u001b[0m\u001b[0;34m,\u001b[0m \u001b[0mskipna\u001b[0m\u001b[0;34m=\u001b[0m\u001b[0mskipna\u001b[0m\u001b[0;34m)\u001b[0m\u001b[0;34m\u001b[0m\u001b[0;34m\u001b[0m\u001b[0m\n\u001b[0;32m> 11214\u001b[0;31m         return self._reduce(\n\u001b[0m\u001b[1;32m  11215\u001b[0m             \u001b[0mf\u001b[0m\u001b[0;34m,\u001b[0m \u001b[0mname\u001b[0m\u001b[0;34m,\u001b[0m \u001b[0maxis\u001b[0m\u001b[0;34m=\u001b[0m\u001b[0maxis\u001b[0m\u001b[0;34m,\u001b[0m \u001b[0mskipna\u001b[0m\u001b[0;34m=\u001b[0m\u001b[0mskipna\u001b[0m\u001b[0;34m,\u001b[0m \u001b[0mnumeric_only\u001b[0m\u001b[0;34m=\u001b[0m\u001b[0mnumeric_only\u001b[0m\u001b[0;34m\u001b[0m\u001b[0;34m\u001b[0m\u001b[0m\n\u001b[1;32m  11216\u001b[0m         )\n",
      "\u001b[0;32m/opt/anaconda3/lib/python3.8/site-packages/pandas/core/series.py\u001b[0m in \u001b[0;36m_reduce\u001b[0;34m(self, op, name, axis, skipna, numeric_only, filter_type, **kwds)\u001b[0m\n\u001b[1;32m   3889\u001b[0m                 )\n\u001b[1;32m   3890\u001b[0m             \u001b[0;32mwith\u001b[0m \u001b[0mnp\u001b[0m\u001b[0;34m.\u001b[0m\u001b[0merrstate\u001b[0m\u001b[0;34m(\u001b[0m\u001b[0mall\u001b[0m\u001b[0;34m=\u001b[0m\u001b[0;34m\"ignore\"\u001b[0m\u001b[0;34m)\u001b[0m\u001b[0;34m:\u001b[0m\u001b[0;34m\u001b[0m\u001b[0;34m\u001b[0m\u001b[0m\n\u001b[0;32m-> 3891\u001b[0;31m                 \u001b[0;32mreturn\u001b[0m \u001b[0mop\u001b[0m\u001b[0;34m(\u001b[0m\u001b[0mdelegate\u001b[0m\u001b[0;34m,\u001b[0m \u001b[0mskipna\u001b[0m\u001b[0;34m=\u001b[0m\u001b[0mskipna\u001b[0m\u001b[0;34m,\u001b[0m \u001b[0;34m**\u001b[0m\u001b[0mkwds\u001b[0m\u001b[0;34m)\u001b[0m\u001b[0;34m\u001b[0m\u001b[0;34m\u001b[0m\u001b[0m\n\u001b[0m\u001b[1;32m   3892\u001b[0m \u001b[0;34m\u001b[0m\u001b[0m\n\u001b[1;32m   3893\u001b[0m         \u001b[0;31m# TODO(EA) dispatch to Index\u001b[0m\u001b[0;34m\u001b[0m\u001b[0;34m\u001b[0m\u001b[0;34m\u001b[0m\u001b[0m\n",
      "\u001b[0;32m/opt/anaconda3/lib/python3.8/site-packages/pandas/core/nanops.py\u001b[0m in \u001b[0;36m_f\u001b[0;34m(*args, **kwargs)\u001b[0m\n\u001b[1;32m     67\u001b[0m             \u001b[0;32mtry\u001b[0m\u001b[0;34m:\u001b[0m\u001b[0;34m\u001b[0m\u001b[0;34m\u001b[0m\u001b[0m\n\u001b[1;32m     68\u001b[0m                 \u001b[0;32mwith\u001b[0m \u001b[0mnp\u001b[0m\u001b[0;34m.\u001b[0m\u001b[0merrstate\u001b[0m\u001b[0;34m(\u001b[0m\u001b[0minvalid\u001b[0m\u001b[0;34m=\u001b[0m\u001b[0;34m\"ignore\"\u001b[0m\u001b[0;34m)\u001b[0m\u001b[0;34m:\u001b[0m\u001b[0;34m\u001b[0m\u001b[0;34m\u001b[0m\u001b[0m\n\u001b[0;32m---> 69\u001b[0;31m                     \u001b[0;32mreturn\u001b[0m \u001b[0mf\u001b[0m\u001b[0;34m(\u001b[0m\u001b[0;34m*\u001b[0m\u001b[0margs\u001b[0m\u001b[0;34m,\u001b[0m \u001b[0;34m**\u001b[0m\u001b[0mkwargs\u001b[0m\u001b[0;34m)\u001b[0m\u001b[0;34m\u001b[0m\u001b[0;34m\u001b[0m\u001b[0m\n\u001b[0m\u001b[1;32m     70\u001b[0m             \u001b[0;32mexcept\u001b[0m \u001b[0mValueError\u001b[0m \u001b[0;32mas\u001b[0m \u001b[0me\u001b[0m\u001b[0;34m:\u001b[0m\u001b[0;34m\u001b[0m\u001b[0;34m\u001b[0m\u001b[0m\n\u001b[1;32m     71\u001b[0m                 \u001b[0;31m# we want to transform an object array\u001b[0m\u001b[0;34m\u001b[0m\u001b[0;34m\u001b[0m\u001b[0;34m\u001b[0m\u001b[0m\n",
      "\u001b[0;32m/opt/anaconda3/lib/python3.8/site-packages/pandas/core/nanops.py\u001b[0m in \u001b[0;36mf\u001b[0;34m(values, axis, skipna, **kwds)\u001b[0m\n\u001b[1;32m    123\u001b[0m                     \u001b[0mresult\u001b[0m \u001b[0;34m=\u001b[0m \u001b[0malt\u001b[0m\u001b[0;34m(\u001b[0m\u001b[0mvalues\u001b[0m\u001b[0;34m,\u001b[0m \u001b[0maxis\u001b[0m\u001b[0;34m=\u001b[0m\u001b[0maxis\u001b[0m\u001b[0;34m,\u001b[0m \u001b[0mskipna\u001b[0m\u001b[0;34m=\u001b[0m\u001b[0mskipna\u001b[0m\u001b[0;34m,\u001b[0m \u001b[0;34m**\u001b[0m\u001b[0mkwds\u001b[0m\u001b[0;34m)\u001b[0m\u001b[0;34m\u001b[0m\u001b[0;34m\u001b[0m\u001b[0m\n\u001b[1;32m    124\u001b[0m             \u001b[0;32melse\u001b[0m\u001b[0;34m:\u001b[0m\u001b[0;34m\u001b[0m\u001b[0;34m\u001b[0m\u001b[0m\n\u001b[0;32m--> 125\u001b[0;31m                 \u001b[0mresult\u001b[0m \u001b[0;34m=\u001b[0m \u001b[0malt\u001b[0m\u001b[0;34m(\u001b[0m\u001b[0mvalues\u001b[0m\u001b[0;34m,\u001b[0m \u001b[0maxis\u001b[0m\u001b[0;34m=\u001b[0m\u001b[0maxis\u001b[0m\u001b[0;34m,\u001b[0m \u001b[0mskipna\u001b[0m\u001b[0;34m=\u001b[0m\u001b[0mskipna\u001b[0m\u001b[0;34m,\u001b[0m \u001b[0;34m**\u001b[0m\u001b[0mkwds\u001b[0m\u001b[0;34m)\u001b[0m\u001b[0;34m\u001b[0m\u001b[0;34m\u001b[0m\u001b[0m\n\u001b[0m\u001b[1;32m    126\u001b[0m \u001b[0;34m\u001b[0m\u001b[0m\n\u001b[1;32m    127\u001b[0m             \u001b[0;32mreturn\u001b[0m \u001b[0mresult\u001b[0m\u001b[0;34m\u001b[0m\u001b[0;34m\u001b[0m\u001b[0m\n",
      "\u001b[0;32m/opt/anaconda3/lib/python3.8/site-packages/pandas/core/nanops.py\u001b[0m in \u001b[0;36mnanmean\u001b[0;34m(values, axis, skipna, mask)\u001b[0m\n\u001b[1;32m    540\u001b[0m         \u001b[0mdtype_count\u001b[0m \u001b[0;34m=\u001b[0m \u001b[0mdtype\u001b[0m\u001b[0;34m\u001b[0m\u001b[0;34m\u001b[0m\u001b[0m\n\u001b[1;32m    541\u001b[0m     \u001b[0mcount\u001b[0m \u001b[0;34m=\u001b[0m \u001b[0m_get_counts\u001b[0m\u001b[0;34m(\u001b[0m\u001b[0mvalues\u001b[0m\u001b[0;34m.\u001b[0m\u001b[0mshape\u001b[0m\u001b[0;34m,\u001b[0m \u001b[0mmask\u001b[0m\u001b[0;34m,\u001b[0m \u001b[0maxis\u001b[0m\u001b[0;34m,\u001b[0m \u001b[0mdtype\u001b[0m\u001b[0;34m=\u001b[0m\u001b[0mdtype_count\u001b[0m\u001b[0;34m)\u001b[0m\u001b[0;34m\u001b[0m\u001b[0;34m\u001b[0m\u001b[0m\n\u001b[0;32m--> 542\u001b[0;31m     \u001b[0mthe_sum\u001b[0m \u001b[0;34m=\u001b[0m \u001b[0m_ensure_numeric\u001b[0m\u001b[0;34m(\u001b[0m\u001b[0mvalues\u001b[0m\u001b[0;34m.\u001b[0m\u001b[0msum\u001b[0m\u001b[0;34m(\u001b[0m\u001b[0maxis\u001b[0m\u001b[0;34m,\u001b[0m \u001b[0mdtype\u001b[0m\u001b[0;34m=\u001b[0m\u001b[0mdtype_sum\u001b[0m\u001b[0;34m)\u001b[0m\u001b[0;34m)\u001b[0m\u001b[0;34m\u001b[0m\u001b[0;34m\u001b[0m\u001b[0m\n\u001b[0m\u001b[1;32m    543\u001b[0m \u001b[0;34m\u001b[0m\u001b[0m\n\u001b[1;32m    544\u001b[0m     \u001b[0;32mif\u001b[0m \u001b[0maxis\u001b[0m \u001b[0;32mis\u001b[0m \u001b[0;32mnot\u001b[0m \u001b[0;32mNone\u001b[0m \u001b[0;32mand\u001b[0m \u001b[0mgetattr\u001b[0m\u001b[0;34m(\u001b[0m\u001b[0mthe_sum\u001b[0m\u001b[0;34m,\u001b[0m \u001b[0;34m\"ndim\"\u001b[0m\u001b[0;34m,\u001b[0m \u001b[0;32mFalse\u001b[0m\u001b[0;34m)\u001b[0m\u001b[0;34m:\u001b[0m\u001b[0;34m\u001b[0m\u001b[0;34m\u001b[0m\u001b[0m\n",
      "\u001b[0;32m/opt/anaconda3/lib/python3.8/site-packages/pandas/core/nanops.py\u001b[0m in \u001b[0;36m_ensure_numeric\u001b[0;34m(x)\u001b[0m\n\u001b[1;32m   1308\u001b[0m             \u001b[0;32mexcept\u001b[0m \u001b[0mValueError\u001b[0m\u001b[0;34m:\u001b[0m\u001b[0;34m\u001b[0m\u001b[0;34m\u001b[0m\u001b[0m\n\u001b[1;32m   1309\u001b[0m                 \u001b[0;31m# e.g. \"foo\"\u001b[0m\u001b[0;34m\u001b[0m\u001b[0;34m\u001b[0m\u001b[0;34m\u001b[0m\u001b[0m\n\u001b[0;32m-> 1310\u001b[0;31m                 \u001b[0;32mraise\u001b[0m \u001b[0mTypeError\u001b[0m\u001b[0;34m(\u001b[0m\u001b[0;34mf\"Could not convert {x} to numeric\"\u001b[0m\u001b[0;34m)\u001b[0m\u001b[0;34m\u001b[0m\u001b[0;34m\u001b[0m\u001b[0m\n\u001b[0m\u001b[1;32m   1311\u001b[0m     \u001b[0;32mreturn\u001b[0m \u001b[0mx\u001b[0m\u001b[0;34m\u001b[0m\u001b[0;34m\u001b[0m\u001b[0m\n\u001b[1;32m   1312\u001b[0m \u001b[0;34m\u001b[0m\u001b[0m\n",
      "\u001b[0;31mTypeError\u001b[0m: Could not convert 3.993.993.993.993.993.993.993.993.993.993.993.993.993.993.994.164.164.164.164.164.164.164.164.164.164.164.164.164.164.164.164.164.164.164.164.164.164.164.164.164.164.164.164.164.164.164.164.164.164.164.164.164.164.164.164.164.164.164.164.164.164.164.164.164.164.164.164.164.164.164.164.164.164.164.164.164.164.164.164.164.164.164.164.164.164.164.164.164.164.164.164.164.164.164.164.164.164.164.164.164.164.164.164.164.164.164.164.164.164.164.164.164.164.164.164.164.164.164.164.164.164.164.164.164.164.164.164.164.164.163.853.853.853.853.853.853.853.853.854.254.254.254.254.254.254.254.254.254.254.254.254.254.254.254.254.254.254.254.254.254.254.254.254.254.254.254.254.254.254.254.254.254.254.254.254.254.254.254.254.254.254.254.254.254.254.254.254.254.254.254.254.254.254.254.254.254.254.254.254.254.254.254.254.254.254.254.254.254.254.254.254.254.254.254.254.254.254.254.254.254.254.254.254.254.254.254.254.254.254.254.254.254.254.254.254.254.254.254.254.254.254.254.254.254.254.254.254.254.254.254.254.254.254.253.883.883.883.883.883.883.883.883.883.883.883.883.883.883.883.883.883.883.883.883.883.883.883.883.883.883.883.883.883.883.883.883.883.883.883.883.883.883.883.883.883.883.883.883.883.883.883.883.883.883.883.883.883.883.883.883.883.883.883.883.883.883.883.883.883.883.883.883.883.883.883.883.883.883.883.883.883.883.883.883.883.883.883.883.883.883.883.883.883.883.883.883.883.883.883.883.883.883.883.883.883.883.883.883.883.883.883.883.883.883.883.883.883.883.883.883.883.883.884.284.284.284.284.284.284.284.284.284.284.284.284.284.284.284.284.284.284.284.284.284.284.284.284.284.284.284.284.284.284.284.284.284.284.284.284.284.284.284.284.284.284.284.284.284.284.284.284.284.284.284.284.284.284.284.284.284.284.284.284.284.284.284.284.284.284.284.284.284.284.284.284.284.284.284.284.284.284.284.284.284.284.284.284.284.284.284.284.284.284.284.284.284.284.284.284.284.284.284.284.284.284.284.284.284.284.284.284.284.284.284.284.284.284.284.284.284.284.284.284.284.284.284.284.284.284.284.284.284.284.284.284.284.284.284.284.284.284.284.284.284.284.284.284.284.284.284.284.284.284.284.284.284.284.284.284.284.284.284.284.284.284.284.284.284.284.284.284.284.284.284.284.284.284.284.284.284.284.284.284.284.284.284.284.284.284.284.284.284.284.284.284.284.284.284.284.284.284.284.284.284.284.284.284.284.284.284.284.283.443.443.443.443.443.443.443.443.443.443.443.443.443.443.443.443.443.443.443.443.443.443.443.443.443.443.443.443.443.443.443.443.443.443.443.443.443.443.443.443.443.443.443.443.443.443.443.443.443.443.443.443.443.443.443.443.443.443.443.443.443.443.443.443.443.443.443.443.443.443.443.443.443.443.443.443.443.443.443.443.443.443.443.443.443.443.443.443.443.443.443.443.443.443.443.443.443.443.443.443.443.443.443.443.443.443.443.443.443.444.314.314.314.314.314.314.314.314.314.314.314.314.314.314.314.314.314.314.314.314.314.314.314.314.314.314.314.314.314.314.314.314.314.314.314.314.314.314.314.314.314.314.314.314.314.314.314.314.314.314.314.314.314.314.314.314.314.314.314.314.314.314.314.314.314.314.314.314.314.314.314.314.314.314.314.314.314.314.314.314.314.314.314.314.314.314.314.314.314.314.314.314.314.314.314.314.314.314.314.314.314.314.314.314.314.314.314.314.314.314.314.314.314.314.314.314.314.314.094.094.094.094.094.094.094.094.094.094.094.094.094.093.853.853.853.853.853.853.853.853.853.853.853.853.853.853.853.853.853.853.853.853.853.853.853.853.853.853.853.853.853.853.853.853.853.853.853.853.853.853.853.853.853.853.853.853.853.853.853.853.853.853.853.853.853.853.853.853.853.853.853.853.853.853.853.853.853.853.853.853.853.853.853.853.853.853.853.853.853.853.853.853.853.853.853.853.853.853.853.853.853.853.853.853.853.853.853.853.853.853.853.853.853.853.853.853.853.853.853.853.853.853.853.853.853.853.853.853.853.853.853.853.853.853.853.853.853.853.853.853.853.853.853.853.853.853.853.853.853.853.853.853.853.853.853.853.853.853.853.853.853.853.853.853.853.853.853.853.853.853.853.853.853.853.853.853.854.304.304.304.304.304.304.524.524.524.524.524.524.524.524.524.524.524.524.524.524.524.524.524.524.524.524.524.524.524.524.524.524.524.524.524.524.524.524.524.524.524.524.524.524.524.524.524.524.524.524.524.524.524.524.524.524.524.524.524.524.524.524.524.524.524.524.524.524.524.524.524.524.524.524.524.524.524.524.524.524.524.524.524.524.524.524.524.524.524.524.524.524.524.524.524.524.524.524.524.524.524.524.524.524.524.524.524.524.524.524.524.524.524.524.524.524.524.524.524.524.294.294.294.294.294.294.294.294.294.294.294.294.294.294.294.294.294.294.294.294.294.294.294.294.294.294.294.294.294.294.294.294.294.294.294.294.294.294.294.294.294.294.294.294.294.294.294.294.294.294.294.294.294.294.294.294.294.294.294.294.294.294.294.294.294.294.294.294.294.294.294.294.294.294.294.294.294.294.294.294.294.294.294.294.294.294.294.294.294.294.294.294.294.294.294.294.294.294.294.294.294.294.294.294.294.294.294.294.294.294.294.294.294.294.294.294.294.294.294.294.294.294.294.294.294.294.294.294.294.294.294.294.294.294.294.294.294.294.294.294.294.294.294.294.294.294.294.294.294.294.294.294.294.294.294.294.294.294.294.294.294.294.294.294.294.294.294.294.294.294.294.294.294.294.294.294.294.294.294.294.294.294.294.294.294.294.294.294.294.294.294.294.294.294.294.294.294.294.294.294.294.294.294.294.294.294.294.294.294.294.294.294.294.294.294.294.294.294.294.294.294.294.294.294.294.294.294.294.294.294.294.294.294.294.294.294.294.294.294.294.294.294.294.294.294.294.294.294.294.294.294.294.294.294.294.294.294.294.294.294.294.294.294.294.294.294.294.294.294.454.454.454.454.454.454.454.454.454.454.454.454.454.454.454.454.454.454.454.454.454.454.454.454.454.454.454.454.454.454.454.454.454.454.454.454.454.454.454.454.454.454.454.454.454.454.454.454.454.454.454.454.454.454.454.454.454.454.454.454.454.454.454.454.454.454.454.454.454.454.454.454.454.454.454.454.454.454.454.454.454.454.454.454.454.454.454.454.454.454.454.454.454.454.454.454.454.454.454.454.454.454.454.454.454.454.454.454.454.454.454.454.454.454.454.454.454.454.454.114.114.114.114.114.114.114.114.114.114.114.114.114.114.114.114.114.114.114.114.114.114.114.114.114.114.114.114.114.114.114.314.314.314.314.314.314.314.314.314.314.314.314.314.314.314.314.314.314.314.314.314.314.314.314.314.314.314.314.314.314.314.314.314.314.314.314.314.314.314.314.314.314.314.314.314.314.314.314.314.314.314.314.314.314.314.314.314.314.314.314.314.314.314.314.314.314.314.314.314.314.314.314.314.314.314.314.314.314.314.314.314.314.314.314.314.314.314.314.314.314.314.314.314.314.314.314.314.314.314.314.314.314.314.314.314.314.314.314.314.314.314.314.314.314.314.314.314.314.314.314.314.314.314.314.314.314.314.314.314.314.314.314.314.314.314.314.314.314.314.314.314.314.314.314.314.314.314.314.314.314.314.314.314.314.314.314.314.314.314.314.314.314.314.314.314.314.314.314.314.314.314.314.314.314.314.314.314.314.314.314.314.314.314.314.314.314.314.314.314.314.314.314.314.314.314.314.314.314.314.314.314.314.314.314.314.314.314.314.314.314.314.314.314.314.314.314.314.314.314.314.314.314.314.314.314.314.314.314.314.314.314.314.314.314.314.314.314.314.314.314.314.314.314.314.314.314.314.314.314.314.314.314.314.314.314.314.314.314.314.314.314.314.314.314.314.314.314.314.314.314.474.473.763.763.763.763.763.763.763.763.763.763.763.763.763.763.763.763.763.763.763.763.763.763.763.763.763.763.763.763.763.763.763.763.763.763.763.763.763.763.763.763.763.763.763.763.763.763.763.763.763.763.763.763.763.763.763.763.763.763.763.763.763.763.763.763.763.763.763.763.763.763.763.763.763.763.763.763.763.763.763.763.763.763.763.763.763.763.763.763.763.763.763.763.763.763.763.763.763.763.763.763.763.763.763.763.763.763.763.763.763.763.763.763.763.763.763.763.763.763.763.763.763.763.763.763.763.763.763.763.763.763.763.763.763.763.763.763.763.763.763.763.763.763.763.763.763.763.763.763.763.763.763.763.763.763.763.763.763.763.763.763.763.763.763.763.763.763.763.763.763.763.763.763.763.763.763.763.763.763.763.763.763.763.763.763.763.763.763.763.763.763.763.763.763.763.763.763.763.763.763.763.763.763.763.763.763.763.763.763.763.763.763.763.763.763.763.763.763.763.763.763.763.763.763.763.763.763.763.763.763.763.763.763.763.763.763.763.763.763.763.763.763.763.763.763.763.763.763.763.763.763.763.763.763.763.763.763.763.763.763.763.763.763.763.763.763.763.763.763.763.764.074.284.284.284.284.284.284.284.284.284.284.284.284.284.284.284.284.284.284.284.284.284.284.284.284.284.284.284.284.284.284.284.284.284.284.284.284.284.284.284.284.284.284.284.284.284.284.284.284.284.284.284.284.284.284.284.284.284.284.284.284.284.284.284.284.284.284.284.284.284.284.284.284.284.284.284.284.284.284.284.284.284.284.284.284.284.284.284.284.284.284.284.284.284.284.284.284.284.284.284.284.284.284.284.284.284.284.284.284.284.284.284.284.284.284.284.284.284.284.284.284.284.284.284.284.284.284.284.284.284.284.284.284.284.284.284.284.284.284.284.284.284.284.284.284.284.284.284.284.284.284.284.284.284.284.284.284.284.284.284.284.284.284.284.284.284.284.284.284.284.284.284.284.284.284.284.284.284.284.284.284.284.284.284.284.284.284.284.284.284.284.284.284.284.284.284.284.284.284.284.284.284.284.284.284.284.284.284.284.284.284.284.284.284.284.284.284.284.284.284.284.284.284.284.284.284.284.284.284.284.284.284.284.284.284.284.284.284.284.284.284.284.284.284.284.284.284.284.284.284.284.284.284.284.284.284.284.284.284.284.284.284.284.284.284.284.284.284.284.284.124.124.124.124.124.124.124.124.124.124.124.124.124.124.124.124.124.124.124.124.124.124.124.124.124.124.124.124.124.124.124.124.124.124.124.124.124.124.124.124.124.124.124.124.124.124.124.124.124.124.124.124.124.124.124.124.124.124.124.124.124.124.124.124.124.124.124.124.124.124.124.124.124.124.124.124.124.124.124.124.124.124.124.124.124.124.124.124.124.124.124.124.124.124.124.124.124.124.124.124.124.124.124.124.124.124.124.124.124.124.124.124.124.124.124.124.124.124.124.124.124.124.124.124.124.124.124.124.124.124.124.124.124.124.124.124.124.124.124.124.124.124.124.124.124.124.124.124.124.124.124.124.124.124.124.124.124.124.124.124.124.124.124.124.124.124.124.124.124.124.124.124.124.124.124.124.124.124.124.124.124.124.124.124.124.124.124.124.124.124.124.124.124.124.124.124.124.124.124.124.124.124.124.124.124.124.124.124.124.124.124.124.124.124.124.124.124.124.124.124.124.124.124.124.124.124.124.124.124.124.124.124.124.124.124.124.124.124.124.124.124.124.124.124.124.124.124.124.124.124.124.124.124.124.124.124.124.124.124.124.124.124.124.124.124.124.124.124.124.124.194.194.194.194.194.194.194.194.194.194.194.194.194.194.194.194.194.194.194.194.194.194.194.194.194.194.194.194.194.194.194.194.194.194.194.194.194.194.194.194.194.194.194.194.194.194.194.194.194.194.194.194.194.194.194.194.194.194.194.194.194.194.194.194.194.194.194.194.194.194.194.194.194.194.194.194.194.194.194.194.194.194.194.194.194.194.194.194.194.194.194.194.194.194.194.194.194.194.194.194.194.194.194.194.194.194.194.194.194.194.194.194.194.194.194.194.194.194.194.194.194.194.194.194.194.194.194.194.194.194.194.194.194.194.194.194.194.194.194.194.194.194.194.194.194.194.194.194.194.194.194.194.194.194.194.194.194.194.194.194.194.194.194.194.194.194.194.194.194.194.194.194.194.194.194.194.194.194.194.194.194.194.194.194.194.194.194.194.194.194.194.194.194.194.194.194.194.194.194.194.194.194.194.194.194.194.194.194.194.194.194.194.194.194.194.194.194.194.194.194.194.194.194.194.194.194.194.194.194.194.194.194.194.194.194.194.194.194.194.194.194.194.194.194.194.194.194.194.194.194.194.194.194.194.194.194.194.194.194.194.194.194.194.194.194.194.194.194.194.134.134.134.134.134.134.134.134.134.134.134.134.134.134.134.134.134.134.134.134.134.134.134.134.134.134.134.134.134.134.134.134.134.134.134.134.134.134.134.134.134.134.134.134.134.134.134.134.134.134.134.134.134.134.134.134.134.134.134.134.134.134.134.134.134.134.134.134.134.134.134.134.134.134.134.134.134.134.134.134.134.134.134.134.134.134.134.134.134.134.134.134.134.134.134.134.134.134.134.134.134.134.134.134.134.134.134.134.134.134.134.134.134.134.134.134.134.134.134.134.134.134.134.134.134.134.134.134.134.134.134.134.134.134.134.134.134.134.134.134.134.134.134.134.134.134.134.134.134.134.134.134.134.134.134.134.134.134.134.134.134.134.134.134.134.134.134.134.134.134.134.134.134.134.134.134.134.134.134.134.134.134.134.134.134.134.134.134.134.134.134.134.134.134.134.134.134.134.134.134.134.134.134.134.134.134.134.134.134.134.134.134.134.134.134.134.134.134.134.134.134.134.134.134.134.134.134.134.134.134.134.134.134.134.134.134.134.134.134.134.134.134.134.134.134.134.134.134.134.134.134.134.134.134.134.134.134.134.134.134.134.134.134.134.134.134.134.134.354.354.354.354.354.354.354.354.354.354.354.354.354.354.354.354.354.354.354.354.354.354.354.354.354.354.354.354.354.354.354.354.354.354.354.354.354.354.354.354.354.354.354.354.354.354.354.354.354.354.354.354.354.354.354.354.354.354.354.354.354.354.354.354.354.354.354.354.354.354.354.354.354.354.354.354.354.354.354.354.354.354.354.354.354.354.354.354.354.354.354.354.354.354.354.354.354.354.354.354.354.354.354.354.354.354.354.354.354.354.354.354.354.354.354.354.354.354.354.354.354.354.354.354.354.354.354.354.354.354.354.354.354.354.354.354.354.354.354.354.354.354.354.354.354.354.354.354.354.354.354.354.354.354.354.354.354.354.354.354.354.354.354.354.354.354.354.354.354.354.354.354.354.354.354.354.354.354.354.354.354.354.354.354.354.354.354.354.354.354.354.354.354.354.354.354.354.354.354.354.354.354.354.354.354.354.354.354.354.354.354.354.354.354.354.354.354.354.354.354.354.354.354.354.354.354.354.354.354.354.354.354.354.354.354.354.354.354.354.354.354.354.354.354.354.354.354.354.354.354.354.354.354.354.354.354.354.354.354.354.354.354.354.354.354.354.354.354.354.354.374.374.374.374.374.374.374.374.374.374.374.374.374.374.374.374.374.374.374.374.374.374.374.374.374.374.374.374.374.374.374.374.374.374.374.374.374.374.374.374.374.374.374.374.374.374.374.374.374.374.374.374.374.374.374.374.374.374.374.374.374.374.374.374.374.374.374.374.374.374.374.374.374.374.374.374.374.374.374.374.374.374.374.374.374.374.374.374.374.374.374.374.374.374.374.374.374.374.374.374.374.374.374.374.374.374.374.374.374.374.374.374.374.374.374.374.374.374.374.374.374.374.374.374.374.374.374.374.374.374.374.374.374.374.374.374.374.374.374.374.374.374.374.374.374.374.374.374.374.374.374.374.374.374.374.374.374.374.374.374.374.374.374.374.374.374.374.374.374.374.374.374.374.374.374.374.374.374.374.374.374.374.374.374.374.374.374.374.374.374.374.374.374.374.374.374.374.374.374.374.374.374.374.374.374.374.374.374.374.374.374.374.374.374.374.374.374.374.374.374.374.374.374.374.374.374.374.374.374.374.374.374.374.374.374.374.374.374.374.374.374.374.374.374.374.374.374.374.374.374.374.374.374.374.374.374.374.374.374.374.374.374.374.374.374.374.374.374.374.374.374.334.334.334.334.334.334.334.334.334.334.334.334.334.334.334.334.334.334.334.334.334.334.334.334.334.334.334.334.334.334.334.334.334.334.334.334.334.334.334.334.334.334.334.334.334.334.334.334.334.334.334.334.334.334.334.334.334.334.334.334.334.334.334.334.334.334.334.334.334.334.334.334.334.334.334.334.334.334.334.334.334.334.334.334.334.334.334.334.334.334.334.334.334.334.334.334.334.334.334.334.334.334.334.334.334.334.334.334.334.334.334.334.334.334.334.334.334.334.334.334.234.234.234.234.234.234.234.234.234.234.234.234.234.234.234.234.234.234.234.234.234.234.234.234.234.234.234.234.234.234.234.234.234.234.234.234.234.234.234.234.234.234.234.234.234.234.234.234.234.234.234.234.234.234.234.234.234.234.234.464.464.464.464.464.464.464.464.464.464.464.464.464.464.464.464.464.464.464.464.464.464.464.464.464.464.464.464.464.464.464.464.464.464.464.464.464.464.464.464.464.464.464.464.464.464.464.464.464.464.464.464.464.464.464.464.464.464.464.464.464.464.464.464.464.464.464.464.464.464.464.464.464.464.464.464.464.464.464.464.464.464.464.464.464.464.464.464.464.464.464.464.464.464.464.464.464.464.464.464.464.464.464.464.464.464.464.464.464.464.464.464.464.464.464.464.464.464.464.464.464.464.464.464.464.464.464.464.464.464.464.464.464.464.464.464.464.464.464.464.464.464.464.464.464.464.464.464.464.464.464.464.464.464.464.464.464.464.464.464.464.464.464.464.464.464.464.464.464.464.464.464.464.464.464.464.464.464.464.464.464.464.464.464.464.464.464.464.464.464.464.464.464.464.464.464.464.464.464.464.464.464.464.464.464.464.464.464.464.464.464.464.464.464.464.464.464.464.464.464.464.464.464.464.464.464.464.464.464.464.464.464.464.464.464.464.464.464.464.464.464.464.464.464.464.464.464.464.464.464.464.464.464.464.464.464.464.464.464.464.464.464.464.464.464.464.464.464.464.464.464.574.574.574.574.574.574.574.574.574.574.574.574.574.574.574.574.574.574.574.574.574.574.574.574.574.574.574.574.574.574.574.574.574.574.574.574.574.574.574.574.574.574.574.574.574.574.574.574.574.574.574.574.574.574.574.574.574.574.574.574.574.574.574.574.574.574.574.574.574.574.574.574.574.574.574.574.574.574.574.574.574.574.574.574.574.574.574.574.574.574.574.574.574.574.574.574.574.574.574.574.574.574.574.574.574.574.574.574.574.574.574.574.574.574.574.574.574.574.574.574.574.574.574.574.574.574.574.574.574.574.574.574.574.574.574.574.574.574.574.574.574.574.574.574.574.574.574.574.574.574.574.574.574.574.574.574.574.574.574.574.574.574.574.574.574.574.574.574.574.574.574.574.574.574.574.574.574.574.574.574.574.574.574.574.574.574.574.574.574.574.574.574.574.574.574.574.574.574.574.574.574.574.574.574.574.574.574.574.574.574.574.574.574.574.574.574.574.574.574.574.574.574.574.574.574.574.574.574.574.574.574.574.574.574.574.574.574.574.574.574.574.574.574.574.574.574.574.574.574.574.574.574.574.574.574.574.574.574.574.574.574.574.574.574.574.574.574.574.574.574.314.314.314.314.314.314.314.314.314.314.314.314.314.314.314.314.314.314.314.314.314.314.314.314.314.314.314.314.314.314.314.314.314.314.314.314.314.314.314.314.314.314.314.314.314.314.314.314.314.314.314.314.314.314.314.314.314.314.314.314.314.314.314.314.314.314.314.314.314.314.314.314.314.314.314.314.314.314.314.314.314.314.314.314.314.314.314.314.314.314.314.314.314.314.314.314.314.314.314.314.314.314.314.314.314.314.314.314.314.314.314.314.314.314.314.314.314.314.314.314.314.314.314.314.314.314.314.314.314.314.314.314.314.314.314.314.314.314.314.314.314.314.314.314.314.314.314.314.314.314.314.314.314.314.314.314.314.314.314.314.314.314.314.314.314.314.314.314.314.314.314.314.314.314.314.314.314.314.314.314.314.314.314.314.314.314.314.314.314.314.314.314.314.314.314.314.314.314.314.314.314.314.314.314.314.314.314.314.314.314.314.314.314.314.314.314.314.314.314.314.314.314.314.314.314.314.314.314.314.314.314.314.314.314.314.314.314.314.314.314.314.314.314.314.314.314.314.314.314.314.314.314.314.314.314.314.314.314.314.314.314.314.314.314.314.314.314.314.314.314.124.124.124.124.124.124.124.124.124.124.124.124.124.124.124.124.124.124.124.124.124.124.124.124.124.124.124.124.124.124.124.124.124.124.124.124.124.124.124.124.124.124.124.124.124.124.124.124.124.124.124.124.124.124.124.124.124.124.124.124.124.124.124.124.124.124.124.124.124.124.124.124.124.124.124.124.124.124.124.124.124.124.124.124.124.124.124.124.124.124.124.124.124.124.124.124.124.124.124.124.124.124.124.124.124.124.124.124.124.124.124.124.124.124.124.124.124.124.124.124.124.124.124.124.124.124.124.124.124.124.124.124.124.124.124.124.124.124.124.124.124.124.124.124.124.124.124.124.124.124.124.124.124.124.124.124.124.124.124.124.124.124.124.124.124.124.124.124.124.124.124.124.124.124.124.124.124.124.124.124.074.074.074.074.074.074.074.074.074.074.074.074.074.074.074.074.074.074.074.074.074.074.074.074.074.074.074.074.074.074.074.074.074.074.074.074.074.074.074.074.074.074.074.074.074.074.074.074.074.074.074.074.074.074.074.074.074.074.074.074.074.074.074.074.074.074.074.074.074.074.074.074.074.074.074.074.074.074.074.074.074.074.074.074.074.074.074.074.074.074.074.074.074.074.074.074.074.074.074.074.074.074.074.074.074.074.074.074.074.074.074.074.074.074.074.074.074.074.074.074.074.074.074.074.074.074.074.074.074.074.074.074.074.074.074.074.074.074.074.074.074.074.074.074.074.074.074.074.074.074.074.074.074.074.074.074.074.074.074.074.074.074.074.074.074.074.074.074.074.074.074.074.074.074.074.074.074.074.074.074.074.074.074.074.074.074.074.074.074.074.074.074.074.074.074.074.074.074.074.074.074.074.074.074.074.074.074.074.074.074.074.074.074.074.074.074.074.074.074.074.074.074.074.074.074.074.074.074.074.074.074.074.074.074.074.074.074.074.074.074.074.074.074.074.074.074.074.074.074.074.074.074.074.074.074.074.074.074.074.074.074.074.074.074.074.074.074.074.074.174.174.174.174.174.174.174.174.174.174.174.174.174.174.174.174.174.174.174.174.174.174.174.174.174.174.174.174.174.174.174.174.174.174.174.174.174.174.174.174.174.174.174.174.174.174.174.174.174.174.174.174.174.174.174.174.174.174.174.174.174.174.174.174.174.174.174.174.174.174.174.174.174.174.174.174.174.174.174.174.174.174.174.174.174.174.174.174.174.174.174.174.174.174.174.174.174.174.174.174.174.174.174.174.174.174.174.174.174.174.174.174.174.174.174.174.174.174.174.174.174.174.174.174.174.174.174.174.174.174.174.174.174.174.174.174.174.174.174.174.174.174.174.174.174.174.174.174.174.174.174.174.174.174.174.174.174.174.174.174.174.174.174.174.174.174.174.174.174.174.174.174.174.174.174.174.174.174.174.174.174.174.174.174.174.174.174.174.174.174.174.174.174.174.174.174.174.174.174.174.174.174.174.174.174.174.174.174.174.174.174.174.174.174.174.174.174.174.174.174.174.174.174.174.174.174.174.174.174.174.174.174.174.174.174.174.174.174.174.174.174.174.174.174.174.174.174.174.174.174.174.174.174.174.174.174.174.174.174.174.174.174.174.174.174.174.174.174.304.304.304.304.304.304.304.304.304.304.304.304.304.304.304.304.304.304.304.304.304.304.304.304.304.304.304.304.304.304.304.304.304.304.304.304.304.304.304.304.304.304.304.304.304.304.304.304.304.304.304.304.304.304.304.304.304.304.304.304.304.304.304.304.304.304.304.304.304.304.304.304.304.304.304.304.304.304.304.304.304.304.304.304.304.304.304.304.304.304.304.304.304.304.304.304.304.304.304.304.304.304.304.304.304.304.304.304.304.304.304.304.304.304.304.304.304.304.304.304.304.304.304.304.304.304.304.304.304.304.304.304.304.304.304.304.304.304.304.304.304.304.304.304.304.304.304.304.304.304.304.304.304.304.304.304.304.304.304.304.304.304.304.304.304.304.304.304.304.304.304.304.304.304.304.304.304.304.304.304.304.304.304.304.304.304.304.304.304.304.304.304.304.304.304.304.304.304.304.304.304.304.304.304.304.304.304.304.304.304.304.304.304.304.304.304.304.304.304.304.304.304.304.304.304.304.304.304.304.304.304.304.304.304.304.304.304.304.304.304.304.304.304.304.304.304.304.304.304.304.304.304.304.304.304.304.304.304.304.304.304.304.304.304.304.304.304.304.304.364.364.364.364.364.364.364.364.364.364.364.364.364.364.364.364.364.364.364.364.364.364.364.364.364.364.364.364.364.364.364.364.364.364.364.364.364.364.364.364.364.364.364.364.364.364.364.364.364.364.364.364.364.364.364.364.364.364.364.364.364.364.364.364.364.364.364.364.364.364.364.364.364.364.364.364.364.364.364.364.364.364.364.364.364.364.364.364.364.364.364.364.364.364.364.364.364.364.364.364.364.364.364.364.364.364.364.364.364.364.364.364.364.364.364.364.364.364.364.364.364.364.364.364.364.364.364.364.364.364.364.364.364.364.364.364.364.364.364.364.364.364.364.364.364.364.364.364.364.364.364.364.364.364.364.364.364.364.364.364.364.364.364.364.364.364.364.364.364.364.364.364.364.364.364.364.364.364.364.364.364.364.364.364.364.364.364.364.364.364.364.364.364.364.364.364.364.364.364.364.364.364.364.364.364.364.364.364.364.364.364.364.364.364.364.364.364.364.364.364.364.364.364.364.364.364.364.364.364.364.364.364.364.364.364.364.364.364.364.364.364.364.364.364.364.364.364.364.364.364.364.364.364.364.364.364.364.364.364.364.364.364.364.364.364.364.364.364.364.363.893.893.893.893.893.893.893.893.893.893.893.893.893.893.893.893.893.893.893.893.893.893.893.893.893.893.893.893.893.893.893.893.893.893.893.893.893.893.893.893.893.893.893.893.893.893.893.893.893.893.893.893.893.893.893.893.893.893.893.893.893.893.893.893.893.893.893.893.893.893.893.893.893.893.893.893.893.893.893.893.893.893.893.893.893.893.893.893.893.893.893.893.893.893.893.893.893.893.893.893.893.893.893.893.893.893.893.893.893.893.893.893.893.893.893.893.893.893.893.893.893.893.893.893.893.893.893.893.893.893.893.893.893.893.893.893.893.893.893.893.893.893.893.893.893.893.893.893.893.893.893.893.893.893.893.893.893.893.893.893.893.893.893.893.893.893.893.893.893.893.893.893.893.893.893.893.893.893.893.893.893.893.893.893.893.893.893.893.893.893.893.893.893.893.893.893.893.893.893.893.893.893.893.893.893.893.893.893.893.893.893.893.893.893.893.893.893.893.893.893.893.893.893.893.893.893.893.893.893.893.893.893.893.893.893.893.893.893.893.893.893.893.893.893.893.893.893.893.893.893.893.893.893.893.893.893.893.893.893.893.893.893.893.893.893.893.893.893.893.893.873.873.873.873.873.873.873.873.873.873.873.873.873.873.873.873.873.873.873.873.873.873.873.873.873.873.873.873.873.873.873.873.873.873.873.873.873.873.873.873.873.873.873.873.873.873.873.873.873.873.873.873.873.873.873.873.873.873.873.873.873.873.873.873.873.873.873.873.873.873.873.873.873.873.873.873.873.873.873.873.873.873.873.873.873.873.873.873.873.873.873.873.873.873.873.873.873.873.873.873.873.873.873.873.873.873.873.873.873.873.873.873.873.873.873.873.873.873.873.873.873.873.873.873.873.873.873.873.873.873.873.873.873.873.873.873.873.873.873.873.873.873.873.873.873.873.873.873.873.873.873.873.873.873.873.873.873.873.873.873.873.873.873.873.873.873.873.873.873.873.873.873.873.873.873.873.873.873.873.873.873.873.873.873.873.873.873.873.873.873.873.873.873.873.873.873.873.873.873.873.873.873.873.873.873.873.873.873.873.873.873.873.873.873.873.873.873.873.873.873.873.873.873.873.873.873.873.873.873.873.873.873.873.873.873.873.873.873.873.873.873.873.873.873.873.873.873.873.873.873.873.873.873.873.873.873.873.873.873.873.873.873.873.873.873.873.873.873.874.324.324.324.324.324.324.324.324.324.324.324.324.324.324.324.324.324.324.324.324.324.324.324.324.324.324.324.324.324.324.324.324.324.324.324.324.324.324.324.324.324.324.324.324.324.324.324.324.324.324.324.324.324.324.324.324.324.324.324.324.324.324.324.324.324.324.324.324.324.324.324.324.324.324.324.324.324.324.324.324.324.324.324.324.324.324.324.324.324.324.324.324.324.324.324.324.324.324.324.324.324.324.324.324.324.324.324.324.324.324.324.324.324.324.324.324.324.324.324.324.324.324.324.324.324.324.324.324.324.324.324.324.324.324.324.324.324.324.324.324.324.324.324.324.324.324.324.324.324.324.324.324.324.324.324.324.324.324.324.324.324.324.324.324.324.324.324.324.324.324.324.324.324.324.324.324.324.324.324.324.324.324.324.324.324.324.324.324.324.324.324.324.324.324.324.324.324.324.324.324.324.324.324.324.324.324.324.324.324.324.324.324.324.324.324.324.324.324.324.324.324.324.324.324.324.324.324.324.324.324.324.324.324.324.324.324.324.324.324.324.324.324.324.324.324.324.324.324.324.324.324.324.324.324.324.324.324.324.324.324.324.324.324.324.324.324.324.324.324.32 to numeric"
     ]
    },
    {
     "data": {
      "text/plain": [
       "<Figure size 2160x1440 with 0 Axes>"
      ]
     },
     "metadata": {},
     "output_type": "display_data"
    }
   ],
   "source": [
    "#y= comb_df.sort_values('average_rating', ascending=False)\n",
    "plt.figure(figsize=(30,20))\n",
    "sns.barplot(x=comb_df7['genre'],y=df10['average_rating'])\n",
    "plt.xticks(rotation= 80, size= 20)\n",
    "plt.yticks(size= 20)\n",
    "plt.xlabel('Genre',size='30')\n",
    "plt.ylabel('Average Rating', size = 30)\n",
    "plt.title('Average Rating by Genre',color='black',size='40')\n",
    "plt.show()"
   ]
  },
  {
   "cell_type": "code",
   "execution_count": null,
   "metadata": {},
   "outputs": [],
   "source": []
  },
  {
   "cell_type": "code",
   "execution_count": 55,
   "metadata": {},
   "outputs": [],
   "source": [
    "df_sm1 = comb_df7"
   ]
  },
  {
   "cell_type": "code",
   "execution_count": 56,
   "metadata": {},
   "outputs": [
    {
     "data": {
      "text/plain": [
       "Text(0.5, 1.0, 'How Many Ratings Per Book?')"
      ]
     },
     "execution_count": 56,
     "metadata": {},
     "output_type": "execute_result"
    },
    {
     "data": {
      "image/png": "[encoded data removed]",
      "text/plain": [
       "<Figure size 720x360 with 1 Axes>"
      ]
     },
     "metadata": {
      "needs_background": "light"
     },
     "output_type": "display_data"
    }
   ],
   "source": [
    "\n",
    "ratings_per_book = df_sm1.groupby(by = 'book_unique_key')['number_of_stars'].count().sort_values(ascending = False)\n",
    "\n",
    "fig = plt.figure(figsize = (10, 5))\n",
    "axes = fig.add_axes([0.1,0.1,1,1])\n",
    "\n",
    "plt.xlabel(\"Number of Books\", fontsize = 20)\n",
    "plt.ylabel(\"Number of Ratings\", fontsize = 20)\n",
    "plt.plot(ratings_per_book.values, color='green', linewidth=5)\n",
    "plt.tick_params(labelsize = 20)\n",
    "plt.title(\"How Many Ratings Per Book?\", fontsize = 30)\n"
   ]
  },
  {
   "cell_type": "code",
   "execution_count": null,
   "metadata": {},
   "outputs": [],
   "source": []
  },
  {
   "cell_type": "code",
   "execution_count": 57,
   "metadata": {},
   "outputs": [],
   "source": [
    "ratings_amm=df_sm1.groupby('book_unique_key')['user_unique_key'].count().sort_values()"
   ]
  },
  {
   "cell_type": "code",
   "execution_count": 58,
   "metadata": {},
   "outputs": [
    {
     "data": {
      "image/png": "[encoded data removed]",
      "text/plain": [
       "<Figure size 432x288 with 1 Axes>"
      ]
     },
     "metadata": {
      "needs_background": "light"
     },
     "output_type": "display_data"
    }
   ],
   "source": [
    "\n",
    "plt.hist(ratings_amm);\n",
    "plt.xlabel('Books Rated')\n",
    "plt.ylabel('Users')\n",
    "plt.title('Number of Books Rated by Each User')\n",
    "plt.grid(True)\n",
    "plt.show()"
   ]
  },
  {
   "cell_type": "code",
   "execution_count": 59,
   "metadata": {},
   "outputs": [
    {
     "data": {
      "text/plain": [
       "count    577.000000\n",
       "mean     143.424610\n",
       "std       93.363304\n",
       "min        1.000000\n",
       "25%       60.000000\n",
       "50%      146.000000\n",
       "75%      209.000000\n",
       "max      324.000000\n",
       "Name: user_unique_key, dtype: float64"
      ]
     },
     "execution_count": 59,
     "metadata": {},
     "output_type": "execute_result"
    }
   ],
   "source": [
    "ratings_amm.describe()"
   ]
  },
  {
   "cell_type": "code",
   "execution_count": 60,
   "metadata": {},
   "outputs": [
    {
     "data": {
      "text/plain": [
       "577"
      ]
     },
     "execution_count": 60,
     "metadata": {},
     "output_type": "execute_result"
    }
   ],
   "source": [
    "books = df_sm1['book_unique_key'].nunique()\n",
    "books\n"
   ]
  },
  {
   "cell_type": "code",
   "execution_count": 61,
   "metadata": {},
   "outputs": [],
   "source": [
    "books = range(1,578)"
   ]
  },
  {
   "cell_type": "code",
   "execution_count": 62,
   "metadata": {},
   "outputs": [],
   "source": [
    "book_rating_amm=df_sm1.groupby('book_unique_key')['number_of_stars'].count().sort_values()"
   ]
  },
  {
   "cell_type": "code",
   "execution_count": 63,
   "metadata": {},
   "outputs": [
    {
     "data": {
      "image/png": "[encoded data removed]",
      "text/plain": [
       "<Figure size 432x288 with 1 Axes>"
      ]
     },
     "metadata": {
      "needs_background": "light"
     },
     "output_type": "display_data"
    }
   ],
   "source": [
    "\n",
    "plt.plot(books, book_rating_amm)\n",
    "plt.xlabel('Book Count')\n",
    "plt.ylabel('Number of Reader Ratings')\n",
    "plt.title('Number of Ratings per Book')\n",
    "#plt.yscale('log')\n",
    "plt.grid(True)\n",
    "plt.show()"
   ]
  },
  {
   "cell_type": "code",
   "execution_count": null,
   "metadata": {},
   "outputs": [],
   "source": []
  },
  {
   "cell_type": "code",
   "execution_count": null,
   "metadata": {},
   "outputs": [],
   "source": []
  },
  {
   "cell_type": "code",
   "execution_count": 44,
   "metadata": {},
   "outputs": [],
   "source": [
    "reader_ratings=df10.groupby('user_unique_key')['number_of_stars'].count().sort_values(ascending=False)"
   ]
  },
  {
   "cell_type": "code",
   "execution_count": 45,
   "metadata": {},
   "outputs": [
    {
     "data": {
      "text/plain": [
       "count    27642.000000\n",
       "mean         1.967549\n",
       "std          3.713306\n",
       "min          1.000000\n",
       "25%          1.000000\n",
       "50%          1.000000\n",
       "75%          2.000000\n",
       "max        133.000000\n",
       "Name: number_of_stars, dtype: float64"
      ]
     },
     "execution_count": 45,
     "metadata": {},
     "output_type": "execute_result"
    }
   ],
   "source": [
    "number_reader_ratings.describe()"
   ]
  },
  {
   "cell_type": "code",
   "execution_count": 46,
   "metadata": {},
   "outputs": [],
   "source": [
    "book_ratings=df10.groupby('book_unique_key')['number_of_stars'].count().sort_values(ascending=False)"
   ]
  },
  {
   "cell_type": "code",
   "execution_count": 47,
   "metadata": {},
   "outputs": [
    {
     "data": {
      "text/plain": [
       "count    484.000000\n",
       "mean     112.369835\n",
       "std       51.318734\n",
       "min        1.000000\n",
       "25%       60.000000\n",
       "50%      144.000000\n",
       "75%      150.000000\n",
       "max      210.000000\n",
       "Name: number_of_stars, dtype: float64"
      ]
     },
     "execution_count": 47,
     "metadata": {},
     "output_type": "execute_result"
    }
   ],
   "source": [
    "book_ratings.describe()"
   ]
  },
  {
   "cell_type": "code",
   "execution_count": null,
   "metadata": {},
   "outputs": [],
   "source": []
  },
  {
   "cell_type": "code",
   "execution_count": 8,
   "metadata": {},
   "outputs": [],
   "source": [
    "df_sm=pd.read_csv('comb_df7.csv')"
   ]
  },
  {
   "cell_type": "code",
   "execution_count": 9,
   "metadata": {},
   "outputs": [
    {
     "name": "stdout",
     "output_type": "stream",
     "text": [
      "<class 'pandas.core.frame.DataFrame'>\n",
      "RangeIndex: 54387 entries, 0 to 54386\n",
      "Data columns (total 10 columns):\n",
      " #   Column            Non-Null Count  Dtype  \n",
      "---  ------            --------------  -----  \n",
      " 0   genre             54387 non-null  object \n",
      " 1   title             54387 non-null  object \n",
      " 2   author            54387 non-null  object \n",
      " 3   pages             54387 non-null  int64  \n",
      " 4   average_rating    54387 non-null  float64\n",
      " 5   book_description  40773 non-null  object \n",
      " 6   user_unique_key   54387 non-null  int64  \n",
      " 7   number_of_stars   54387 non-null  int64  \n",
      " 8   book_unique_key   54387 non-null  int64  \n",
      " 9   review_text       53340 non-null  object \n",
      "dtypes: float64(1), int64(4), object(5)\n",
      "memory usage: 4.1+ MB\n"
     ]
    }
   ],
   "source": [
    "df_sm.info()"
   ]
  },
  {
   "cell_type": "code",
   "execution_count": 12,
   "metadata": {},
   "outputs": [],
   "source": [
    "df_sm1 = df_sm[df_sm.number_of_stars != 0]"
   ]
  },
  {
   "cell_type": "code",
   "execution_count": 13,
   "metadata": {},
   "outputs": [
    {
     "name": "stdout",
     "output_type": "stream",
     "text": [
      "<class 'pandas.core.frame.DataFrame'>\n",
      "Int64Index: 52385 entries, 0 to 54386\n",
      "Data columns (total 10 columns):\n",
      " #   Column            Non-Null Count  Dtype  \n",
      "---  ------            --------------  -----  \n",
      " 0   genre             52385 non-null  object \n",
      " 1   title             52385 non-null  object \n",
      " 2   author            52385 non-null  object \n",
      " 3   pages             52385 non-null  int64  \n",
      " 4   average_rating    52385 non-null  float64\n",
      " 5   book_description  39156 non-null  object \n",
      " 6   user_unique_key   52385 non-null  int64  \n",
      " 7   number_of_stars   52385 non-null  int64  \n",
      " 8   book_unique_key   52385 non-null  int64  \n",
      " 9   review_text       51364 non-null  object \n",
      "dtypes: float64(1), int64(4), object(5)\n",
      "memory usage: 4.4+ MB\n"
     ]
    }
   ],
   "source": [
    "df_sm1.info()"
   ]
  },
  {
   "cell_type": "code",
   "execution_count": 15,
   "metadata": {},
   "outputs": [],
   "source": [
    "df_sm1.to_csv('small_df.csv', index=False)"
   ]
  },
  {
   "cell_type": "code",
   "execution_count": null,
   "metadata": {},
   "outputs": [],
   "source": []
  }
 ],
 "metadata": {
  "kernelspec": {
   "display_name": "Python 3",
   "language": "python",
   "name": "python3"
  },
  "language_info": {
   "codemirror_mode": {
    "name": "ipython",
    "version": 3
   },
   "file_extension": ".py",
   "mimetype": "text/x-python",
   "name": "python",
   "nbconvert_exporter": "python",
   "pygments_lexer": "ipython3",
   "version": "3.8.3"
  }
 },
 "nbformat": 4,
 "nbformat_minor": 4
}
