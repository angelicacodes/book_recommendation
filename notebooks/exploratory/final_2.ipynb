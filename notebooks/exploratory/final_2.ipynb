{
 "cells": [
  {
   "cell_type": "markdown",
   "metadata": {},
   "source": [
    "# Technical Notebook for ProxLib: Book Recommendation System"
   ]
  },
  {
   "cell_type": "markdown",
   "metadata": {},
   "source": [
    "## Project Overview"
   ]
  },
  {
   "cell_type": "markdown",
   "metadata": {},
   "source": [
    "During the Covid-19 pandemic, businesses of all sizes found themselves needing to pivot how they operated on a daily basis. This was especially true for those that did not have an e-commerce presence. \n",
    "\n",
    "This book recommendation system is a proof of concept to encourage the new businesses that have launched online to incorporate a rating and recommender system.\n",
    "\n"
   ]
  },
  {
   "cell_type": "markdown",
   "metadata": {},
   "source": [
    "## Business Understanding\n",
    "\n",
    "How can reviews improve sales? How are our customers making choices on what items to buy? \n",
    "Choice is the act of picking or deciding between two or more possibilities. \n",
    "But how about when there are sometimes hundreds of thousands of possibilities? From Amazon to Netflix to Yelp, we have seen businesses capitalize and address this choice overload by providing recommendations to their customers.\n",
    "\n",
    "The Covid-19 pandemic has shown a pivot by businesses of all sizes across many industries. When local farmers stoped making deliveries to local restaurants that were shut down during shelter in place and grocery stores were being emptied out by panicked consumers, the farmers saw an opening. They set up systems to deliver to homes rather than restaurants. Many did not have a website before, but now do. Businesses have pivoted to include e-commerce. For example, this [local farmer](https://martinsfarmtotable.com/about/) writes \"When the pandemic lockdowns hit, I decided to sell direct to you, the home cook. And you, in this precarious moment in time, need to have good, healthy ingredients to make food at home. **My goal is to both keep my farm alive and nourish you and your community**.\"  And according to the [Harvard Business Review(HBR)](https://hbr.org/2020/07/how-businesses-have-successfully-pivoted-during-the-pandemic), this is one of the successful conditions of a business pivot--\"Pivoting is a lateral move that creates enough value for the customer and the firm to share.\" This farmer is providing something that the consumer needs(fresh food), in a way that will keep their buisness going. They are providing this service by making it easier on the consumer, as well as themselves to track orders, by building an online ordering service. This is just one example.  What are the consequences for operating in \"business as usual\" terms in a new normal?  HBR tells us that, \"it does weed out business models that fail to pivot toward the new reality.\" Not only during pandemics, but business models are having to adapt and change to different realities as they grow, as time changes.\n",
    "\n",
    "\n",
    "[Michael Schrage](http://ide.mit.edu/about-us/people/michael-schrage), visiting fellow at the MIT Sloan School of Management’s Initiative on the Digital Economy, book is quoted in [Strategy+Business magazine](https://www.strategy-business.com/article/What-people-like-you-like?gko=d2e94) as saying that about **30% of e-commerce revenues around the world come from recommendations.**  \n",
    "\n"
   ]
  },
  {
   "cell_type": "markdown",
   "metadata": {},
   "source": [
    "## Data Understanding\n",
    "\n",
    "In this section I go through how to obtain the data, what features are in the dataset, and why these are important for the business problem.\n",
    "\n",
    "\n"
   ]
  },
  {
   "cell_type": "markdown",
   "metadata": {},
   "source": [
    "#### Obtaining the Data\n",
    "\n",
    "See data/scrape/final/scrapping.ipynb for the functions and code used to scrape the data.\n",
    "\n",
    "I opted for scrapping the data because the datasets available with similar data were oudated and did not have features such as text reviews, page length, or genre-- features that I wanted to have available for a phase 2 of this project which includes content based filtering. \n",
    "\n",
    "I was not able to use the Goodreads API because they did not provide one that enabled me to get the data that I needed--books connected to individual ratings, the ratings in the APIs availalble were aggregates.\n"
   ]
  },
  {
   "cell_type": "markdown",
   "metadata": {},
   "source": [
    "#### Data Properties\n",
    "\n",
    "As mentioned above, the dataset set includes several features including book title, author name, page length, ratings, users, and text ratings.  For the purposes of this phase 1 of the project, the focus will be on book, user, and rating.\n",
    "\n",
    "Book and user id's were strings that will be converted into numerical form, rating is already in integer type.\n",
    "\n",
    "Having an accurate recommendation system will be important because want customers to trust the recommendation system so that they continue to use it in the future. "
   ]
  },
  {
   "cell_type": "markdown",
   "metadata": {},
   "source": [
    "## Data Preparation\n",
    "\n",
    "In this section I share some of the process that I went through to prepare the data and the libraries used for the rest of the notebook."
   ]
  },
  {
   "cell_type": "markdown",
   "metadata": {},
   "source": [
    "#### Import Libraries\n",
    "\n",
    "The following cell has the libraries needed to perform the operations in this notebook"
   ]
  },
  {
   "cell_type": "code",
   "execution_count": 1,
   "metadata": {},
   "outputs": [],
   "source": [
    "import pandas as pd\n",
    "\n",
    "import numpy as np\n",
    "\n",
    "# from matplotlib import pyplot as plt\n",
    "# %matplotlib inline\n",
    "# import seaborn as sns\n",
    "\n",
    "# import os\n",
    "\n",
    "# from sklearn.preprocessing import LabelEncoder"
   ]
  },
  {
   "cell_type": "code",
   "execution_count": 2,
   "metadata": {},
   "outputs": [],
   "source": [
    "from pyspark.sql import SparkSession\n",
    "# from pyspark.ml.evaluation import RegressionEvaluator\n",
    "\n",
    "from pyspark.ml.recommendation import ALS\n",
    "\n",
    "# from pyspark.ml.tuning import CrossValidator, ParamGridBuilder\n",
    "\n",
    "# import pyspark\n",
    "\n",
    "from pyspark.sql.functions import isnan, when, count, col, explode\n",
    "from pyspark.sql.types import *"
   ]
  },
  {
   "cell_type": "markdown",
   "metadata": {},
   "source": [
    "#### Import Dataset\n",
    "\n",
    "As mentioned in the previous section, this dataset is a combination of the multiple tables that were exported during the web scrapping process. "
   ]
  },
  {
   "cell_type": "code",
   "execution_count": 3,
   "metadata": {},
   "outputs": [],
   "source": [
    "df = pd.read_csv('../../data/final/comb_df.csv')"
   ]
  },
  {
   "cell_type": "markdown",
   "metadata": {},
   "source": [
    "#### Inspect Dataset\n",
    "\n",
    "This is an initial inspection of the data to see what is available. "
   ]
  },
  {
   "cell_type": "code",
   "execution_count": 3,
   "metadata": {},
   "outputs": [
    {
     "name": "stdout",
     "output_type": "stream",
     "text": [
      "<class 'pandas.core.frame.DataFrame'>\n",
      "RangeIndex: 157332 entries, 0 to 157331\n",
      "Data columns (total 12 columns):\n",
      " #   Column            Non-Null Count   Dtype  \n",
      "---  ------            --------------   -----  \n",
      " 0   genre             157332 non-null  object \n",
      " 1   title             157332 non-null  object \n",
      " 2   author            157332 non-null  object \n",
      " 3   pages             157332 non-null  object \n",
      " 4   unique_key        157332 non-null  object \n",
      " 5   average_rating    157332 non-null  float64\n",
      " 6   book_description  109970 non-null  object \n",
      " 7   user_name         157332 non-null  object \n",
      " 8   user_unique_key   157332 non-null  object \n",
      " 9   number_of_stars   157332 non-null  int64  \n",
      " 10  book_unique_key   157332 non-null  object \n",
      " 11  review_text       154800 non-null  object \n",
      "dtypes: float64(1), int64(1), object(10)\n",
      "memory usage: 14.4+ MB\n"
     ]
    }
   ],
   "source": [
    "df.info()"
   ]
  },
  {
   "cell_type": "code",
   "execution_count": 4,
   "metadata": {},
   "outputs": [
    {
     "data": {
      "text/html": [
       "<div>\n",
       "<style scoped>\n",
       "    .dataframe tbody tr th:only-of-type {\n",
       "        vertical-align: middle;\n",
       "    }\n",
       "\n",
       "    .dataframe tbody tr th {\n",
       "        vertical-align: top;\n",
       "    }\n",
       "\n",
       "    .dataframe thead th {\n",
       "        text-align: right;\n",
       "    }\n",
       "</style>\n",
       "<table border=\"1\" class=\"dataframe\">\n",
       "  <thead>\n",
       "    <tr style=\"text-align: right;\">\n",
       "      <th></th>\n",
       "      <th>genre</th>\n",
       "      <th>title</th>\n",
       "      <th>author</th>\n",
       "      <th>pages</th>\n",
       "      <th>unique_key</th>\n",
       "      <th>average_rating</th>\n",
       "      <th>book_description</th>\n",
       "      <th>user_name</th>\n",
       "      <th>user_unique_key</th>\n",
       "      <th>number_of_stars</th>\n",
       "      <th>book_unique_key</th>\n",
       "      <th>review_text</th>\n",
       "    </tr>\n",
       "  </thead>\n",
       "  <tbody>\n",
       "    <tr>\n",
       "      <th>0</th>\n",
       "      <td>short-stories</td>\n",
       "      <td>The Neil Gaiman Reader: Selected Fiction</td>\n",
       "      <td>by Neil Gaiman (Goodreads Author)</td>\n",
       "      <td>752 pages</td>\n",
       "      <td>https://www.goodreads.com/book/show/50358085-t...</td>\n",
       "      <td>4.54</td>\n",
       "      <td>An outstanding array—52 pieces in all—of selec...</td>\n",
       "      <td>Kayla Brown</td>\n",
       "      <td>https://www.goodreads.com/user/show/33397902-k...</td>\n",
       "      <td>5</td>\n",
       "      <td>https://www.goodreads.com/book/show/50358085-t...</td>\n",
       "      <td>NaN</td>\n",
       "    </tr>\n",
       "    <tr>\n",
       "      <th>1</th>\n",
       "      <td>short-stories</td>\n",
       "      <td>The Neil Gaiman Reader: Selected Fiction</td>\n",
       "      <td>by Neil Gaiman (Goodreads Author)</td>\n",
       "      <td>752 pages</td>\n",
       "      <td>https://www.goodreads.com/book/show/50358085-t...</td>\n",
       "      <td>4.54</td>\n",
       "      <td>An outstanding array—52 pieces in all—of selec...</td>\n",
       "      <td>Dan Trefethen</td>\n",
       "      <td>https://www.goodreads.com/user/show/90604449-d...</td>\n",
       "      <td>5</td>\n",
       "      <td>https://www.goodreads.com/book/show/50358085-t...</td>\n",
       "      <td>There are two types of readers in this world:\\...</td>\n",
       "    </tr>\n",
       "    <tr>\n",
       "      <th>2</th>\n",
       "      <td>short-stories</td>\n",
       "      <td>The Neil Gaiman Reader: Selected Fiction</td>\n",
       "      <td>by Neil Gaiman (Goodreads Author)</td>\n",
       "      <td>752 pages</td>\n",
       "      <td>https://www.goodreads.com/book/show/50358085-t...</td>\n",
       "      <td>4.54</td>\n",
       "      <td>An outstanding array—52 pieces in all—of selec...</td>\n",
       "      <td>Jamie (TheRebelliousReader)</td>\n",
       "      <td>https://www.goodreads.com/user/show/7515832-ja...</td>\n",
       "      <td>0</td>\n",
       "      <td>https://www.goodreads.com/book/show/50358085-t...</td>\n",
       "      <td>I need this more than I think I've ever needed...</td>\n",
       "    </tr>\n",
       "    <tr>\n",
       "      <th>3</th>\n",
       "      <td>short-stories</td>\n",
       "      <td>The Neil Gaiman Reader: Selected Fiction</td>\n",
       "      <td>by Neil Gaiman (Goodreads Author)</td>\n",
       "      <td>752 pages</td>\n",
       "      <td>https://www.goodreads.com/book/show/50358085-t...</td>\n",
       "      <td>4.54</td>\n",
       "      <td>An outstanding array—52 pieces in all—of selec...</td>\n",
       "      <td>Adam Di Filippe</td>\n",
       "      <td>https://www.goodreads.com/user/show/5907077-ad...</td>\n",
       "      <td>5</td>\n",
       "      <td>https://www.goodreads.com/book/show/50358085-t...</td>\n",
       "      <td>I received a free, advanced copy from NetGalle...</td>\n",
       "    </tr>\n",
       "    <tr>\n",
       "      <th>4</th>\n",
       "      <td>short-stories</td>\n",
       "      <td>The Neil Gaiman Reader: Selected Fiction</td>\n",
       "      <td>by Neil Gaiman (Goodreads Author)</td>\n",
       "      <td>752 pages</td>\n",
       "      <td>https://www.goodreads.com/book/show/50358085-t...</td>\n",
       "      <td>4.54</td>\n",
       "      <td>An outstanding array—52 pieces in all—of selec...</td>\n",
       "      <td>Morgan</td>\n",
       "      <td>https://www.goodreads.com/user/show/3433933-mo...</td>\n",
       "      <td>0</td>\n",
       "      <td>https://www.goodreads.com/book/show/50358085-t...</td>\n",
       "      <td>This is a hefty read, but it’s one that can be...</td>\n",
       "    </tr>\n",
       "  </tbody>\n",
       "</table>\n",
       "</div>"
      ],
      "text/plain": [
       "           genre                                     title  \\\n",
       "0  short-stories  The Neil Gaiman Reader: Selected Fiction   \n",
       "1  short-stories  The Neil Gaiman Reader: Selected Fiction   \n",
       "2  short-stories  The Neil Gaiman Reader: Selected Fiction   \n",
       "3  short-stories  The Neil Gaiman Reader: Selected Fiction   \n",
       "4  short-stories  The Neil Gaiman Reader: Selected Fiction   \n",
       "\n",
       "                              author      pages  \\\n",
       "0  by Neil Gaiman (Goodreads Author)  752 pages   \n",
       "1  by Neil Gaiman (Goodreads Author)  752 pages   \n",
       "2  by Neil Gaiman (Goodreads Author)  752 pages   \n",
       "3  by Neil Gaiman (Goodreads Author)  752 pages   \n",
       "4  by Neil Gaiman (Goodreads Author)  752 pages   \n",
       "\n",
       "                                          unique_key  average_rating  \\\n",
       "0  https://www.goodreads.com/book/show/50358085-t...            4.54   \n",
       "1  https://www.goodreads.com/book/show/50358085-t...            4.54   \n",
       "2  https://www.goodreads.com/book/show/50358085-t...            4.54   \n",
       "3  https://www.goodreads.com/book/show/50358085-t...            4.54   \n",
       "4  https://www.goodreads.com/book/show/50358085-t...            4.54   \n",
       "\n",
       "                                    book_description  \\\n",
       "0  An outstanding array—52 pieces in all—of selec...   \n",
       "1  An outstanding array—52 pieces in all—of selec...   \n",
       "2  An outstanding array—52 pieces in all—of selec...   \n",
       "3  An outstanding array—52 pieces in all—of selec...   \n",
       "4  An outstanding array—52 pieces in all—of selec...   \n",
       "\n",
       "                     user_name  \\\n",
       "0                  Kayla Brown   \n",
       "1                Dan Trefethen   \n",
       "2  Jamie (TheRebelliousReader)   \n",
       "3              Adam Di Filippe   \n",
       "4                       Morgan   \n",
       "\n",
       "                                     user_unique_key  number_of_stars  \\\n",
       "0  https://www.goodreads.com/user/show/33397902-k...                5   \n",
       "1  https://www.goodreads.com/user/show/90604449-d...                5   \n",
       "2  https://www.goodreads.com/user/show/7515832-ja...                0   \n",
       "3  https://www.goodreads.com/user/show/5907077-ad...                5   \n",
       "4  https://www.goodreads.com/user/show/3433933-mo...                0   \n",
       "\n",
       "                                     book_unique_key  \\\n",
       "0  https://www.goodreads.com/book/show/50358085-t...   \n",
       "1  https://www.goodreads.com/book/show/50358085-t...   \n",
       "2  https://www.goodreads.com/book/show/50358085-t...   \n",
       "3  https://www.goodreads.com/book/show/50358085-t...   \n",
       "4  https://www.goodreads.com/book/show/50358085-t...   \n",
       "\n",
       "                                         review_text  \n",
       "0                                                NaN  \n",
       "1  There are two types of readers in this world:\\...  \n",
       "2  I need this more than I think I've ever needed...  \n",
       "3  I received a free, advanced copy from NetGalle...  \n",
       "4  This is a hefty read, but it’s one that can be...  "
      ]
     },
     "execution_count": 4,
     "metadata": {},
     "output_type": "execute_result"
    }
   ],
   "source": [
    "df.head()"
   ]
  },
  {
   "cell_type": "code",
   "execution_count": 5,
   "metadata": {},
   "outputs": [
    {
     "data": {
      "text/plain": [
       "(157332, 12)"
      ]
     },
     "execution_count": 5,
     "metadata": {},
     "output_type": "execute_result"
    }
   ],
   "source": [
    "df.shape"
   ]
  },
  {
   "cell_type": "code",
   "execution_count": 6,
   "metadata": {},
   "outputs": [
    {
     "data": {
      "text/plain": [
       "484"
      ]
     },
     "execution_count": 6,
     "metadata": {},
     "output_type": "execute_result"
    }
   ],
   "source": [
    "# looking to see how many unique books there are in dataset\n",
    "\n",
    "df['book_unique_key'].nunique()"
   ]
  },
  {
   "cell_type": "code",
   "execution_count": 7,
   "metadata": {},
   "outputs": [
    {
     "data": {
      "text/plain": [
       "415"
      ]
     },
     "execution_count": 7,
     "metadata": {},
     "output_type": "execute_result"
    }
   ],
   "source": [
    "# looking to see how many authors are represented in dataset\n",
    "df['author'].nunique()"
   ]
  },
  {
   "cell_type": "code",
   "execution_count": 8,
   "metadata": {},
   "outputs": [
    {
     "data": {
      "text/plain": [
       "28959"
      ]
     },
     "execution_count": 8,
     "metadata": {},
     "output_type": "execute_result"
    }
   ],
   "source": [
    "# looking to see how many reviewers there are in dataset\n",
    "df['user_unique_key'].nunique()"
   ]
  },
  {
   "cell_type": "code",
   "execution_count": 11,
   "metadata": {},
   "outputs": [
    {
     "data": {
      "text/plain": [
       "143642"
      ]
     },
     "execution_count": 11,
     "metadata": {},
     "output_type": "execute_result"
    }
   ],
   "source": [
    "# looking to see how many duplicates are are, which are expected. This number is inclusive of original and duplicate. \n",
    "df.duplicated(subset='user_unique_key',keep=False).sum()"
   ]
  },
  {
   "cell_type": "markdown",
   "metadata": {},
   "source": [
    "#### Data Preprocessing\n",
    "\n",
    "Because my scrapper took reviews based on books found on a specific genre's page, there were duplicates between the book ratings because they may have been classified under multiple genres--such as one book falling into fiction, historical fiction, and history genres.\n",
    "\n",
    "During the data cleaning process I:\n",
    "- combined the multiple genre book and reviews table to make one combined data frame (see notebooks/exploratory/merge_tables.ipynb for merging multiple tables into one dataset)\n",
    "- took out the duplicate data left by the scrapping\n",
    "- removed extraneous text\n",
    "- removed text in mixed data type columns, such as the word \"pages\" from the pages columns so that column could be an integer data type"
   ]
  },
  {
   "cell_type": "code",
   "execution_count": 4,
   "metadata": {},
   "outputs": [],
   "source": [
    "# replace book unique key link with unique numerical\n",
    "\n",
    "enc = LabelEncoder()\n",
    "enc.fit(df['book_unique_key'])\n",
    "df['book_unique_key'] = enc.transform(df['book_unique_key'])\n",
    "comb_df2 = df"
   ]
  },
  {
   "cell_type": "code",
   "execution_count": 13,
   "metadata": {},
   "outputs": [
    {
     "data": {
      "text/html": [
       "<div>\n",
       "<style scoped>\n",
       "    .dataframe tbody tr th:only-of-type {\n",
       "        vertical-align: middle;\n",
       "    }\n",
       "\n",
       "    .dataframe tbody tr th {\n",
       "        vertical-align: top;\n",
       "    }\n",
       "\n",
       "    .dataframe thead th {\n",
       "        text-align: right;\n",
       "    }\n",
       "</style>\n",
       "<table border=\"1\" class=\"dataframe\">\n",
       "  <thead>\n",
       "    <tr style=\"text-align: right;\">\n",
       "      <th></th>\n",
       "      <th>genre</th>\n",
       "      <th>title</th>\n",
       "      <th>author</th>\n",
       "      <th>pages</th>\n",
       "      <th>unique_key</th>\n",
       "      <th>average_rating</th>\n",
       "      <th>book_description</th>\n",
       "      <th>user_name</th>\n",
       "      <th>user_unique_key</th>\n",
       "      <th>number_of_stars</th>\n",
       "      <th>book_unique_key</th>\n",
       "      <th>review_text</th>\n",
       "    </tr>\n",
       "  </thead>\n",
       "  <tbody>\n",
       "    <tr>\n",
       "      <th>157327</th>\n",
       "      <td>adventure</td>\n",
       "      <td>The Sea of Monsters</td>\n",
       "      <td>by Rick Riordan (Goodreads Author)</td>\n",
       "      <td>279 pages</td>\n",
       "      <td>https://www.goodreads.com/book/show/28186.The_...</td>\n",
       "      <td>4.24</td>\n",
       "      <td>NaN</td>\n",
       "      <td>ｄａｎｉｅｌａ</td>\n",
       "      <td>https://www.goodreads.com/user/show/69098728</td>\n",
       "      <td>4</td>\n",
       "      <td>105</td>\n",
       "      <td>This was honestly so much fun! I enjoyed this ...</td>\n",
       "    </tr>\n",
       "    <tr>\n",
       "      <th>157328</th>\n",
       "      <td>adventure</td>\n",
       "      <td>The Sea of Monsters</td>\n",
       "      <td>by Rick Riordan (Goodreads Author)</td>\n",
       "      <td>279 pages</td>\n",
       "      <td>https://www.goodreads.com/book/show/28186.The_...</td>\n",
       "      <td>4.24</td>\n",
       "      <td>NaN</td>\n",
       "      <td>Kyla Harris</td>\n",
       "      <td>https://www.goodreads.com/user/show/27881731-k...</td>\n",
       "      <td>4</td>\n",
       "      <td>105</td>\n",
       "      <td>Plot - 16/20\\nCharacters - 16/20\\nCreativity -...</td>\n",
       "    </tr>\n",
       "    <tr>\n",
       "      <th>157329</th>\n",
       "      <td>adventure</td>\n",
       "      <td>The Sea of Monsters</td>\n",
       "      <td>by Rick Riordan (Goodreads Author)</td>\n",
       "      <td>279 pages</td>\n",
       "      <td>https://www.goodreads.com/book/show/28186.The_...</td>\n",
       "      <td>4.24</td>\n",
       "      <td>NaN</td>\n",
       "      <td>Sara</td>\n",
       "      <td>https://www.goodreads.com/user/show/69932312-sara</td>\n",
       "      <td>4</td>\n",
       "      <td>105</td>\n",
       "      <td>I love this Universe!\\nThis is a really great ...</td>\n",
       "    </tr>\n",
       "    <tr>\n",
       "      <th>157330</th>\n",
       "      <td>adventure</td>\n",
       "      <td>The Sea of Monsters</td>\n",
       "      <td>by Rick Riordan (Goodreads Author)</td>\n",
       "      <td>279 pages</td>\n",
       "      <td>https://www.goodreads.com/book/show/28186.The_...</td>\n",
       "      <td>4.24</td>\n",
       "      <td>NaN</td>\n",
       "      <td>Alaina</td>\n",
       "      <td>https://www.goodreads.com/user/show/50620706-a...</td>\n",
       "      <td>5</td>\n",
       "      <td>105</td>\n",
       "      <td>“Powdered donuts,\" Tyson said earnestly. \"I wi...</td>\n",
       "    </tr>\n",
       "    <tr>\n",
       "      <th>157331</th>\n",
       "      <td>adventure</td>\n",
       "      <td>The Sea of Monsters</td>\n",
       "      <td>by Rick Riordan (Goodreads Author)</td>\n",
       "      <td>279 pages</td>\n",
       "      <td>https://www.goodreads.com/book/show/28186.The_...</td>\n",
       "      <td>4.24</td>\n",
       "      <td>NaN</td>\n",
       "      <td>Vanessa J.</td>\n",
       "      <td>https://www.goodreads.com/user/show/19590155-v...</td>\n",
       "      <td>3</td>\n",
       "      <td>105</td>\n",
       "      <td>3.5 out of 5 stars\\n\\nDear Percy Jackson fans,...</td>\n",
       "    </tr>\n",
       "  </tbody>\n",
       "</table>\n",
       "</div>"
      ],
      "text/plain": [
       "            genre                title                              author  \\\n",
       "157327  adventure  The Sea of Monsters  by Rick Riordan (Goodreads Author)   \n",
       "157328  adventure  The Sea of Monsters  by Rick Riordan (Goodreads Author)   \n",
       "157329  adventure  The Sea of Monsters  by Rick Riordan (Goodreads Author)   \n",
       "157330  adventure  The Sea of Monsters  by Rick Riordan (Goodreads Author)   \n",
       "157331  adventure  The Sea of Monsters  by Rick Riordan (Goodreads Author)   \n",
       "\n",
       "            pages                                         unique_key  \\\n",
       "157327  279 pages  https://www.goodreads.com/book/show/28186.The_...   \n",
       "157328  279 pages  https://www.goodreads.com/book/show/28186.The_...   \n",
       "157329  279 pages  https://www.goodreads.com/book/show/28186.The_...   \n",
       "157330  279 pages  https://www.goodreads.com/book/show/28186.The_...   \n",
       "157331  279 pages  https://www.goodreads.com/book/show/28186.The_...   \n",
       "\n",
       "        average_rating book_description    user_name  \\\n",
       "157327            4.24              NaN      ｄａｎｉｅｌａ   \n",
       "157328            4.24              NaN  Kyla Harris   \n",
       "157329            4.24              NaN         Sara   \n",
       "157330            4.24              NaN       Alaina   \n",
       "157331            4.24              NaN   Vanessa J.   \n",
       "\n",
       "                                          user_unique_key  number_of_stars  \\\n",
       "157327       https://www.goodreads.com/user/show/69098728                4   \n",
       "157328  https://www.goodreads.com/user/show/27881731-k...                4   \n",
       "157329  https://www.goodreads.com/user/show/69932312-sara                4   \n",
       "157330  https://www.goodreads.com/user/show/50620706-a...                5   \n",
       "157331  https://www.goodreads.com/user/show/19590155-v...                3   \n",
       "\n",
       "        book_unique_key                                        review_text  \n",
       "157327              105  This was honestly so much fun! I enjoyed this ...  \n",
       "157328              105  Plot - 16/20\\nCharacters - 16/20\\nCreativity -...  \n",
       "157329              105  I love this Universe!\\nThis is a really great ...  \n",
       "157330              105  “Powdered donuts,\" Tyson said earnestly. \"I wi...  \n",
       "157331              105  3.5 out of 5 stars\\n\\nDear Percy Jackson fans,...  "
      ]
     },
     "execution_count": 13,
     "metadata": {},
     "output_type": "execute_result"
    }
   ],
   "source": [
    "comb_df2.tail()"
   ]
  },
  {
   "cell_type": "code",
   "execution_count": 5,
   "metadata": {},
   "outputs": [
    {
     "data": {
      "text/html": [
       "<div>\n",
       "<style scoped>\n",
       "    .dataframe tbody tr th:only-of-type {\n",
       "        vertical-align: middle;\n",
       "    }\n",
       "\n",
       "    .dataframe tbody tr th {\n",
       "        vertical-align: top;\n",
       "    }\n",
       "\n",
       "    .dataframe thead th {\n",
       "        text-align: right;\n",
       "    }\n",
       "</style>\n",
       "<table border=\"1\" class=\"dataframe\">\n",
       "  <thead>\n",
       "    <tr style=\"text-align: right;\">\n",
       "      <th></th>\n",
       "      <th>genre</th>\n",
       "      <th>title</th>\n",
       "      <th>author</th>\n",
       "      <th>pages</th>\n",
       "      <th>unique_key</th>\n",
       "      <th>average_rating</th>\n",
       "      <th>book_description</th>\n",
       "      <th>user_name</th>\n",
       "      <th>user_unique_key</th>\n",
       "      <th>number_of_stars</th>\n",
       "      <th>book_unique_key</th>\n",
       "      <th>review_text</th>\n",
       "    </tr>\n",
       "  </thead>\n",
       "  <tbody>\n",
       "    <tr>\n",
       "      <th>0</th>\n",
       "      <td>short-stories</td>\n",
       "      <td>The Neil Gaiman Reader: Selected Fiction</td>\n",
       "      <td>by Neil Gaiman (Goodreads Author)</td>\n",
       "      <td>752 pages</td>\n",
       "      <td>https://www.goodreads.com/book/show/50358085-t...</td>\n",
       "      <td>4.54</td>\n",
       "      <td>An outstanding array—52 pieces in all—of selec...</td>\n",
       "      <td>Kayla Brown</td>\n",
       "      <td>12531</td>\n",
       "      <td>5</td>\n",
       "      <td>287</td>\n",
       "      <td>NaN</td>\n",
       "    </tr>\n",
       "    <tr>\n",
       "      <th>1</th>\n",
       "      <td>short-stories</td>\n",
       "      <td>The Neil Gaiman Reader: Selected Fiction</td>\n",
       "      <td>by Neil Gaiman (Goodreads Author)</td>\n",
       "      <td>752 pages</td>\n",
       "      <td>https://www.goodreads.com/book/show/50358085-t...</td>\n",
       "      <td>4.54</td>\n",
       "      <td>An outstanding array—52 pieces in all—of selec...</td>\n",
       "      <td>Dan Trefethen</td>\n",
       "      <td>27474</td>\n",
       "      <td>5</td>\n",
       "      <td>287</td>\n",
       "      <td>There are two types of readers in this world:\\...</td>\n",
       "    </tr>\n",
       "    <tr>\n",
       "      <th>2</th>\n",
       "      <td>short-stories</td>\n",
       "      <td>The Neil Gaiman Reader: Selected Fiction</td>\n",
       "      <td>by Neil Gaiman (Goodreads Author)</td>\n",
       "      <td>752 pages</td>\n",
       "      <td>https://www.goodreads.com/book/show/50358085-t...</td>\n",
       "      <td>4.54</td>\n",
       "      <td>An outstanding array—52 pieces in all—of selec...</td>\n",
       "      <td>Jamie (TheRebelliousReader)</td>\n",
       "      <td>24616</td>\n",
       "      <td>0</td>\n",
       "      <td>287</td>\n",
       "      <td>I need this more than I think I've ever needed...</td>\n",
       "    </tr>\n",
       "    <tr>\n",
       "      <th>3</th>\n",
       "      <td>short-stories</td>\n",
       "      <td>The Neil Gaiman Reader: Selected Fiction</td>\n",
       "      <td>by Neil Gaiman (Goodreads Author)</td>\n",
       "      <td>752 pages</td>\n",
       "      <td>https://www.goodreads.com/book/show/50358085-t...</td>\n",
       "      <td>4.54</td>\n",
       "      <td>An outstanding array—52 pieces in all—of selec...</td>\n",
       "      <td>Adam Di Filippe</td>\n",
       "      <td>20526</td>\n",
       "      <td>5</td>\n",
       "      <td>287</td>\n",
       "      <td>I received a free, advanced copy from NetGalle...</td>\n",
       "    </tr>\n",
       "    <tr>\n",
       "      <th>4</th>\n",
       "      <td>short-stories</td>\n",
       "      <td>The Neil Gaiman Reader: Selected Fiction</td>\n",
       "      <td>by Neil Gaiman (Goodreads Author)</td>\n",
       "      <td>752 pages</td>\n",
       "      <td>https://www.goodreads.com/book/show/50358085-t...</td>\n",
       "      <td>4.54</td>\n",
       "      <td>An outstanding array—52 pieces in all—of selec...</td>\n",
       "      <td>Morgan</td>\n",
       "      <td>12873</td>\n",
       "      <td>0</td>\n",
       "      <td>287</td>\n",
       "      <td>This is a hefty read, but it’s one that can be...</td>\n",
       "    </tr>\n",
       "  </tbody>\n",
       "</table>\n",
       "</div>"
      ],
      "text/plain": [
       "           genre                                     title  \\\n",
       "0  short-stories  The Neil Gaiman Reader: Selected Fiction   \n",
       "1  short-stories  The Neil Gaiman Reader: Selected Fiction   \n",
       "2  short-stories  The Neil Gaiman Reader: Selected Fiction   \n",
       "3  short-stories  The Neil Gaiman Reader: Selected Fiction   \n",
       "4  short-stories  The Neil Gaiman Reader: Selected Fiction   \n",
       "\n",
       "                              author      pages  \\\n",
       "0  by Neil Gaiman (Goodreads Author)  752 pages   \n",
       "1  by Neil Gaiman (Goodreads Author)  752 pages   \n",
       "2  by Neil Gaiman (Goodreads Author)  752 pages   \n",
       "3  by Neil Gaiman (Goodreads Author)  752 pages   \n",
       "4  by Neil Gaiman (Goodreads Author)  752 pages   \n",
       "\n",
       "                                          unique_key  average_rating  \\\n",
       "0  https://www.goodreads.com/book/show/50358085-t...            4.54   \n",
       "1  https://www.goodreads.com/book/show/50358085-t...            4.54   \n",
       "2  https://www.goodreads.com/book/show/50358085-t...            4.54   \n",
       "3  https://www.goodreads.com/book/show/50358085-t...            4.54   \n",
       "4  https://www.goodreads.com/book/show/50358085-t...            4.54   \n",
       "\n",
       "                                    book_description  \\\n",
       "0  An outstanding array—52 pieces in all—of selec...   \n",
       "1  An outstanding array—52 pieces in all—of selec...   \n",
       "2  An outstanding array—52 pieces in all—of selec...   \n",
       "3  An outstanding array—52 pieces in all—of selec...   \n",
       "4  An outstanding array—52 pieces in all—of selec...   \n",
       "\n",
       "                     user_name  user_unique_key  number_of_stars  \\\n",
       "0                  Kayla Brown            12531                5   \n",
       "1                Dan Trefethen            27474                5   \n",
       "2  Jamie (TheRebelliousReader)            24616                0   \n",
       "3              Adam Di Filippe            20526                5   \n",
       "4                       Morgan            12873                0   \n",
       "\n",
       "   book_unique_key                                        review_text  \n",
       "0              287                                                NaN  \n",
       "1              287  There are two types of readers in this world:\\...  \n",
       "2              287  I need this more than I think I've ever needed...  \n",
       "3              287  I received a free, advanced copy from NetGalle...  \n",
       "4              287  This is a hefty read, but it’s one that can be...  "
      ]
     },
     "execution_count": 5,
     "metadata": {},
     "output_type": "execute_result"
    }
   ],
   "source": [
    "# replace user unique key link with unique numerical\n",
    "\n",
    "enc = LabelEncoder()\n",
    "enc.fit(comb_df2['user_unique_key'])\n",
    "comb_df2['user_unique_key'] = enc.transform(comb_df2['user_unique_key'])\n",
    "comb_df3 = comb_df2\n",
    "comb_df3.head()"
   ]
  },
  {
   "cell_type": "code",
   "execution_count": 6,
   "metadata": {},
   "outputs": [
    {
     "data": {
      "text/html": [
       "<div>\n",
       "<style scoped>\n",
       "    .dataframe tbody tr th:only-of-type {\n",
       "        vertical-align: middle;\n",
       "    }\n",
       "\n",
       "    .dataframe tbody tr th {\n",
       "        vertical-align: top;\n",
       "    }\n",
       "\n",
       "    .dataframe thead th {\n",
       "        text-align: right;\n",
       "    }\n",
       "</style>\n",
       "<table border=\"1\" class=\"dataframe\">\n",
       "  <thead>\n",
       "    <tr style=\"text-align: right;\">\n",
       "      <th></th>\n",
       "      <th>genre</th>\n",
       "      <th>title</th>\n",
       "      <th>author</th>\n",
       "      <th>pages</th>\n",
       "      <th>unique_key</th>\n",
       "      <th>average_rating</th>\n",
       "      <th>book_description</th>\n",
       "      <th>user_name</th>\n",
       "      <th>user_unique_key</th>\n",
       "      <th>number_of_stars</th>\n",
       "      <th>book_unique_key</th>\n",
       "      <th>review_text</th>\n",
       "    </tr>\n",
       "  </thead>\n",
       "  <tbody>\n",
       "    <tr>\n",
       "      <th>0</th>\n",
       "      <td>short-stories</td>\n",
       "      <td>The Neil Gaiman Reader: Selected Fiction</td>\n",
       "      <td>Neil Gaiman ()</td>\n",
       "      <td>752 pages</td>\n",
       "      <td>https://www.goodreads.com/book/show/50358085-t...</td>\n",
       "      <td>4.54</td>\n",
       "      <td>An outstanding array—52 pieces in all—of selec...</td>\n",
       "      <td>Kayla Brown</td>\n",
       "      <td>12531</td>\n",
       "      <td>5</td>\n",
       "      <td>287</td>\n",
       "      <td>NaN</td>\n",
       "    </tr>\n",
       "    <tr>\n",
       "      <th>1</th>\n",
       "      <td>short-stories</td>\n",
       "      <td>The Neil Gaiman Reader: Selected Fiction</td>\n",
       "      <td>Neil Gaiman ()</td>\n",
       "      <td>752 pages</td>\n",
       "      <td>https://www.goodreads.com/book/show/50358085-t...</td>\n",
       "      <td>4.54</td>\n",
       "      <td>An outstanding array—52 pieces in all—of selec...</td>\n",
       "      <td>Dan Trefethen</td>\n",
       "      <td>27474</td>\n",
       "      <td>5</td>\n",
       "      <td>287</td>\n",
       "      <td>There are two types of readers in this world:\\...</td>\n",
       "    </tr>\n",
       "    <tr>\n",
       "      <th>2</th>\n",
       "      <td>short-stories</td>\n",
       "      <td>The Neil Gaiman Reader: Selected Fiction</td>\n",
       "      <td>Neil Gaiman ()</td>\n",
       "      <td>752 pages</td>\n",
       "      <td>https://www.goodreads.com/book/show/50358085-t...</td>\n",
       "      <td>4.54</td>\n",
       "      <td>An outstanding array—52 pieces in all—of selec...</td>\n",
       "      <td>Jamie (TheRebelliousReader)</td>\n",
       "      <td>24616</td>\n",
       "      <td>0</td>\n",
       "      <td>287</td>\n",
       "      <td>I need this more than I think I've ever needed...</td>\n",
       "    </tr>\n",
       "    <tr>\n",
       "      <th>3</th>\n",
       "      <td>short-stories</td>\n",
       "      <td>The Neil Gaiman Reader: Selected Fiction</td>\n",
       "      <td>Neil Gaiman ()</td>\n",
       "      <td>752 pages</td>\n",
       "      <td>https://www.goodreads.com/book/show/50358085-t...</td>\n",
       "      <td>4.54</td>\n",
       "      <td>An outstanding array—52 pieces in all—of selec...</td>\n",
       "      <td>Adam Di Filippe</td>\n",
       "      <td>20526</td>\n",
       "      <td>5</td>\n",
       "      <td>287</td>\n",
       "      <td>I received a free, advanced copy from NetGalle...</td>\n",
       "    </tr>\n",
       "    <tr>\n",
       "      <th>4</th>\n",
       "      <td>short-stories</td>\n",
       "      <td>The Neil Gaiman Reader: Selected Fiction</td>\n",
       "      <td>Neil Gaiman ()</td>\n",
       "      <td>752 pages</td>\n",
       "      <td>https://www.goodreads.com/book/show/50358085-t...</td>\n",
       "      <td>4.54</td>\n",
       "      <td>An outstanding array—52 pieces in all—of selec...</td>\n",
       "      <td>Morgan</td>\n",
       "      <td>12873</td>\n",
       "      <td>0</td>\n",
       "      <td>287</td>\n",
       "      <td>This is a hefty read, but it’s one that can be...</td>\n",
       "    </tr>\n",
       "  </tbody>\n",
       "</table>\n",
       "</div>"
      ],
      "text/plain": [
       "           genre                                     title          author  \\\n",
       "0  short-stories  The Neil Gaiman Reader: Selected Fiction  Neil Gaiman ()   \n",
       "1  short-stories  The Neil Gaiman Reader: Selected Fiction  Neil Gaiman ()   \n",
       "2  short-stories  The Neil Gaiman Reader: Selected Fiction  Neil Gaiman ()   \n",
       "3  short-stories  The Neil Gaiman Reader: Selected Fiction  Neil Gaiman ()   \n",
       "4  short-stories  The Neil Gaiman Reader: Selected Fiction  Neil Gaiman ()   \n",
       "\n",
       "       pages                                         unique_key  \\\n",
       "0  752 pages  https://www.goodreads.com/book/show/50358085-t...   \n",
       "1  752 pages  https://www.goodreads.com/book/show/50358085-t...   \n",
       "2  752 pages  https://www.goodreads.com/book/show/50358085-t...   \n",
       "3  752 pages  https://www.goodreads.com/book/show/50358085-t...   \n",
       "4  752 pages  https://www.goodreads.com/book/show/50358085-t...   \n",
       "\n",
       "   average_rating                                   book_description  \\\n",
       "0            4.54  An outstanding array—52 pieces in all—of selec...   \n",
       "1            4.54  An outstanding array—52 pieces in all—of selec...   \n",
       "2            4.54  An outstanding array—52 pieces in all—of selec...   \n",
       "3            4.54  An outstanding array—52 pieces in all—of selec...   \n",
       "4            4.54  An outstanding array—52 pieces in all—of selec...   \n",
       "\n",
       "                     user_name  user_unique_key  number_of_stars  \\\n",
       "0                  Kayla Brown            12531                5   \n",
       "1                Dan Trefethen            27474                5   \n",
       "2  Jamie (TheRebelliousReader)            24616                0   \n",
       "3              Adam Di Filippe            20526                5   \n",
       "4                       Morgan            12873                0   \n",
       "\n",
       "   book_unique_key                                        review_text  \n",
       "0              287                                                NaN  \n",
       "1              287  There are two types of readers in this world:\\...  \n",
       "2              287  I need this more than I think I've ever needed...  \n",
       "3              287  I received a free, advanced copy from NetGalle...  \n",
       "4              287  This is a hefty read, but it’s one that can be...  "
      ]
     },
     "execution_count": 6,
     "metadata": {},
     "output_type": "execute_result"
    }
   ],
   "source": [
    "# remove extraneous text in author column\n",
    "\n",
    "comb_df3['author'] = comb_df3['author'].replace({'by ': '', \"(Goodreads Author)\": ''}, regex=True)\n",
    "comb_df4= comb_df3\n",
    "comb_df4.head()"
   ]
  },
  {
   "cell_type": "code",
   "execution_count": 7,
   "metadata": {},
   "outputs": [
    {
     "data": {
      "text/html": [
       "<div>\n",
       "<style scoped>\n",
       "    .dataframe tbody tr th:only-of-type {\n",
       "        vertical-align: middle;\n",
       "    }\n",
       "\n",
       "    .dataframe tbody tr th {\n",
       "        vertical-align: top;\n",
       "    }\n",
       "\n",
       "    .dataframe thead th {\n",
       "        text-align: right;\n",
       "    }\n",
       "</style>\n",
       "<table border=\"1\" class=\"dataframe\">\n",
       "  <thead>\n",
       "    <tr style=\"text-align: right;\">\n",
       "      <th></th>\n",
       "      <th>genre</th>\n",
       "      <th>title</th>\n",
       "      <th>author</th>\n",
       "      <th>pages</th>\n",
       "      <th>unique_key</th>\n",
       "      <th>average_rating</th>\n",
       "      <th>book_description</th>\n",
       "      <th>user_name</th>\n",
       "      <th>user_unique_key</th>\n",
       "      <th>number_of_stars</th>\n",
       "      <th>book_unique_key</th>\n",
       "      <th>review_text</th>\n",
       "    </tr>\n",
       "  </thead>\n",
       "  <tbody>\n",
       "    <tr>\n",
       "      <th>0</th>\n",
       "      <td>short-stories</td>\n",
       "      <td>The Neil Gaiman Reader: Selected Fiction</td>\n",
       "      <td>Neil Gaiman ()</td>\n",
       "      <td>752</td>\n",
       "      <td>https://www.goodreads.com/book/show/50358085-t...</td>\n",
       "      <td>4.54</td>\n",
       "      <td>An outstanding array—52 pieces in all—of selec...</td>\n",
       "      <td>Kayla Brown</td>\n",
       "      <td>12531</td>\n",
       "      <td>5</td>\n",
       "      <td>287</td>\n",
       "      <td>NaN</td>\n",
       "    </tr>\n",
       "    <tr>\n",
       "      <th>1</th>\n",
       "      <td>short-stories</td>\n",
       "      <td>The Neil Gaiman Reader: Selected Fiction</td>\n",
       "      <td>Neil Gaiman ()</td>\n",
       "      <td>752</td>\n",
       "      <td>https://www.goodreads.com/book/show/50358085-t...</td>\n",
       "      <td>4.54</td>\n",
       "      <td>An outstanding array—52 pieces in all—of selec...</td>\n",
       "      <td>Dan Trefethen</td>\n",
       "      <td>27474</td>\n",
       "      <td>5</td>\n",
       "      <td>287</td>\n",
       "      <td>There are two types of readers in this world:\\...</td>\n",
       "    </tr>\n",
       "    <tr>\n",
       "      <th>2</th>\n",
       "      <td>short-stories</td>\n",
       "      <td>The Neil Gaiman Reader: Selected Fiction</td>\n",
       "      <td>Neil Gaiman ()</td>\n",
       "      <td>752</td>\n",
       "      <td>https://www.goodreads.com/book/show/50358085-t...</td>\n",
       "      <td>4.54</td>\n",
       "      <td>An outstanding array—52 pieces in all—of selec...</td>\n",
       "      <td>Jamie (TheRebelliousReader)</td>\n",
       "      <td>24616</td>\n",
       "      <td>0</td>\n",
       "      <td>287</td>\n",
       "      <td>I need this more than I think I've ever needed...</td>\n",
       "    </tr>\n",
       "    <tr>\n",
       "      <th>3</th>\n",
       "      <td>short-stories</td>\n",
       "      <td>The Neil Gaiman Reader: Selected Fiction</td>\n",
       "      <td>Neil Gaiman ()</td>\n",
       "      <td>752</td>\n",
       "      <td>https://www.goodreads.com/book/show/50358085-t...</td>\n",
       "      <td>4.54</td>\n",
       "      <td>An outstanding array—52 pieces in all—of selec...</td>\n",
       "      <td>Adam Di Filippe</td>\n",
       "      <td>20526</td>\n",
       "      <td>5</td>\n",
       "      <td>287</td>\n",
       "      <td>I received a free, advanced copy from NetGalle...</td>\n",
       "    </tr>\n",
       "    <tr>\n",
       "      <th>4</th>\n",
       "      <td>short-stories</td>\n",
       "      <td>The Neil Gaiman Reader: Selected Fiction</td>\n",
       "      <td>Neil Gaiman ()</td>\n",
       "      <td>752</td>\n",
       "      <td>https://www.goodreads.com/book/show/50358085-t...</td>\n",
       "      <td>4.54</td>\n",
       "      <td>An outstanding array—52 pieces in all—of selec...</td>\n",
       "      <td>Morgan</td>\n",
       "      <td>12873</td>\n",
       "      <td>0</td>\n",
       "      <td>287</td>\n",
       "      <td>This is a hefty read, but it’s one that can be...</td>\n",
       "    </tr>\n",
       "  </tbody>\n",
       "</table>\n",
       "</div>"
      ],
      "text/plain": [
       "           genre                                     title          author  \\\n",
       "0  short-stories  The Neil Gaiman Reader: Selected Fiction  Neil Gaiman ()   \n",
       "1  short-stories  The Neil Gaiman Reader: Selected Fiction  Neil Gaiman ()   \n",
       "2  short-stories  The Neil Gaiman Reader: Selected Fiction  Neil Gaiman ()   \n",
       "3  short-stories  The Neil Gaiman Reader: Selected Fiction  Neil Gaiman ()   \n",
       "4  short-stories  The Neil Gaiman Reader: Selected Fiction  Neil Gaiman ()   \n",
       "\n",
       "  pages                                         unique_key  average_rating  \\\n",
       "0  752   https://www.goodreads.com/book/show/50358085-t...            4.54   \n",
       "1  752   https://www.goodreads.com/book/show/50358085-t...            4.54   \n",
       "2  752   https://www.goodreads.com/book/show/50358085-t...            4.54   \n",
       "3  752   https://www.goodreads.com/book/show/50358085-t...            4.54   \n",
       "4  752   https://www.goodreads.com/book/show/50358085-t...            4.54   \n",
       "\n",
       "                                    book_description  \\\n",
       "0  An outstanding array—52 pieces in all—of selec...   \n",
       "1  An outstanding array—52 pieces in all—of selec...   \n",
       "2  An outstanding array—52 pieces in all—of selec...   \n",
       "3  An outstanding array—52 pieces in all—of selec...   \n",
       "4  An outstanding array—52 pieces in all—of selec...   \n",
       "\n",
       "                     user_name  user_unique_key  number_of_stars  \\\n",
       "0                  Kayla Brown            12531                5   \n",
       "1                Dan Trefethen            27474                5   \n",
       "2  Jamie (TheRebelliousReader)            24616                0   \n",
       "3              Adam Di Filippe            20526                5   \n",
       "4                       Morgan            12873                0   \n",
       "\n",
       "   book_unique_key                                        review_text  \n",
       "0              287                                                NaN  \n",
       "1              287  There are two types of readers in this world:\\...  \n",
       "2              287  I need this more than I think I've ever needed...  \n",
       "3              287  I received a free, advanced copy from NetGalle...  \n",
       "4              287  This is a hefty read, but it’s one that can be...  "
      ]
     },
     "execution_count": 7,
     "metadata": {},
     "output_type": "execute_result"
    }
   ],
   "source": [
    "# remove extraneous text in pages column\n",
    "\n",
    "comb_df4['pages'] = comb_df4['pages'].replace({'pages': ''}, regex=True)\n",
    "comb_df5= comb_df4\n",
    "comb_df5.head()"
   ]
  },
  {
   "cell_type": "code",
   "execution_count": 8,
   "metadata": {},
   "outputs": [
    {
     "data": {
      "text/html": [
       "<div>\n",
       "<style scoped>\n",
       "    .dataframe tbody tr th:only-of-type {\n",
       "        vertical-align: middle;\n",
       "    }\n",
       "\n",
       "    .dataframe tbody tr th {\n",
       "        vertical-align: top;\n",
       "    }\n",
       "\n",
       "    .dataframe thead th {\n",
       "        text-align: right;\n",
       "    }\n",
       "</style>\n",
       "<table border=\"1\" class=\"dataframe\">\n",
       "  <thead>\n",
       "    <tr style=\"text-align: right;\">\n",
       "      <th></th>\n",
       "      <th>genre</th>\n",
       "      <th>title</th>\n",
       "      <th>author</th>\n",
       "      <th>pages</th>\n",
       "      <th>average_rating</th>\n",
       "      <th>book_description</th>\n",
       "      <th>user_unique_key</th>\n",
       "      <th>number_of_stars</th>\n",
       "      <th>book_unique_key</th>\n",
       "      <th>review_text</th>\n",
       "    </tr>\n",
       "  </thead>\n",
       "  <tbody>\n",
       "    <tr>\n",
       "      <th>0</th>\n",
       "      <td>short-stories</td>\n",
       "      <td>The Neil Gaiman Reader: Selected Fiction</td>\n",
       "      <td>Neil Gaiman ()</td>\n",
       "      <td>752</td>\n",
       "      <td>4.54</td>\n",
       "      <td>An outstanding array—52 pieces in all—of selec...</td>\n",
       "      <td>12531</td>\n",
       "      <td>5</td>\n",
       "      <td>287</td>\n",
       "      <td>NaN</td>\n",
       "    </tr>\n",
       "    <tr>\n",
       "      <th>1</th>\n",
       "      <td>short-stories</td>\n",
       "      <td>The Neil Gaiman Reader: Selected Fiction</td>\n",
       "      <td>Neil Gaiman ()</td>\n",
       "      <td>752</td>\n",
       "      <td>4.54</td>\n",
       "      <td>An outstanding array—52 pieces in all—of selec...</td>\n",
       "      <td>27474</td>\n",
       "      <td>5</td>\n",
       "      <td>287</td>\n",
       "      <td>There are two types of readers in this world:\\...</td>\n",
       "    </tr>\n",
       "    <tr>\n",
       "      <th>2</th>\n",
       "      <td>short-stories</td>\n",
       "      <td>The Neil Gaiman Reader: Selected Fiction</td>\n",
       "      <td>Neil Gaiman ()</td>\n",
       "      <td>752</td>\n",
       "      <td>4.54</td>\n",
       "      <td>An outstanding array—52 pieces in all—of selec...</td>\n",
       "      <td>24616</td>\n",
       "      <td>0</td>\n",
       "      <td>287</td>\n",
       "      <td>I need this more than I think I've ever needed...</td>\n",
       "    </tr>\n",
       "    <tr>\n",
       "      <th>3</th>\n",
       "      <td>short-stories</td>\n",
       "      <td>The Neil Gaiman Reader: Selected Fiction</td>\n",
       "      <td>Neil Gaiman ()</td>\n",
       "      <td>752</td>\n",
       "      <td>4.54</td>\n",
       "      <td>An outstanding array—52 pieces in all—of selec...</td>\n",
       "      <td>20526</td>\n",
       "      <td>5</td>\n",
       "      <td>287</td>\n",
       "      <td>I received a free, advanced copy from NetGalle...</td>\n",
       "    </tr>\n",
       "    <tr>\n",
       "      <th>4</th>\n",
       "      <td>short-stories</td>\n",
       "      <td>The Neil Gaiman Reader: Selected Fiction</td>\n",
       "      <td>Neil Gaiman ()</td>\n",
       "      <td>752</td>\n",
       "      <td>4.54</td>\n",
       "      <td>An outstanding array—52 pieces in all—of selec...</td>\n",
       "      <td>12873</td>\n",
       "      <td>0</td>\n",
       "      <td>287</td>\n",
       "      <td>This is a hefty read, but it’s one that can be...</td>\n",
       "    </tr>\n",
       "  </tbody>\n",
       "</table>\n",
       "</div>"
      ],
      "text/plain": [
       "           genre                                     title          author  \\\n",
       "0  short-stories  The Neil Gaiman Reader: Selected Fiction  Neil Gaiman ()   \n",
       "1  short-stories  The Neil Gaiman Reader: Selected Fiction  Neil Gaiman ()   \n",
       "2  short-stories  The Neil Gaiman Reader: Selected Fiction  Neil Gaiman ()   \n",
       "3  short-stories  The Neil Gaiman Reader: Selected Fiction  Neil Gaiman ()   \n",
       "4  short-stories  The Neil Gaiman Reader: Selected Fiction  Neil Gaiman ()   \n",
       "\n",
       "  pages  average_rating                                   book_description  \\\n",
       "0  752             4.54  An outstanding array—52 pieces in all—of selec...   \n",
       "1  752             4.54  An outstanding array—52 pieces in all—of selec...   \n",
       "2  752             4.54  An outstanding array—52 pieces in all—of selec...   \n",
       "3  752             4.54  An outstanding array—52 pieces in all—of selec...   \n",
       "4  752             4.54  An outstanding array—52 pieces in all—of selec...   \n",
       "\n",
       "   user_unique_key  number_of_stars  book_unique_key  \\\n",
       "0            12531                5              287   \n",
       "1            27474                5              287   \n",
       "2            24616                0              287   \n",
       "3            20526                5              287   \n",
       "4            12873                0              287   \n",
       "\n",
       "                                         review_text  \n",
       "0                                                NaN  \n",
       "1  There are two types of readers in this world:\\...  \n",
       "2  I need this more than I think I've ever needed...  \n",
       "3  I received a free, advanced copy from NetGalle...  \n",
       "4  This is a hefty read, but it’s one that can be...  "
      ]
     },
     "execution_count": 8,
     "metadata": {},
     "output_type": "execute_result"
    }
   ],
   "source": [
    "# remove unnessary columns\n",
    "# dropping unique_key column because it is a duplicate of book unique key\n",
    "# dropping user_name column because user_unique_key serves the same purpose and \n",
    "# addresses any similarities there may be within user names\n",
    "\n",
    "comb_df6= comb_df5.drop(['unique_key', 'user_name'], axis= 1)\n",
    "comb_df6.head() \n"
   ]
  },
  {
   "cell_type": "code",
   "execution_count": 9,
   "metadata": {},
   "outputs": [
    {
     "data": {
      "text/html": [
       "<div>\n",
       "<style scoped>\n",
       "    .dataframe tbody tr th:only-of-type {\n",
       "        vertical-align: middle;\n",
       "    }\n",
       "\n",
       "    .dataframe tbody tr th {\n",
       "        vertical-align: top;\n",
       "    }\n",
       "\n",
       "    .dataframe thead th {\n",
       "        text-align: right;\n",
       "    }\n",
       "</style>\n",
       "<table border=\"1\" class=\"dataframe\">\n",
       "  <thead>\n",
       "    <tr style=\"text-align: right;\">\n",
       "      <th></th>\n",
       "      <th>genre</th>\n",
       "      <th>title</th>\n",
       "      <th>author</th>\n",
       "      <th>pages</th>\n",
       "      <th>average_rating</th>\n",
       "      <th>book_description</th>\n",
       "      <th>user_unique_key</th>\n",
       "      <th>number_of_stars</th>\n",
       "      <th>book_unique_key</th>\n",
       "      <th>review_text</th>\n",
       "    </tr>\n",
       "  </thead>\n",
       "  <tbody>\n",
       "    <tr>\n",
       "      <th>0</th>\n",
       "      <td>short-stories</td>\n",
       "      <td>The Neil Gaiman Reader: Selected Fiction</td>\n",
       "      <td>Neil Gaiman ()</td>\n",
       "      <td>752</td>\n",
       "      <td>4.54</td>\n",
       "      <td>An outstanding array—52 pieces in all—of selec...</td>\n",
       "      <td>12531</td>\n",
       "      <td>5</td>\n",
       "      <td>287</td>\n",
       "      <td>NaN</td>\n",
       "    </tr>\n",
       "    <tr>\n",
       "      <th>1</th>\n",
       "      <td>short-stories</td>\n",
       "      <td>The Neil Gaiman Reader: Selected Fiction</td>\n",
       "      <td>Neil Gaiman ()</td>\n",
       "      <td>752</td>\n",
       "      <td>4.54</td>\n",
       "      <td>An outstanding array—52 pieces in all—of selec...</td>\n",
       "      <td>27474</td>\n",
       "      <td>5</td>\n",
       "      <td>287</td>\n",
       "      <td>There are two types of readers in this world:\\...</td>\n",
       "    </tr>\n",
       "    <tr>\n",
       "      <th>2</th>\n",
       "      <td>short-stories</td>\n",
       "      <td>The Neil Gaiman Reader: Selected Fiction</td>\n",
       "      <td>Neil Gaiman ()</td>\n",
       "      <td>752</td>\n",
       "      <td>4.54</td>\n",
       "      <td>An outstanding array—52 pieces in all—of selec...</td>\n",
       "      <td>24616</td>\n",
       "      <td>0</td>\n",
       "      <td>287</td>\n",
       "      <td>I need this more than I think I've ever needed...</td>\n",
       "    </tr>\n",
       "    <tr>\n",
       "      <th>3</th>\n",
       "      <td>short-stories</td>\n",
       "      <td>The Neil Gaiman Reader: Selected Fiction</td>\n",
       "      <td>Neil Gaiman ()</td>\n",
       "      <td>752</td>\n",
       "      <td>4.54</td>\n",
       "      <td>An outstanding array—52 pieces in all—of selec...</td>\n",
       "      <td>20526</td>\n",
       "      <td>5</td>\n",
       "      <td>287</td>\n",
       "      <td>I received a free, advanced copy from NetGalle...</td>\n",
       "    </tr>\n",
       "    <tr>\n",
       "      <th>4</th>\n",
       "      <td>short-stories</td>\n",
       "      <td>The Neil Gaiman Reader: Selected Fiction</td>\n",
       "      <td>Neil Gaiman ()</td>\n",
       "      <td>752</td>\n",
       "      <td>4.54</td>\n",
       "      <td>An outstanding array—52 pieces in all—of selec...</td>\n",
       "      <td>12873</td>\n",
       "      <td>0</td>\n",
       "      <td>287</td>\n",
       "      <td>This is a hefty read, but it’s one that can be...</td>\n",
       "    </tr>\n",
       "  </tbody>\n",
       "</table>\n",
       "</div>"
      ],
      "text/plain": [
       "           genre                                     title          author  \\\n",
       "0  short-stories  The Neil Gaiman Reader: Selected Fiction  Neil Gaiman ()   \n",
       "1  short-stories  The Neil Gaiman Reader: Selected Fiction  Neil Gaiman ()   \n",
       "2  short-stories  The Neil Gaiman Reader: Selected Fiction  Neil Gaiman ()   \n",
       "3  short-stories  The Neil Gaiman Reader: Selected Fiction  Neil Gaiman ()   \n",
       "4  short-stories  The Neil Gaiman Reader: Selected Fiction  Neil Gaiman ()   \n",
       "\n",
       "  pages  average_rating                                   book_description  \\\n",
       "0  752             4.54  An outstanding array—52 pieces in all—of selec...   \n",
       "1  752             4.54  An outstanding array—52 pieces in all—of selec...   \n",
       "2  752             4.54  An outstanding array—52 pieces in all—of selec...   \n",
       "3  752             4.54  An outstanding array—52 pieces in all—of selec...   \n",
       "4  752             4.54  An outstanding array—52 pieces in all—of selec...   \n",
       "\n",
       "   user_unique_key  number_of_stars  book_unique_key  \\\n",
       "0            12531                5              287   \n",
       "1            27474                5              287   \n",
       "2            24616                0              287   \n",
       "3            20526                5              287   \n",
       "4            12873                0              287   \n",
       "\n",
       "                                         review_text  \n",
       "0                                                NaN  \n",
       "1  There are two types of readers in this world:\\...  \n",
       "2  I need this more than I think I've ever needed...  \n",
       "3  I received a free, advanced copy from NetGalle...  \n",
       "4  This is a hefty read, but it’s one that can be...  "
      ]
     },
     "execution_count": 9,
     "metadata": {},
     "output_type": "execute_result"
    }
   ],
   "source": [
    "# dropping duplicate entries\n",
    "\n",
    "comb_df7= comb_df6.drop_duplicates(subset=['user_unique_key', 'book_unique_key'], keep='first')\n",
    "comb_df7.head()"
   ]
  },
  {
   "cell_type": "code",
   "execution_count": 10,
   "metadata": {},
   "outputs": [],
   "source": [
    "# remove ratings with \"0\" stars because these represent readers who wrote a review but did not give it a rating.\n",
    "# for the moment, we are only interested in readers who gave it a rating. Ratings are from 1-5 stars.\n",
    "\n",
    "comb_df8= comb_df7[comb_df7.number_of_stars != 0]"
   ]
  },
  {
   "cell_type": "code",
   "execution_count": 29,
   "metadata": {},
   "outputs": [
    {
     "name": "stdout",
     "output_type": "stream",
     "text": [
      "<class 'pandas.core.frame.DataFrame'>\n",
      "Int64Index: 55079 entries, 0 to 157121\n",
      "Data columns (total 10 columns):\n",
      " #   Column            Non-Null Count  Dtype  \n",
      "---  ------            --------------  -----  \n",
      " 0   genre             55079 non-null  object \n",
      " 1   title             55079 non-null  object \n",
      " 2   author            55079 non-null  object \n",
      " 3   pages             55079 non-null  object \n",
      " 4   average_rating    55079 non-null  float64\n",
      " 5   book_description  41148 non-null  object \n",
      " 6   user_unique_key   55079 non-null  int64  \n",
      " 7   number_of_stars   55079 non-null  int64  \n",
      " 8   book_unique_key   55079 non-null  int64  \n",
      " 9   review_text       54016 non-null  object \n",
      "dtypes: float64(1), int64(3), object(6)\n",
      "memory usage: 4.6+ MB\n"
     ]
    }
   ],
   "source": [
    "comb_df8.info()"
   ]
  },
  {
   "cell_type": "markdown",
   "metadata": {},
   "source": [
    "##### From the summary above we see that are some missing values in some of the columns. For this stage of the project, it is fine to leave them as is. For this first phase I am intersted in having a book_unique_key and number_of_stars that are not empty. If I were to remove the empty rows based on null values in book_description and review_text, I would lose rows wit valid data for this first phase.  Removing these missing values can be done during the second phase of the project when more data is added to the overall dataset."
   ]
  },
  {
   "cell_type": "code",
   "execution_count": 2,
   "metadata": {},
   "outputs": [],
   "source": [
    "df_pd= pd.read_csv('../../data/final/comb_df_clean.csv')"
   ]
  },
  {
   "cell_type": "code",
   "execution_count": 3,
   "metadata": {},
   "outputs": [
    {
     "data": {
      "image/png": "[encoded data removed]",
      "text/plain": [
       "<Figure size 432x288 with 1 Axes>"
      ]
     },
     "metadata": {
      "needs_background": "light"
     },
     "output_type": "display_data"
    }
   ],
   "source": [
    "# look at ratings distribution \n",
    "\n",
    "ratings_num=df_pd.groupby('book_unique_key')['number_of_stars'].count().sort_values(ascending= False)\n",
    "\n",
    "plt.hist(ratings_num, bins= 10);\n",
    "plt.xlabel('Number of Books Rated', size = 18)\n",
    "plt.ylabel('Number of Ratings', size= 18)\n",
    "plt.title('Number of Ratings per Book', size= 22)\n",
    "plt.grid(True)\n",
    "plt.savefig('../../reports/Visualizations/book_ratings.png', dpi= 300)\n",
    "\n",
    "plt.show()"
   ]
  },
  {
   "cell_type": "code",
   "execution_count": 69,
   "metadata": {},
   "outputs": [],
   "source": [
    "#[\"#f2f61f\", \"#e3f625\", \"#d5f62b\"]\n",
    "hex_colors = [\"#eb5e68\", \"#ec5e7a\", \"#e4649d\", \"#d171bc\", \"#b580d4\",\n",
    "            \"#669ae9\", \"#35a4e5\", \"#00abd9\", \"#00afc8\", \"#17b1bf\"]\n",
    "colors = sns.color_palette(hex_colors)"
   ]
  },
  {
   "cell_type": "code",
   "execution_count": 70,
   "metadata": {},
   "outputs": [
    {
     "ename": "TypeError",
     "evalue": "distplot() got an unexpected keyword argument 'palette'",
     "output_type": "error",
     "traceback": [
      "\u001b[0;31m---------------------------------------------------------------------------\u001b[0m",
      "\u001b[0;31mTypeError\u001b[0m                                 Traceback (most recent call last)",
      "\u001b[0;32m<ipython-input-70-3fbf725d2e92>\u001b[0m in \u001b[0;36m<module>\u001b[0;34m\u001b[0m\n\u001b[1;32m      1\u001b[0m \u001b[0;31m#sns.hist(ratings_num, bins = 10)\u001b[0m\u001b[0;34m\u001b[0m\u001b[0;34m\u001b[0m\u001b[0;34m\u001b[0m\u001b[0m\n\u001b[1;32m      2\u001b[0m \u001b[0;34m\u001b[0m\u001b[0m\n\u001b[0;32m----> 3\u001b[0;31m \u001b[0msns\u001b[0m\u001b[0;34m.\u001b[0m\u001b[0mdistplot\u001b[0m\u001b[0;34m(\u001b[0m\u001b[0mratings_num\u001b[0m\u001b[0;34m,\u001b[0m \u001b[0mhist\u001b[0m\u001b[0;34m=\u001b[0m \u001b[0;32mTrue\u001b[0m\u001b[0;34m,\u001b[0m \u001b[0mkde\u001b[0m\u001b[0;34m=\u001b[0m\u001b[0;32mFalse\u001b[0m\u001b[0;34m,\u001b[0m \u001b[0mbins\u001b[0m\u001b[0;34m=\u001b[0m \u001b[0;36m3\u001b[0m\u001b[0;34m,\u001b[0m \u001b[0mpalette\u001b[0m\u001b[0;34m=\u001b[0m \u001b[0mcolors\u001b[0m\u001b[0;34m)\u001b[0m\u001b[0;34m\u001b[0m\u001b[0;34m\u001b[0m\u001b[0m\n\u001b[0m\u001b[1;32m      4\u001b[0m \u001b[0mplt\u001b[0m\u001b[0;34m.\u001b[0m\u001b[0mtick_params\u001b[0m\u001b[0;34m(\u001b[0m\u001b[0mlabelsize\u001b[0m \u001b[0;34m=\u001b[0m \u001b[0;36m10\u001b[0m\u001b[0;34m)\u001b[0m\u001b[0;34m\u001b[0m\u001b[0;34m\u001b[0m\u001b[0m\n\u001b[1;32m      5\u001b[0m \u001b[0;34m\u001b[0m\u001b[0m\n",
      "\u001b[0;31mTypeError\u001b[0m: distplot() got an unexpected keyword argument 'palette'"
     ]
    }
   ],
   "source": [
    "#sns.hist(ratings_num, bins = 10)\n",
    "\n",
    "sns.distplot(ratings_num, hist= True, kde=False, bins= 3, palette= colors)\n",
    "plt.tick_params(labelsize = 10)\n",
    "\n"
   ]
  },
  {
   "cell_type": "code",
   "execution_count": 7,
   "metadata": {},
   "outputs": [
    {
     "data": {
      "image/png": "[encoded data removed]",
      "text/plain": [
       "<Figure size 432x288 with 1 Axes>"
      ]
     },
     "metadata": {
      "needs_background": "light"
     },
     "output_type": "display_data"
    }
   ],
   "source": [
    "sns.distplot(ratings_num,hist=True,bins=15);\n",
    "plt.title(\"KDE calculation with seaborn\");"
   ]
  },
  {
   "cell_type": "code",
   "execution_count": 62,
   "metadata": {},
   "outputs": [
    {
     "data": {
      "image/png": "[encoded data removed]",
      "text/plain": [
       "<Figure size 432x288 with 1 Axes>"
      ]
     },
     "metadata": {
      "needs_background": "light"
     },
     "output_type": "display_data"
    }
   ],
   "source": [
    "#sns.hist(ratings_num, bins = 10)\n",
    "\n",
    "sns.distplot(ratings_num, hist= True, kde=False, bins= 10, color = \"#b8f637\")\n",
    "plt.tick_params(labelsize = 10)\n",
    "\n"
   ]
  },
  {
   "cell_type": "code",
   "execution_count": null,
   "metadata": {},
   "outputs": [],
   "source": []
  },
  {
   "cell_type": "code",
   "execution_count": 44,
   "metadata": {},
   "outputs": [],
   "source": [
    "# saving cleaned data to import it into a spark dataframe for modeling\n",
    "# could use dataframe without saving to external csv, but I wanted to save a copy of clean data for future processing\n",
    "\n",
    "comb_df8.to_csv('../../data/final/comb_df_clean.csv', index=False)\n"
   ]
  },
  {
   "cell_type": "markdown",
   "metadata": {},
   "source": [
    "## Modeling"
   ]
  },
  {
   "cell_type": "code",
   "execution_count": 4,
   "metadata": {},
   "outputs": [],
   "source": [
    "# initiate a spark session\n",
    "\n",
    "spark = SparkSession.builder.master('local[*]').appName('capstone').getOrCreate()"
   ]
  },
  {
   "cell_type": "code",
   "execution_count": 3,
   "metadata": {},
   "outputs": [],
   "source": [
    "#import the clean dataset\n",
    "\n",
    "df_pd= pd.read_csv('../../data/final/comb_df_clean.csv')\n"
   ]
  },
  {
   "cell_type": "code",
   "execution_count": 12,
   "metadata": {},
   "outputs": [
    {
     "name": "stdout",
     "output_type": "stream",
     "text": [
      "<class 'pandas.core.frame.DataFrame'>\n",
      "RangeIndex: 55079 entries, 0 to 55078\n",
      "Data columns (total 10 columns):\n",
      " #   Column            Non-Null Count  Dtype  \n",
      "---  ------            --------------  -----  \n",
      " 0   genre             55079 non-null  object \n",
      " 1   title             55079 non-null  object \n",
      " 2   author            55079 non-null  object \n",
      " 3   pages             55079 non-null  int64  \n",
      " 4   average_rating    55079 non-null  float64\n",
      " 5   book_description  41148 non-null  object \n",
      " 6   user_unique_key   55079 non-null  int64  \n",
      " 7   number_of_stars   55079 non-null  int64  \n",
      " 8   book_unique_key   55079 non-null  int64  \n",
      " 9   review_text       54016 non-null  object \n",
      "dtypes: float64(1), int64(4), object(5)\n",
      "memory usage: 4.2+ MB\n"
     ]
    }
   ],
   "source": [
    "df_pd.info()"
   ]
  },
  {
   "cell_type": "code",
   "execution_count": 5,
   "metadata": {},
   "outputs": [],
   "source": [
    "# set a schema to let spark know what data types to import the columns as from the csv\n",
    "\n",
    "schema = StructType([StructField(\"genre\", StringType(), True),StructField(\"title\", StringType(), True), \n",
    "                     StructField(\"author\", StringType(), True), StructField(\"pages\", IntegerType(), True), \n",
    "                     StructField(\"average_rating\", FloatType(), True), StructField(\"book_description\", StringType(), True), \n",
    "                     StructField(\"user_unique_key\", IntegerType(), True),StructField(\"number_of_stars\", IntegerType(), True), \n",
    "                     StructField(\"book_unique_key\", IntegerType(), True), StructField(\"review_text\", StringType(), True)])\n",
    "\n",
    "df_sp = spark.createDataFrame(df_pd, schema=schema)"
   ]
  },
  {
   "cell_type": "code",
   "execution_count": 9,
   "metadata": {},
   "outputs": [
    {
     "name": "stdout",
     "output_type": "stream",
     "text": [
      "root\n",
      " |-- genre: string (nullable = true)\n",
      " |-- title: string (nullable = true)\n",
      " |-- author: string (nullable = true)\n",
      " |-- pages: integer (nullable = true)\n",
      " |-- average_rating: float (nullable = true)\n",
      " |-- book_description: string (nullable = true)\n",
      " |-- user_unique_key: integer (nullable = true)\n",
      " |-- number_of_stars: integer (nullable = true)\n",
      " |-- book_unique_key: integer (nullable = true)\n",
      " |-- review_text: string (nullable = true)\n",
      "\n"
     ]
    }
   ],
   "source": [
    "df_sp.printSchema()"
   ]
  },
  {
   "cell_type": "code",
   "execution_count": 5,
   "metadata": {},
   "outputs": [
    {
     "name": "stdout",
     "output_type": "stream",
     "text": [
      "The ratings dataframe is  99.60% empty.\n"
     ]
    }
   ],
   "source": [
    "# spark's ALS works well with sparce matrices\n",
    "# checking sparcity\n",
    "\n",
    "stars_num= df_sp.select(\"number_of_stars\").count()\n",
    "\n",
    "\n",
    "users = df_sp.select(\"user_unique_key\").distinct().count()\n",
    "books = df_sp.select(\"book_unique_key\").distinct().count()\n",
    "\n",
    "\n",
    "denominator = users * books\n",
    "\n",
    "\n",
    "sparsity = (1.0 - (stars_num *1.0)/denominator)*100\n",
    "print(\"The ratings dataframe is \", \"%.2f\" % sparsity + \"% empty.\")"
   ]
  },
  {
   "cell_type": "markdown",
   "metadata": {},
   "source": [
    "#### First Simple Model(FSM)"
   ]
  },
  {
   "cell_type": "code",
   "execution_count": 6,
   "metadata": {},
   "outputs": [],
   "source": [
    "# split dataset into 80 % train, and 20% test\n",
    "# there are no x/y splits because ALS needs to see the whole matrix to learn and fill in the missing values\n",
    "\n",
    "train, test = df_sp.randomSplit([0.8, 0.2], seed= 2020)"
   ]
  },
  {
   "cell_type": "code",
   "execution_count": 12,
   "metadata": {},
   "outputs": [],
   "source": [
    "als = ALS(userCol='user_unique_key', itemCol='book_unique_key', \n",
    "          ratingCol='number_of_stars',\n",
    "          coldStartStrategy='drop')\n",
    "\n",
    "\n",
    "model_fsm = als.fit(train)\n"
   ]
  },
  {
   "cell_type": "code",
   "execution_count": 13,
   "metadata": {},
   "outputs": [],
   "source": [
    "predictions = model_fsm.transform(test)"
   ]
  },
  {
   "cell_type": "code",
   "execution_count": 14,
   "metadata": {},
   "outputs": [],
   "source": [
    "# using RMSE and MAE to see evaluation of model\n",
    "\n",
    "evaluator = RegressionEvaluator(metricName='rmse', labelCol='number_of_stars',\n",
    "                                predictionCol='prediction')\n",
    "evaluator2 = RegressionEvaluator(metricName='mae', labelCol='number_of_stars',\n",
    "                                predictionCol='prediction')"
   ]
  },
  {
   "cell_type": "code",
   "execution_count": 15,
   "metadata": {},
   "outputs": [
    {
     "name": "stdout",
     "output_type": "stream",
     "text": [
      "The RMSE is= 1.5439266624623944\n"
     ]
    }
   ],
   "source": [
    "rmse = evaluator.evaluate(predictions)\n",
    "print('The RMSE is= ' + str(rmse))"
   ]
  },
  {
   "cell_type": "code",
   "execution_count": 16,
   "metadata": {},
   "outputs": [
    {
     "name": "stdout",
     "output_type": "stream",
     "text": [
      "The MAE is = 1.191968248377123\n"
     ]
    }
   ],
   "source": [
    "mae = evaluator2.evaluate(predictions)\n",
    "print('The MAE is = ' + str(mae))"
   ]
  },
  {
   "cell_type": "markdown",
   "metadata": {},
   "source": [
    "1.5 RMSE is high.  For the next model, I am adding some additional parameters.  In the FSM, the default maxIter and rank is 10. So for this next model, I want to test numbers under 10 for both. "
   ]
  },
  {
   "cell_type": "code",
   "execution_count": 17,
   "metadata": {
    "collapsed": true,
    "jupyter": {
     "outputs_hidden": true
    }
   },
   "outputs": [
    {
     "name": "stdout",
     "output_type": "stream",
     "text": [
      "+----------------+--------------------+-----------+-----+--------------+--------------------+---------------+---------------+---------------+--------------------+----------+\n",
      "|           genre|               title|     author|pages|average_rating|    book_description|user_unique_key|number_of_stars|book_unique_key|         review_text|prediction|\n",
      "+----------------+--------------------+-----------+-----+--------------+--------------------+---------------+---------------+---------------+--------------------+----------+\n",
      "|biography-memoir|This Is Going to ...|Adam Kay ()|  256|          4.41|Welcome to the li...|           4799|              2|            148|DNF @ 40%\n",
      "\n",
      "Standa...|  4.881459|\n",
      "|biography-memoir|This Is Going to ...|Adam Kay ()|  256|          4.41|Welcome to the li...|          13665|              4|            148|I've worked with ...|-0.8096077|\n",
      "|biography-memoir|This Is Going to ...|Adam Kay ()|  256|          4.41|Welcome to the li...|          16608|              5|            148|The first time in...|  1.923705|\n",
      "|biography-memoir|This Is Going to ...|Adam Kay ()|  256|          4.41|Welcome to the li...|           9286|              5|            148|Having worked as ...| 2.4464452|\n",
      "|biography-memoir|This Is Going to ...|Adam Kay ()|  256|          4.41|Welcome to the li...|           4756|              1|            148|Although humorous...| 3.9640205|\n",
      "|biography-memoir|This Is Going to ...|Adam Kay ()|  256|          4.41|Welcome to the li...|          17482|              5|            148|An excellent book...|   2.38732|\n",
      "|biography-memoir|This Is Going to ...|Adam Kay ()|  256|          4.41|Welcome to the li...|          22818|              5|            148|5 huge stars. Thi...| 4.2940774|\n",
      "|biography-memoir|This Is Going to ...|Adam Kay ()|  256|          4.41|Welcome to the li...|           2664|              4|            148|Adam Kay had come...| 4.6352534|\n",
      "|biography-memoir|This Is Going to ...|Adam Kay ()|  256|          4.41|Welcome to the li...|          15106|              4|            148|I so needed this ...| 4.3876214|\n",
      "|biography-memoir|This Is Going to ...|Adam Kay ()|  256|          4.41|Welcome to the li...|          17060|              5|            148|spoiler alert, it...| 3.2945466|\n",
      "|biography-memoir|This Is Going to ...|Adam Kay ()|  256|          4.41|Welcome to the li...|          28546|              4|            148|3.5 stars\n",
      "Funny a...| 3.1679165|\n",
      "|biography-memoir|This Is Going to ...|Adam Kay ()|  256|          4.41|Welcome to the li...|          23105|              3|            148|I read this over ...| 1.7054601|\n",
      "|biography-memoir|This Is Going to ...|Adam Kay ()|  256|          4.41|Welcome to the li...|          26963|              2|            148|The problem with ...|  1.583385|\n",
      "|biography-memoir|This Is Going to ...|Adam Kay ()|  256|          4.41|Welcome to the li...|          16156|              4|            148|This book gave me...|  3.909298|\n",
      "|biography-memoir|This Is Going to ...|Adam Kay ()|  256|          4.41|Welcome to the li...|          21986|              5|            148|I am going to be ...| 3.2859733|\n",
      "|biography-memoir|This Is Going to ...|Adam Kay ()|  256|          4.41|Welcome to the li...|          12816|              3|            148|This is Going to ...| 2.7745352|\n",
      "|biography-memoir|This Is Going to ...|Adam Kay ()|  256|          4.41|Welcome to the li...|           1767|              5|            148|This was a fantas...|  4.470606|\n",
      "|biography-memoir|This Is Going to ...|Adam Kay ()|  256|          4.41|Welcome to the li...|           5644|              4|            148|Summary\n",
      "This is a...| 4.1536903|\n",
      "|biography-memoir|This Is Going to ...|Adam Kay ()|  256|          4.41|Welcome to the li...|          11787|              5|            148|I think this is t...| 2.4392912|\n",
      "|biography-memoir|This Is Going to ...|Adam Kay ()|  256|          4.41|Welcome to the li...|          10908|              5|            148|An incredibly wit...| 4.8118443|\n",
      "+----------------+--------------------+-----------+-----+--------------+--------------------+---------------+---------------+---------------+--------------------+----------+\n",
      "only showing top 20 rows\n",
      "\n"
     ]
    }
   ],
   "source": [
    "als2 = ALS(maxIter=5,rank=4, \n",
    "          userCol='user_unique_key', itemCol='book_unique_key', \n",
    "          ratingCol='number_of_stars',\n",
    "          coldStartStrategy='drop', seed= 2020)\n",
    "\n",
    "\n",
    "model_2 = als2.fit(train)\n",
    "predictions2 = model_2.transform(test)\n",
    "#predictions2.show()"
   ]
  },
  {
   "cell_type": "code",
   "execution_count": 18,
   "metadata": {},
   "outputs": [
    {
     "name": "stdout",
     "output_type": "stream",
     "text": [
      "The RMSE for Model 2 is= 2.192373988194588\n"
     ]
    }
   ],
   "source": [
    "rmse2 = evaluator.evaluate(predictions2)\n",
    "print('The RMSE for Model 2 is= ' + str(rmse2))"
   ]
  },
  {
   "cell_type": "code",
   "execution_count": 19,
   "metadata": {},
   "outputs": [
    {
     "name": "stdout",
     "output_type": "stream",
     "text": [
      "The MAE for Model 2 is = 1.5325654366137673\n"
     ]
    }
   ],
   "source": [
    "mae2 = evaluator2.evaluate(predictions2)\n",
    "print('The MAE for Model 2 is = ' + str(mae2))"
   ]
  },
  {
   "cell_type": "markdown",
   "metadata": {},
   "source": [
    "Model 2 did worse than the first model. So I will try and put the number higher than the default value for maxIter."
   ]
  },
  {
   "cell_type": "code",
   "execution_count": 20,
   "metadata": {},
   "outputs": [],
   "source": [
    "als3 = ALS(maxIter=15,rank=10, \n",
    "          userCol='user_unique_key', itemCol='book_unique_key', \n",
    "          ratingCol='number_of_stars',\n",
    "          coldStartStrategy='drop', seed= 2020)\n",
    "\n",
    "\n",
    "model_3 = als3.fit(train)\n",
    "predictions3 = model_3.transform(test)\n"
   ]
  },
  {
   "cell_type": "code",
   "execution_count": 21,
   "metadata": {},
   "outputs": [
    {
     "name": "stdout",
     "output_type": "stream",
     "text": [
      "The RMSE for Model 3 is= 1.3296583319458677\n",
      "The MAE for Model 3 is = 1.0297928768718372\n"
     ]
    }
   ],
   "source": [
    "rmse3 = evaluator.evaluate(predictions3)\n",
    "print('The RMSE for Model 3 is= ' + str(rmse3))\n",
    "mae3 = evaluator2.evaluate(predictions3)\n",
    "print('The MAE for Model 3 is = ' + str(mae3))"
   ]
  },
  {
   "cell_type": "markdown",
   "metadata": {},
   "source": [
    "Beginning to see some improvement in Model 3.  Model 4, I increase the rank as well."
   ]
  },
  {
   "cell_type": "code",
   "execution_count": 24,
   "metadata": {},
   "outputs": [],
   "source": [
    "als4 = ALS(maxIter=15,rank=12, \n",
    "          userCol='user_unique_key', itemCol='book_unique_key', \n",
    "          ratingCol='number_of_stars',\n",
    "          coldStartStrategy='drop', seed= 2020)\n",
    "\n",
    "\n",
    "model_4 = als4.fit(train)\n",
    "predictions4 = model_4.transform(test)"
   ]
  },
  {
   "cell_type": "code",
   "execution_count": 25,
   "metadata": {},
   "outputs": [
    {
     "name": "stdout",
     "output_type": "stream",
     "text": [
      "The RMSE for Model 4 is= 1.3299537069134824\n",
      "The MAE for Model 4 is = 1.041297384551544\n"
     ]
    }
   ],
   "source": [
    "rmse4 = evaluator.evaluate(predictions4)\n",
    "print('The RMSE for Model 4 is= ' + str(rmse4))\n",
    "mae4 = evaluator2.evaluate(predictions4)\n",
    "print('The MAE for Model 4 is = ' + str(mae4))"
   ]
  },
  {
   "cell_type": "markdown",
   "metadata": {},
   "source": [
    "Model 4 took a slight dip when increasing rank with a MaxIter of 15. So for model 5 I decrease rank back to 10, and increase maxIter."
   ]
  },
  {
   "cell_type": "code",
   "execution_count": 23,
   "metadata": {},
   "outputs": [
    {
     "name": "stdout",
     "output_type": "stream",
     "text": [
      "The RMSE for Model 5 is= 1.2502923712578855\n",
      "The MAE for Model 5 is = 0.9725458899555556\n"
     ]
    }
   ],
   "source": [
    "rmse5 = evaluator.evaluate(predictions5)\n",
    "print('The RMSE for Model 5 is= ' + str(rmse5))\n",
    "mae5 = evaluator2.evaluate(predictions5)\n",
    "print('The MAE for Model 5 is = ' + str(mae5))"
   ]
  },
  {
   "cell_type": "markdown",
   "metadata": {},
   "source": [
    "I can see further improvement in the model. The error metric is going down."
   ]
  },
  {
   "cell_type": "markdown",
   "metadata": {},
   "source": [
    "Rather than continuing to iterate on this model by tesing with the hyperparameters by hand, I use spark's parameter grid builder to test out different parameters and cross validation to test the best model."
   ]
  },
  {
   "cell_type": "code",
   "execution_count": 29,
   "metadata": {},
   "outputs": [],
   "source": [
    "# start off with a simple model\n",
    "\n",
    "als_model_reg = ALS(userCol='user_unique_key', itemCol='book_unique_key',ratingCol='number_of_stars',\n",
    "                nonnegative=True,implicitPrefs=False, \n",
    "                coldStartStrategy='drop')\n",
    "\n"
   ]
  },
  {
   "cell_type": "code",
   "execution_count": 33,
   "metadata": {},
   "outputs": [],
   "source": [
    "evaluator_reg = RegressionEvaluator(metricName='rmse', labelCol='number_of_stars',\n",
    "                                predictionCol='prediction')"
   ]
  },
  {
   "cell_type": "code",
   "execution_count": 27,
   "metadata": {},
   "outputs": [],
   "source": [
    "# instantiate parameter grid builder\n",
    "\n",
    "params=ParamGridBuilder()"
   ]
  },
  {
   "cell_type": "code",
   "execution_count": 39,
   "metadata": {},
   "outputs": [],
   "source": [
    "params = ParamGridBuilder().addGrid(als_model_reg.regParam, [0.01, .1, 1.5]) \\\n",
    "        .addGrid(als_model_reg.rank, [4, 10, 30]) \\\n",
    "        .addGrid(als_model_reg.maxIter, [5, 15, 20]).build()\n",
    "    \n"
   ]
  },
  {
   "cell_type": "code",
   "execution_count": 40,
   "metadata": {},
   "outputs": [],
   "source": [
    "# instantiate cross validator\n",
    "\n",
    "cv= CrossValidator()"
   ]
  },
  {
   "cell_type": "code",
   "execution_count": 41,
   "metadata": {},
   "outputs": [],
   "source": [
    "cv = CrossValidator(estimator=als_model_reg, \n",
    "                          estimatorParamMaps=params,\n",
    "                          evaluator=evaluator_reg,\n",
    "                          numFolds= 5)"
   ]
  },
  {
   "cell_type": "code",
   "execution_count": 42,
   "metadata": {},
   "outputs": [],
   "source": [
    "model=cv.fit(train)"
   ]
  },
  {
   "cell_type": "code",
   "execution_count": 43,
   "metadata": {},
   "outputs": [],
   "source": [
    "best_model = model.bestModel"
   ]
  },
  {
   "cell_type": "code",
   "execution_count": 58,
   "metadata": {},
   "outputs": [
    {
     "name": "stdout",
     "output_type": "stream",
     "text": [
      " The best model Rank is:  30\n",
      " The best model MaxIter is: 20\n",
      "  RegParam: 0.1\n"
     ]
    }
   ],
   "source": [
    "# Print the best parameters from the best model grid search and cross validation\n",
    "\n",
    "print(\" The best model Rank is: \", best_model._java_obj.parent().getRank())\n",
    "\n",
    "print(\" The best model MaxIter is:\", best_model._java_obj.parent().getMaxIter())\n",
    "\n",
    "print(\" The best model RegParam is:\", best_model._java_obj.parent().getRegParam())"
   ]
  },
  {
   "cell_type": "markdown",
   "metadata": {},
   "source": [
    "Now that I have the results of the grid search and cross validation, I enter in those paramaters into a new model."
   ]
  },
  {
   "cell_type": "code",
   "execution_count": 7,
   "metadata": {},
   "outputs": [],
   "source": [
    "best_als= ALS(maxIter=20,rank=30, regParam=.1, \n",
    "          userCol='user_unique_key', itemCol='book_unique_key', \n",
    "          ratingCol='number_of_stars',\n",
    "          coldStartStrategy='drop', seed= 2020)\n",
    "\n",
    "model_best = best_als.fit(train)\n",
    "# predictions_best = model_best.transform(test)"
   ]
  },
  {
   "cell_type": "code",
   "execution_count": 10,
   "metadata": {},
   "outputs": [
    {
     "data": {
      "text/plain": [
       "<bound method DataFrame.show of DataFrame[genre: string, title: string, author: string, pages: int, average_rating: float, book_description: string, user_unique_key: int, number_of_stars: int, book_unique_key: int, review_text: string, prediction: float]>"
      ]
     },
     "execution_count": 10,
     "metadata": {},
     "output_type": "execute_result"
    }
   ],
   "source": [
    "predictions_best.show"
   ]
  },
  {
   "cell_type": "code",
   "execution_count": 61,
   "metadata": {},
   "outputs": [],
   "source": [
    "rmse_evaluator = RegressionEvaluator(metricName='rmse', labelCol='number_of_stars',\n",
    "                                predictionCol='prediction')\n",
    "mae_evaluator = RegressionEvaluator(metricName='mae', labelCol='number_of_stars',\n",
    "                                predictionCol='prediction')"
   ]
  },
  {
   "cell_type": "code",
   "execution_count": 62,
   "metadata": {},
   "outputs": [
    {
     "name": "stdout",
     "output_type": "stream",
     "text": [
      "The RMSE for Model 5 is= 1.2205628354495859\n",
      "The MAE for Model 5 is = 0.9646155885877185\n"
     ]
    }
   ],
   "source": [
    "rmse_best = rmse_evaluator.evaluate(predictions_best)\n",
    "print('The RMSE for Model 5 is= ' + str(rmse_best))\n",
    "mae_best = mae_evaluator.evaluate(predictions_best)\n",
    "print('The MAE for Model 5 is = ' + str(mae_best))"
   ]
  },
  {
   "cell_type": "code",
   "execution_count": 10,
   "metadata": {},
   "outputs": [
    {
     "ename": "AttributeError",
     "evalue": "'DataFrame' object has no attribute 'info'",
     "output_type": "error",
     "traceback": [
      "\u001b[0;31m---------------------------------------------------------------------------\u001b[0m",
      "\u001b[0;31mAttributeError\u001b[0m                            Traceback (most recent call last)",
      "\u001b[0;32m<ipython-input-10-d9c54e776db6>\u001b[0m in \u001b[0;36m<module>\u001b[0;34m\u001b[0m\n\u001b[0;32m----> 1\u001b[0;31m \u001b[0mdf_sp\u001b[0m\u001b[0;34m.\u001b[0m\u001b[0minfo\u001b[0m\u001b[0;34m\u001b[0m\u001b[0;34m\u001b[0m\u001b[0m\n\u001b[0m",
      "\u001b[0;32m/opt/anaconda3/lib/python3.8/site-packages/pyspark/sql/dataframe.py\u001b[0m in \u001b[0;36m__getattr__\u001b[0;34m(self, name)\u001b[0m\n\u001b[1;32m   1398\u001b[0m         \"\"\"\n\u001b[1;32m   1399\u001b[0m         \u001b[0;32mif\u001b[0m \u001b[0mname\u001b[0m \u001b[0;32mnot\u001b[0m \u001b[0;32min\u001b[0m \u001b[0mself\u001b[0m\u001b[0;34m.\u001b[0m\u001b[0mcolumns\u001b[0m\u001b[0;34m:\u001b[0m\u001b[0;34m\u001b[0m\u001b[0;34m\u001b[0m\u001b[0m\n\u001b[0;32m-> 1400\u001b[0;31m             raise AttributeError(\n\u001b[0m\u001b[1;32m   1401\u001b[0m                 \"'%s' object has no attribute '%s'\" % (self.__class__.__name__, name))\n\u001b[1;32m   1402\u001b[0m         \u001b[0mjc\u001b[0m \u001b[0;34m=\u001b[0m \u001b[0mself\u001b[0m\u001b[0;34m.\u001b[0m\u001b[0m_jdf\u001b[0m\u001b[0;34m.\u001b[0m\u001b[0mapply\u001b[0m\u001b[0;34m(\u001b[0m\u001b[0mname\u001b[0m\u001b[0;34m)\u001b[0m\u001b[0;34m\u001b[0m\u001b[0;34m\u001b[0m\u001b[0m\n",
      "\u001b[0;31mAttributeError\u001b[0m: 'DataFrame' object has no attribute 'info'"
     ]
    }
   ],
   "source": [
    "df_sp.info\n"
   ]
  },
  {
   "cell_type": "code",
   "execution_count": 15,
   "metadata": {},
   "outputs": [
    {
     "name": "stdout",
     "output_type": "stream",
     "text": [
      "+---------------+----------+------+-------------+--------------+-----+--------------+----------------+---------------+---------------+------------------------------------------------------------------------------------------------------------------------------------------------------------------------------------------------------------------------------------------------------------------------------------------------------------------------------------------------------------------------------------------------------------------------------------------------------------------------------------------------------------------------+\n",
      "|book_unique_key|prediction|genre |title        |author        |pages|average_rating|book_description|user_unique_key|number_of_stars|review_text                                                                                                                                                                                                                                                                                                                                                                                                                                                                                                             |\n",
      "+---------------+----------+------+-------------+--------------+-----+--------------+----------------+---------------+---------------+------------------------------------------------------------------------------------------------------------------------------------------------------------------------------------------------------------------------------------------------------------------------------------------------------------------------------------------------------------------------------------------------------------------------------------------------------------------------------------------------------------------------+\n",
      "|76             |4.548454  |poetry|Long Way Down|Jason Reynolds|306  |4.3           |NaN             |255            |5              |I feel like I've been asleep for the last 31 years and I just woke up. I am woke.\n",
      "\n",
      "Long Way Down, is a knife that cut to the deepest, blackest part of me, and yelled at me to see it. Just see me, and I did.\n",
      "\n",
      "Long Way Down, could've been fiction--it read so realistically. I was scrambling to get through the pages, fast enough to finish, yet slow enough to savor, and devour it.\n",
      "\n",
      "Back Story: Our MC's brother was just killed. And he's set on living by the street code: Someone kills someone you love--you|\n",
      "+---------------+----------+------+-------------+--------------+-----+--------------+----------------+---------------+---------------+------------------------------------------------------------------------------------------------------------------------------------------------------------------------------------------------------------------------------------------------------------------------------------------------------------------------------------------------------------------------------------------------------------------------------------------------------------------------------------------------------------------------+\n",
      "only showing top 1 row\n",
      "\n"
     ]
    }
   ],
   "source": [
    "recommendations = model_best.recommendForAllUsers(5)\n",
    "# recommendations.show\n",
    "# Print Some Prediction\n",
    "recommendations.registerTempTable(\"recs\")\n",
    "# nrecommendations = recommendations.withColumn(\"recs\", explode(\"recommendations\")).select('user_unique_key', col(\"recs.book_unique_key\"), col(\"recs.rating\"))\n",
    "# nrecommendations.limit(5).show()\n",
    "clean_recs = spark.sql(\"SELECT title_ratings.book_unique_key AS book_unique_key, title_ratings.rating AS prediction FROM recs LATERAL VIEW explode(recommendations) exploded_table AS title_ratings\")\n",
    "clean_recs = clean_recs.join(df_sp, on=['book_unique_key'], how='left')\n",
    "clean_recs.filter(clean_recs[\"user_unique_key\"] ==255).show(1, False)"
   ]
  },
  {
   "cell_type": "code",
   "execution_count": 10,
   "metadata": {},
   "outputs": [
    {
     "name": "stderr",
     "output_type": "stream",
     "text": [
      "ERROR:py4j.java_gateway:An error occurred while trying to connect to the Java server (127.0.0.1:49287)\n",
      "Traceback (most recent call last):\n",
      "  File \"/opt/anaconda3/lib/python3.8/site-packages/py4j/java_gateway.py\", line 977, in _get_connection\n",
      "    connection = self.deque.pop()\n",
      "IndexError: pop from an empty deque\n",
      "\n",
      "During handling of the above exception, another exception occurred:\n",
      "\n",
      "Traceback (most recent call last):\n",
      "  File \"/opt/anaconda3/lib/python3.8/site-packages/py4j/java_gateway.py\", line 1115, in start\n",
      "    self.socket.connect((self.address, self.port))\n",
      "ConnectionRefusedError: [Errno 61] Connection refused\n"
     ]
    },
    {
     "ename": "Py4JNetworkError",
     "evalue": "An error occurred while trying to connect to the Java server (127.0.0.1:49287)",
     "output_type": "error",
     "traceback": [
      "\u001b[0;31m---------------------------------------------------------------------------\u001b[0m",
      "\u001b[0;31mIndexError\u001b[0m                                Traceback (most recent call last)",
      "\u001b[0;32m/opt/anaconda3/lib/python3.8/site-packages/py4j/java_gateway.py\u001b[0m in \u001b[0;36m_get_connection\u001b[0;34m(self)\u001b[0m\n\u001b[1;32m    976\u001b[0m         \u001b[0;32mtry\u001b[0m\u001b[0;34m:\u001b[0m\u001b[0;34m\u001b[0m\u001b[0;34m\u001b[0m\u001b[0m\n\u001b[0;32m--> 977\u001b[0;31m             \u001b[0mconnection\u001b[0m \u001b[0;34m=\u001b[0m \u001b[0mself\u001b[0m\u001b[0;34m.\u001b[0m\u001b[0mdeque\u001b[0m\u001b[0;34m.\u001b[0m\u001b[0mpop\u001b[0m\u001b[0;34m(\u001b[0m\u001b[0;34m)\u001b[0m\u001b[0;34m\u001b[0m\u001b[0;34m\u001b[0m\u001b[0m\n\u001b[0m\u001b[1;32m    978\u001b[0m         \u001b[0;32mexcept\u001b[0m \u001b[0mIndexError\u001b[0m\u001b[0;34m:\u001b[0m\u001b[0;34m\u001b[0m\u001b[0;34m\u001b[0m\u001b[0m\n",
      "\u001b[0;31mIndexError\u001b[0m: pop from an empty deque",
      "\nDuring handling of the above exception, another exception occurred:\n",
      "\u001b[0;31mConnectionRefusedError\u001b[0m                    Traceback (most recent call last)",
      "\u001b[0;32m/opt/anaconda3/lib/python3.8/site-packages/py4j/java_gateway.py\u001b[0m in \u001b[0;36mstart\u001b[0;34m(self)\u001b[0m\n\u001b[1;32m   1114\u001b[0m         \u001b[0;32mtry\u001b[0m\u001b[0;34m:\u001b[0m\u001b[0;34m\u001b[0m\u001b[0;34m\u001b[0m\u001b[0m\n\u001b[0;32m-> 1115\u001b[0;31m             \u001b[0mself\u001b[0m\u001b[0;34m.\u001b[0m\u001b[0msocket\u001b[0m\u001b[0;34m.\u001b[0m\u001b[0mconnect\u001b[0m\u001b[0;34m(\u001b[0m\u001b[0;34m(\u001b[0m\u001b[0mself\u001b[0m\u001b[0;34m.\u001b[0m\u001b[0maddress\u001b[0m\u001b[0;34m,\u001b[0m \u001b[0mself\u001b[0m\u001b[0;34m.\u001b[0m\u001b[0mport\u001b[0m\u001b[0;34m)\u001b[0m\u001b[0;34m)\u001b[0m\u001b[0;34m\u001b[0m\u001b[0;34m\u001b[0m\u001b[0m\n\u001b[0m\u001b[1;32m   1116\u001b[0m             \u001b[0mself\u001b[0m\u001b[0;34m.\u001b[0m\u001b[0mstream\u001b[0m \u001b[0;34m=\u001b[0m \u001b[0mself\u001b[0m\u001b[0;34m.\u001b[0m\u001b[0msocket\u001b[0m\u001b[0;34m.\u001b[0m\u001b[0mmakefile\u001b[0m\u001b[0;34m(\u001b[0m\u001b[0;34m\"rb\"\u001b[0m\u001b[0;34m)\u001b[0m\u001b[0;34m\u001b[0m\u001b[0;34m\u001b[0m\u001b[0m\n",
      "\u001b[0;31mConnectionRefusedError\u001b[0m: [Errno 61] Connection refused",
      "\nDuring handling of the above exception, another exception occurred:\n",
      "\u001b[0;31mPy4JNetworkError\u001b[0m                          Traceback (most recent call last)",
      "\u001b[0;32m<ipython-input-10-79bf9d886f4d>\u001b[0m in \u001b[0;36m<module>\u001b[0;34m\u001b[0m\n\u001b[0;32m----> 1\u001b[0;31m \u001b[0mclean_recs\u001b[0m\u001b[0;34m.\u001b[0m\u001b[0mfilter\u001b[0m\u001b[0;34m(\u001b[0m\u001b[0mclean_recs\u001b[0m\u001b[0;34m[\u001b[0m\u001b[0;34m\"user_unique_key\"\u001b[0m\u001b[0;34m]\u001b[0m \u001b[0;34m==\u001b[0m\u001b[0;36m255\u001b[0m\u001b[0;34m)\u001b[0m\u001b[0;34m.\u001b[0m\u001b[0mshow\u001b[0m\u001b[0;34m(\u001b[0m\u001b[0;36m5\u001b[0m\u001b[0;34m,\u001b[0m \u001b[0;32mFalse\u001b[0m\u001b[0;34m)\u001b[0m\u001b[0;34m\u001b[0m\u001b[0;34m\u001b[0m\u001b[0m\n\u001b[0m",
      "\u001b[0;32m/opt/anaconda3/lib/python3.8/site-packages/pyspark/sql/dataframe.py\u001b[0m in \u001b[0;36m__getitem__\u001b[0;34m(self, item)\u001b[0m\n\u001b[1;32m   1378\u001b[0m         \"\"\"\n\u001b[1;32m   1379\u001b[0m         \u001b[0;32mif\u001b[0m \u001b[0misinstance\u001b[0m\u001b[0;34m(\u001b[0m\u001b[0mitem\u001b[0m\u001b[0;34m,\u001b[0m \u001b[0mbasestring\u001b[0m\u001b[0;34m)\u001b[0m\u001b[0;34m:\u001b[0m\u001b[0;34m\u001b[0m\u001b[0;34m\u001b[0m\u001b[0m\n\u001b[0;32m-> 1380\u001b[0;31m             \u001b[0mjc\u001b[0m \u001b[0;34m=\u001b[0m \u001b[0mself\u001b[0m\u001b[0;34m.\u001b[0m\u001b[0m_jdf\u001b[0m\u001b[0;34m.\u001b[0m\u001b[0mapply\u001b[0m\u001b[0;34m(\u001b[0m\u001b[0mitem\u001b[0m\u001b[0;34m)\u001b[0m\u001b[0;34m\u001b[0m\u001b[0;34m\u001b[0m\u001b[0m\n\u001b[0m\u001b[1;32m   1381\u001b[0m             \u001b[0;32mreturn\u001b[0m \u001b[0mColumn\u001b[0m\u001b[0;34m(\u001b[0m\u001b[0mjc\u001b[0m\u001b[0;34m)\u001b[0m\u001b[0;34m\u001b[0m\u001b[0;34m\u001b[0m\u001b[0m\n\u001b[1;32m   1382\u001b[0m         \u001b[0;32melif\u001b[0m \u001b[0misinstance\u001b[0m\u001b[0;34m(\u001b[0m\u001b[0mitem\u001b[0m\u001b[0;34m,\u001b[0m \u001b[0mColumn\u001b[0m\u001b[0;34m)\u001b[0m\u001b[0;34m:\u001b[0m\u001b[0;34m\u001b[0m\u001b[0;34m\u001b[0m\u001b[0m\n",
      "\u001b[0;32m/opt/anaconda3/lib/python3.8/site-packages/py4j/java_gateway.py\u001b[0m in \u001b[0;36m__call__\u001b[0;34m(self, *args)\u001b[0m\n\u001b[1;32m   1301\u001b[0m             \u001b[0mproto\u001b[0m\u001b[0;34m.\u001b[0m\u001b[0mEND_COMMAND_PART\u001b[0m\u001b[0;34m\u001b[0m\u001b[0;34m\u001b[0m\u001b[0m\n\u001b[1;32m   1302\u001b[0m \u001b[0;34m\u001b[0m\u001b[0m\n\u001b[0;32m-> 1303\u001b[0;31m         \u001b[0manswer\u001b[0m \u001b[0;34m=\u001b[0m \u001b[0mself\u001b[0m\u001b[0;34m.\u001b[0m\u001b[0mgateway_client\u001b[0m\u001b[0;34m.\u001b[0m\u001b[0msend_command\u001b[0m\u001b[0;34m(\u001b[0m\u001b[0mcommand\u001b[0m\u001b[0;34m)\u001b[0m\u001b[0;34m\u001b[0m\u001b[0;34m\u001b[0m\u001b[0m\n\u001b[0m\u001b[1;32m   1304\u001b[0m         return_value = get_return_value(\n\u001b[1;32m   1305\u001b[0m             answer, self.gateway_client, self.target_id, self.name)\n",
      "\u001b[0;32m/opt/anaconda3/lib/python3.8/site-packages/py4j/java_gateway.py\u001b[0m in \u001b[0;36msend_command\u001b[0;34m(self, command, retry, binary)\u001b[0m\n\u001b[1;32m   1029\u001b[0m          \u001b[0;32mif\u001b[0m\u001b[0;31m \u001b[0m\u001b[0;31m`\u001b[0m\u001b[0mbinary\u001b[0m\u001b[0;31m`\u001b[0m \u001b[0;32mis\u001b[0m\u001b[0;31m \u001b[0m\u001b[0;31m`\u001b[0m\u001b[0;32mTrue\u001b[0m\u001b[0;31m`\u001b[0m\u001b[0;34m.\u001b[0m\u001b[0;34m\u001b[0m\u001b[0;34m\u001b[0m\u001b[0m\n\u001b[1;32m   1030\u001b[0m         \"\"\"\n\u001b[0;32m-> 1031\u001b[0;31m         \u001b[0mconnection\u001b[0m \u001b[0;34m=\u001b[0m \u001b[0mself\u001b[0m\u001b[0;34m.\u001b[0m\u001b[0m_get_connection\u001b[0m\u001b[0;34m(\u001b[0m\u001b[0;34m)\u001b[0m\u001b[0;34m\u001b[0m\u001b[0;34m\u001b[0m\u001b[0m\n\u001b[0m\u001b[1;32m   1032\u001b[0m         \u001b[0;32mtry\u001b[0m\u001b[0;34m:\u001b[0m\u001b[0;34m\u001b[0m\u001b[0;34m\u001b[0m\u001b[0m\n\u001b[1;32m   1033\u001b[0m             \u001b[0mresponse\u001b[0m \u001b[0;34m=\u001b[0m \u001b[0mconnection\u001b[0m\u001b[0;34m.\u001b[0m\u001b[0msend_command\u001b[0m\u001b[0;34m(\u001b[0m\u001b[0mcommand\u001b[0m\u001b[0;34m)\u001b[0m\u001b[0;34m\u001b[0m\u001b[0;34m\u001b[0m\u001b[0m\n",
      "\u001b[0;32m/opt/anaconda3/lib/python3.8/site-packages/py4j/java_gateway.py\u001b[0m in \u001b[0;36m_get_connection\u001b[0;34m(self)\u001b[0m\n\u001b[1;32m    977\u001b[0m             \u001b[0mconnection\u001b[0m \u001b[0;34m=\u001b[0m \u001b[0mself\u001b[0m\u001b[0;34m.\u001b[0m\u001b[0mdeque\u001b[0m\u001b[0;34m.\u001b[0m\u001b[0mpop\u001b[0m\u001b[0;34m(\u001b[0m\u001b[0;34m)\u001b[0m\u001b[0;34m\u001b[0m\u001b[0;34m\u001b[0m\u001b[0m\n\u001b[1;32m    978\u001b[0m         \u001b[0;32mexcept\u001b[0m \u001b[0mIndexError\u001b[0m\u001b[0;34m:\u001b[0m\u001b[0;34m\u001b[0m\u001b[0;34m\u001b[0m\u001b[0m\n\u001b[0;32m--> 979\u001b[0;31m             \u001b[0mconnection\u001b[0m \u001b[0;34m=\u001b[0m \u001b[0mself\u001b[0m\u001b[0;34m.\u001b[0m\u001b[0m_create_connection\u001b[0m\u001b[0;34m(\u001b[0m\u001b[0;34m)\u001b[0m\u001b[0;34m\u001b[0m\u001b[0;34m\u001b[0m\u001b[0m\n\u001b[0m\u001b[1;32m    980\u001b[0m         \u001b[0;32mreturn\u001b[0m \u001b[0mconnection\u001b[0m\u001b[0;34m\u001b[0m\u001b[0;34m\u001b[0m\u001b[0m\n\u001b[1;32m    981\u001b[0m \u001b[0;34m\u001b[0m\u001b[0m\n",
      "\u001b[0;32m/opt/anaconda3/lib/python3.8/site-packages/py4j/java_gateway.py\u001b[0m in \u001b[0;36m_create_connection\u001b[0;34m(self)\u001b[0m\n\u001b[1;32m    983\u001b[0m         connection = GatewayConnection(\n\u001b[1;32m    984\u001b[0m             self.gateway_parameters, self.gateway_property)\n\u001b[0;32m--> 985\u001b[0;31m         \u001b[0mconnection\u001b[0m\u001b[0;34m.\u001b[0m\u001b[0mstart\u001b[0m\u001b[0;34m(\u001b[0m\u001b[0;34m)\u001b[0m\u001b[0;34m\u001b[0m\u001b[0;34m\u001b[0m\u001b[0m\n\u001b[0m\u001b[1;32m    986\u001b[0m         \u001b[0;32mreturn\u001b[0m \u001b[0mconnection\u001b[0m\u001b[0;34m\u001b[0m\u001b[0;34m\u001b[0m\u001b[0m\n\u001b[1;32m    987\u001b[0m \u001b[0;34m\u001b[0m\u001b[0m\n",
      "\u001b[0;32m/opt/anaconda3/lib/python3.8/site-packages/py4j/java_gateway.py\u001b[0m in \u001b[0;36mstart\u001b[0;34m(self)\u001b[0m\n\u001b[1;32m   1125\u001b[0m                 \u001b[0;34m\"server ({0}:{1})\"\u001b[0m\u001b[0;34m.\u001b[0m\u001b[0mformat\u001b[0m\u001b[0;34m(\u001b[0m\u001b[0mself\u001b[0m\u001b[0;34m.\u001b[0m\u001b[0maddress\u001b[0m\u001b[0;34m,\u001b[0m \u001b[0mself\u001b[0m\u001b[0;34m.\u001b[0m\u001b[0mport\u001b[0m\u001b[0;34m)\u001b[0m\u001b[0;34m\u001b[0m\u001b[0;34m\u001b[0m\u001b[0m\n\u001b[1;32m   1126\u001b[0m             \u001b[0mlogger\u001b[0m\u001b[0;34m.\u001b[0m\u001b[0mexception\u001b[0m\u001b[0;34m(\u001b[0m\u001b[0mmsg\u001b[0m\u001b[0;34m)\u001b[0m\u001b[0;34m\u001b[0m\u001b[0;34m\u001b[0m\u001b[0m\n\u001b[0;32m-> 1127\u001b[0;31m             \u001b[0;32mraise\u001b[0m \u001b[0mPy4JNetworkError\u001b[0m\u001b[0;34m(\u001b[0m\u001b[0mmsg\u001b[0m\u001b[0;34m,\u001b[0m \u001b[0me\u001b[0m\u001b[0;34m)\u001b[0m\u001b[0;34m\u001b[0m\u001b[0;34m\u001b[0m\u001b[0m\n\u001b[0m\u001b[1;32m   1128\u001b[0m \u001b[0;34m\u001b[0m\u001b[0m\n\u001b[1;32m   1129\u001b[0m     \u001b[0;32mdef\u001b[0m \u001b[0m_authenticate_connection\u001b[0m\u001b[0;34m(\u001b[0m\u001b[0mself\u001b[0m\u001b[0;34m)\u001b[0m\u001b[0;34m:\u001b[0m\u001b[0;34m\u001b[0m\u001b[0;34m\u001b[0m\u001b[0m\n",
      "\u001b[0;31mPy4JNetworkError\u001b[0m: An error occurred while trying to connect to the Java server (127.0.0.1:49287)"
     ]
    }
   ],
   "source": [
    "clean_recs.filter(clean_recs[\"user_unique_key\"] ==255).show(5, False)"
   ]
  },
  {
   "cell_type": "code",
   "execution_count": 45,
   "metadata": {},
   "outputs": [
    {
     "data": {
      "text/plain": [
       "<bound method DataFrame.show of DataFrame[user_unique_key: int, recommendations: array<struct<book_unique_key:int,rating:float>>]>"
      ]
     },
     "execution_count": 45,
     "metadata": {},
     "output_type": "execute_result"
    }
   ],
   "source": [
    "recs= model_best.recommendForAllUsers(3)\n",
    "# recommendations = recs.registerTempTable('recs')\n",
    "\n",
    "# recommendations.show()\n",
    "recs.show"
   ]
  },
  {
   "cell_type": "code",
   "execution_count": 47,
   "metadata": {},
   "outputs": [
    {
     "name": "stdout",
     "output_type": "stream",
     "text": [
      "+------+----------------+--------------------+-----+--------------+--------------------+---------------+---------------+---------------+--------------------+\n",
      "| genre|           title|              author|pages|average_rating|    book_description|user_unique_key|number_of_stars|book_unique_key|         review_text|\n",
      "+------+----------------+--------------------+-----+--------------+--------------------+---------------+---------------+---------------+--------------------+\n",
      "|poetry|   Long Way Down|      Jason Reynolds|  306|           4.3|                 NaN|            255|              5|             76|I feel like I've ...|\n",
      "|poetry|Punching the Air|Ibi Zoboi (), Yus...|  400|          4.55|From award-winnin...|            255|              5|            252|On page 77, there...|\n",
      "+------+----------------+--------------------+-----+--------------+--------------------+---------------+---------------+---------------+--------------------+\n",
      "\n"
     ]
    }
   ],
   "source": [
    "df_sp.filter(df_sp[\"user_unique_key\"] ==255).filter(df_sp[\"number_of_stars\"] == 5).show(5)"
   ]
  },
  {
   "cell_type": "code",
   "execution_count": 50,
   "metadata": {},
   "outputs": [
    {
     "name": "stdout",
     "output_type": "stream",
     "text": [
      "+---------------+----------------------------------------------------+\n",
      "|user_unique_key|recommendations                                     |\n",
      "+---------------+----------------------------------------------------+\n",
      "|255            |[[306, 2.937673], [351, 2.836731], [397, 2.7846563]]|\n",
      "+---------------+----------------------------------------------------+\n",
      "\n"
     ]
    }
   ],
   "source": [
    "recs.filter(recs[\"user_unique_key\"]==255).show(5,False)"
   ]
  },
  {
   "cell_type": "code",
   "execution_count": null,
   "metadata": {},
   "outputs": [],
   "source": [
    "recs.filter(recs[\"book_unique_key\"]==255).show(5,False)"
   ]
  },
  {
   "cell_type": "code",
   "execution_count": null,
   "metadata": {},
   "outputs": [],
   "source": [
    "origin_rating =\n",
    "recommended=\n",
    "print(\"User #25 Ratings:\")\n",
    "origin_ratings.filter(col(\"user_unique_key\") == 60).sort(\"number_of_stars\", ascending= False).show()\n",
    "\n",
    "\n",
    "print(\"User 300 Recommendations:\")\n",
    "recommended.filter(col(\"user_unique_key\") == 300).show()"
   ]
  },
  {
   "cell_type": "code",
   "execution_count": null,
   "metadata": {},
   "outputs": [],
   "source": [
    "def recommend_movies(user, user_similarities, user_ratings, df, n_users=20, n_items=10):\n",
    "    \"\"\"n is the number of similar users who you wish to use to generate recommendations.\"\"\"\n",
    "    # User_Similarities Offset By 1 and Must Remove Current User\n",
    "    top_n_similar_users = user_similarities[user-1].drop(user-1).sort_values().index[:n_users] \n",
    "    # Again, fixing the offset of user_ids\n",
    "    top_n_similar_users = [i+1 for i in top_n_similar_users] \n",
    "    already_watched = set(df[df.user_id == 0].item_id.unique())\n",
    "    unwatched = set(df.item_id.unique()) - already_watched\n",
    "    projected_user_reviews = user_ratings[user_ratings.index.isin(top_n_similar_users)].mean()[list(unwatched)].sort_values(ascending=False)\n",
    "    return projected_user_reviews[:n_items]"
   ]
  },
  {
   "cell_type": "code",
   "execution_count": null,
   "metadata": {},
   "outputs": [],
   "source": []
  },
  {
   "cell_type": "markdown",
   "metadata": {},
   "source": [
    "## Evaluation\n",
    "\n",
    "To evaluate how well this model is predicting, as mentioned before, I’ve chosen to use the Root Mean Square Error(RMSE) metric.  This metric essentially let’s us know how far an observed value is from the model’s prediction.\n",
    "\n",
    "For example, the best model RMSE I have so far is of 1.2. This means that the predicted value could have a standard deviation of + or - 1.2 the actual value. \n",
    "\n",
    "What does this mean for businesses that have and are pivoting to e-commerce during the Covid-19 pandemic? A model prediction rating of 3, with this error metric, the actual could be a 4.  Or rating is a 3 but actual is a 2. The first instance is not a problem-- we would have a customer more satisfied with the recommended book than predicted. However, in the second scenario, we would have an unhappy customer because they are less satisfied with the book than predicted. The drop from a predicted 5 to an actual 4 is not bad because it takes the customer from a  predicted 'Amazing' to a \"really liked it\"--the customer is still happy with purchase. However a jump from a 3 star rating to a 2 star rating is a difference of of a customer \"liking\" a book to \"it's OK.\"\n",
    "\n",
    "For this reason, I want to continuing to find ways (such as hyperparameter tuning, more robust grid search, and adding more data) to decrease the RMSE. Though this model works for proof of concept,  a lower RMSE is advisable before it is put into production.\n",
    "\n"
   ]
  },
  {
   "cell_type": "code",
   "execution_count": null,
   "metadata": {},
   "outputs": [],
   "source": [
    "# close spark session\n",
    "\n",
    "spark.stop()"
   ]
  }
 ],
 "metadata": {
  "kernelspec": {
   "display_name": "Python 3",
   "language": "python",
   "name": "python3"
  },
  "language_info": {
   "codemirror_mode": {
    "name": "ipython",
    "version": 3
   },
   "file_extension": ".py",
   "mimetype": "text/x-python",
   "name": "python",
   "nbconvert_exporter": "python",
   "pygments_lexer": "ipython3",
   "version": "3.8.3"
  }
 },
 "nbformat": 4,
 "nbformat_minor": 4
}
