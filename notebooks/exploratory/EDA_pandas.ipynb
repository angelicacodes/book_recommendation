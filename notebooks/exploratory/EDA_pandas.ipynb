{
 "cells": [
  {
   "cell_type": "markdown",
   "metadata": {},
   "source": [
    "# Exploratory Data Analysis #1"
   ]
  },
  {
   "cell_type": "markdown",
   "metadata": {},
   "source": [
    "### Import libraries"
   ]
  },
  {
   "cell_type": "code",
   "execution_count": 3,
   "metadata": {},
   "outputs": [],
   "source": [
    "import pandas as pd\n",
    "\n",
    "import numpy as np\n",
    "\n",
    "from matplotlib import pyplot as plt\n",
    "%matplotlib inline\n",
    "import seaborn as sns\n",
    "\n",
    "import sqlite3 \n",
    "\n",
    "import os\n",
    "\n",
    "from sklearn.preprocessing import LabelEncoder\n"
   ]
  },
  {
   "cell_type": "code",
   "execution_count": 2,
   "metadata": {},
   "outputs": [],
   "source": []
  },
  {
   "cell_type": "markdown",
   "metadata": {},
   "source": [
    "### Import data"
   ]
  },
  {
   "cell_type": "code",
   "execution_count": 3,
   "metadata": {},
   "outputs": [],
   "source": [
    "historical_fiction_books = pd.read_csv('../../data/scrape/historical-fiction_book_table.csv')\n",
    "historical_fiction_reviews = pd.read_csv('../../data/scrape/historical-fiction_review_table.csv')\n",
    "historical_fiction= historical_fiction_books.merge(historical_fiction_reviews, left_on='unique_key', right_on='book_unique_key')"
   ]
  },
  {
   "cell_type": "code",
   "execution_count": 1,
   "metadata": {},
   "outputs": [],
   "source": [
    "# print(historical_fiction_books.info())\n",
    "# # print(historical_fiction_reviews.info()"
   ]
  },
  {
   "cell_type": "code",
   "execution_count": 5,
   "metadata": {},
   "outputs": [],
   "source": [
    "science_fiction_fantasy_books = pd.read_csv('../../data/scrape/science-fiction-fantasy_book_table.csv')\n",
    "science_fiction_fantasy_reviews = pd.read_csv('../../data/scrape/science-fiction-fantasy_review_table.csv')\n",
    "science_fiction_fantasy= science_fiction_fantasy_books.merge(science_fiction_fantasy_reviews, left_on='unique_key', right_on='book_unique_key')"
   ]
  },
  {
   "cell_type": "code",
   "execution_count": 6,
   "metadata": {},
   "outputs": [],
   "source": [
    "romantic_books = pd.read_csv('../../data/scrape/romantic_book_table.csv')\n",
    "romantic_reviews = pd.read_csv('../../data/scrape/romantic_review_table.csv')\n",
    "romantic= romantic_books.merge(romantic_reviews, left_on='unique_key', right_on='book_unique_key')"
   ]
  },
  {
   "cell_type": "code",
   "execution_count": 7,
   "metadata": {},
   "outputs": [],
   "source": [
    "poetry_books = pd.read_csv('../../data/scrape/poetry_book_table.csv')\n",
    "poetry_reviews = pd.read_csv('../../data/scrape/poetry_review_table.csv')\n",
    "poetry= poetry_books.merge(poetry_reviews, left_on='unique_key', right_on='book_unique_key')"
   ]
  },
  {
   "cell_type": "code",
   "execution_count": 8,
   "metadata": {},
   "outputs": [],
   "source": [
    "novella_books = pd.read_csv('../../data/scrape/novella_book_table.csv')\n",
    "novella_reviews = pd.read_csv('../../data/scrape/novella_review_table.csv')\n",
    "novella= novella_books.merge(novella_reviews, left_on='unique_key', right_on='book_unique_key')"
   ]
  },
  {
   "cell_type": "code",
   "execution_count": 9,
   "metadata": {},
   "outputs": [],
   "source": [
    "nonfiction_books = pd.read_csv('../../data/scrape/non-fiction_book_table.csv')\n",
    "nonfiction_reviews = pd.read_csv('../../data/scrape/non-fiction_review_table.csv')\n",
    "nonfiction= nonfiction_books.merge(nonfiction_reviews, left_on='unique_key', right_on='book_unique_key')"
   ]
  },
  {
   "cell_type": "code",
   "execution_count": 10,
   "metadata": {},
   "outputs": [],
   "source": [
    "historypolitics_books = pd.read_csv('../../data/scrape/history-and-politics_book_table.csv')\n",
    "historypolitics_reviews = pd.read_csv('../../data/scrape/history-and-politics_review_table.csv')\n",
    "historypolitics= historypolitics_books.merge(historypolitics_reviews, left_on='unique_key', right_on='book_unique_key')"
   ]
  },
  {
   "cell_type": "code",
   "execution_count": 11,
   "metadata": {},
   "outputs": [],
   "source": [
    "fiction_books = pd.read_csv('../../data/scrape/fiction_book_table.csv')\n",
    "fiction_reviews = pd.read_csv('../../data/scrape/fiction_review_table.csv')\n",
    "fiction= fiction_books.merge(fiction_reviews, left_on='unique_key', right_on='book_unique_key')"
   ]
  },
  {
   "cell_type": "code",
   "execution_count": 12,
   "metadata": {},
   "outputs": [],
   "source": [
    "contemporary_books = pd.read_csv('../../data/scrape/contemporary_book_table.csv')\n",
    "contemporary_reviews = pd.read_csv('../../data/scrape/contemporary_review_table.csv')\n",
    "contemporary= contemporary_books.merge(contemporary_reviews, left_on='unique_key', right_on='book_unique_key')"
   ]
  },
  {
   "cell_type": "code",
   "execution_count": 13,
   "metadata": {},
   "outputs": [],
   "source": [
    "biomemoir_books = pd.read_csv('../../data/scrape/biography-memoir_book_table.csv')\n",
    "biomemoir_reviews = pd.read_csv('../../data/scrape/biography-memoir_review_table.csv')\n",
    "biomemoir= biomemoir_books.merge(biomemoir_reviews, left_on='unique_key', right_on='book_unique_key')"
   ]
  },
  {
   "cell_type": "code",
   "execution_count": 14,
   "metadata": {},
   "outputs": [],
   "source": [
    "anthologies_books = pd.read_csv('../../data/scrape/anthologies_book_table.csv')\n",
    "anthologies_reviews = pd.read_csv('../../data/scrape/anthologies_review_table.csv')\n",
    "anthologies= anthologies_books.merge(anthologies_reviews, left_on='unique_key', right_on='book_unique_key')"
   ]
  },
  {
   "cell_type": "code",
   "execution_count": 15,
   "metadata": {},
   "outputs": [],
   "source": [
    "mystery_books = pd.read_csv('../../data/scrape/mystery_book_table.csv')\n",
    "mystery_reviews = pd.read_csv('../../data/scrape/mystery_review_table.csv')\n",
    "mystery= mystery_books.merge(mystery_reviews, left_on='unique_key', right_on='book_unique_key')"
   ]
  },
  {
   "cell_type": "code",
   "execution_count": 16,
   "metadata": {},
   "outputs": [],
   "source": [
    "shortstories_books = pd.read_csv('../../data/scrape/short-stories_book_table.csv')\n",
    "shortstories_reviews = pd.read_csv('../../data/scrape/short-stories_review_table.csv')\n",
    "short_stories= shortstories_books.merge(shortstories_reviews, left_on='unique_key', right_on='book_unique_key')"
   ]
  },
  {
   "cell_type": "code",
   "execution_count": 17,
   "metadata": {},
   "outputs": [],
   "source": [
    "classics_books = pd.read_csv('../../data/scrape/classics_book_table.csv')\n",
    "classics_reviews = pd.read_csv('../../data/scrape/classics_review_table.csv')\n",
    "classics= classics_books.merge(classics_reviews, left_on='unique_key', right_on='book_unique_key')"
   ]
  },
  {
   "cell_type": "code",
   "execution_count": 18,
   "metadata": {},
   "outputs": [],
   "source": [
    "anthologies_books = pd.read_csv('../../data/scrape/anthologies_book_table.csv')\n",
    "anthologies_reviews = pd.read_csv('../../data/scrape/anthologies_review_table.csv')\n",
    "anthologies= anthologies_books.merge(anthologies_reviews, left_on='unique_key', right_on='book_unique_key')"
   ]
  },
  {
   "cell_type": "code",
   "execution_count": 19,
   "metadata": {},
   "outputs": [],
   "source": [
    "drama_books = pd.read_csv('../../data/scrape/drama_book_table.csv')\n",
    "drama_reviews = pd.read_csv('../../data/scrape/drama_review_table.csv')\n",
    "drama= drama_books.merge(drama_reviews, left_on='unique_key', right_on='book_unique_key')"
   ]
  },
  {
   "cell_type": "code",
   "execution_count": 20,
   "metadata": {},
   "outputs": [],
   "source": [
    "literature_books = pd.read_csv('../../data/scrape/literature_book_table.csv')\n",
    "literature_reviews = pd.read_csv('../../data/scrape/literature_review_table.csv')\n",
    "literature= literature_books.merge(literature_reviews, left_on='unique_key', right_on='book_unique_key')"
   ]
  },
  {
   "cell_type": "code",
   "execution_count": 21,
   "metadata": {},
   "outputs": [],
   "source": [
    "adventure_books = pd.read_csv('../../data/scrape/adventure_book_table.csv')\n",
    "adventure_reviews = pd.read_csv('../../data/scrape/adventure_review_table.csv')\n",
    "adventure= adventure_books.merge(adventure_reviews, left_on='unique_key', right_on='book_unique_key')"
   ]
  },
  {
   "cell_type": "code",
   "execution_count": 45,
   "metadata": {
    "collapsed": true,
    "jupyter": {
     "outputs_hidden": true
    }
   },
   "outputs": [
    {
     "name": "stdout",
     "output_type": "stream",
     "text": [
      "<class 'pandas.core.frame.DataFrame'>\n",
      "Int64Index: 4721 entries, 0 to 4720\n",
      "Data columns (total 12 columns):\n",
      " #   Column            Non-Null Count  Dtype  \n",
      "---  ------            --------------  -----  \n",
      " 0   genre             4721 non-null   object \n",
      " 1   title             4721 non-null   object \n",
      " 2   author            4721 non-null   object \n",
      " 3   pages             4721 non-null   object \n",
      " 4   unique_key        4721 non-null   object \n",
      " 5   average_rating    4721 non-null   float64\n",
      " 6   book_description  3970 non-null   object \n",
      " 7   user_name         4721 non-null   object \n",
      " 8   user_unique_key   4721 non-null   object \n",
      " 9   number_of_stars   4721 non-null   int64  \n",
      " 10  book_unique_key   4721 non-null   object \n",
      " 11  review_text       4657 non-null   object \n",
      "dtypes: float64(1), int64(1), object(10)\n",
      "memory usage: 479.5+ KB\n"
     ]
    }
   ],
   "source": [
    "poetry.info()"
   ]
  },
  {
   "cell_type": "markdown",
   "metadata": {},
   "source": [
    "### Merge tables"
   ]
  },
  {
   "cell_type": "code",
   "execution_count": 23,
   "metadata": {},
   "outputs": [],
   "source": [
    "genres_tables = [short_stories, science_fiction_fantasy, romantic, novella, nonfiction, mystery, \n",
    "                 historical_fiction, historypolitics,fiction, contemporary, biomemoir, classics,\n",
    "                 anthologies, poetry, literature, drama, adventure ]\n",
    "\n",
    "comb_df = pd.concat(genres_tables, axis= 0)"
   ]
  },
  {
   "cell_type": "code",
   "execution_count": 24,
   "metadata": {},
   "outputs": [
    {
     "name": "stdout",
     "output_type": "stream",
     "text": [
      "<class 'pandas.core.frame.DataFrame'>\n",
      "Int64Index: 128023 entries, 0 to 10833\n",
      "Data columns (total 12 columns):\n",
      " #   Column            Non-Null Count   Dtype  \n",
      "---  ------            --------------   -----  \n",
      " 0   genre             128023 non-null  object \n",
      " 1   title             128023 non-null  object \n",
      " 2   author            128023 non-null  object \n",
      " 3   pages             128023 non-null  object \n",
      " 4   unique_key        128023 non-null  object \n",
      " 5   average_rating    128023 non-null  float64\n",
      " 6   book_description  87693 non-null   object \n",
      " 7   user_name         128023 non-null  object \n",
      " 8   user_unique_key   128023 non-null  object \n",
      " 9   number_of_stars   128023 non-null  int64  \n",
      " 10  book_unique_key   128023 non-null  object \n",
      " 11  review_text       125923 non-null  object \n",
      "dtypes: float64(1), int64(1), object(10)\n",
      "memory usage: 12.7+ MB\n"
     ]
    }
   ],
   "source": [
    "comb_df.info()"
   ]
  },
  {
   "cell_type": "code",
   "execution_count": 218,
   "metadata": {
    "collapsed": true,
    "jupyter": {
     "outputs_hidden": true
    }
   },
   "outputs": [
    {
     "data": {
      "text/html": [
       "<div>\n",
       "<style scoped>\n",
       "    .dataframe tbody tr th:only-of-type {\n",
       "        vertical-align: middle;\n",
       "    }\n",
       "\n",
       "    .dataframe tbody tr th {\n",
       "        vertical-align: top;\n",
       "    }\n",
       "\n",
       "    .dataframe thead th {\n",
       "        text-align: right;\n",
       "    }\n",
       "</style>\n",
       "<table border=\"1\" class=\"dataframe\">\n",
       "  <thead>\n",
       "    <tr style=\"text-align: right;\">\n",
       "      <th></th>\n",
       "      <th>genre</th>\n",
       "      <th>title</th>\n",
       "      <th>author</th>\n",
       "      <th>pages</th>\n",
       "      <th>unique_key</th>\n",
       "      <th>average_rating</th>\n",
       "      <th>book_description</th>\n",
       "      <th>user_name</th>\n",
       "      <th>user_unique_key</th>\n",
       "      <th>number_of_stars</th>\n",
       "      <th>book_unique_key</th>\n",
       "      <th>review_text</th>\n",
       "    </tr>\n",
       "  </thead>\n",
       "  <tbody>\n",
       "    <tr>\n",
       "      <th>0</th>\n",
       "      <td>short-stories</td>\n",
       "      <td>The Neil Gaiman Reader: Selected Fiction</td>\n",
       "      <td>by Neil Gaiman (Goodreads Author)</td>\n",
       "      <td>752 pages</td>\n",
       "      <td>https://www.goodreads.com/book/show/50358085-t...</td>\n",
       "      <td>4.54</td>\n",
       "      <td>An outstanding array—52 pieces in all—of selec...</td>\n",
       "      <td>Kayla Brown</td>\n",
       "      <td>https://www.goodreads.com/user/show/33397902-k...</td>\n",
       "      <td>5</td>\n",
       "      <td>https://www.goodreads.com/book/show/50358085-t...</td>\n",
       "      <td>NaN</td>\n",
       "    </tr>\n",
       "    <tr>\n",
       "      <th>1</th>\n",
       "      <td>short-stories</td>\n",
       "      <td>The Neil Gaiman Reader: Selected Fiction</td>\n",
       "      <td>by Neil Gaiman (Goodreads Author)</td>\n",
       "      <td>752 pages</td>\n",
       "      <td>https://www.goodreads.com/book/show/50358085-t...</td>\n",
       "      <td>4.54</td>\n",
       "      <td>An outstanding array—52 pieces in all—of selec...</td>\n",
       "      <td>Dan Trefethen</td>\n",
       "      <td>https://www.goodreads.com/user/show/90604449-d...</td>\n",
       "      <td>5</td>\n",
       "      <td>https://www.goodreads.com/book/show/50358085-t...</td>\n",
       "      <td>There are two types of readers in this world:\\...</td>\n",
       "    </tr>\n",
       "    <tr>\n",
       "      <th>2</th>\n",
       "      <td>short-stories</td>\n",
       "      <td>The Neil Gaiman Reader: Selected Fiction</td>\n",
       "      <td>by Neil Gaiman (Goodreads Author)</td>\n",
       "      <td>752 pages</td>\n",
       "      <td>https://www.goodreads.com/book/show/50358085-t...</td>\n",
       "      <td>4.54</td>\n",
       "      <td>An outstanding array—52 pieces in all—of selec...</td>\n",
       "      <td>Jamie (TheRebelliousReader)</td>\n",
       "      <td>https://www.goodreads.com/user/show/7515832-ja...</td>\n",
       "      <td>0</td>\n",
       "      <td>https://www.goodreads.com/book/show/50358085-t...</td>\n",
       "      <td>I need this more than I think I've ever needed...</td>\n",
       "    </tr>\n",
       "    <tr>\n",
       "      <th>3</th>\n",
       "      <td>short-stories</td>\n",
       "      <td>The Neil Gaiman Reader: Selected Fiction</td>\n",
       "      <td>by Neil Gaiman (Goodreads Author)</td>\n",
       "      <td>752 pages</td>\n",
       "      <td>https://www.goodreads.com/book/show/50358085-t...</td>\n",
       "      <td>4.54</td>\n",
       "      <td>An outstanding array—52 pieces in all—of selec...</td>\n",
       "      <td>Adam Di Filippe</td>\n",
       "      <td>https://www.goodreads.com/user/show/5907077-ad...</td>\n",
       "      <td>5</td>\n",
       "      <td>https://www.goodreads.com/book/show/50358085-t...</td>\n",
       "      <td>I received a free, advanced copy from NetGalle...</td>\n",
       "    </tr>\n",
       "    <tr>\n",
       "      <th>4</th>\n",
       "      <td>short-stories</td>\n",
       "      <td>The Neil Gaiman Reader: Selected Fiction</td>\n",
       "      <td>by Neil Gaiman (Goodreads Author)</td>\n",
       "      <td>752 pages</td>\n",
       "      <td>https://www.goodreads.com/book/show/50358085-t...</td>\n",
       "      <td>4.54</td>\n",
       "      <td>An outstanding array—52 pieces in all—of selec...</td>\n",
       "      <td>Morgan</td>\n",
       "      <td>https://www.goodreads.com/user/show/3433933-mo...</td>\n",
       "      <td>0</td>\n",
       "      <td>https://www.goodreads.com/book/show/50358085-t...</td>\n",
       "      <td>This is a hefty read, but it’s one that can be...</td>\n",
       "    </tr>\n",
       "  </tbody>\n",
       "</table>\n",
       "</div>"
      ],
      "text/plain": [
       "           genre                                     title  \\\n",
       "0  short-stories  The Neil Gaiman Reader: Selected Fiction   \n",
       "1  short-stories  The Neil Gaiman Reader: Selected Fiction   \n",
       "2  short-stories  The Neil Gaiman Reader: Selected Fiction   \n",
       "3  short-stories  The Neil Gaiman Reader: Selected Fiction   \n",
       "4  short-stories  The Neil Gaiman Reader: Selected Fiction   \n",
       "\n",
       "                              author      pages  \\\n",
       "0  by Neil Gaiman (Goodreads Author)  752 pages   \n",
       "1  by Neil Gaiman (Goodreads Author)  752 pages   \n",
       "2  by Neil Gaiman (Goodreads Author)  752 pages   \n",
       "3  by Neil Gaiman (Goodreads Author)  752 pages   \n",
       "4  by Neil Gaiman (Goodreads Author)  752 pages   \n",
       "\n",
       "                                          unique_key  average_rating  \\\n",
       "0  https://www.goodreads.com/book/show/50358085-t...            4.54   \n",
       "1  https://www.goodreads.com/book/show/50358085-t...            4.54   \n",
       "2  https://www.goodreads.com/book/show/50358085-t...            4.54   \n",
       "3  https://www.goodreads.com/book/show/50358085-t...            4.54   \n",
       "4  https://www.goodreads.com/book/show/50358085-t...            4.54   \n",
       "\n",
       "                                    book_description  \\\n",
       "0  An outstanding array—52 pieces in all—of selec...   \n",
       "1  An outstanding array—52 pieces in all—of selec...   \n",
       "2  An outstanding array—52 pieces in all—of selec...   \n",
       "3  An outstanding array—52 pieces in all—of selec...   \n",
       "4  An outstanding array—52 pieces in all—of selec...   \n",
       "\n",
       "                     user_name  \\\n",
       "0                  Kayla Brown   \n",
       "1                Dan Trefethen   \n",
       "2  Jamie (TheRebelliousReader)   \n",
       "3              Adam Di Filippe   \n",
       "4                       Morgan   \n",
       "\n",
       "                                     user_unique_key  number_of_stars  \\\n",
       "0  https://www.goodreads.com/user/show/33397902-k...                5   \n",
       "1  https://www.goodreads.com/user/show/90604449-d...                5   \n",
       "2  https://www.goodreads.com/user/show/7515832-ja...                0   \n",
       "3  https://www.goodreads.com/user/show/5907077-ad...                5   \n",
       "4  https://www.goodreads.com/user/show/3433933-mo...                0   \n",
       "\n",
       "                                     book_unique_key  \\\n",
       "0  https://www.goodreads.com/book/show/50358085-t...   \n",
       "1  https://www.goodreads.com/book/show/50358085-t...   \n",
       "2  https://www.goodreads.com/book/show/50358085-t...   \n",
       "3  https://www.goodreads.com/book/show/50358085-t...   \n",
       "4  https://www.goodreads.com/book/show/50358085-t...   \n",
       "\n",
       "                                         review_text  \n",
       "0                                                NaN  \n",
       "1  There are two types of readers in this world:\\...  \n",
       "2  I need this more than I think I've ever needed...  \n",
       "3  I received a free, advanced copy from NetGalle...  \n",
       "4  This is a hefty read, but it’s one that can be...  "
      ]
     },
     "execution_count": 218,
     "metadata": {},
     "output_type": "execute_result"
    }
   ],
   "source": [
    "comb_df.head()"
   ]
  },
  {
   "cell_type": "code",
   "execution_count": 226,
   "metadata": {},
   "outputs": [
    {
     "data": {
      "text/plain": [
       "(128023, 12)"
      ]
     },
     "execution_count": 226,
     "metadata": {},
     "output_type": "execute_result"
    }
   ],
   "source": [
    "comb_df.shape"
   ]
  },
  {
   "cell_type": "markdown",
   "metadata": {},
   "source": [
    "### Inspect Data"
   ]
  },
  {
   "cell_type": "code",
   "execution_count": 228,
   "metadata": {},
   "outputs": [
    {
     "data": {
      "text/plain": [
       "484"
      ]
     },
     "execution_count": 228,
     "metadata": {},
     "output_type": "execute_result"
    }
   ],
   "source": [
    "comb_df['unique_key'].nunique()"
   ]
  },
  {
   "cell_type": "code",
   "execution_count": 229,
   "metadata": {},
   "outputs": [
    {
     "data": {
      "text/plain": [
       "483"
      ]
     },
     "execution_count": 229,
     "metadata": {},
     "output_type": "execute_result"
    }
   ],
   "source": [
    "comb_df['title'].nunique()"
   ]
  },
  {
   "cell_type": "code",
   "execution_count": 247,
   "metadata": {},
   "outputs": [
    {
     "data": {
      "text/plain": [
       "415"
      ]
     },
     "execution_count": 247,
     "metadata": {},
     "output_type": "execute_result"
    }
   ],
   "source": [
    "comb_df['author'].nunique()"
   ]
  },
  {
   "cell_type": "code",
   "execution_count": 230,
   "metadata": {},
   "outputs": [
    {
     "data": {
      "text/plain": [
       "27642"
      ]
     },
     "execution_count": 230,
     "metadata": {},
     "output_type": "execute_result"
    }
   ],
   "source": [
    "comb_df['user_unique_key'].nunique()"
   ]
  },
  {
   "cell_type": "code",
   "execution_count": 231,
   "metadata": {},
   "outputs": [
    {
     "data": {
      "text/plain": [
       "53314"
      ]
     },
     "execution_count": 231,
     "metadata": {},
     "output_type": "execute_result"
    }
   ],
   "source": [
    "comb_df['review_text'].nunique()"
   ]
  },
  {
   "cell_type": "code",
   "execution_count": 232,
   "metadata": {},
   "outputs": [
    {
     "data": {
      "text/plain": [
       "2100"
      ]
     },
     "execution_count": 232,
     "metadata": {},
     "output_type": "execute_result"
    }
   ],
   "source": [
    "comb_df['review_text'].isna().sum()"
   ]
  },
  {
   "cell_type": "code",
   "execution_count": 179,
   "metadata": {},
   "outputs": [
    {
     "data": {
      "text/plain": [
       "74708"
      ]
     },
     "execution_count": 179,
     "metadata": {},
     "output_type": "execute_result"
    }
   ],
   "source": [
    "comb_df['review_text'].duplicated().sum()"
   ]
  },
  {
   "cell_type": "code",
   "execution_count": 182,
   "metadata": {},
   "outputs": [
    {
     "data": {
      "text/plain": [
       "128020"
      ]
     },
     "execution_count": 182,
     "metadata": {},
     "output_type": "execute_result"
    }
   ],
   "source": [
    "comb_df.duplicated(subset='user_unique_key',keep=False).sum()"
   ]
  },
  {
   "cell_type": "code",
   "execution_count": 212,
   "metadata": {
    "collapsed": true,
    "jupyter": {
     "outputs_hidden": true
    }
   },
   "outputs": [
    {
     "data": {
      "text/html": [
       "<div>\n",
       "<style scoped>\n",
       "    .dataframe tbody tr th:only-of-type {\n",
       "        vertical-align: middle;\n",
       "    }\n",
       "\n",
       "    .dataframe tbody tr th {\n",
       "        vertical-align: top;\n",
       "    }\n",
       "\n",
       "    .dataframe thead th {\n",
       "        text-align: right;\n",
       "    }\n",
       "</style>\n",
       "<table border=\"1\" class=\"dataframe\">\n",
       "  <thead>\n",
       "    <tr style=\"text-align: right;\">\n",
       "      <th></th>\n",
       "      <th>genre</th>\n",
       "      <th>title</th>\n",
       "      <th>author</th>\n",
       "      <th>pages</th>\n",
       "      <th>unique_key</th>\n",
       "      <th>average_rating</th>\n",
       "      <th>book_description</th>\n",
       "      <th>user_name</th>\n",
       "      <th>user_unique_key</th>\n",
       "      <th>number_of_stars</th>\n",
       "      <th>book_unique_key</th>\n",
       "      <th>review_text</th>\n",
       "      <th>book_unique_key_2</th>\n",
       "    </tr>\n",
       "  </thead>\n",
       "  <tbody>\n",
       "    <tr>\n",
       "      <th>6022</th>\n",
       "      <td>fiction</td>\n",
       "      <td>Lord of the Flies</td>\n",
       "      <td>by William Golding</td>\n",
       "      <td>182 pages</td>\n",
       "      <td>https://www.goodreads.com/book/show/7624.Lord_...</td>\n",
       "      <td>3.69</td>\n",
       "      <td>At the dawn of the next world war, a plane cra...</td>\n",
       "      <td>Roger Brunyate</td>\n",
       "      <td>https://www.goodreads.com/user/show/42294189-r...</td>\n",
       "      <td>5</td>\n",
       "      <td>465</td>\n",
       "      <td>\\nOf its Time, yet Classic\\n\\nI chose to rere...</td>\n",
       "      <td>292</td>\n",
       "    </tr>\n",
       "    <tr>\n",
       "      <th>4143</th>\n",
       "      <td>poetry</td>\n",
       "      <td>Beowulf</td>\n",
       "      <td>by Unknown, Seamus Heaney (Translator)</td>\n",
       "      <td>245 pages</td>\n",
       "      <td>https://www.goodreads.com/book/show/52357.Beowulf</td>\n",
       "      <td>3.45</td>\n",
       "      <td>NaN</td>\n",
       "      <td>Roger Brunyate</td>\n",
       "      <td>https://www.goodreads.com/user/show/42294189-r...</td>\n",
       "      <td>5</td>\n",
       "      <td>367</td>\n",
       "      <td>\\nThe Book I Thought I Knew\\n\\n1. A Confessio...</td>\n",
       "      <td>407</td>\n",
       "    </tr>\n",
       "    <tr>\n",
       "      <th>2061</th>\n",
       "      <td>novella</td>\n",
       "      <td>A Court of Frost and Starlight</td>\n",
       "      <td>by Sarah J. Maas (Goodreads Author)</td>\n",
       "      <td>229 pages</td>\n",
       "      <td>https://www.goodreads.com/book/show/31076583-a...</td>\n",
       "      <td>3.88</td>\n",
       "      <td>Hope warms the coldest night.\\n\\nFeyre, Rhys, ...</td>\n",
       "      <td>Ikram</td>\n",
       "      <td>https://www.goodreads.com/user/show/17065991-i...</td>\n",
       "      <td>3</td>\n",
       "      <td>126</td>\n",
       "      <td>\\nWe are gathered here today to mourn the sud...</td>\n",
       "      <td>121</td>\n",
       "    </tr>\n",
       "    <tr>\n",
       "      <th>2091</th>\n",
       "      <td>novella</td>\n",
       "      <td>A Court of Frost and Starlight</td>\n",
       "      <td>by Sarah J. Maas (Goodreads Author)</td>\n",
       "      <td>229 pages</td>\n",
       "      <td>https://www.goodreads.com/book/show/31076583-a...</td>\n",
       "      <td>3.88</td>\n",
       "      <td>Hope warms the coldest night.\\n\\nFeyre, Rhys, ...</td>\n",
       "      <td>Ikram</td>\n",
       "      <td>https://www.goodreads.com/user/show/17065991-i...</td>\n",
       "      <td>3</td>\n",
       "      <td>126</td>\n",
       "      <td>\\nWe are gathered here today to mourn the sud...</td>\n",
       "      <td>121</td>\n",
       "    </tr>\n",
       "    <tr>\n",
       "      <th>2031</th>\n",
       "      <td>novella</td>\n",
       "      <td>A Court of Frost and Starlight</td>\n",
       "      <td>by Sarah J. Maas (Goodreads Author)</td>\n",
       "      <td>229 pages</td>\n",
       "      <td>https://www.goodreads.com/book/show/31076583-a...</td>\n",
       "      <td>3.88</td>\n",
       "      <td>Hope warms the coldest night.\\n\\nFeyre, Rhys, ...</td>\n",
       "      <td>Ikram</td>\n",
       "      <td>https://www.goodreads.com/user/show/17065991-i...</td>\n",
       "      <td>3</td>\n",
       "      <td>126</td>\n",
       "      <td>\\nWe are gathered here today to mourn the sud...</td>\n",
       "      <td>121</td>\n",
       "    </tr>\n",
       "    <tr>\n",
       "      <th>...</th>\n",
       "      <td>...</td>\n",
       "      <td>...</td>\n",
       "      <td>...</td>\n",
       "      <td>...</td>\n",
       "      <td>...</td>\n",
       "      <td>...</td>\n",
       "      <td>...</td>\n",
       "      <td>...</td>\n",
       "      <td>...</td>\n",
       "      <td>...</td>\n",
       "      <td>...</td>\n",
       "      <td>...</td>\n",
       "      <td>...</td>\n",
       "    </tr>\n",
       "    <tr>\n",
       "      <th>10705</th>\n",
       "      <td>adventure</td>\n",
       "      <td>The Sea of Monsters</td>\n",
       "      <td>by Rick Riordan (Goodreads Author)</td>\n",
       "      <td>279 pages</td>\n",
       "      <td>https://www.goodreads.com/book/show/28186.The_...</td>\n",
       "      <td>4.24</td>\n",
       "      <td>NaN</td>\n",
       "      <td>mica</td>\n",
       "      <td>https://www.goodreads.com/user/show/5377861-mica</td>\n",
       "      <td>5</td>\n",
       "      <td>105</td>\n",
       "      <td>NaN</td>\n",
       "      <td>483</td>\n",
       "    </tr>\n",
       "    <tr>\n",
       "      <th>10735</th>\n",
       "      <td>adventure</td>\n",
       "      <td>The Sea of Monsters</td>\n",
       "      <td>by Rick Riordan (Goodreads Author)</td>\n",
       "      <td>279 pages</td>\n",
       "      <td>https://www.goodreads.com/book/show/28186.The_...</td>\n",
       "      <td>4.24</td>\n",
       "      <td>NaN</td>\n",
       "      <td>mica</td>\n",
       "      <td>https://www.goodreads.com/user/show/5377861-mica</td>\n",
       "      <td>5</td>\n",
       "      <td>105</td>\n",
       "      <td>NaN</td>\n",
       "      <td>483</td>\n",
       "    </tr>\n",
       "    <tr>\n",
       "      <th>10765</th>\n",
       "      <td>adventure</td>\n",
       "      <td>The Sea of Monsters</td>\n",
       "      <td>by Rick Riordan (Goodreads Author)</td>\n",
       "      <td>279 pages</td>\n",
       "      <td>https://www.goodreads.com/book/show/28186.The_...</td>\n",
       "      <td>4.24</td>\n",
       "      <td>NaN</td>\n",
       "      <td>mica</td>\n",
       "      <td>https://www.goodreads.com/user/show/5377861-mica</td>\n",
       "      <td>5</td>\n",
       "      <td>105</td>\n",
       "      <td>NaN</td>\n",
       "      <td>483</td>\n",
       "    </tr>\n",
       "    <tr>\n",
       "      <th>10795</th>\n",
       "      <td>adventure</td>\n",
       "      <td>The Sea of Monsters</td>\n",
       "      <td>by Rick Riordan (Goodreads Author)</td>\n",
       "      <td>279 pages</td>\n",
       "      <td>https://www.goodreads.com/book/show/28186.The_...</td>\n",
       "      <td>4.24</td>\n",
       "      <td>NaN</td>\n",
       "      <td>mica</td>\n",
       "      <td>https://www.goodreads.com/user/show/5377861-mica</td>\n",
       "      <td>5</td>\n",
       "      <td>105</td>\n",
       "      <td>NaN</td>\n",
       "      <td>483</td>\n",
       "    </tr>\n",
       "    <tr>\n",
       "      <th>10825</th>\n",
       "      <td>adventure</td>\n",
       "      <td>The Sea of Monsters</td>\n",
       "      <td>by Rick Riordan (Goodreads Author)</td>\n",
       "      <td>279 pages</td>\n",
       "      <td>https://www.goodreads.com/book/show/28186.The_...</td>\n",
       "      <td>4.24</td>\n",
       "      <td>NaN</td>\n",
       "      <td>mica</td>\n",
       "      <td>https://www.goodreads.com/user/show/5377861-mica</td>\n",
       "      <td>5</td>\n",
       "      <td>105</td>\n",
       "      <td>NaN</td>\n",
       "      <td>483</td>\n",
       "    </tr>\n",
       "  </tbody>\n",
       "</table>\n",
       "<p>128023 rows × 13 columns</p>\n",
       "</div>"
      ],
      "text/plain": [
       "           genre                           title  \\\n",
       "6022     fiction               Lord of the Flies   \n",
       "4143      poetry                         Beowulf   \n",
       "2061     novella  A Court of Frost and Starlight   \n",
       "2091     novella  A Court of Frost and Starlight   \n",
       "2031     novella  A Court of Frost and Starlight   \n",
       "...          ...                             ...   \n",
       "10705  adventure             The Sea of Monsters   \n",
       "10735  adventure             The Sea of Monsters   \n",
       "10765  adventure             The Sea of Monsters   \n",
       "10795  adventure             The Sea of Monsters   \n",
       "10825  adventure             The Sea of Monsters   \n",
       "\n",
       "                                       author      pages  \\\n",
       "6022                       by William Golding  182 pages   \n",
       "4143   by Unknown, Seamus Heaney (Translator)  245 pages   \n",
       "2061      by Sarah J. Maas (Goodreads Author)  229 pages   \n",
       "2091      by Sarah J. Maas (Goodreads Author)  229 pages   \n",
       "2031      by Sarah J. Maas (Goodreads Author)  229 pages   \n",
       "...                                       ...        ...   \n",
       "10705      by Rick Riordan (Goodreads Author)  279 pages   \n",
       "10735      by Rick Riordan (Goodreads Author)  279 pages   \n",
       "10765      by Rick Riordan (Goodreads Author)  279 pages   \n",
       "10795      by Rick Riordan (Goodreads Author)  279 pages   \n",
       "10825      by Rick Riordan (Goodreads Author)  279 pages   \n",
       "\n",
       "                                              unique_key  average_rating  \\\n",
       "6022   https://www.goodreads.com/book/show/7624.Lord_...            3.69   \n",
       "4143   https://www.goodreads.com/book/show/52357.Beowulf            3.45   \n",
       "2061   https://www.goodreads.com/book/show/31076583-a...            3.88   \n",
       "2091   https://www.goodreads.com/book/show/31076583-a...            3.88   \n",
       "2031   https://www.goodreads.com/book/show/31076583-a...            3.88   \n",
       "...                                                  ...             ...   \n",
       "10705  https://www.goodreads.com/book/show/28186.The_...            4.24   \n",
       "10735  https://www.goodreads.com/book/show/28186.The_...            4.24   \n",
       "10765  https://www.goodreads.com/book/show/28186.The_...            4.24   \n",
       "10795  https://www.goodreads.com/book/show/28186.The_...            4.24   \n",
       "10825  https://www.goodreads.com/book/show/28186.The_...            4.24   \n",
       "\n",
       "                                        book_description       user_name  \\\n",
       "6022   At the dawn of the next world war, a plane cra...  Roger Brunyate   \n",
       "4143                                                 NaN  Roger Brunyate   \n",
       "2061   Hope warms the coldest night.\\n\\nFeyre, Rhys, ...           Ikram   \n",
       "2091   Hope warms the coldest night.\\n\\nFeyre, Rhys, ...           Ikram   \n",
       "2031   Hope warms the coldest night.\\n\\nFeyre, Rhys, ...           Ikram   \n",
       "...                                                  ...             ...   \n",
       "10705                                                NaN            mica   \n",
       "10735                                                NaN            mica   \n",
       "10765                                                NaN            mica   \n",
       "10795                                                NaN            mica   \n",
       "10825                                                NaN            mica   \n",
       "\n",
       "                                         user_unique_key  number_of_stars  \\\n",
       "6022   https://www.goodreads.com/user/show/42294189-r...                5   \n",
       "4143   https://www.goodreads.com/user/show/42294189-r...                5   \n",
       "2061   https://www.goodreads.com/user/show/17065991-i...                3   \n",
       "2091   https://www.goodreads.com/user/show/17065991-i...                3   \n",
       "2031   https://www.goodreads.com/user/show/17065991-i...                3   \n",
       "...                                                  ...              ...   \n",
       "10705   https://www.goodreads.com/user/show/5377861-mica                5   \n",
       "10735   https://www.goodreads.com/user/show/5377861-mica                5   \n",
       "10765   https://www.goodreads.com/user/show/5377861-mica                5   \n",
       "10795   https://www.goodreads.com/user/show/5377861-mica                5   \n",
       "10825   https://www.goodreads.com/user/show/5377861-mica                5   \n",
       "\n",
       "       book_unique_key                                        review_text  \\\n",
       "6022               465   \\nOf its Time, yet Classic\\n\\nI chose to rere...   \n",
       "4143               367   \\nThe Book I Thought I Knew\\n\\n1. A Confessio...   \n",
       "2061               126   \\nWe are gathered here today to mourn the sud...   \n",
       "2091               126   \\nWe are gathered here today to mourn the sud...   \n",
       "2031               126   \\nWe are gathered here today to mourn the sud...   \n",
       "...                ...                                                ...   \n",
       "10705              105                                                NaN   \n",
       "10735              105                                                NaN   \n",
       "10765              105                                                NaN   \n",
       "10795              105                                                NaN   \n",
       "10825              105                                                NaN   \n",
       "\n",
       "       book_unique_key_2  \n",
       "6022                 292  \n",
       "4143                 407  \n",
       "2061                 121  \n",
       "2091                 121  \n",
       "2031                 121  \n",
       "...                  ...  \n",
       "10705                483  \n",
       "10735                483  \n",
       "10765                483  \n",
       "10795                483  \n",
       "10825                483  \n",
       "\n",
       "[128023 rows x 13 columns]"
      ]
     },
     "execution_count": 212,
     "metadata": {},
     "output_type": "execute_result"
    }
   ],
   "source": [
    "# sorted_df = comb_df.sort_values('review_text')\n",
    "# sorted_df"
   ]
  },
  {
   "cell_type": "code",
   "execution_count": 120,
   "metadata": {
    "collapsed": true,
    "jupyter": {
     "outputs_hidden": true
    }
   },
   "outputs": [
    {
     "data": {
      "text/html": [
       "<div>\n",
       "<style scoped>\n",
       "    .dataframe tbody tr th:only-of-type {\n",
       "        vertical-align: middle;\n",
       "    }\n",
       "\n",
       "    .dataframe tbody tr th {\n",
       "        vertical-align: top;\n",
       "    }\n",
       "\n",
       "    .dataframe thead th {\n",
       "        text-align: right;\n",
       "    }\n",
       "</style>\n",
       "<table border=\"1\" class=\"dataframe\">\n",
       "  <thead>\n",
       "    <tr style=\"text-align: right;\">\n",
       "      <th></th>\n",
       "      <th>genre</th>\n",
       "      <th>title</th>\n",
       "      <th>author</th>\n",
       "      <th>pages</th>\n",
       "      <th>unique_key</th>\n",
       "      <th>average_rating</th>\n",
       "      <th>book_description</th>\n",
       "      <th>user_name</th>\n",
       "      <th>user_unique_key</th>\n",
       "      <th>number_of_stars</th>\n",
       "      <th>book_unique_key</th>\n",
       "      <th>review_text</th>\n",
       "    </tr>\n",
       "  </thead>\n",
       "  <tbody>\n",
       "    <tr>\n",
       "      <th>0</th>\n",
       "      <td>short-stories</td>\n",
       "      <td>The Neil Gaiman Reader: Selected Fiction</td>\n",
       "      <td>by Neil Gaiman (Goodreads Author)</td>\n",
       "      <td>752 pages</td>\n",
       "      <td>https://www.goodreads.com/book/show/50358085-t...</td>\n",
       "      <td>4.54</td>\n",
       "      <td>An outstanding array—52 pieces in all—of selec...</td>\n",
       "      <td>Kayla Brown</td>\n",
       "      <td>https://www.goodreads.com/user/show/33397902-k...</td>\n",
       "      <td>5</td>\n",
       "      <td>https://www.goodreads.com/book/show/50358085-t...</td>\n",
       "      <td>NaN</td>\n",
       "    </tr>\n",
       "    <tr>\n",
       "      <th>1</th>\n",
       "      <td>short-stories</td>\n",
       "      <td>The Neil Gaiman Reader: Selected Fiction</td>\n",
       "      <td>by Neil Gaiman (Goodreads Author)</td>\n",
       "      <td>752 pages</td>\n",
       "      <td>https://www.goodreads.com/book/show/50358085-t...</td>\n",
       "      <td>4.54</td>\n",
       "      <td>An outstanding array—52 pieces in all—of selec...</td>\n",
       "      <td>Dan Trefethen</td>\n",
       "      <td>https://www.goodreads.com/user/show/90604449-d...</td>\n",
       "      <td>5</td>\n",
       "      <td>https://www.goodreads.com/book/show/50358085-t...</td>\n",
       "      <td>There are two types of readers in this world:\\...</td>\n",
       "    </tr>\n",
       "    <tr>\n",
       "      <th>2</th>\n",
       "      <td>short-stories</td>\n",
       "      <td>The Neil Gaiman Reader: Selected Fiction</td>\n",
       "      <td>by Neil Gaiman (Goodreads Author)</td>\n",
       "      <td>752 pages</td>\n",
       "      <td>https://www.goodreads.com/book/show/50358085-t...</td>\n",
       "      <td>4.54</td>\n",
       "      <td>An outstanding array—52 pieces in all—of selec...</td>\n",
       "      <td>Jamie (TheRebelliousReader)</td>\n",
       "      <td>https://www.goodreads.com/user/show/7515832-ja...</td>\n",
       "      <td>0</td>\n",
       "      <td>https://www.goodreads.com/book/show/50358085-t...</td>\n",
       "      <td>I need this more than I think I've ever needed...</td>\n",
       "    </tr>\n",
       "    <tr>\n",
       "      <th>3</th>\n",
       "      <td>short-stories</td>\n",
       "      <td>The Neil Gaiman Reader: Selected Fiction</td>\n",
       "      <td>by Neil Gaiman (Goodreads Author)</td>\n",
       "      <td>752 pages</td>\n",
       "      <td>https://www.goodreads.com/book/show/50358085-t...</td>\n",
       "      <td>4.54</td>\n",
       "      <td>An outstanding array—52 pieces in all—of selec...</td>\n",
       "      <td>Adam Di Filippe</td>\n",
       "      <td>https://www.goodreads.com/user/show/5907077-ad...</td>\n",
       "      <td>5</td>\n",
       "      <td>https://www.goodreads.com/book/show/50358085-t...</td>\n",
       "      <td>I received a free, advanced copy from NetGalle...</td>\n",
       "    </tr>\n",
       "    <tr>\n",
       "      <th>4</th>\n",
       "      <td>short-stories</td>\n",
       "      <td>The Neil Gaiman Reader: Selected Fiction</td>\n",
       "      <td>by Neil Gaiman (Goodreads Author)</td>\n",
       "      <td>752 pages</td>\n",
       "      <td>https://www.goodreads.com/book/show/50358085-t...</td>\n",
       "      <td>4.54</td>\n",
       "      <td>An outstanding array—52 pieces in all—of selec...</td>\n",
       "      <td>Morgan</td>\n",
       "      <td>https://www.goodreads.com/user/show/3433933-mo...</td>\n",
       "      <td>0</td>\n",
       "      <td>https://www.goodreads.com/book/show/50358085-t...</td>\n",
       "      <td>This is a hefty read, but it’s one that can be...</td>\n",
       "    </tr>\n",
       "    <tr>\n",
       "      <th>...</th>\n",
       "      <td>...</td>\n",
       "      <td>...</td>\n",
       "      <td>...</td>\n",
       "      <td>...</td>\n",
       "      <td>...</td>\n",
       "      <td>...</td>\n",
       "      <td>...</td>\n",
       "      <td>...</td>\n",
       "      <td>...</td>\n",
       "      <td>...</td>\n",
       "      <td>...</td>\n",
       "      <td>...</td>\n",
       "    </tr>\n",
       "    <tr>\n",
       "      <th>8125</th>\n",
       "      <td>drama</td>\n",
       "      <td>Much Ado About Nothing</td>\n",
       "      <td>by William Shakespeare, Barbara A. Mowat (Edit...</td>\n",
       "      <td>246 pages</td>\n",
       "      <td>https://www.goodreads.com/book/show/12957.Much...</td>\n",
       "      <td>4.06</td>\n",
       "      <td>In Much Ado About Nothing, Shakespeare include...</td>\n",
       "      <td>Caidyn (he/him/his)</td>\n",
       "      <td>https://www.goodreads.com/user/show/13614926-c...</td>\n",
       "      <td>4</td>\n",
       "      <td>https://www.goodreads.com/book/show/12957.Much...</td>\n",
       "      <td>As of 3/27/19 I'm bumping this to a solid 4/5!...</td>\n",
       "    </tr>\n",
       "    <tr>\n",
       "      <th>8126</th>\n",
       "      <td>drama</td>\n",
       "      <td>Much Ado About Nothing</td>\n",
       "      <td>by William Shakespeare, Barbara A. Mowat (Edit...</td>\n",
       "      <td>246 pages</td>\n",
       "      <td>https://www.goodreads.com/book/show/12957.Much...</td>\n",
       "      <td>4.06</td>\n",
       "      <td>In Much Ado About Nothing, Shakespeare include...</td>\n",
       "      <td>Edward</td>\n",
       "      <td>https://www.goodreads.com/user/show/12933866-e...</td>\n",
       "      <td>2</td>\n",
       "      <td>https://www.goodreads.com/book/show/12957.Much...</td>\n",
       "      <td>Shakespeare's lyricism makes this play a worth...</td>\n",
       "    </tr>\n",
       "    <tr>\n",
       "      <th>8127</th>\n",
       "      <td>drama</td>\n",
       "      <td>Much Ado About Nothing</td>\n",
       "      <td>by William Shakespeare, Barbara A. Mowat (Edit...</td>\n",
       "      <td>246 pages</td>\n",
       "      <td>https://www.goodreads.com/book/show/12957.Much...</td>\n",
       "      <td>4.06</td>\n",
       "      <td>In Much Ado About Nothing, Shakespeare include...</td>\n",
       "      <td>Liz Janet</td>\n",
       "      <td>https://www.goodreads.com/user/show/5114433-li...</td>\n",
       "      <td>5</td>\n",
       "      <td>https://www.goodreads.com/book/show/12957.Much...</td>\n",
       "      <td>My favourite of his plays. A guy named Claudio...</td>\n",
       "    </tr>\n",
       "    <tr>\n",
       "      <th>8128</th>\n",
       "      <td>drama</td>\n",
       "      <td>Much Ado About Nothing</td>\n",
       "      <td>by William Shakespeare, Barbara A. Mowat (Edit...</td>\n",
       "      <td>246 pages</td>\n",
       "      <td>https://www.goodreads.com/book/show/12957.Much...</td>\n",
       "      <td>4.06</td>\n",
       "      <td>In Much Ado About Nothing, Shakespeare include...</td>\n",
       "      <td>Rachel (Kalanadi)</td>\n",
       "      <td>https://www.goodreads.com/user/show/17810287-r...</td>\n",
       "      <td>5</td>\n",
       "      <td>https://www.goodreads.com/book/show/12957.Much...</td>\n",
       "      <td>My favorite Shakespeare comedy. I just adore B...</td>\n",
       "    </tr>\n",
       "    <tr>\n",
       "      <th>8129</th>\n",
       "      <td>drama</td>\n",
       "      <td>Much Ado About Nothing</td>\n",
       "      <td>by William Shakespeare, Barbara A. Mowat (Edit...</td>\n",
       "      <td>246 pages</td>\n",
       "      <td>https://www.goodreads.com/book/show/12957.Much...</td>\n",
       "      <td>4.06</td>\n",
       "      <td>In Much Ado About Nothing, Shakespeare include...</td>\n",
       "      <td>Pink</td>\n",
       "      <td>https://www.goodreads.com/user/show/14084605-pink</td>\n",
       "      <td>3</td>\n",
       "      <td>https://www.goodreads.com/book/show/12957.Much...</td>\n",
       "      <td>Trying to remember what actually happens in th...</td>\n",
       "    </tr>\n",
       "  </tbody>\n",
       "</table>\n",
       "<p>81048 rows × 12 columns</p>\n",
       "</div>"
      ],
      "text/plain": [
       "              genre                                     title  \\\n",
       "0     short-stories  The Neil Gaiman Reader: Selected Fiction   \n",
       "1     short-stories  The Neil Gaiman Reader: Selected Fiction   \n",
       "2     short-stories  The Neil Gaiman Reader: Selected Fiction   \n",
       "3     short-stories  The Neil Gaiman Reader: Selected Fiction   \n",
       "4     short-stories  The Neil Gaiman Reader: Selected Fiction   \n",
       "...             ...                                       ...   \n",
       "8125          drama                    Much Ado About Nothing   \n",
       "8126          drama                    Much Ado About Nothing   \n",
       "8127          drama                    Much Ado About Nothing   \n",
       "8128          drama                    Much Ado About Nothing   \n",
       "8129          drama                    Much Ado About Nothing   \n",
       "\n",
       "                                                 author      pages  \\\n",
       "0                     by Neil Gaiman (Goodreads Author)  752 pages   \n",
       "1                     by Neil Gaiman (Goodreads Author)  752 pages   \n",
       "2                     by Neil Gaiman (Goodreads Author)  752 pages   \n",
       "3                     by Neil Gaiman (Goodreads Author)  752 pages   \n",
       "4                     by Neil Gaiman (Goodreads Author)  752 pages   \n",
       "...                                                 ...        ...   \n",
       "8125  by William Shakespeare, Barbara A. Mowat (Edit...  246 pages   \n",
       "8126  by William Shakespeare, Barbara A. Mowat (Edit...  246 pages   \n",
       "8127  by William Shakespeare, Barbara A. Mowat (Edit...  246 pages   \n",
       "8128  by William Shakespeare, Barbara A. Mowat (Edit...  246 pages   \n",
       "8129  by William Shakespeare, Barbara A. Mowat (Edit...  246 pages   \n",
       "\n",
       "                                             unique_key  average_rating  \\\n",
       "0     https://www.goodreads.com/book/show/50358085-t...            4.54   \n",
       "1     https://www.goodreads.com/book/show/50358085-t...            4.54   \n",
       "2     https://www.goodreads.com/book/show/50358085-t...            4.54   \n",
       "3     https://www.goodreads.com/book/show/50358085-t...            4.54   \n",
       "4     https://www.goodreads.com/book/show/50358085-t...            4.54   \n",
       "...                                                 ...             ...   \n",
       "8125  https://www.goodreads.com/book/show/12957.Much...            4.06   \n",
       "8126  https://www.goodreads.com/book/show/12957.Much...            4.06   \n",
       "8127  https://www.goodreads.com/book/show/12957.Much...            4.06   \n",
       "8128  https://www.goodreads.com/book/show/12957.Much...            4.06   \n",
       "8129  https://www.goodreads.com/book/show/12957.Much...            4.06   \n",
       "\n",
       "                                       book_description  \\\n",
       "0     An outstanding array—52 pieces in all—of selec...   \n",
       "1     An outstanding array—52 pieces in all—of selec...   \n",
       "2     An outstanding array—52 pieces in all—of selec...   \n",
       "3     An outstanding array—52 pieces in all—of selec...   \n",
       "4     An outstanding array—52 pieces in all—of selec...   \n",
       "...                                                 ...   \n",
       "8125  In Much Ado About Nothing, Shakespeare include...   \n",
       "8126  In Much Ado About Nothing, Shakespeare include...   \n",
       "8127  In Much Ado About Nothing, Shakespeare include...   \n",
       "8128  In Much Ado About Nothing, Shakespeare include...   \n",
       "8129  In Much Ado About Nothing, Shakespeare include...   \n",
       "\n",
       "                        user_name  \\\n",
       "0                     Kayla Brown   \n",
       "1                   Dan Trefethen   \n",
       "2     Jamie (TheRebelliousReader)   \n",
       "3                 Adam Di Filippe   \n",
       "4                          Morgan   \n",
       "...                           ...   \n",
       "8125          Caidyn (he/him/his)   \n",
       "8126                       Edward   \n",
       "8127                    Liz Janet   \n",
       "8128            Rachel (Kalanadi)   \n",
       "8129                         Pink   \n",
       "\n",
       "                                        user_unique_key  number_of_stars  \\\n",
       "0     https://www.goodreads.com/user/show/33397902-k...                5   \n",
       "1     https://www.goodreads.com/user/show/90604449-d...                5   \n",
       "2     https://www.goodreads.com/user/show/7515832-ja...                0   \n",
       "3     https://www.goodreads.com/user/show/5907077-ad...                5   \n",
       "4     https://www.goodreads.com/user/show/3433933-mo...                0   \n",
       "...                                                 ...              ...   \n",
       "8125  https://www.goodreads.com/user/show/13614926-c...                4   \n",
       "8126  https://www.goodreads.com/user/show/12933866-e...                2   \n",
       "8127  https://www.goodreads.com/user/show/5114433-li...                5   \n",
       "8128  https://www.goodreads.com/user/show/17810287-r...                5   \n",
       "8129  https://www.goodreads.com/user/show/14084605-pink                3   \n",
       "\n",
       "                                        book_unique_key  \\\n",
       "0     https://www.goodreads.com/book/show/50358085-t...   \n",
       "1     https://www.goodreads.com/book/show/50358085-t...   \n",
       "2     https://www.goodreads.com/book/show/50358085-t...   \n",
       "3     https://www.goodreads.com/book/show/50358085-t...   \n",
       "4     https://www.goodreads.com/book/show/50358085-t...   \n",
       "...                                                 ...   \n",
       "8125  https://www.goodreads.com/book/show/12957.Much...   \n",
       "8126  https://www.goodreads.com/book/show/12957.Much...   \n",
       "8127  https://www.goodreads.com/book/show/12957.Much...   \n",
       "8128  https://www.goodreads.com/book/show/12957.Much...   \n",
       "8129  https://www.goodreads.com/book/show/12957.Much...   \n",
       "\n",
       "                                            review_text  \n",
       "0                                                   NaN  \n",
       "1     There are two types of readers in this world:\\...  \n",
       "2     I need this more than I think I've ever needed...  \n",
       "3     I received a free, advanced copy from NetGalle...  \n",
       "4     This is a hefty read, but it’s one that can be...  \n",
       "...                                                 ...  \n",
       "8125  As of 3/27/19 I'm bumping this to a solid 4/5!...  \n",
       "8126  Shakespeare's lyricism makes this play a worth...  \n",
       "8127  My favourite of his plays. A guy named Claudio...  \n",
       "8128  My favorite Shakespeare comedy. I just adore B...  \n",
       "8129  Trying to remember what actually happens in th...  \n",
       "\n",
       "[81048 rows x 12 columns]"
      ]
     },
     "execution_count": 120,
     "metadata": {},
     "output_type": "execute_result"
    }
   ],
   "source": [
    "# duplicates= comb_df.loc[comb_df.duplicated(subset= ['review_text'],keep=False), : ]\n",
    "# duplicates"
   ]
  },
  {
   "cell_type": "markdown",
   "metadata": {},
   "source": [
    "### Pre-process the data"
   ]
  },
  {
   "cell_type": "code",
   "execution_count": 25,
   "metadata": {},
   "outputs": [],
   "source": [
    "enc = LabelEncoder()\n",
    "enc.fit(comb_df['book_unique_key'])\n",
    "comb_df['book_unique_key'] = enc.transform(comb_df['book_unique_key'])\n",
    "comb_df2 = comb_df"
   ]
  },
  {
   "cell_type": "code",
   "execution_count": 239,
   "metadata": {
    "collapsed": true,
    "jupyter": {
     "outputs_hidden": true
    }
   },
   "outputs": [
    {
     "data": {
      "text/html": [
       "<div>\n",
       "<style scoped>\n",
       "    .dataframe tbody tr th:only-of-type {\n",
       "        vertical-align: middle;\n",
       "    }\n",
       "\n",
       "    .dataframe tbody tr th {\n",
       "        vertical-align: top;\n",
       "    }\n",
       "\n",
       "    .dataframe thead th {\n",
       "        text-align: right;\n",
       "    }\n",
       "</style>\n",
       "<table border=\"1\" class=\"dataframe\">\n",
       "  <thead>\n",
       "    <tr style=\"text-align: right;\">\n",
       "      <th></th>\n",
       "      <th>genre</th>\n",
       "      <th>title</th>\n",
       "      <th>author</th>\n",
       "      <th>pages</th>\n",
       "      <th>unique_key</th>\n",
       "      <th>average_rating</th>\n",
       "      <th>book_description</th>\n",
       "      <th>user_name</th>\n",
       "      <th>user_unique_key</th>\n",
       "      <th>number_of_stars</th>\n",
       "      <th>book_unique_key</th>\n",
       "      <th>review_text</th>\n",
       "    </tr>\n",
       "  </thead>\n",
       "  <tbody>\n",
       "    <tr>\n",
       "      <th>10829</th>\n",
       "      <td>adventure</td>\n",
       "      <td>The Sea of Monsters</td>\n",
       "      <td>by Rick Riordan (Goodreads Author)</td>\n",
       "      <td>279 pages</td>\n",
       "      <td>https://www.goodreads.com/book/show/28186.The_...</td>\n",
       "      <td>4.24</td>\n",
       "      <td>NaN</td>\n",
       "      <td>ｄａｎｉｅｌａ</td>\n",
       "      <td>21986</td>\n",
       "      <td>4</td>\n",
       "      <td>105</td>\n",
       "      <td>This was honestly so much fun! I enjoyed this ...</td>\n",
       "    </tr>\n",
       "    <tr>\n",
       "      <th>10830</th>\n",
       "      <td>adventure</td>\n",
       "      <td>The Sea of Monsters</td>\n",
       "      <td>by Rick Riordan (Goodreads Author)</td>\n",
       "      <td>279 pages</td>\n",
       "      <td>https://www.goodreads.com/book/show/28186.The_...</td>\n",
       "      <td>4.24</td>\n",
       "      <td>NaN</td>\n",
       "      <td>Kyla Harris</td>\n",
       "      <td>9943</td>\n",
       "      <td>4</td>\n",
       "      <td>105</td>\n",
       "      <td>Plot - 16/20\\nCharacters - 16/20\\nCreativity -...</td>\n",
       "    </tr>\n",
       "    <tr>\n",
       "      <th>10831</th>\n",
       "      <td>adventure</td>\n",
       "      <td>The Sea of Monsters</td>\n",
       "      <td>by Rick Riordan (Goodreads Author)</td>\n",
       "      <td>279 pages</td>\n",
       "      <td>https://www.goodreads.com/book/show/28186.The_...</td>\n",
       "      <td>4.24</td>\n",
       "      <td>NaN</td>\n",
       "      <td>Sara</td>\n",
       "      <td>22192</td>\n",
       "      <td>4</td>\n",
       "      <td>105</td>\n",
       "      <td>I love this Universe!\\nThis is a really great ...</td>\n",
       "    </tr>\n",
       "    <tr>\n",
       "      <th>10832</th>\n",
       "      <td>adventure</td>\n",
       "      <td>The Sea of Monsters</td>\n",
       "      <td>by Rick Riordan (Goodreads Author)</td>\n",
       "      <td>279 pages</td>\n",
       "      <td>https://www.goodreads.com/book/show/28186.The_...</td>\n",
       "      <td>4.24</td>\n",
       "      <td>NaN</td>\n",
       "      <td>Alaina</td>\n",
       "      <td>17043</td>\n",
       "      <td>5</td>\n",
       "      <td>105</td>\n",
       "      <td>“Powdered donuts,\" Tyson said earnestly. \"I wi...</td>\n",
       "    </tr>\n",
       "    <tr>\n",
       "      <th>10833</th>\n",
       "      <td>adventure</td>\n",
       "      <td>The Sea of Monsters</td>\n",
       "      <td>by Rick Riordan (Goodreads Author)</td>\n",
       "      <td>279 pages</td>\n",
       "      <td>https://www.goodreads.com/book/show/28186.The_...</td>\n",
       "      <td>4.24</td>\n",
       "      <td>NaN</td>\n",
       "      <td>Vanessa J.</td>\n",
       "      <td>6605</td>\n",
       "      <td>3</td>\n",
       "      <td>105</td>\n",
       "      <td>3.5 out of 5 stars\\n\\nDear Percy Jackson fans,...</td>\n",
       "    </tr>\n",
       "  </tbody>\n",
       "</table>\n",
       "</div>"
      ],
      "text/plain": [
       "           genre                title                              author  \\\n",
       "10829  adventure  The Sea of Monsters  by Rick Riordan (Goodreads Author)   \n",
       "10830  adventure  The Sea of Monsters  by Rick Riordan (Goodreads Author)   \n",
       "10831  adventure  The Sea of Monsters  by Rick Riordan (Goodreads Author)   \n",
       "10832  adventure  The Sea of Monsters  by Rick Riordan (Goodreads Author)   \n",
       "10833  adventure  The Sea of Monsters  by Rick Riordan (Goodreads Author)   \n",
       "\n",
       "           pages                                         unique_key  \\\n",
       "10829  279 pages  https://www.goodreads.com/book/show/28186.The_...   \n",
       "10830  279 pages  https://www.goodreads.com/book/show/28186.The_...   \n",
       "10831  279 pages  https://www.goodreads.com/book/show/28186.The_...   \n",
       "10832  279 pages  https://www.goodreads.com/book/show/28186.The_...   \n",
       "10833  279 pages  https://www.goodreads.com/book/show/28186.The_...   \n",
       "\n",
       "       average_rating book_description    user_name  user_unique_key  \\\n",
       "10829            4.24              NaN      ｄａｎｉｅｌａ            21986   \n",
       "10830            4.24              NaN  Kyla Harris             9943   \n",
       "10831            4.24              NaN         Sara            22192   \n",
       "10832            4.24              NaN       Alaina            17043   \n",
       "10833            4.24              NaN   Vanessa J.             6605   \n",
       "\n",
       "       number_of_stars  book_unique_key  \\\n",
       "10829                4              105   \n",
       "10830                4              105   \n",
       "10831                4              105   \n",
       "10832                5              105   \n",
       "10833                3              105   \n",
       "\n",
       "                                             review_text  \n",
       "10829  This was honestly so much fun! I enjoyed this ...  \n",
       "10830  Plot - 16/20\\nCharacters - 16/20\\nCreativity -...  \n",
       "10831  I love this Universe!\\nThis is a really great ...  \n",
       "10832  “Powdered donuts,\" Tyson said earnestly. \"I wi...  \n",
       "10833  3.5 out of 5 stars\\n\\nDear Percy Jackson fans,...  "
      ]
     },
     "execution_count": 239,
     "metadata": {},
     "output_type": "execute_result"
    }
   ],
   "source": [
    "comb_df2.tail()"
   ]
  },
  {
   "cell_type": "code",
   "execution_count": 26,
   "metadata": {
    "collapsed": true,
    "jupyter": {
     "outputs_hidden": true
    }
   },
   "outputs": [
    {
     "data": {
      "text/html": [
       "<div>\n",
       "<style scoped>\n",
       "    .dataframe tbody tr th:only-of-type {\n",
       "        vertical-align: middle;\n",
       "    }\n",
       "\n",
       "    .dataframe tbody tr th {\n",
       "        vertical-align: top;\n",
       "    }\n",
       "\n",
       "    .dataframe thead th {\n",
       "        text-align: right;\n",
       "    }\n",
       "</style>\n",
       "<table border=\"1\" class=\"dataframe\">\n",
       "  <thead>\n",
       "    <tr style=\"text-align: right;\">\n",
       "      <th></th>\n",
       "      <th>genre</th>\n",
       "      <th>title</th>\n",
       "      <th>author</th>\n",
       "      <th>pages</th>\n",
       "      <th>unique_key</th>\n",
       "      <th>average_rating</th>\n",
       "      <th>book_description</th>\n",
       "      <th>user_name</th>\n",
       "      <th>user_unique_key</th>\n",
       "      <th>number_of_stars</th>\n",
       "      <th>book_unique_key</th>\n",
       "      <th>review_text</th>\n",
       "    </tr>\n",
       "  </thead>\n",
       "  <tbody>\n",
       "    <tr>\n",
       "      <th>0</th>\n",
       "      <td>short-stories</td>\n",
       "      <td>The Neil Gaiman Reader: Selected Fiction</td>\n",
       "      <td>by Neil Gaiman (Goodreads Author)</td>\n",
       "      <td>752 pages</td>\n",
       "      <td>https://www.goodreads.com/book/show/50358085-t...</td>\n",
       "      <td>4.54</td>\n",
       "      <td>An outstanding array—52 pieces in all—of selec...</td>\n",
       "      <td>Kayla Brown</td>\n",
       "      <td>11931</td>\n",
       "      <td>5</td>\n",
       "      <td>287</td>\n",
       "      <td>NaN</td>\n",
       "    </tr>\n",
       "    <tr>\n",
       "      <th>1</th>\n",
       "      <td>short-stories</td>\n",
       "      <td>The Neil Gaiman Reader: Selected Fiction</td>\n",
       "      <td>by Neil Gaiman (Goodreads Author)</td>\n",
       "      <td>752 pages</td>\n",
       "      <td>https://www.goodreads.com/book/show/50358085-t...</td>\n",
       "      <td>4.54</td>\n",
       "      <td>An outstanding array—52 pieces in all—of selec...</td>\n",
       "      <td>Dan Trefethen</td>\n",
       "      <td>26212</td>\n",
       "      <td>5</td>\n",
       "      <td>287</td>\n",
       "      <td>There are two types of readers in this world:\\...</td>\n",
       "    </tr>\n",
       "    <tr>\n",
       "      <th>2</th>\n",
       "      <td>short-stories</td>\n",
       "      <td>The Neil Gaiman Reader: Selected Fiction</td>\n",
       "      <td>by Neil Gaiman (Goodreads Author)</td>\n",
       "      <td>752 pages</td>\n",
       "      <td>https://www.goodreads.com/book/show/50358085-t...</td>\n",
       "      <td>4.54</td>\n",
       "      <td>An outstanding array—52 pieces in all—of selec...</td>\n",
       "      <td>Jamie (TheRebelliousReader)</td>\n",
       "      <td>23480</td>\n",
       "      <td>0</td>\n",
       "      <td>287</td>\n",
       "      <td>I need this more than I think I've ever needed...</td>\n",
       "    </tr>\n",
       "    <tr>\n",
       "      <th>3</th>\n",
       "      <td>short-stories</td>\n",
       "      <td>The Neil Gaiman Reader: Selected Fiction</td>\n",
       "      <td>by Neil Gaiman (Goodreads Author)</td>\n",
       "      <td>752 pages</td>\n",
       "      <td>https://www.goodreads.com/book/show/50358085-t...</td>\n",
       "      <td>4.54</td>\n",
       "      <td>An outstanding array—52 pieces in all—of selec...</td>\n",
       "      <td>Adam Di Filippe</td>\n",
       "      <td>19564</td>\n",
       "      <td>5</td>\n",
       "      <td>287</td>\n",
       "      <td>I received a free, advanced copy from NetGalle...</td>\n",
       "    </tr>\n",
       "    <tr>\n",
       "      <th>4</th>\n",
       "      <td>short-stories</td>\n",
       "      <td>The Neil Gaiman Reader: Selected Fiction</td>\n",
       "      <td>by Neil Gaiman (Goodreads Author)</td>\n",
       "      <td>752 pages</td>\n",
       "      <td>https://www.goodreads.com/book/show/50358085-t...</td>\n",
       "      <td>4.54</td>\n",
       "      <td>An outstanding array—52 pieces in all—of selec...</td>\n",
       "      <td>Morgan</td>\n",
       "      <td>12257</td>\n",
       "      <td>0</td>\n",
       "      <td>287</td>\n",
       "      <td>This is a hefty read, but it’s one that can be...</td>\n",
       "    </tr>\n",
       "  </tbody>\n",
       "</table>\n",
       "</div>"
      ],
      "text/plain": [
       "           genre                                     title  \\\n",
       "0  short-stories  The Neil Gaiman Reader: Selected Fiction   \n",
       "1  short-stories  The Neil Gaiman Reader: Selected Fiction   \n",
       "2  short-stories  The Neil Gaiman Reader: Selected Fiction   \n",
       "3  short-stories  The Neil Gaiman Reader: Selected Fiction   \n",
       "4  short-stories  The Neil Gaiman Reader: Selected Fiction   \n",
       "\n",
       "                              author      pages  \\\n",
       "0  by Neil Gaiman (Goodreads Author)  752 pages   \n",
       "1  by Neil Gaiman (Goodreads Author)  752 pages   \n",
       "2  by Neil Gaiman (Goodreads Author)  752 pages   \n",
       "3  by Neil Gaiman (Goodreads Author)  752 pages   \n",
       "4  by Neil Gaiman (Goodreads Author)  752 pages   \n",
       "\n",
       "                                          unique_key  average_rating  \\\n",
       "0  https://www.goodreads.com/book/show/50358085-t...            4.54   \n",
       "1  https://www.goodreads.com/book/show/50358085-t...            4.54   \n",
       "2  https://www.goodreads.com/book/show/50358085-t...            4.54   \n",
       "3  https://www.goodreads.com/book/show/50358085-t...            4.54   \n",
       "4  https://www.goodreads.com/book/show/50358085-t...            4.54   \n",
       "\n",
       "                                    book_description  \\\n",
       "0  An outstanding array—52 pieces in all—of selec...   \n",
       "1  An outstanding array—52 pieces in all—of selec...   \n",
       "2  An outstanding array—52 pieces in all—of selec...   \n",
       "3  An outstanding array—52 pieces in all—of selec...   \n",
       "4  An outstanding array—52 pieces in all—of selec...   \n",
       "\n",
       "                     user_name  user_unique_key  number_of_stars  \\\n",
       "0                  Kayla Brown            11931                5   \n",
       "1                Dan Trefethen            26212                5   \n",
       "2  Jamie (TheRebelliousReader)            23480                0   \n",
       "3              Adam Di Filippe            19564                5   \n",
       "4                       Morgan            12257                0   \n",
       "\n",
       "   book_unique_key                                        review_text  \n",
       "0              287                                                NaN  \n",
       "1              287  There are two types of readers in this world:\\...  \n",
       "2              287  I need this more than I think I've ever needed...  \n",
       "3              287  I received a free, advanced copy from NetGalle...  \n",
       "4              287  This is a hefty read, but it’s one that can be...  "
      ]
     },
     "execution_count": 26,
     "metadata": {},
     "output_type": "execute_result"
    }
   ],
   "source": [
    "enc = LabelEncoder()\n",
    "enc.fit(comb_df2['user_unique_key'])\n",
    "comb_df2['user_unique_key'] = enc.transform(comb_df2['user_unique_key'])\n",
    "comb_df3 = comb_df2\n",
    "comb_df3.head()"
   ]
  },
  {
   "cell_type": "code",
   "execution_count": 29,
   "metadata": {
    "collapsed": true,
    "jupyter": {
     "outputs_hidden": true
    }
   },
   "outputs": [
    {
     "data": {
      "text/html": [
       "<div>\n",
       "<style scoped>\n",
       "    .dataframe tbody tr th:only-of-type {\n",
       "        vertical-align: middle;\n",
       "    }\n",
       "\n",
       "    .dataframe tbody tr th {\n",
       "        vertical-align: top;\n",
       "    }\n",
       "\n",
       "    .dataframe thead th {\n",
       "        text-align: right;\n",
       "    }\n",
       "</style>\n",
       "<table border=\"1\" class=\"dataframe\">\n",
       "  <thead>\n",
       "    <tr style=\"text-align: right;\">\n",
       "      <th></th>\n",
       "      <th>genre</th>\n",
       "      <th>title</th>\n",
       "      <th>author</th>\n",
       "      <th>pages</th>\n",
       "      <th>unique_key</th>\n",
       "      <th>average_rating</th>\n",
       "      <th>book_description</th>\n",
       "      <th>user_name</th>\n",
       "      <th>user_unique_key</th>\n",
       "      <th>number_of_stars</th>\n",
       "      <th>book_unique_key</th>\n",
       "      <th>review_text</th>\n",
       "    </tr>\n",
       "  </thead>\n",
       "  <tbody>\n",
       "    <tr>\n",
       "      <th>0</th>\n",
       "      <td>short-stories</td>\n",
       "      <td>The Neil Gaiman Reader: Selected Fiction</td>\n",
       "      <td>Neil Gaiman ()</td>\n",
       "      <td>752 pages</td>\n",
       "      <td>https://www.goodreads.com/book/show/50358085-t...</td>\n",
       "      <td>4.54</td>\n",
       "      <td>An outstanding array—52 pieces in all—of selec...</td>\n",
       "      <td>Kayla Brown</td>\n",
       "      <td>11931</td>\n",
       "      <td>5</td>\n",
       "      <td>287</td>\n",
       "      <td>NaN</td>\n",
       "    </tr>\n",
       "    <tr>\n",
       "      <th>1</th>\n",
       "      <td>short-stories</td>\n",
       "      <td>The Neil Gaiman Reader: Selected Fiction</td>\n",
       "      <td>Neil Gaiman ()</td>\n",
       "      <td>752 pages</td>\n",
       "      <td>https://www.goodreads.com/book/show/50358085-t...</td>\n",
       "      <td>4.54</td>\n",
       "      <td>An outstanding array—52 pieces in all—of selec...</td>\n",
       "      <td>Dan Trefethen</td>\n",
       "      <td>26212</td>\n",
       "      <td>5</td>\n",
       "      <td>287</td>\n",
       "      <td>There are two types of readers in this world:\\...</td>\n",
       "    </tr>\n",
       "    <tr>\n",
       "      <th>2</th>\n",
       "      <td>short-stories</td>\n",
       "      <td>The Neil Gaiman Reader: Selected Fiction</td>\n",
       "      <td>Neil Gaiman ()</td>\n",
       "      <td>752 pages</td>\n",
       "      <td>https://www.goodreads.com/book/show/50358085-t...</td>\n",
       "      <td>4.54</td>\n",
       "      <td>An outstanding array—52 pieces in all—of selec...</td>\n",
       "      <td>Jamie (TheRebelliousReader)</td>\n",
       "      <td>23480</td>\n",
       "      <td>0</td>\n",
       "      <td>287</td>\n",
       "      <td>I need this more than I think I've ever needed...</td>\n",
       "    </tr>\n",
       "    <tr>\n",
       "      <th>3</th>\n",
       "      <td>short-stories</td>\n",
       "      <td>The Neil Gaiman Reader: Selected Fiction</td>\n",
       "      <td>Neil Gaiman ()</td>\n",
       "      <td>752 pages</td>\n",
       "      <td>https://www.goodreads.com/book/show/50358085-t...</td>\n",
       "      <td>4.54</td>\n",
       "      <td>An outstanding array—52 pieces in all—of selec...</td>\n",
       "      <td>Adam Di Filippe</td>\n",
       "      <td>19564</td>\n",
       "      <td>5</td>\n",
       "      <td>287</td>\n",
       "      <td>I received a free, advanced copy from NetGalle...</td>\n",
       "    </tr>\n",
       "    <tr>\n",
       "      <th>4</th>\n",
       "      <td>short-stories</td>\n",
       "      <td>The Neil Gaiman Reader: Selected Fiction</td>\n",
       "      <td>Neil Gaiman ()</td>\n",
       "      <td>752 pages</td>\n",
       "      <td>https://www.goodreads.com/book/show/50358085-t...</td>\n",
       "      <td>4.54</td>\n",
       "      <td>An outstanding array—52 pieces in all—of selec...</td>\n",
       "      <td>Morgan</td>\n",
       "      <td>12257</td>\n",
       "      <td>0</td>\n",
       "      <td>287</td>\n",
       "      <td>This is a hefty read, but it’s one that can be...</td>\n",
       "    </tr>\n",
       "  </tbody>\n",
       "</table>\n",
       "</div>"
      ],
      "text/plain": [
       "           genre                                     title          author  \\\n",
       "0  short-stories  The Neil Gaiman Reader: Selected Fiction  Neil Gaiman ()   \n",
       "1  short-stories  The Neil Gaiman Reader: Selected Fiction  Neil Gaiman ()   \n",
       "2  short-stories  The Neil Gaiman Reader: Selected Fiction  Neil Gaiman ()   \n",
       "3  short-stories  The Neil Gaiman Reader: Selected Fiction  Neil Gaiman ()   \n",
       "4  short-stories  The Neil Gaiman Reader: Selected Fiction  Neil Gaiman ()   \n",
       "\n",
       "       pages                                         unique_key  \\\n",
       "0  752 pages  https://www.goodreads.com/book/show/50358085-t...   \n",
       "1  752 pages  https://www.goodreads.com/book/show/50358085-t...   \n",
       "2  752 pages  https://www.goodreads.com/book/show/50358085-t...   \n",
       "3  752 pages  https://www.goodreads.com/book/show/50358085-t...   \n",
       "4  752 pages  https://www.goodreads.com/book/show/50358085-t...   \n",
       "\n",
       "   average_rating                                   book_description  \\\n",
       "0            4.54  An outstanding array—52 pieces in all—of selec...   \n",
       "1            4.54  An outstanding array—52 pieces in all—of selec...   \n",
       "2            4.54  An outstanding array—52 pieces in all—of selec...   \n",
       "3            4.54  An outstanding array—52 pieces in all—of selec...   \n",
       "4            4.54  An outstanding array—52 pieces in all—of selec...   \n",
       "\n",
       "                     user_name  user_unique_key  number_of_stars  \\\n",
       "0                  Kayla Brown            11931                5   \n",
       "1                Dan Trefethen            26212                5   \n",
       "2  Jamie (TheRebelliousReader)            23480                0   \n",
       "3              Adam Di Filippe            19564                5   \n",
       "4                       Morgan            12257                0   \n",
       "\n",
       "   book_unique_key                                        review_text  \n",
       "0              287                                                NaN  \n",
       "1              287  There are two types of readers in this world:\\...  \n",
       "2              287  I need this more than I think I've ever needed...  \n",
       "3              287  I received a free, advanced copy from NetGalle...  \n",
       "4              287  This is a hefty read, but it’s one that can be...  "
      ]
     },
     "execution_count": 29,
     "metadata": {},
     "output_type": "execute_result"
    }
   ],
   "source": [
    "comb_df3['author'] = comb_df3['author'].replace({'by ': '', \"(Goodreads Author)\": ''}, regex=True)\n",
    "comb_df4= comb_df3\n",
    "comb_df4.head()"
   ]
  },
  {
   "cell_type": "code",
   "execution_count": 30,
   "metadata": {
    "collapsed": true,
    "jupyter": {
     "outputs_hidden": true
    }
   },
   "outputs": [
    {
     "data": {
      "text/html": [
       "<div>\n",
       "<style scoped>\n",
       "    .dataframe tbody tr th:only-of-type {\n",
       "        vertical-align: middle;\n",
       "    }\n",
       "\n",
       "    .dataframe tbody tr th {\n",
       "        vertical-align: top;\n",
       "    }\n",
       "\n",
       "    .dataframe thead th {\n",
       "        text-align: right;\n",
       "    }\n",
       "</style>\n",
       "<table border=\"1\" class=\"dataframe\">\n",
       "  <thead>\n",
       "    <tr style=\"text-align: right;\">\n",
       "      <th></th>\n",
       "      <th>genre</th>\n",
       "      <th>title</th>\n",
       "      <th>author</th>\n",
       "      <th>pages</th>\n",
       "      <th>unique_key</th>\n",
       "      <th>average_rating</th>\n",
       "      <th>book_description</th>\n",
       "      <th>user_name</th>\n",
       "      <th>user_unique_key</th>\n",
       "      <th>number_of_stars</th>\n",
       "      <th>book_unique_key</th>\n",
       "      <th>review_text</th>\n",
       "    </tr>\n",
       "  </thead>\n",
       "  <tbody>\n",
       "    <tr>\n",
       "      <th>0</th>\n",
       "      <td>short-stories</td>\n",
       "      <td>The Neil Gaiman Reader: Selected Fiction</td>\n",
       "      <td>Neil Gaiman ()</td>\n",
       "      <td>752</td>\n",
       "      <td>https://www.goodreads.com/book/show/50358085-t...</td>\n",
       "      <td>4.54</td>\n",
       "      <td>An outstanding array—52 pieces in all—of selec...</td>\n",
       "      <td>Kayla Brown</td>\n",
       "      <td>11931</td>\n",
       "      <td>5</td>\n",
       "      <td>287</td>\n",
       "      <td>NaN</td>\n",
       "    </tr>\n",
       "    <tr>\n",
       "      <th>1</th>\n",
       "      <td>short-stories</td>\n",
       "      <td>The Neil Gaiman Reader: Selected Fiction</td>\n",
       "      <td>Neil Gaiman ()</td>\n",
       "      <td>752</td>\n",
       "      <td>https://www.goodreads.com/book/show/50358085-t...</td>\n",
       "      <td>4.54</td>\n",
       "      <td>An outstanding array—52 pieces in all—of selec...</td>\n",
       "      <td>Dan Trefethen</td>\n",
       "      <td>26212</td>\n",
       "      <td>5</td>\n",
       "      <td>287</td>\n",
       "      <td>There are two types of readers in this world:\\...</td>\n",
       "    </tr>\n",
       "    <tr>\n",
       "      <th>2</th>\n",
       "      <td>short-stories</td>\n",
       "      <td>The Neil Gaiman Reader: Selected Fiction</td>\n",
       "      <td>Neil Gaiman ()</td>\n",
       "      <td>752</td>\n",
       "      <td>https://www.goodreads.com/book/show/50358085-t...</td>\n",
       "      <td>4.54</td>\n",
       "      <td>An outstanding array—52 pieces in all—of selec...</td>\n",
       "      <td>Jamie (TheRebelliousReader)</td>\n",
       "      <td>23480</td>\n",
       "      <td>0</td>\n",
       "      <td>287</td>\n",
       "      <td>I need this more than I think I've ever needed...</td>\n",
       "    </tr>\n",
       "    <tr>\n",
       "      <th>3</th>\n",
       "      <td>short-stories</td>\n",
       "      <td>The Neil Gaiman Reader: Selected Fiction</td>\n",
       "      <td>Neil Gaiman ()</td>\n",
       "      <td>752</td>\n",
       "      <td>https://www.goodreads.com/book/show/50358085-t...</td>\n",
       "      <td>4.54</td>\n",
       "      <td>An outstanding array—52 pieces in all—of selec...</td>\n",
       "      <td>Adam Di Filippe</td>\n",
       "      <td>19564</td>\n",
       "      <td>5</td>\n",
       "      <td>287</td>\n",
       "      <td>I received a free, advanced copy from NetGalle...</td>\n",
       "    </tr>\n",
       "    <tr>\n",
       "      <th>4</th>\n",
       "      <td>short-stories</td>\n",
       "      <td>The Neil Gaiman Reader: Selected Fiction</td>\n",
       "      <td>Neil Gaiman ()</td>\n",
       "      <td>752</td>\n",
       "      <td>https://www.goodreads.com/book/show/50358085-t...</td>\n",
       "      <td>4.54</td>\n",
       "      <td>An outstanding array—52 pieces in all—of selec...</td>\n",
       "      <td>Morgan</td>\n",
       "      <td>12257</td>\n",
       "      <td>0</td>\n",
       "      <td>287</td>\n",
       "      <td>This is a hefty read, but it’s one that can be...</td>\n",
       "    </tr>\n",
       "  </tbody>\n",
       "</table>\n",
       "</div>"
      ],
      "text/plain": [
       "           genre                                     title          author  \\\n",
       "0  short-stories  The Neil Gaiman Reader: Selected Fiction  Neil Gaiman ()   \n",
       "1  short-stories  The Neil Gaiman Reader: Selected Fiction  Neil Gaiman ()   \n",
       "2  short-stories  The Neil Gaiman Reader: Selected Fiction  Neil Gaiman ()   \n",
       "3  short-stories  The Neil Gaiman Reader: Selected Fiction  Neil Gaiman ()   \n",
       "4  short-stories  The Neil Gaiman Reader: Selected Fiction  Neil Gaiman ()   \n",
       "\n",
       "  pages                                         unique_key  average_rating  \\\n",
       "0  752   https://www.goodreads.com/book/show/50358085-t...            4.54   \n",
       "1  752   https://www.goodreads.com/book/show/50358085-t...            4.54   \n",
       "2  752   https://www.goodreads.com/book/show/50358085-t...            4.54   \n",
       "3  752   https://www.goodreads.com/book/show/50358085-t...            4.54   \n",
       "4  752   https://www.goodreads.com/book/show/50358085-t...            4.54   \n",
       "\n",
       "                                    book_description  \\\n",
       "0  An outstanding array—52 pieces in all—of selec...   \n",
       "1  An outstanding array—52 pieces in all—of selec...   \n",
       "2  An outstanding array—52 pieces in all—of selec...   \n",
       "3  An outstanding array—52 pieces in all—of selec...   \n",
       "4  An outstanding array—52 pieces in all—of selec...   \n",
       "\n",
       "                     user_name  user_unique_key  number_of_stars  \\\n",
       "0                  Kayla Brown            11931                5   \n",
       "1                Dan Trefethen            26212                5   \n",
       "2  Jamie (TheRebelliousReader)            23480                0   \n",
       "3              Adam Di Filippe            19564                5   \n",
       "4                       Morgan            12257                0   \n",
       "\n",
       "   book_unique_key                                        review_text  \n",
       "0              287                                                NaN  \n",
       "1              287  There are two types of readers in this world:\\...  \n",
       "2              287  I need this more than I think I've ever needed...  \n",
       "3              287  I received a free, advanced copy from NetGalle...  \n",
       "4              287  This is a hefty read, but it’s one that can be...  "
      ]
     },
     "execution_count": 30,
     "metadata": {},
     "output_type": "execute_result"
    }
   ],
   "source": [
    "comb_df4['pages'] = comb_df4['pages'].replace({'pages': ''}, regex=True)\n",
    "comb_df5= comb_df4\n",
    "comb_df5.head()"
   ]
  },
  {
   "cell_type": "code",
   "execution_count": 31,
   "metadata": {
    "collapsed": true,
    "jupyter": {
     "outputs_hidden": true
    }
   },
   "outputs": [
    {
     "data": {
      "text/html": [
       "<div>\n",
       "<style scoped>\n",
       "    .dataframe tbody tr th:only-of-type {\n",
       "        vertical-align: middle;\n",
       "    }\n",
       "\n",
       "    .dataframe tbody tr th {\n",
       "        vertical-align: top;\n",
       "    }\n",
       "\n",
       "    .dataframe thead th {\n",
       "        text-align: right;\n",
       "    }\n",
       "</style>\n",
       "<table border=\"1\" class=\"dataframe\">\n",
       "  <thead>\n",
       "    <tr style=\"text-align: right;\">\n",
       "      <th></th>\n",
       "      <th>genre</th>\n",
       "      <th>title</th>\n",
       "      <th>author</th>\n",
       "      <th>pages</th>\n",
       "      <th>average_rating</th>\n",
       "      <th>book_description</th>\n",
       "      <th>user_unique_key</th>\n",
       "      <th>number_of_stars</th>\n",
       "      <th>book_unique_key</th>\n",
       "      <th>review_text</th>\n",
       "    </tr>\n",
       "  </thead>\n",
       "  <tbody>\n",
       "    <tr>\n",
       "      <th>0</th>\n",
       "      <td>short-stories</td>\n",
       "      <td>The Neil Gaiman Reader: Selected Fiction</td>\n",
       "      <td>Neil Gaiman ()</td>\n",
       "      <td>752</td>\n",
       "      <td>4.54</td>\n",
       "      <td>An outstanding array—52 pieces in all—of selec...</td>\n",
       "      <td>11931</td>\n",
       "      <td>5</td>\n",
       "      <td>287</td>\n",
       "      <td>NaN</td>\n",
       "    </tr>\n",
       "    <tr>\n",
       "      <th>1</th>\n",
       "      <td>short-stories</td>\n",
       "      <td>The Neil Gaiman Reader: Selected Fiction</td>\n",
       "      <td>Neil Gaiman ()</td>\n",
       "      <td>752</td>\n",
       "      <td>4.54</td>\n",
       "      <td>An outstanding array—52 pieces in all—of selec...</td>\n",
       "      <td>26212</td>\n",
       "      <td>5</td>\n",
       "      <td>287</td>\n",
       "      <td>There are two types of readers in this world:\\...</td>\n",
       "    </tr>\n",
       "    <tr>\n",
       "      <th>2</th>\n",
       "      <td>short-stories</td>\n",
       "      <td>The Neil Gaiman Reader: Selected Fiction</td>\n",
       "      <td>Neil Gaiman ()</td>\n",
       "      <td>752</td>\n",
       "      <td>4.54</td>\n",
       "      <td>An outstanding array—52 pieces in all—of selec...</td>\n",
       "      <td>23480</td>\n",
       "      <td>0</td>\n",
       "      <td>287</td>\n",
       "      <td>I need this more than I think I've ever needed...</td>\n",
       "    </tr>\n",
       "    <tr>\n",
       "      <th>3</th>\n",
       "      <td>short-stories</td>\n",
       "      <td>The Neil Gaiman Reader: Selected Fiction</td>\n",
       "      <td>Neil Gaiman ()</td>\n",
       "      <td>752</td>\n",
       "      <td>4.54</td>\n",
       "      <td>An outstanding array—52 pieces in all—of selec...</td>\n",
       "      <td>19564</td>\n",
       "      <td>5</td>\n",
       "      <td>287</td>\n",
       "      <td>I received a free, advanced copy from NetGalle...</td>\n",
       "    </tr>\n",
       "    <tr>\n",
       "      <th>4</th>\n",
       "      <td>short-stories</td>\n",
       "      <td>The Neil Gaiman Reader: Selected Fiction</td>\n",
       "      <td>Neil Gaiman ()</td>\n",
       "      <td>752</td>\n",
       "      <td>4.54</td>\n",
       "      <td>An outstanding array—52 pieces in all—of selec...</td>\n",
       "      <td>12257</td>\n",
       "      <td>0</td>\n",
       "      <td>287</td>\n",
       "      <td>This is a hefty read, but it’s one that can be...</td>\n",
       "    </tr>\n",
       "  </tbody>\n",
       "</table>\n",
       "</div>"
      ],
      "text/plain": [
       "           genre                                     title          author  \\\n",
       "0  short-stories  The Neil Gaiman Reader: Selected Fiction  Neil Gaiman ()   \n",
       "1  short-stories  The Neil Gaiman Reader: Selected Fiction  Neil Gaiman ()   \n",
       "2  short-stories  The Neil Gaiman Reader: Selected Fiction  Neil Gaiman ()   \n",
       "3  short-stories  The Neil Gaiman Reader: Selected Fiction  Neil Gaiman ()   \n",
       "4  short-stories  The Neil Gaiman Reader: Selected Fiction  Neil Gaiman ()   \n",
       "\n",
       "  pages  average_rating                                   book_description  \\\n",
       "0  752             4.54  An outstanding array—52 pieces in all—of selec...   \n",
       "1  752             4.54  An outstanding array—52 pieces in all—of selec...   \n",
       "2  752             4.54  An outstanding array—52 pieces in all—of selec...   \n",
       "3  752             4.54  An outstanding array—52 pieces in all—of selec...   \n",
       "4  752             4.54  An outstanding array—52 pieces in all—of selec...   \n",
       "\n",
       "   user_unique_key  number_of_stars  book_unique_key  \\\n",
       "0            11931                5              287   \n",
       "1            26212                5              287   \n",
       "2            23480                0              287   \n",
       "3            19564                5              287   \n",
       "4            12257                0              287   \n",
       "\n",
       "                                         review_text  \n",
       "0                                                NaN  \n",
       "1  There are two types of readers in this world:\\...  \n",
       "2  I need this more than I think I've ever needed...  \n",
       "3  I received a free, advanced copy from NetGalle...  \n",
       "4  This is a hefty read, but it’s one that can be...  "
      ]
     },
     "execution_count": 31,
     "metadata": {},
     "output_type": "execute_result"
    }
   ],
   "source": [
    "comb_df6= comb_df5.drop(['unique_key', 'user_name'], axis= 1)\n",
    "comb_df6.head() \n"
   ]
  },
  {
   "cell_type": "code",
   "execution_count": 285,
   "metadata": {
    "collapsed": true,
    "jupyter": {
     "outputs_hidden": true
    }
   },
   "outputs": [
    {
     "data": {
      "text/html": [
       "<div>\n",
       "<style scoped>\n",
       "    .dataframe tbody tr th:only-of-type {\n",
       "        vertical-align: middle;\n",
       "    }\n",
       "\n",
       "    .dataframe tbody tr th {\n",
       "        vertical-align: top;\n",
       "    }\n",
       "\n",
       "    .dataframe thead th {\n",
       "        text-align: right;\n",
       "    }\n",
       "</style>\n",
       "<table border=\"1\" class=\"dataframe\">\n",
       "  <thead>\n",
       "    <tr style=\"text-align: right;\">\n",
       "      <th></th>\n",
       "      <th>genre</th>\n",
       "      <th>title</th>\n",
       "      <th>author</th>\n",
       "      <th>pages</th>\n",
       "      <th>average_rating</th>\n",
       "      <th>book_description</th>\n",
       "      <th>user_unique_key</th>\n",
       "      <th>number_of_stars</th>\n",
       "      <th>book_unique_key</th>\n",
       "      <th>review_text</th>\n",
       "    </tr>\n",
       "  </thead>\n",
       "  <tbody>\n",
       "    <tr>\n",
       "      <th>2092</th>\n",
       "      <td>non-fiction</td>\n",
       "      <td>Educated</td>\n",
       "      <td>Tara Westover ()</td>\n",
       "      <td>334</td>\n",
       "      <td>4.46</td>\n",
       "      <td>Tara Westover was 17 the first time she set fo...</td>\n",
       "      <td>0</td>\n",
       "      <td>4</td>\n",
       "      <td>146</td>\n",
       "      <td>A captivating memoir, well written, easy to te...</td>\n",
       "    </tr>\n",
       "    <tr>\n",
       "      <th>5435</th>\n",
       "      <td>non-fiction</td>\n",
       "      <td>A Short History of Nearly Everything</td>\n",
       "      <td>Bill Bryson</td>\n",
       "      <td>544</td>\n",
       "      <td>4.20</td>\n",
       "      <td>In Bryson's biggest book, he confronts his gre...</td>\n",
       "      <td>0</td>\n",
       "      <td>5</td>\n",
       "      <td>68</td>\n",
       "      <td>A fascinating history of science. Ever curious...</td>\n",
       "    </tr>\n",
       "    <tr>\n",
       "      <th>4358</th>\n",
       "      <td>biography-memoir</td>\n",
       "      <td>Educated</td>\n",
       "      <td>Tara Westover ()</td>\n",
       "      <td>334</td>\n",
       "      <td>4.46</td>\n",
       "      <td>Tara Westover was 17 the first time she set fo...</td>\n",
       "      <td>0</td>\n",
       "      <td>4</td>\n",
       "      <td>146</td>\n",
       "      <td>A captivating memoir, well written, easy to te...</td>\n",
       "    </tr>\n",
       "    <tr>\n",
       "      <th>2392</th>\n",
       "      <td>non-fiction</td>\n",
       "      <td>Educated</td>\n",
       "      <td>Tara Westover ()</td>\n",
       "      <td>334</td>\n",
       "      <td>4.46</td>\n",
       "      <td>Tara Westover was 17 the first time she set fo...</td>\n",
       "      <td>0</td>\n",
       "      <td>4</td>\n",
       "      <td>146</td>\n",
       "      <td>A captivating memoir, well written, easy to te...</td>\n",
       "    </tr>\n",
       "    <tr>\n",
       "      <th>1603</th>\n",
       "      <td>history-and-politics</td>\n",
       "      <td>Sapiens: A Brief History of Humankind</td>\n",
       "      <td>Yuval Noah Harari</td>\n",
       "      <td>498</td>\n",
       "      <td>4.41</td>\n",
       "      <td>100,000 years ago, at least six human species ...</td>\n",
       "      <td>0</td>\n",
       "      <td>5</td>\n",
       "      <td>82</td>\n",
       "      <td>I haven't read a ton of \"history of the world\"...</td>\n",
       "    </tr>\n",
       "    <tr>\n",
       "      <th>...</th>\n",
       "      <td>...</td>\n",
       "      <td>...</td>\n",
       "      <td>...</td>\n",
       "      <td>...</td>\n",
       "      <td>...</td>\n",
       "      <td>...</td>\n",
       "      <td>...</td>\n",
       "      <td>...</td>\n",
       "      <td>...</td>\n",
       "      <td>...</td>\n",
       "    </tr>\n",
       "    <tr>\n",
       "      <th>1745</th>\n",
       "      <td>historical-fiction</td>\n",
       "      <td>Fortune Favors the Dead</td>\n",
       "      <td>Stephen Spotswood ()</td>\n",
       "      <td>336</td>\n",
       "      <td>4.09</td>\n",
       "      <td>Introducing Pentecost and Parker, two unconven...</td>\n",
       "      <td>27639</td>\n",
       "      <td>5</td>\n",
       "      <td>310</td>\n",
       "      <td>Introducing Pentecost and Parker – two formida...</td>\n",
       "    </tr>\n",
       "    <tr>\n",
       "      <th>1918</th>\n",
       "      <td>mystery</td>\n",
       "      <td>Fortune Favors the Dead</td>\n",
       "      <td>Stephen Spotswood ()</td>\n",
       "      <td>336</td>\n",
       "      <td>4.09</td>\n",
       "      <td>Introducing Pentecost and Parker, two unconven...</td>\n",
       "      <td>27639</td>\n",
       "      <td>5</td>\n",
       "      <td>310</td>\n",
       "      <td>Introducing Pentecost and Parker – two formida...</td>\n",
       "    </tr>\n",
       "    <tr>\n",
       "      <th>1363</th>\n",
       "      <td>historical-fiction</td>\n",
       "      <td>Murder on Cold Street</td>\n",
       "      <td>Sherry Thomas ()</td>\n",
       "      <td>344</td>\n",
       "      <td>4.28</td>\n",
       "      <td>Charlotte Holmes, Lady Sherlock, is back solvi...</td>\n",
       "      <td>27639</td>\n",
       "      <td>3</td>\n",
       "      <td>269</td>\n",
       "      <td>Murder on Cold Street is the fifth book in the...</td>\n",
       "    </tr>\n",
       "    <tr>\n",
       "      <th>4384</th>\n",
       "      <td>novella</td>\n",
       "      <td>The Prince</td>\n",
       "      <td>Kiera Cass ()</td>\n",
       "      <td>64</td>\n",
       "      <td>3.94</td>\n",
       "      <td>Before thirty-five girls were chosen to compet...</td>\n",
       "      <td>27640</td>\n",
       "      <td>4</td>\n",
       "      <td>33</td>\n",
       "      <td>So...\\nMy reaction when I realized not only wa...</td>\n",
       "    </tr>\n",
       "    <tr>\n",
       "      <th>3966</th>\n",
       "      <td>historical-fiction</td>\n",
       "      <td>The Dutch House</td>\n",
       "      <td>Ann Patchett</td>\n",
       "      <td>337</td>\n",
       "      <td>4.12</td>\n",
       "      <td>At the end of the Second World War, Cyril Conr...</td>\n",
       "      <td>27641</td>\n",
       "      <td>2</td>\n",
       "      <td>209</td>\n",
       "      <td>The whole time I just kept waiting for somethi...</td>\n",
       "    </tr>\n",
       "  </tbody>\n",
       "</table>\n",
       "<p>128023 rows × 10 columns</p>\n",
       "</div>"
      ],
      "text/plain": [
       "                     genre                                  title  \\\n",
       "2092           non-fiction                               Educated   \n",
       "5435           non-fiction   A Short History of Nearly Everything   \n",
       "4358      biography-memoir                               Educated   \n",
       "2392           non-fiction                               Educated   \n",
       "1603  history-and-politics  Sapiens: A Brief History of Humankind   \n",
       "...                    ...                                    ...   \n",
       "1745    historical-fiction                Fortune Favors the Dead   \n",
       "1918               mystery                Fortune Favors the Dead   \n",
       "1363    historical-fiction                  Murder on Cold Street   \n",
       "4384               novella                             The Prince   \n",
       "3966    historical-fiction                        The Dutch House   \n",
       "\n",
       "                    author pages  average_rating  \\\n",
       "2092      Tara Westover ()  334             4.46   \n",
       "5435           Bill Bryson  544             4.20   \n",
       "4358      Tara Westover ()  334             4.46   \n",
       "2392      Tara Westover ()  334             4.46   \n",
       "1603     Yuval Noah Harari  498             4.41   \n",
       "...                    ...   ...             ...   \n",
       "1745  Stephen Spotswood ()  336             4.09   \n",
       "1918  Stephen Spotswood ()  336             4.09   \n",
       "1363      Sherry Thomas ()  344             4.28   \n",
       "4384         Kiera Cass ()   64             3.94   \n",
       "3966          Ann Patchett  337             4.12   \n",
       "\n",
       "                                       book_description  user_unique_key  \\\n",
       "2092  Tara Westover was 17 the first time she set fo...                0   \n",
       "5435  In Bryson's biggest book, he confronts his gre...                0   \n",
       "4358  Tara Westover was 17 the first time she set fo...                0   \n",
       "2392  Tara Westover was 17 the first time she set fo...                0   \n",
       "1603  100,000 years ago, at least six human species ...                0   \n",
       "...                                                 ...              ...   \n",
       "1745  Introducing Pentecost and Parker, two unconven...            27639   \n",
       "1918  Introducing Pentecost and Parker, two unconven...            27639   \n",
       "1363  Charlotte Holmes, Lady Sherlock, is back solvi...            27639   \n",
       "4384  Before thirty-five girls were chosen to compet...            27640   \n",
       "3966  At the end of the Second World War, Cyril Conr...            27641   \n",
       "\n",
       "      number_of_stars  book_unique_key  \\\n",
       "2092                4              146   \n",
       "5435                5               68   \n",
       "4358                4              146   \n",
       "2392                4              146   \n",
       "1603                5               82   \n",
       "...               ...              ...   \n",
       "1745                5              310   \n",
       "1918                5              310   \n",
       "1363                3              269   \n",
       "4384                4               33   \n",
       "3966                2              209   \n",
       "\n",
       "                                            review_text  \n",
       "2092  A captivating memoir, well written, easy to te...  \n",
       "5435  A fascinating history of science. Ever curious...  \n",
       "4358  A captivating memoir, well written, easy to te...  \n",
       "2392  A captivating memoir, well written, easy to te...  \n",
       "1603  I haven't read a ton of \"history of the world\"...  \n",
       "...                                                 ...  \n",
       "1745  Introducing Pentecost and Parker – two formida...  \n",
       "1918  Introducing Pentecost and Parker – two formida...  \n",
       "1363  Murder on Cold Street is the fifth book in the...  \n",
       "4384  So...\\nMy reaction when I realized not only wa...  \n",
       "3966  The whole time I just kept waiting for somethi...  \n",
       "\n",
       "[128023 rows x 10 columns]"
      ]
     },
     "execution_count": 285,
     "metadata": {},
     "output_type": "execute_result"
    }
   ],
   "source": [
    "sorted_df2 = comb_df6.sort_values('user_unique_key')\n",
    "sorted_df2.loc[sorted_df2.duplicated(subset = 'title',keep=False),:]\n",
    "sorted_df2"
   ]
  },
  {
   "cell_type": "code",
   "execution_count": 288,
   "metadata": {},
   "outputs": [
    {
     "data": {
      "text/plain": [
       "53314"
      ]
     },
     "execution_count": 288,
     "metadata": {},
     "output_type": "execute_result"
    }
   ],
   "source": [
    "comb_df6['review_text'].nunique()"
   ]
  },
  {
   "cell_type": "code",
   "execution_count": 290,
   "metadata": {},
   "outputs": [
    {
     "data": {
      "text/plain": [
       "73467"
      ]
     },
     "execution_count": 290,
     "metadata": {},
     "output_type": "execute_result"
    }
   ],
   "source": [
    "comb_df6.duplicated(['title', 'review_text', 'user_unique_key']).sum()"
   ]
  },
  {
   "cell_type": "code",
   "execution_count": 292,
   "metadata": {},
   "outputs": [
    {
     "data": {
      "text/plain": [
       "59255"
      ]
     },
     "execution_count": 292,
     "metadata": {},
     "output_type": "execute_result"
    }
   ],
   "source": [
    "comb_df6.duplicated().sum()"
   ]
  },
  {
   "cell_type": "code",
   "execution_count": 298,
   "metadata": {},
   "outputs": [
    {
     "data": {
      "text/plain": [
       "483"
      ]
     },
     "execution_count": 298,
     "metadata": {},
     "output_type": "execute_result"
    }
   ],
   "source": [
    "comb_df6['title'].nunique()"
   ]
  },
  {
   "cell_type": "code",
   "execution_count": 299,
   "metadata": {},
   "outputs": [
    {
     "data": {
      "text/plain": [
       "27642"
      ]
     },
     "execution_count": 299,
     "metadata": {},
     "output_type": "execute_result"
    }
   ],
   "source": [
    "comb_df6['user_unique_key'].nunique()"
   ]
  },
  {
   "cell_type": "code",
   "execution_count": 297,
   "metadata": {},
   "outputs": [
    {
     "data": {
      "text/plain": [
       "(128023, 10)"
      ]
     },
     "execution_count": 297,
     "metadata": {},
     "output_type": "execute_result"
    }
   ],
   "source": [
    "comb_df6.shape"
   ]
  },
  {
   "cell_type": "code",
   "execution_count": 302,
   "metadata": {},
   "outputs": [
    {
     "data": {
      "text/plain": [
       "90838"
      ]
     },
     "execution_count": 302,
     "metadata": {},
     "output_type": "execute_result"
    }
   ],
   "source": [
    "comb_df6.duplicated(['user_unique_key', 'title'], keep=False).sum()"
   ]
  },
  {
   "cell_type": "code",
   "execution_count": 314,
   "metadata": {},
   "outputs": [
    {
     "data": {
      "text/plain": [
       "415"
      ]
     },
     "execution_count": 314,
     "metadata": {},
     "output_type": "execute_result"
    }
   ],
   "source": [
    "comb_df6['author'].nunique()"
   ]
  },
  {
   "cell_type": "code",
   "execution_count": 32,
   "metadata": {},
   "outputs": [
    {
     "ename": "NameError",
     "evalue": "name 'comb_df6' is not defined",
     "output_type": "error",
     "traceback": [
      "\u001b[0;31m---------------------------------------------------------------------------\u001b[0m",
      "\u001b[0;31mNameError\u001b[0m                                 Traceback (most recent call last)",
      "\u001b[0;32m<ipython-input-32-ef49f71daf6c>\u001b[0m in \u001b[0;36m<module>\u001b[0;34m\u001b[0m\n\u001b[0;32m----> 1\u001b[0;31m \u001b[0mcomb_df6\u001b[0m\u001b[0;34m[\u001b[0m\u001b[0;34m'author'\u001b[0m\u001b[0;34m]\u001b[0m\u001b[0;34m.\u001b[0m\u001b[0mhead\u001b[0m\u001b[0;34m(\u001b[0m\u001b[0;34m)\u001b[0m\u001b[0;34m\u001b[0m\u001b[0;34m\u001b[0m\u001b[0m\n\u001b[0m",
      "\u001b[0;31mNameError\u001b[0m: name 'comb_df6' is not defined"
     ]
    }
   ],
   "source": [
    "comb_df6['author'].head()"
   ]
  },
  {
   "cell_type": "code",
   "execution_count": 33,
   "metadata": {},
   "outputs": [
    {
     "name": "stdout",
     "output_type": "stream",
     "text": [
      "<class 'pandas.core.frame.DataFrame'>\n",
      "Int64Index: 54387 entries, 0 to 10623\n",
      "Data columns (total 10 columns):\n",
      " #   Column            Non-Null Count  Dtype  \n",
      "---  ------            --------------  -----  \n",
      " 0   genre             54387 non-null  object \n",
      " 1   title             54387 non-null  object \n",
      " 2   author            54387 non-null  object \n",
      " 3   pages             54387 non-null  object \n",
      " 4   average_rating    54387 non-null  float64\n",
      " 5   book_description  40773 non-null  object \n",
      " 6   user_unique_key   54387 non-null  int64  \n",
      " 7   number_of_stars   54387 non-null  int64  \n",
      " 8   book_unique_key   54387 non-null  int64  \n",
      " 9   review_text       53340 non-null  object \n",
      "dtypes: float64(1), int64(3), object(6)\n",
      "memory usage: 4.6+ MB\n"
     ]
    }
   ],
   "source": [
    "comb_df7= comb_df6.drop_duplicates(subset=['user_unique_key', 'title'], keep='first')\n",
    "comb_df7.info()"
   ]
  },
  {
   "cell_type": "code",
   "execution_count": 34,
   "metadata": {},
   "outputs": [
    {
     "name": "stdout",
     "output_type": "stream",
     "text": [
      "<class 'pandas.core.frame.DataFrame'>\n",
      "Int64Index: 54387 entries, 0 to 10623\n",
      "Data columns (total 10 columns):\n",
      " #   Column            Non-Null Count  Dtype  \n",
      "---  ------            --------------  -----  \n",
      " 0   genre             54387 non-null  object \n",
      " 1   title             54387 non-null  object \n",
      " 2   author            54387 non-null  object \n",
      " 3   pages             54387 non-null  object \n",
      " 4   average_rating    54387 non-null  float64\n",
      " 5   book_description  40773 non-null  object \n",
      " 6   user_unique_key   54387 non-null  int64  \n",
      " 7   number_of_stars   54387 non-null  int64  \n",
      " 8   book_unique_key   54387 non-null  int64  \n",
      " 9   review_text       53340 non-null  object \n",
      "dtypes: float64(1), int64(3), object(6)\n",
      "memory usage: 4.6+ MB\n"
     ]
    }
   ],
   "source": [
    "comb_df7.info()"
   ]
  },
  {
   "cell_type": "code",
   "execution_count": 37,
   "metadata": {},
   "outputs": [],
   "source": [
    "# comb_df7.to_csv('comb_df7.csv', index=False)"
   ]
  },
  {
   "cell_type": "code",
   "execution_count": 35,
   "metadata": {},
   "outputs": [],
   "source": [
    "# comb_df7.to_csv('comb_df7.tsv',sep=\"\\t\")"
   ]
  },
  {
   "cell_type": "code",
   "execution_count": 36,
   "metadata": {
    "collapsed": true,
    "jupyter": {
     "outputs_hidden": true
    }
   },
   "outputs": [
    {
     "data": {
      "text/html": [
       "<div>\n",
       "<style scoped>\n",
       "    .dataframe tbody tr th:only-of-type {\n",
       "        vertical-align: middle;\n",
       "    }\n",
       "\n",
       "    .dataframe tbody tr th {\n",
       "        vertical-align: top;\n",
       "    }\n",
       "\n",
       "    .dataframe thead th {\n",
       "        text-align: right;\n",
       "    }\n",
       "</style>\n",
       "<table border=\"1\" class=\"dataframe\">\n",
       "  <thead>\n",
       "    <tr style=\"text-align: right;\">\n",
       "      <th></th>\n",
       "      <th>genre</th>\n",
       "      <th>title</th>\n",
       "      <th>author</th>\n",
       "      <th>pages</th>\n",
       "      <th>average_rating</th>\n",
       "      <th>book_description</th>\n",
       "      <th>user_unique_key</th>\n",
       "      <th>number_of_stars</th>\n",
       "      <th>book_unique_key</th>\n",
       "      <th>review_text</th>\n",
       "    </tr>\n",
       "  </thead>\n",
       "  <tbody>\n",
       "    <tr>\n",
       "      <th>0</th>\n",
       "      <td>short-stories</td>\n",
       "      <td>The Neil Gaiman Reader: Selected Fiction</td>\n",
       "      <td>Neil Gaiman ()</td>\n",
       "      <td>752</td>\n",
       "      <td>4.54</td>\n",
       "      <td>An outstanding array—52 pieces in all—of selec...</td>\n",
       "      <td>11931</td>\n",
       "      <td>5</td>\n",
       "      <td>287</td>\n",
       "      <td>NaN</td>\n",
       "    </tr>\n",
       "    <tr>\n",
       "      <th>1</th>\n",
       "      <td>short-stories</td>\n",
       "      <td>The Neil Gaiman Reader: Selected Fiction</td>\n",
       "      <td>Neil Gaiman ()</td>\n",
       "      <td>752</td>\n",
       "      <td>4.54</td>\n",
       "      <td>An outstanding array—52 pieces in all—of selec...</td>\n",
       "      <td>26212</td>\n",
       "      <td>5</td>\n",
       "      <td>287</td>\n",
       "      <td>There are two types of readers in this world:\\...</td>\n",
       "    </tr>\n",
       "    <tr>\n",
       "      <th>2</th>\n",
       "      <td>short-stories</td>\n",
       "      <td>The Neil Gaiman Reader: Selected Fiction</td>\n",
       "      <td>Neil Gaiman ()</td>\n",
       "      <td>752</td>\n",
       "      <td>4.54</td>\n",
       "      <td>An outstanding array—52 pieces in all—of selec...</td>\n",
       "      <td>23480</td>\n",
       "      <td>0</td>\n",
       "      <td>287</td>\n",
       "      <td>I need this more than I think I've ever needed...</td>\n",
       "    </tr>\n",
       "    <tr>\n",
       "      <th>3</th>\n",
       "      <td>short-stories</td>\n",
       "      <td>The Neil Gaiman Reader: Selected Fiction</td>\n",
       "      <td>Neil Gaiman ()</td>\n",
       "      <td>752</td>\n",
       "      <td>4.54</td>\n",
       "      <td>An outstanding array—52 pieces in all—of selec...</td>\n",
       "      <td>19564</td>\n",
       "      <td>5</td>\n",
       "      <td>287</td>\n",
       "      <td>I received a free, advanced copy from NetGalle...</td>\n",
       "    </tr>\n",
       "    <tr>\n",
       "      <th>4</th>\n",
       "      <td>short-stories</td>\n",
       "      <td>The Neil Gaiman Reader: Selected Fiction</td>\n",
       "      <td>Neil Gaiman ()</td>\n",
       "      <td>752</td>\n",
       "      <td>4.54</td>\n",
       "      <td>An outstanding array—52 pieces in all—of selec...</td>\n",
       "      <td>12257</td>\n",
       "      <td>0</td>\n",
       "      <td>287</td>\n",
       "      <td>This is a hefty read, but it’s one that can be...</td>\n",
       "    </tr>\n",
       "  </tbody>\n",
       "</table>\n",
       "</div>"
      ],
      "text/plain": [
       "           genre                                     title          author  \\\n",
       "0  short-stories  The Neil Gaiman Reader: Selected Fiction  Neil Gaiman ()   \n",
       "1  short-stories  The Neil Gaiman Reader: Selected Fiction  Neil Gaiman ()   \n",
       "2  short-stories  The Neil Gaiman Reader: Selected Fiction  Neil Gaiman ()   \n",
       "3  short-stories  The Neil Gaiman Reader: Selected Fiction  Neil Gaiman ()   \n",
       "4  short-stories  The Neil Gaiman Reader: Selected Fiction  Neil Gaiman ()   \n",
       "\n",
       "  pages  average_rating                                   book_description  \\\n",
       "0  752             4.54  An outstanding array—52 pieces in all—of selec...   \n",
       "1  752             4.54  An outstanding array—52 pieces in all—of selec...   \n",
       "2  752             4.54  An outstanding array—52 pieces in all—of selec...   \n",
       "3  752             4.54  An outstanding array—52 pieces in all—of selec...   \n",
       "4  752             4.54  An outstanding array—52 pieces in all—of selec...   \n",
       "\n",
       "   user_unique_key  number_of_stars  book_unique_key  \\\n",
       "0            11931                5              287   \n",
       "1            26212                5              287   \n",
       "2            23480                0              287   \n",
       "3            19564                5              287   \n",
       "4            12257                0              287   \n",
       "\n",
       "                                         review_text  \n",
       "0                                                NaN  \n",
       "1  There are two types of readers in this world:\\...  \n",
       "2  I need this more than I think I've ever needed...  \n",
       "3  I received a free, advanced copy from NetGalle...  \n",
       "4  This is a hefty read, but it’s one that can be...  "
      ]
     },
     "execution_count": 36,
     "metadata": {},
     "output_type": "execute_result"
    }
   ],
   "source": [
    "comb_df7.head()"
   ]
  },
  {
   "cell_type": "code",
   "execution_count": 264,
   "metadata": {},
   "outputs": [
    {
     "data": {
      "text/html": [
       "<div>\n",
       "<style scoped>\n",
       "    .dataframe tbody tr th:only-of-type {\n",
       "        vertical-align: middle;\n",
       "    }\n",
       "\n",
       "    .dataframe tbody tr th {\n",
       "        vertical-align: top;\n",
       "    }\n",
       "\n",
       "    .dataframe thead th {\n",
       "        text-align: right;\n",
       "    }\n",
       "</style>\n",
       "<table border=\"1\" class=\"dataframe\">\n",
       "  <thead>\n",
       "    <tr style=\"text-align: right;\">\n",
       "      <th></th>\n",
       "      <th>average_rating</th>\n",
       "      <th>user_unique_key</th>\n",
       "      <th>number_of_stars</th>\n",
       "      <th>book_unique_key</th>\n",
       "    </tr>\n",
       "  </thead>\n",
       "  <tbody>\n",
       "    <tr>\n",
       "      <th>average_rating</th>\n",
       "      <td>1.000000</td>\n",
       "      <td>-0.001409</td>\n",
       "      <td>0.217978</td>\n",
       "      <td>-0.017330</td>\n",
       "    </tr>\n",
       "    <tr>\n",
       "      <th>user_unique_key</th>\n",
       "      <td>-0.001409</td>\n",
       "      <td>1.000000</td>\n",
       "      <td>0.006396</td>\n",
       "      <td>0.023437</td>\n",
       "    </tr>\n",
       "    <tr>\n",
       "      <th>number_of_stars</th>\n",
       "      <td>0.217978</td>\n",
       "      <td>0.006396</td>\n",
       "      <td>1.000000</td>\n",
       "      <td>0.004887</td>\n",
       "    </tr>\n",
       "    <tr>\n",
       "      <th>book_unique_key</th>\n",
       "      <td>-0.017330</td>\n",
       "      <td>0.023437</td>\n",
       "      <td>0.004887</td>\n",
       "      <td>1.000000</td>\n",
       "    </tr>\n",
       "  </tbody>\n",
       "</table>\n",
       "</div>"
      ],
      "text/plain": [
       "                 average_rating  user_unique_key  number_of_stars  \\\n",
       "average_rating         1.000000        -0.001409         0.217978   \n",
       "user_unique_key       -0.001409         1.000000         0.006396   \n",
       "number_of_stars        0.217978         0.006396         1.000000   \n",
       "book_unique_key       -0.017330         0.023437         0.004887   \n",
       "\n",
       "                 book_unique_key  \n",
       "average_rating         -0.017330  \n",
       "user_unique_key         0.023437  \n",
       "number_of_stars         0.004887  \n",
       "book_unique_key         1.000000  "
      ]
     },
     "execution_count": 264,
     "metadata": {},
     "output_type": "execute_result"
    }
   ],
   "source": [
    "# comb_df5.corr()"
   ]
  },
  {
   "cell_type": "markdown",
   "metadata": {},
   "source": [
    "### EDA visualizations"
   ]
  },
  {
   "cell_type": "code",
   "execution_count": 4,
   "metadata": {},
   "outputs": [],
   "source": [
    "df10 = pd.read_csv('comb_df7.csv')"
   ]
  },
  {
   "cell_type": "code",
   "execution_count": 7,
   "metadata": {},
   "outputs": [
    {
     "data": {
      "image/png": "[encoded data removed]",
      "text/plain": [
       "<Figure size 2160x1440 with 1 Axes>"
      ]
     },
     "metadata": {
      "needs_background": "light"
     },
     "output_type": "display_data"
    }
   ],
   "source": [
    "#y= comb_df.sort_values('average_rating', ascending=False)\n",
    "plt.figure(figsize=(30,20))\n",
    "sns.barplot(x=df10['genre'],y=df10['average_rating'])\n",
    "plt.xticks(rotation= 80, size= 20)\n",
    "plt.yticks(size= 20)\n",
    "plt.xlabel('Genre',size='30')\n",
    "plt.ylabel('Average Rating', size = 30)\n",
    "plt.title('Average Rating by Genre',color='black',size='40')\n",
    "plt.show()"
   ]
  },
  {
   "cell_type": "code",
   "execution_count": null,
   "metadata": {},
   "outputs": [],
   "source": []
  },
  {
   "cell_type": "code",
   "execution_count": null,
   "metadata": {},
   "outputs": [],
   "source": []
  },
  {
   "cell_type": "code",
   "execution_count": 47,
   "metadata": {},
   "outputs": [
    {
     "data": {
      "text/plain": [
       "Text(0.5, 1.0, 'How Many Ratings Per Book?')"
      ]
     },
     "execution_count": 47,
     "metadata": {},
     "output_type": "execute_result"
    },
    {
     "data": {
      "image/png": "[encoded data removed]",
      "text/plain": [
       "<Figure size 720x360 with 1 Axes>"
      ]
     },
     "metadata": {
      "needs_background": "light"
     },
     "output_type": "display_data"
    }
   ],
   "source": [
    "\n",
    "ratings_per_book = df_sm1.groupby(by = 'book_unique_key')['number_of_stars'].count().sort_values(ascending = False)\n",
    "\n",
    "fig = plt.figure(figsize = (10, 5))\n",
    "axes = fig.add_axes([0.1,0.1,1,1])\n",
    "\n",
    "plt.xlabel(\"Number of Books\", fontsize = 20)\n",
    "plt.ylabel(\"Number of Ratings\", fontsize = 20)\n",
    "plt.plot(ratings_per_book.values, color='green', linewidth=5)\n",
    "plt.tick_params(labelsize = 20)\n",
    "plt.title(\"How Many Ratings Per Book?\", fontsize = 30)\n"
   ]
  },
  {
   "cell_type": "code",
   "execution_count": null,
   "metadata": {},
   "outputs": [],
   "source": []
  },
  {
   "cell_type": "code",
   "execution_count": 24,
   "metadata": {},
   "outputs": [],
   "source": [
    "ratings_amm=df_sm1.groupby('book_unique_key')['user_unique_key'].count().sort_values()"
   ]
  },
  {
   "cell_type": "code",
   "execution_count": 25,
   "metadata": {},
   "outputs": [
    {
     "data": {
      "image/png": "[encoded data removed]",
      "text/plain": [
       "<Figure size 432x288 with 1 Axes>"
      ]
     },
     "metadata": {
      "needs_background": "light"
     },
     "output_type": "display_data"
    }
   ],
   "source": [
    "\n",
    "plt.hist(ratings_amm);\n",
    "plt.xlabel('Books Rated')\n",
    "plt.ylabel('Users')\n",
    "plt.title('Number of Books Rated by Each User')\n",
    "plt.grid(True)\n",
    "plt.show()"
   ]
  },
  {
   "cell_type": "code",
   "execution_count": 26,
   "metadata": {},
   "outputs": [
    {
     "data": {
      "text/plain": [
       "count    484.000000\n",
       "mean     108.233471\n",
       "std       49.412000\n",
       "min        1.000000\n",
       "25%       59.000000\n",
       "50%      130.000000\n",
       "75%      146.000000\n",
       "max      207.000000\n",
       "Name: user_unique_key, dtype: float64"
      ]
     },
     "execution_count": 26,
     "metadata": {},
     "output_type": "execute_result"
    }
   ],
   "source": [
    "ratings_amm.describe()"
   ]
  },
  {
   "cell_type": "code",
   "execution_count": 23,
   "metadata": {},
   "outputs": [
    {
     "data": {
      "text/plain": [
       "484"
      ]
     },
     "execution_count": 23,
     "metadata": {},
     "output_type": "execute_result"
    }
   ],
   "source": [
    "books = df_sm1['book_unique_key'].nunique()\n",
    "books\n"
   ]
  },
  {
   "cell_type": "code",
   "execution_count": 30,
   "metadata": {},
   "outputs": [],
   "source": [
    "books = range(1,485)"
   ]
  },
  {
   "cell_type": "code",
   "execution_count": 31,
   "metadata": {},
   "outputs": [],
   "source": [
    "book_rating_amm=df_sm1.groupby('book_unique_key')['number_of_stars'].count().sort_values()"
   ]
  },
  {
   "cell_type": "code",
   "execution_count": 34,
   "metadata": {},
   "outputs": [
    {
     "data": {
      "image/png": "[encoded data removed]",
      "text/plain": [
       "<Figure size 432x288 with 1 Axes>"
      ]
     },
     "metadata": {
      "needs_background": "light"
     },
     "output_type": "display_data"
    }
   ],
   "source": [
    "\n",
    "plt.plot(books, book_rating_amm)\n",
    "plt.xlabel('Book Count')\n",
    "plt.ylabel('Number of Reader Ratings')\n",
    "plt.title('Number of Ratings per Book')\n",
    "#plt.yscale('log')\n",
    "plt.grid(True)\n",
    "plt.show()"
   ]
  },
  {
   "cell_type": "code",
   "execution_count": null,
   "metadata": {},
   "outputs": [],
   "source": []
  },
  {
   "cell_type": "code",
   "execution_count": null,
   "metadata": {},
   "outputs": [],
   "source": []
  },
  {
   "cell_type": "code",
   "execution_count": 44,
   "metadata": {},
   "outputs": [],
   "source": [
    "reader_ratings=df10.groupby('user_unique_key')['number_of_stars'].count().sort_values(ascending=False)"
   ]
  },
  {
   "cell_type": "code",
   "execution_count": 45,
   "metadata": {},
   "outputs": [
    {
     "data": {
      "text/plain": [
       "count    27642.000000\n",
       "mean         1.967549\n",
       "std          3.713306\n",
       "min          1.000000\n",
       "25%          1.000000\n",
       "50%          1.000000\n",
       "75%          2.000000\n",
       "max        133.000000\n",
       "Name: number_of_stars, dtype: float64"
      ]
     },
     "execution_count": 45,
     "metadata": {},
     "output_type": "execute_result"
    }
   ],
   "source": [
    "number_reader_ratings.describe()"
   ]
  },
  {
   "cell_type": "code",
   "execution_count": 46,
   "metadata": {},
   "outputs": [],
   "source": [
    "book_ratings=df10.groupby('book_unique_key')['number_of_stars'].count().sort_values(ascending=False)"
   ]
  },
  {
   "cell_type": "code",
   "execution_count": 47,
   "metadata": {},
   "outputs": [
    {
     "data": {
      "text/plain": [
       "count    484.000000\n",
       "mean     112.369835\n",
       "std       51.318734\n",
       "min        1.000000\n",
       "25%       60.000000\n",
       "50%      144.000000\n",
       "75%      150.000000\n",
       "max      210.000000\n",
       "Name: number_of_stars, dtype: float64"
      ]
     },
     "execution_count": 47,
     "metadata": {},
     "output_type": "execute_result"
    }
   ],
   "source": [
    "book_ratings.describe()"
   ]
  },
  {
   "cell_type": "code",
   "execution_count": null,
   "metadata": {},
   "outputs": [],
   "source": []
  },
  {
   "cell_type": "code",
   "execution_count": 8,
   "metadata": {},
   "outputs": [],
   "source": [
    "df_sm=pd.read_csv('comb_df7.csv')"
   ]
  },
  {
   "cell_type": "code",
   "execution_count": 9,
   "metadata": {},
   "outputs": [
    {
     "name": "stdout",
     "output_type": "stream",
     "text": [
      "<class 'pandas.core.frame.DataFrame'>\n",
      "RangeIndex: 54387 entries, 0 to 54386\n",
      "Data columns (total 10 columns):\n",
      " #   Column            Non-Null Count  Dtype  \n",
      "---  ------            --------------  -----  \n",
      " 0   genre             54387 non-null  object \n",
      " 1   title             54387 non-null  object \n",
      " 2   author            54387 non-null  object \n",
      " 3   pages             54387 non-null  int64  \n",
      " 4   average_rating    54387 non-null  float64\n",
      " 5   book_description  40773 non-null  object \n",
      " 6   user_unique_key   54387 non-null  int64  \n",
      " 7   number_of_stars   54387 non-null  int64  \n",
      " 8   book_unique_key   54387 non-null  int64  \n",
      " 9   review_text       53340 non-null  object \n",
      "dtypes: float64(1), int64(4), object(5)\n",
      "memory usage: 4.1+ MB\n"
     ]
    }
   ],
   "source": [
    "df_sm.info()"
   ]
  },
  {
   "cell_type": "code",
   "execution_count": 12,
   "metadata": {},
   "outputs": [],
   "source": [
    "df_sm1 = df_sm[df_sm.number_of_stars != 0]"
   ]
  },
  {
   "cell_type": "code",
   "execution_count": 13,
   "metadata": {},
   "outputs": [
    {
     "name": "stdout",
     "output_type": "stream",
     "text": [
      "<class 'pandas.core.frame.DataFrame'>\n",
      "Int64Index: 52385 entries, 0 to 54386\n",
      "Data columns (total 10 columns):\n",
      " #   Column            Non-Null Count  Dtype  \n",
      "---  ------            --------------  -----  \n",
      " 0   genre             52385 non-null  object \n",
      " 1   title             52385 non-null  object \n",
      " 2   author            52385 non-null  object \n",
      " 3   pages             52385 non-null  int64  \n",
      " 4   average_rating    52385 non-null  float64\n",
      " 5   book_description  39156 non-null  object \n",
      " 6   user_unique_key   52385 non-null  int64  \n",
      " 7   number_of_stars   52385 non-null  int64  \n",
      " 8   book_unique_key   52385 non-null  int64  \n",
      " 9   review_text       51364 non-null  object \n",
      "dtypes: float64(1), int64(4), object(5)\n",
      "memory usage: 4.4+ MB\n"
     ]
    }
   ],
   "source": [
    "df_sm1.info()"
   ]
  },
  {
   "cell_type": "code",
   "execution_count": 15,
   "metadata": {},
   "outputs": [],
   "source": [
    "df_sm1.to_csv('small_df.csv', index=False)"
   ]
  },
  {
   "cell_type": "code",
   "execution_count": null,
   "metadata": {},
   "outputs": [],
   "source": []
  }
 ],
 "metadata": {
  "kernelspec": {
   "display_name": "Python 3",
   "language": "python",
   "name": "python3"
  },
  "language_info": {
   "codemirror_mode": {
    "name": "ipython",
    "version": 3
   },
   "file_extension": ".py",
   "mimetype": "text/x-python",
   "name": "python",
   "nbconvert_exporter": "python",
   "pygments_lexer": "ipython3",
   "version": "3.8.3"
  }
 },
 "nbformat": 4,
 "nbformat_minor": 4
}
