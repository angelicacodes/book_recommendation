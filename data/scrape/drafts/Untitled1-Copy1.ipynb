{
 "cells": [
  {
   "cell_type": "code",
   "execution_count": 1,
   "metadata": {},
   "outputs": [
    {
     "name": "stdout",
     "output_type": "stream",
     "text": [
      "Collecting selenium\n",
      "  Downloading selenium-3.141.0-py2.py3-none-any.whl (904 kB)\n",
      "\u001b[K     |████████████████████████████████| 904 kB 3.3 MB/s eta 0:00:01\n",
      "\u001b[?25hRequirement already satisfied: urllib3 in /opt/anaconda3/lib/python3.8/site-packages (from selenium) (1.25.9)\n",
      "Installing collected packages: selenium\n",
      "Successfully installed selenium-3.141.0\n",
      "Note: you may need to restart the kernel to use updated packages.\n"
     ]
    }
   ],
   "source": [
    "pip install selenium"
   ]
  },
  {
   "cell_type": "code",
   "execution_count": 1,
   "metadata": {},
   "outputs": [],
   "source": [
    "import selenium\n",
    "from selenium.webdriver.common.keys import Keys\n",
    "import os\n",
    "import time"
   ]
  },
  {
   "cell_type": "code",
   "execution_count": 2,
   "metadata": {},
   "outputs": [],
   "source": [
    "PATH= '../chromedriver'"
   ]
  },
  {
   "cell_type": "code",
   "execution_count": 42,
   "metadata": {},
   "outputs": [
    {
     "data": {
      "text/plain": [
       "'/Users/angelicadegaetano/Documents/Flatiron/Capstone/Hike scrape try'"
      ]
     },
     "execution_count": 42,
     "metadata": {},
     "output_type": "execute_result"
    }
   ],
   "source": [
    "os.getcwd()"
   ]
  },
  {
   "cell_type": "code",
   "execution_count": 3,
   "metadata": {},
   "outputs": [],
   "source": [
    "from selenium import webdriver\n",
    "from selenium.webdriver.support.ui import WebDriverWait\n",
    "from selenium.webdriver.common.by import By\n",
    "from selenium.webdriver.support import expected_conditions as EC"
   ]
  },
  {
   "cell_type": "code",
   "execution_count": null,
   "metadata": {},
   "outputs": [],
   "source": [
    "genres = ['fiction', 'action', 'documentaries']\n",
    "book_table = []\n",
    "review_table = []\n",
    "book_urls = []"
   ]
  },
  {
   "cell_type": "code",
   "execution_count": null,
   "metadata": {},
   "outputs": [],
   "source": [
    "def close_modal_by_click(driver):\n",
    "    body_element =driver.find_element_by_tag_name(\"body\")\n",
    "    action = webdriver.common.action_chains.ActionChains(driver)\n",
    "    action.move_to_element_with_offset(body_element, 0, 0)\n",
    "    action.click()\n",
    "    action.perform()"
   ]
  },
  {
   "cell_type": "code",
   "execution_count": null,
   "metadata": {},
   "outputs": [],
   "source": [
    "def get_book_urls_for_genre(driver, genre)\n",
    "    book_urls = []\n",
    "    driver.get('https://www.goodreads.com/genres/{}'.format(genre))\n",
    "    element = WebDriverWait(driver, 15).until(\n",
    "        EC.presence_of_element_located((By.CLASS_NAME, \"coverWrapper\"))\n",
    "    )\n",
    "    elements = driver.find_elements_by_class_name('coverWrapper')\n",
    "    for element in elements:\n",
    "        a_tag = element.find_element_by_tag_name(\"a\")\n",
    "        href_url = a_tag.get_attribute('href')\n",
    "#         img_tag = element.find_element_by_tag_name(\"img\")\n",
    "#         book_title = img_tag.get_attribute('alt')\n",
    "#         book_table.append({\"title\": book_title, \"href_url\": href_url})\n",
    "        book_urls.append(href_url)\n",
    "#         print(a_tag)\n",
    "#         print(a_tag.get_attribute('href'))\n",
    "    return book_urls"
   ]
  },
  {
   "cell_type": "code",
   "execution_count": 4,
   "metadata": {},
   "outputs": [
    {
     "name": "stdout",
     "output_type": "stream",
     "text": [
      "['https://www.goodreads.com/book/show/50358031-leave-the-world-behind', 'https://www.goodreads.com/book/show/49504061-the-once-and-future-witches', 'https://www.goodreads.com/book/show/51854625-the-devil-and-the-dark-water', 'https://www.goodreads.com/book/show/50892349-magic-lessons', 'https://www.goodreads.com/book/show/50496875-plain-bad-heroines', 'https://www.goodreads.com/book/show/50892360-black-sun', 'https://www.goodreads.com/book/show/50622362-among-the-beasts-briars', 'https://www.goodreads.com/book/show/50892288-the-hollow-places', 'https://www.goodreads.com/book/show/50972370-crazy-stupid-bromance', 'https://www.goodreads.com/book/show/53479913-love-your-life', 'https://www.goodreads.com/book/show/49247242-ring-shout', 'https://www.goodreads.com/book/show/50537351-the-sentinel', 'https://www.goodreads.com/book/show/50358085-the-neil-gaiman-reader', 'https://www.goodreads.com/book/show/50358038-the-cold-millions', 'https://www.goodreads.com/book/show/50892240-they-never-learn', 'https://www.goodreads.com/book/show/54511226-dawnshard', 'https://www.goodreads.com/book/show/50537351-the-sentinel', 'https://www.goodreads.com/book/show/36809135-where-the-crawdads-sing', 'https://www.goodreads.com/book/show/49779612-fortune-and-glory', 'https://www.goodreads.com/book/show/51633925-the-law-of-innocence', 'https://www.goodreads.com/book/show/41256926-open-house', 'https://www.goodreads.com/book/show/53966623-the-cipher', 'https://www.goodreads.com/book/show/52347808-every-last-secret', 'https://www.goodreads.com/book/show/55429236-zikora', 'https://www.goodreads.com/book/show/51092159-a-broken-bone', 'https://www.goodreads.com/book/show/49338237-spellbreaker', 'https://www.goodreads.com/book/show/50892433-one-by-one', 'https://www.goodreads.com/book/show/50093704-in-five-years', 'https://www.goodreads.com/book/show/52350848-below-the-bones', 'https://www.goodreads.com/book/show/51218287-everything-changes', 'https://www.goodreads.com/book/show/2657.To_Kill_a_Mockingbird', 'https://www.goodreads.com/book/show/40961427-1984', 'https://www.goodreads.com/book/show/4671.The_Great_Gatsby', 'https://www.goodreads.com/book/show/3.Harry_Potter_and_the_Sorcerer_s_Stone', 'https://www.goodreads.com/book/show/170448.Animal_Farm', 'https://www.goodreads.com/book/show/5107.The_Catcher_in_the_Rye', 'https://www.goodreads.com/book/show/2767052-the-hunger-games', 'https://www.goodreads.com/book/show/968.The_Da_Vinci_Code', 'https://www.goodreads.com/book/show/38447.The_Handmaid_s_Tale', 'https://www.goodreads.com/book/show/77203.The_Kite_Runner', 'https://www.goodreads.com/book/show/7624.Lord_of_the_Flies', 'https://www.goodreads.com/book/show/15881.Harry_Potter_and_the_Chamber_of_Secrets', 'https://www.goodreads.com/book/show/1885.Pride_and_Prejudice', 'https://www.goodreads.com/book/show/5.Harry_Potter_and_the_Prisoner_of_Azkaban', 'https://www.goodreads.com/book/show/18144590-the-alchemist']\n",
      "quit\n"
     ]
    }
   ],
   "source": [
    "\n",
    "driver = webdriver.Chrome(PATH)\n",
    "current_genre = genres[0]\n",
    "# for g in genres:\n",
    "driver.get('https://www.goodreads.com/genres/{}'.format(current_genre))\n",
    "try:\n",
    "    element = WebDriverWait(driver, 15).until(\n",
    "        EC.presence_of_element_located((By.CLASS_NAME, \"coverWrapper\"))\n",
    "    )\n",
    "    elements = driver.find_elements_by_class_name('coverWrapper')\n",
    "    for element in elements:\n",
    "        a_tag = element.find_element_by_tag_name(\"a\")\n",
    "        href_url = a_tag.get_attribute('href')\n",
    "#         img_tag = element.find_element_by_tag_name(\"img\")\n",
    "#         book_title = img_tag.get_attribute('alt')\n",
    "#         book_table.append({\"title\": book_title, \"href_url\": href_url})\n",
    "        book_urls.append(href_url)\n",
    "#         print(a_tag)\n",
    "#         print(a_tag.get_attribute('href'))\n",
    "        \n",
    "#     a_tag = first_element.find_element_by_xpath('//a')\n",
    "#     print(a_tag.get_attribute('href'))\n",
    "    print(book_urls)\n",
    "    for book_url in book_urls:\n",
    "        print(book_url)\n",
    "        driver.execute_script(\"window.open('{}', 'new_window')\".format(book_url))\n",
    "        driver.switch_to.window(driver.window_handles[1])\n",
    "        time.sleep(1)\n",
    "        close_modal_by_click(driver)\n",
    "#     modal_body = driver.find_element_by_class_name('modalOpened')\n",
    "#     button_elements = modal_body.find_elements_by_tag_name('button')\n",
    "#     print(len(button_elements))\n",
    "    \n",
    "    \n",
    "#     alert_obj.dismiss() \n",
    "#     driver.switchTo().activeElement()\n",
    "#     model_close_element = driver.find_element_by_class_name(\"modal__close\")\n",
    "#     button_tag =  model_close_element.find_element_by_tag_name(\"button\")\n",
    "#     button_tag.click()\n",
    "#     button_tag_att = button_tag.get_attribute('type')\n",
    "#     print(button_tag_att)\n",
    "#     print(len(model_close_element))\n",
    "#     WebDriverWait(driver, 10).until(EC.element_to_be_clickable((By.CLASS_NAME, \"gr-iconButton\"))).click()\n",
    "except Exception as e:\n",
    "    print(e)\n",
    "    print('except')\n",
    "print('quit')"
   ]
  },
  {
   "cell_type": "code",
   "execution_count": 5,
   "metadata": {},
   "outputs": [
    {
     "name": "stdout",
     "output_type": "stream",
     "text": [
      "{'genre': 'fiction', 'title': 'Leave the World Behind', 'author': 'by Rumaan Alam (Goodreads Author)', 'pages': '241 pages', 'unique_key': 'https://www.goodreads.com/book/show/50358031-leave-the-world-behind'}\n"
     ]
    }
   ],
   "source": [
    "#driver.findElement(By.xpath(\"//a[contains(@class, 'btn') and contains(@class, 'btn-sm') and contains(@class, 'blue')]\"));\n",
    "\n",
    "try: \n",
    "    book_info = {}\n",
    "    title = driver.find_element_by_id(\"bookTitle\").text\n",
    "    author = driver.find_element_by_id(\"bookAuthors\").text\n",
    "    pages = driver.find_element_by_xpath('//span[@itemprop=\"numberOfPages\"]').text\n",
    "    path = driver.current_url\n",
    "    book_info = {\n",
    "        \"genre\": current_genre,\n",
    "        \"title\": title,\n",
    "        \"author\": author,\n",
    "        \"pages\": pages,\n",
    "        \"unique_key\": path\n",
    "    }\n",
    "    book_table.append(book_info)\n",
    "    print(book_info)\n",
    "except Exception as e:\n",
    "    print(e)"
   ]
  },
  {
   "cell_type": "code",
   "execution_count": 182,
   "metadata": {},
   "outputs": [
    {
     "name": "stdout",
     "output_type": "stream",
     "text": [
      "[{'user_name': 'Roxane', 'user_unique_key': 'https://www.goodreads.com/user/show/1151637-roxane', 'number_of_stars': 5, 'book_unique_key': 'https://www.goodreads.com/book/show/50358031-leave-the-world-behind'}, {'user_name': 'Nilufer Ozmekik', 'user_unique_key': 'https://www.goodreads.com/user/show/53701594-nilufer-ozmekik', 'number_of_stars': 4, 'book_unique_key': 'https://www.goodreads.com/book/show/50358031-leave-the-world-behind'}, {'user_name': 'Cindy', 'user_unique_key': 'https://www.goodreads.com/user/show/57797254-cindy', 'number_of_stars': 3, 'book_unique_key': 'https://www.goodreads.com/book/show/50358031-leave-the-world-behind'}, {'user_name': 'JanB ', 'user_unique_key': 'https://www.goodreads.com/user/show/260116-janb', 'number_of_stars': 5, 'book_unique_key': 'https://www.goodreads.com/book/show/50358031-leave-the-world-behind'}, {'user_name': 'Roman Clodia', 'user_unique_key': 'https://www.goodreads.com/user/show/56111743-roman-clodia', 'number_of_stars': 1, 'book_unique_key': 'https://www.goodreads.com/book/show/50358031-leave-the-world-behind'}, {'user_name': 'Michelle', 'user_unique_key': 'https://www.goodreads.com/user/show/53328737-michelle', 'number_of_stars': 5, 'book_unique_key': 'https://www.goodreads.com/book/show/50358031-leave-the-world-behind'}, {'user_name': 'Elyse  Walters', 'user_unique_key': 'https://www.goodreads.com/user/show/597461-elyse-walters', 'number_of_stars': 4, 'book_unique_key': 'https://www.goodreads.com/book/show/50358031-leave-the-world-behind'}, {'user_name': 'Elle', 'user_unique_key': 'https://www.goodreads.com/user/show/70046142-elle', 'number_of_stars': 4, 'book_unique_key': 'https://www.goodreads.com/book/show/50358031-leave-the-world-behind'}, {'user_name': 'Debra', 'user_unique_key': 'https://www.goodreads.com/user/show/5032725-debra', 'number_of_stars': 4, 'book_unique_key': 'https://www.goodreads.com/book/show/50358031-leave-the-world-behind'}, {'user_name': 'Frank Phillips', 'user_unique_key': 'https://www.goodreads.com/user/show/60671411-frank-phillips', 'number_of_stars': 2, 'book_unique_key': 'https://www.goodreads.com/book/show/50358031-leave-the-world-behind'}, {'user_name': 'Chelsea Humphrey', 'user_unique_key': 'https://www.goodreads.com/user/show/47207032-chelsea-humphrey', 'number_of_stars': 0, 'book_unique_key': 'https://www.goodreads.com/book/show/50358031-leave-the-world-behind'}, {'user_name': 'Gabby', 'user_unique_key': 'https://www.goodreads.com/user/show/26560207-gabby', 'number_of_stars': 3, 'book_unique_key': 'https://www.goodreads.com/book/show/50358031-leave-the-world-behind'}, {'user_name': 'Michael David', 'user_unique_key': 'https://www.goodreads.com/user/show/43787758-michael-david', 'number_of_stars': 3, 'book_unique_key': 'https://www.goodreads.com/book/show/50358031-leave-the-world-behind'}, {'user_name': 'Michelle', 'user_unique_key': 'https://www.goodreads.com/user/show/6351259-michelle', 'number_of_stars': 5, 'book_unique_key': 'https://www.goodreads.com/book/show/50358031-leave-the-world-behind'}, {'user_name': 'Larry H', 'user_unique_key': 'https://www.goodreads.com/user/show/5872506-larry-h', 'number_of_stars': 3, 'book_unique_key': 'https://www.goodreads.com/book/show/50358031-leave-the-world-behind'}, {'user_name': 'Karen', 'user_unique_key': 'https://www.goodreads.com/user/show/12851291-karen', 'number_of_stars': 4, 'book_unique_key': 'https://www.goodreads.com/book/show/50358031-leave-the-world-behind'}, {'user_name': 'Jessica Woodbury', 'user_unique_key': 'https://www.goodreads.com/user/show/4271946-jessica-woodbury', 'number_of_stars': 4, 'book_unique_key': 'https://www.goodreads.com/book/show/50358031-leave-the-world-behind'}, {'user_name': 'Debbie', 'user_unique_key': 'https://www.goodreads.com/user/show/8665845-debbie', 'number_of_stars': 5, 'book_unique_key': 'https://www.goodreads.com/book/show/50358031-leave-the-world-behind'}, {'user_name': 'Denise', 'user_unique_key': 'https://www.goodreads.com/user/show/6970586-denise', 'number_of_stars': 3, 'book_unique_key': 'https://www.goodreads.com/book/show/50358031-leave-the-world-behind'}, {'user_name': 'Sheena', 'user_unique_key': 'https://www.goodreads.com/user/show/8022062-sheena', 'number_of_stars': 2, 'book_unique_key': 'https://www.goodreads.com/book/show/50358031-leave-the-world-behind'}, {'user_name': 'Bridgett', 'user_unique_key': 'https://www.goodreads.com/user/show/2048557-bridgett', 'number_of_stars': 4, 'book_unique_key': 'https://www.goodreads.com/book/show/50358031-leave-the-world-behind'}, {'user_name': 'Julie Ehlers', 'user_unique_key': 'https://www.goodreads.com/user/show/2120450-julie-ehlers', 'number_of_stars': 3, 'book_unique_key': 'https://www.goodreads.com/book/show/50358031-leave-the-world-behind'}, {'user_name': 'jenny✨', 'user_unique_key': 'https://www.goodreads.com/user/show/5160409-jenny', 'number_of_stars': 2, 'book_unique_key': 'https://www.goodreads.com/book/show/50358031-leave-the-world-behind'}, {'user_name': 'Book of the Month', 'user_unique_key': 'https://www.goodreads.com/user/show/46126209-book-of-the-month', 'number_of_stars': 0, 'book_unique_key': 'https://www.goodreads.com/book/show/50358031-leave-the-world-behind'}, {'user_name': 'Anthony', 'user_unique_key': 'https://www.goodreads.com/user/show/4009947-anthony', 'number_of_stars': 3, 'book_unique_key': 'https://www.goodreads.com/book/show/50358031-leave-the-world-behind'}, {'user_name': 'lark benobi', 'user_unique_key': 'https://www.goodreads.com/user/show/73768036-lark-benobi', 'number_of_stars': 3, 'book_unique_key': 'https://www.goodreads.com/book/show/50358031-leave-the-world-behind'}, {'user_name': 'Lady H', 'user_unique_key': 'https://www.goodreads.com/user/show/3842278-lady-h', 'number_of_stars': 0, 'book_unique_key': 'https://www.goodreads.com/book/show/50358031-leave-the-world-behind'}, {'user_name': 'Gabrielle Grosbety ', 'user_unique_key': 'https://www.goodreads.com/user/show/27595754-gabrielle-grosbety', 'number_of_stars': 2, 'book_unique_key': 'https://www.goodreads.com/book/show/50358031-leave-the-world-behind'}, {'user_name': 'Hannah', 'user_unique_key': 'https://www.goodreads.com/user/show/41788446-hannah', 'number_of_stars': 1, 'book_unique_key': 'https://www.goodreads.com/book/show/50358031-leave-the-world-behind'}, {'user_name': 'Ben', 'user_unique_key': 'https://www.goodreads.com/user/show/46231030-ben', 'number_of_stars': 1, 'book_unique_key': 'https://www.goodreads.com/book/show/50358031-leave-the-world-behind'}]\n"
     ]
    }
   ],
   "source": [
    "reviews_container_element = driver.find_element_by_id(\"bookReviews\")\n",
    "path = driver.current_url\n",
    "users_review = reviews_container_element.find_elements_by_class_name(\"friendReviews\")\n",
    "for index in range(0, len(users_review)):\n",
    "    user_review = users_review[index]\n",
    "    user_element = user_review.find_element_by_class_name(\"user\")\n",
    "    name = user_element.get_attribute(\"name\")\n",
    "    user_url = user_element.get_attribute(\"href\")\n",
    "    number_of_stars = len(user_review.find_elements_by_class_name(\"p10\"))\n",
    "    reviews_table.append({\n",
    "        \"user_name\": name,\n",
    "        \"user_unique_key\": user_url,\n",
    "        \"number_of_stars\": number_of_stars,\n",
    "        \"book_unique_key\": path\n",
    "    })\n",
    "# print(len(user_reviews))\n",
    "# first_review = user_reviews[0]\n",
    "# user_element = first_review.find_element_by_class_name(\"user\")\n",
    "# print(user_element.get_attribute(\"name\"))"
   ]
  },
  {
   "cell_type": "code",
   "execution_count": 183,
   "metadata": {},
   "outputs": [],
   "source": [
    "driver.close()"
   ]
  },
  {
   "cell_type": "code",
   "execution_count": 184,
   "metadata": {},
   "outputs": [],
   "source": [
    "driver.switch_to.window(driver.window_handles[0])\n",
    "second_book = book_table[1]\n",
    "driver.execute_script(\"window.open('{}', 'new_window')\".format(second_book))\n",
    "driver.switch_to.window(driver.window_handles[1])\n",
    "time.sleep(1)\n",
    "close_modal_by_click(driver)"
   ]
  },
  {
   "cell_type": "code",
   "execution_count": null,
   "metadata": {},
   "outputs": [],
   "source": []
  }
 ],
 "metadata": {
  "kernelspec": {
   "display_name": "Python 3",
   "language": "python",
   "name": "python3"
  },
  "language_info": {
   "codemirror_mode": {
    "name": "ipython",
    "version": 3
   },
   "file_extension": ".py",
   "mimetype": "text/x-python",
   "name": "python",
   "nbconvert_exporter": "python",
   "pygments_lexer": "ipython3",
   "version": "3.8.3"
  }
 },
 "nbformat": 4,
 "nbformat_minor": 4
}
